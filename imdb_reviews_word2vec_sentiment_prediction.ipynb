{
  "nbformat": 4,
  "nbformat_minor": 0,
  "metadata": {
    "colab": {
      "provenance": [],
      "mount_file_id": "1w9zhBL26eMcxtMKesPs2HB5_Gy4mUS6w",
      "authorship_tag": "ABX9TyMlC6x04BQTfiKpMqZrK4T6",
      "include_colab_link": true
    },
    "kernelspec": {
      "name": "python3",
      "display_name": "Python 3"
    },
    "language_info": {
      "name": "python"
    },
    "widgets": {
      "application/vnd.jupyter.widget-state+json": {
        "b1f6eff95e504a2385c7ee5921d7c66b": {
          "model_module": "@jupyter-widgets/controls",
          "model_name": "HBoxModel",
          "model_module_version": "1.5.0",
          "state": {
            "_dom_classes": [],
            "_model_module": "@jupyter-widgets/controls",
            "_model_module_version": "1.5.0",
            "_model_name": "HBoxModel",
            "_view_count": null,
            "_view_module": "@jupyter-widgets/controls",
            "_view_module_version": "1.5.0",
            "_view_name": "HBoxView",
            "box_style": "",
            "children": [
              "IPY_MODEL_b7165d7732a2442c92fa2c016e1ac268",
              "IPY_MODEL_134f0347028d4a0fbc7b4a08cdf3b5fe",
              "IPY_MODEL_abff5030383e497f8ae0c1a352bacfa4"
            ],
            "layout": "IPY_MODEL_27ff16aed443429cbc6c31e9b6afa41e"
          }
        },
        "b7165d7732a2442c92fa2c016e1ac268": {
          "model_module": "@jupyter-widgets/controls",
          "model_name": "HTMLModel",
          "model_module_version": "1.5.0",
          "state": {
            "_dom_classes": [],
            "_model_module": "@jupyter-widgets/controls",
            "_model_module_version": "1.5.0",
            "_model_name": "HTMLModel",
            "_view_count": null,
            "_view_module": "@jupyter-widgets/controls",
            "_view_module_version": "1.5.0",
            "_view_name": "HTMLView",
            "description": "",
            "description_tooltip": null,
            "layout": "IPY_MODEL_ae5d7870af3045eaa96c84203942a688",
            "placeholder": "​",
            "style": "IPY_MODEL_7f91d7bb630d46ba853e8d429d365022",
            "value": "100%"
          }
        },
        "134f0347028d4a0fbc7b4a08cdf3b5fe": {
          "model_module": "@jupyter-widgets/controls",
          "model_name": "FloatProgressModel",
          "model_module_version": "1.5.0",
          "state": {
            "_dom_classes": [],
            "_model_module": "@jupyter-widgets/controls",
            "_model_module_version": "1.5.0",
            "_model_name": "FloatProgressModel",
            "_view_count": null,
            "_view_module": "@jupyter-widgets/controls",
            "_view_module_version": "1.5.0",
            "_view_name": "ProgressView",
            "bar_style": "success",
            "description": "",
            "description_tooltip": null,
            "layout": "IPY_MODEL_f90801b145a7488da4c4b8de1a96f265",
            "max": 2141,
            "min": 0,
            "orientation": "horizontal",
            "style": "IPY_MODEL_819bf0d5bc024498a47421eb78cab33d",
            "value": 2141
          }
        },
        "abff5030383e497f8ae0c1a352bacfa4": {
          "model_module": "@jupyter-widgets/controls",
          "model_name": "HTMLModel",
          "model_module_version": "1.5.0",
          "state": {
            "_dom_classes": [],
            "_model_module": "@jupyter-widgets/controls",
            "_model_module_version": "1.5.0",
            "_model_name": "HTMLModel",
            "_view_count": null,
            "_view_module": "@jupyter-widgets/controls",
            "_view_module_version": "1.5.0",
            "_view_name": "HTMLView",
            "description": "",
            "description_tooltip": null,
            "layout": "IPY_MODEL_ff6f2da986bd40868fb35ce3dd30382a",
            "placeholder": "​",
            "style": "IPY_MODEL_698410a777714dfba366843e92c7f941",
            "value": " 2141/2141 [00:13&lt;00:00, 366.74it/s]"
          }
        },
        "27ff16aed443429cbc6c31e9b6afa41e": {
          "model_module": "@jupyter-widgets/base",
          "model_name": "LayoutModel",
          "model_module_version": "1.2.0",
          "state": {
            "_model_module": "@jupyter-widgets/base",
            "_model_module_version": "1.2.0",
            "_model_name": "LayoutModel",
            "_view_count": null,
            "_view_module": "@jupyter-widgets/base",
            "_view_module_version": "1.2.0",
            "_view_name": "LayoutView",
            "align_content": null,
            "align_items": null,
            "align_self": null,
            "border": null,
            "bottom": null,
            "display": null,
            "flex": null,
            "flex_flow": null,
            "grid_area": null,
            "grid_auto_columns": null,
            "grid_auto_flow": null,
            "grid_auto_rows": null,
            "grid_column": null,
            "grid_gap": null,
            "grid_row": null,
            "grid_template_areas": null,
            "grid_template_columns": null,
            "grid_template_rows": null,
            "height": null,
            "justify_content": null,
            "justify_items": null,
            "left": null,
            "margin": null,
            "max_height": null,
            "max_width": null,
            "min_height": null,
            "min_width": null,
            "object_fit": null,
            "object_position": null,
            "order": null,
            "overflow": null,
            "overflow_x": null,
            "overflow_y": null,
            "padding": null,
            "right": null,
            "top": null,
            "visibility": null,
            "width": null
          }
        },
        "ae5d7870af3045eaa96c84203942a688": {
          "model_module": "@jupyter-widgets/base",
          "model_name": "LayoutModel",
          "model_module_version": "1.2.0",
          "state": {
            "_model_module": "@jupyter-widgets/base",
            "_model_module_version": "1.2.0",
            "_model_name": "LayoutModel",
            "_view_count": null,
            "_view_module": "@jupyter-widgets/base",
            "_view_module_version": "1.2.0",
            "_view_name": "LayoutView",
            "align_content": null,
            "align_items": null,
            "align_self": null,
            "border": null,
            "bottom": null,
            "display": null,
            "flex": null,
            "flex_flow": null,
            "grid_area": null,
            "grid_auto_columns": null,
            "grid_auto_flow": null,
            "grid_auto_rows": null,
            "grid_column": null,
            "grid_gap": null,
            "grid_row": null,
            "grid_template_areas": null,
            "grid_template_columns": null,
            "grid_template_rows": null,
            "height": null,
            "justify_content": null,
            "justify_items": null,
            "left": null,
            "margin": null,
            "max_height": null,
            "max_width": null,
            "min_height": null,
            "min_width": null,
            "object_fit": null,
            "object_position": null,
            "order": null,
            "overflow": null,
            "overflow_x": null,
            "overflow_y": null,
            "padding": null,
            "right": null,
            "top": null,
            "visibility": null,
            "width": null
          }
        },
        "7f91d7bb630d46ba853e8d429d365022": {
          "model_module": "@jupyter-widgets/controls",
          "model_name": "DescriptionStyleModel",
          "model_module_version": "1.5.0",
          "state": {
            "_model_module": "@jupyter-widgets/controls",
            "_model_module_version": "1.5.0",
            "_model_name": "DescriptionStyleModel",
            "_view_count": null,
            "_view_module": "@jupyter-widgets/base",
            "_view_module_version": "1.2.0",
            "_view_name": "StyleView",
            "description_width": ""
          }
        },
        "f90801b145a7488da4c4b8de1a96f265": {
          "model_module": "@jupyter-widgets/base",
          "model_name": "LayoutModel",
          "model_module_version": "1.2.0",
          "state": {
            "_model_module": "@jupyter-widgets/base",
            "_model_module_version": "1.2.0",
            "_model_name": "LayoutModel",
            "_view_count": null,
            "_view_module": "@jupyter-widgets/base",
            "_view_module_version": "1.2.0",
            "_view_name": "LayoutView",
            "align_content": null,
            "align_items": null,
            "align_self": null,
            "border": null,
            "bottom": null,
            "display": null,
            "flex": null,
            "flex_flow": null,
            "grid_area": null,
            "grid_auto_columns": null,
            "grid_auto_flow": null,
            "grid_auto_rows": null,
            "grid_column": null,
            "grid_gap": null,
            "grid_row": null,
            "grid_template_areas": null,
            "grid_template_columns": null,
            "grid_template_rows": null,
            "height": null,
            "justify_content": null,
            "justify_items": null,
            "left": null,
            "margin": null,
            "max_height": null,
            "max_width": null,
            "min_height": null,
            "min_width": null,
            "object_fit": null,
            "object_position": null,
            "order": null,
            "overflow": null,
            "overflow_x": null,
            "overflow_y": null,
            "padding": null,
            "right": null,
            "top": null,
            "visibility": null,
            "width": null
          }
        },
        "819bf0d5bc024498a47421eb78cab33d": {
          "model_module": "@jupyter-widgets/controls",
          "model_name": "ProgressStyleModel",
          "model_module_version": "1.5.0",
          "state": {
            "_model_module": "@jupyter-widgets/controls",
            "_model_module_version": "1.5.0",
            "_model_name": "ProgressStyleModel",
            "_view_count": null,
            "_view_module": "@jupyter-widgets/base",
            "_view_module_version": "1.2.0",
            "_view_name": "StyleView",
            "bar_color": null,
            "description_width": ""
          }
        },
        "ff6f2da986bd40868fb35ce3dd30382a": {
          "model_module": "@jupyter-widgets/base",
          "model_name": "LayoutModel",
          "model_module_version": "1.2.0",
          "state": {
            "_model_module": "@jupyter-widgets/base",
            "_model_module_version": "1.2.0",
            "_model_name": "LayoutModel",
            "_view_count": null,
            "_view_module": "@jupyter-widgets/base",
            "_view_module_version": "1.2.0",
            "_view_name": "LayoutView",
            "align_content": null,
            "align_items": null,
            "align_self": null,
            "border": null,
            "bottom": null,
            "display": null,
            "flex": null,
            "flex_flow": null,
            "grid_area": null,
            "grid_auto_columns": null,
            "grid_auto_flow": null,
            "grid_auto_rows": null,
            "grid_column": null,
            "grid_gap": null,
            "grid_row": null,
            "grid_template_areas": null,
            "grid_template_columns": null,
            "grid_template_rows": null,
            "height": null,
            "justify_content": null,
            "justify_items": null,
            "left": null,
            "margin": null,
            "max_height": null,
            "max_width": null,
            "min_height": null,
            "min_width": null,
            "object_fit": null,
            "object_position": null,
            "order": null,
            "overflow": null,
            "overflow_x": null,
            "overflow_y": null,
            "padding": null,
            "right": null,
            "top": null,
            "visibility": null,
            "width": null
          }
        },
        "698410a777714dfba366843e92c7f941": {
          "model_module": "@jupyter-widgets/controls",
          "model_name": "DescriptionStyleModel",
          "model_module_version": "1.5.0",
          "state": {
            "_model_module": "@jupyter-widgets/controls",
            "_model_module_version": "1.5.0",
            "_model_name": "DescriptionStyleModel",
            "_view_count": null,
            "_view_module": "@jupyter-widgets/base",
            "_view_module_version": "1.2.0",
            "_view_name": "StyleView",
            "description_width": ""
          }
        }
      }
    }
  },
  "cells": [
    {
      "cell_type": "markdown",
      "metadata": {
        "id": "view-in-github",
        "colab_type": "text"
      },
      "source": [
        "<a href=\"https://colab.research.google.com/github/a-maksimov/data_analysis/blob/main/imdb_reviews_word2vec_sentiment_prediction.ipynb\" target=\"_parent\"><img src=\"https://colab.research.google.com/assets/colab-badge.svg\" alt=\"Open In Colab\"/></a>"
      ]
    },
    {
      "cell_type": "markdown",
      "source": [
        "Defining the questions\n",
        "\n",
        "Q.1 How accurate can we predict a positive or a negative sentiment of a movie review on Kinopoisk?"
      ],
      "metadata": {
        "id": "R57s_RoRhni1"
      }
    },
    {
      "cell_type": "markdown",
      "source": [
        "https://www.kaggle.com/datasets/mikhailklemin/kinopoisks-movies-reviews"
      ],
      "metadata": {
        "id": "hfngcoqmmHWO"
      }
    },
    {
      "cell_type": "code",
      "source": [
        "!unzip -oq '/content/drive/MyDrive/Datasets/Kinopoisk/kinopoisk_reviews.zip'"
      ],
      "metadata": {
        "id": "Tb2kjgBvogHV"
      },
      "execution_count": null,
      "outputs": []
    },
    {
      "cell_type": "code",
      "source": [
        "import os\n",
        "import pandas as pd\n",
        "import re\n",
        "import string\n",
        "import spacy\n",
        "from time import time\n",
        "from datetime import datetime\n",
        "from collections import defaultdict\n",
        "from gensim.models import Word2Vec\n",
        "import multiprocessing\n",
        "from random import randint"
      ],
      "metadata": {
        "colab": {
          "base_uri": "https://localhost:8080/"
        },
        "id": "VOCwM24o12dZ",
        "outputId": "1b21e691-e479-4456-eda6-ef28d21d8ac7"
      },
      "execution_count": null,
      "outputs": [
        {
          "output_type": "stream",
          "name": "stderr",
          "text": [
            "/usr/local/lib/python3.9/dist-packages/torch/cuda/__init__.py:497: UserWarning: Can't initialize NVML\n",
            "  warnings.warn(\"Can't initialize NVML\")\n"
          ]
        }
      ]
    },
    {
      "cell_type": "code",
      "source": [
        "#@title Download spaCy language packs\n",
        "\n",
        "!python -m spacy download ru_core_news_sm --quiet\n",
        "!python -m spacy download en_core_web_sm --quiet"
      ],
      "metadata": {
        "colab": {
          "base_uri": "https://localhost:8080/"
        },
        "id": "lPYQALckv1e-",
        "outputId": "876153c1-266f-4016-9d89-a73963e28f76"
      },
      "execution_count": null,
      "outputs": [
        {
          "output_type": "stream",
          "name": "stdout",
          "text": [
            "/usr/local/lib/python3.9/dist-packages/torch/cuda/__init__.py:497: UserWarning: Can't initialize NVML\n",
            "  warnings.warn(\"Can't initialize NVML\")\n",
            "2023-03-09 15:48:46.816246: W tensorflow/compiler/xla/stream_executor/platform/default/dso_loader.cc:64] Could not load dynamic library 'libnvinfer.so.7'; dlerror: libnvinfer.so.7: cannot open shared object file: No such file or directory; LD_LIBRARY_PATH: /usr/local/nvidia/lib:/usr/local/nvidia/lib64\n",
            "2023-03-09 15:48:46.816402: W tensorflow/compiler/xla/stream_executor/platform/default/dso_loader.cc:64] Could not load dynamic library 'libnvinfer_plugin.so.7'; dlerror: libnvinfer_plugin.so.7: cannot open shared object file: No such file or directory; LD_LIBRARY_PATH: /usr/local/nvidia/lib:/usr/local/nvidia/lib64\n",
            "2023-03-09 15:48:46.816423: W tensorflow/compiler/tf2tensorrt/utils/py_utils.cc:38] TF-TRT Warning: Cannot dlopen some TensorRT libraries. If you would like to use Nvidia GPU with TensorRT, please make sure the missing libraries mentioned above are installed properly.\n",
            "2023-03-09 15:48:48.785826: E tensorflow/compiler/xla/stream_executor/cuda/cuda_driver.cc:267] failed call to cuInit: CUDA_ERROR_NO_DEVICE: no CUDA-capable device is detected\n",
            "\u001b[2K     \u001b[90m━━━━━━━━━━━━━━━━━━━━━━━━━━━━━━━━━━━━━━━━\u001b[0m \u001b[32m15.3/15.3 MB\u001b[0m \u001b[31m24.6 MB/s\u001b[0m eta \u001b[36m0:00:00\u001b[0m\n",
            "\u001b[2K     \u001b[90m━━━━━━━━━━━━━━━━━━━━━━━━━━━━━━━━━━━━━━━━\u001b[0m \u001b[32m55.5/55.5 KB\u001b[0m \u001b[31m2.3 MB/s\u001b[0m eta \u001b[36m0:00:00\u001b[0m\n",
            "\u001b[?25h  Preparing metadata (setup.py) ... \u001b[?25l\u001b[?25hdone\n",
            "\u001b[2K     \u001b[90m━━━━━━━━━━━━━━━━━━━━━━━━━━━━━━━━━━━━━━━━\u001b[0m \u001b[32m8.2/8.2 MB\u001b[0m \u001b[31m31.8 MB/s\u001b[0m eta \u001b[36m0:00:00\u001b[0m\n",
            "\u001b[?25h  Building wheel for docopt (setup.py) ... \u001b[?25l\u001b[?25hdone\n",
            "\u001b[38;5;2m✔ Download and installation successful\u001b[0m\n",
            "You can now load the package via spacy.load('ru_core_news_sm')\n",
            "/usr/local/lib/python3.9/dist-packages/torch/cuda/__init__.py:497: UserWarning: Can't initialize NVML\n",
            "  warnings.warn(\"Can't initialize NVML\")\n",
            "2023-03-09 15:49:04.346883: W tensorflow/compiler/xla/stream_executor/platform/default/dso_loader.cc:64] Could not load dynamic library 'libnvinfer.so.7'; dlerror: libnvinfer.so.7: cannot open shared object file: No such file or directory; LD_LIBRARY_PATH: /usr/local/nvidia/lib:/usr/local/nvidia/lib64\n",
            "2023-03-09 15:49:04.347042: W tensorflow/compiler/xla/stream_executor/platform/default/dso_loader.cc:64] Could not load dynamic library 'libnvinfer_plugin.so.7'; dlerror: libnvinfer_plugin.so.7: cannot open shared object file: No such file or directory; LD_LIBRARY_PATH: /usr/local/nvidia/lib:/usr/local/nvidia/lib64\n",
            "2023-03-09 15:49:04.347068: W tensorflow/compiler/tf2tensorrt/utils/py_utils.cc:38] TF-TRT Warning: Cannot dlopen some TensorRT libraries. If you would like to use Nvidia GPU with TensorRT, please make sure the missing libraries mentioned above are installed properly.\n",
            "2023-03-09 15:49:07.161103: E tensorflow/compiler/xla/stream_executor/cuda/cuda_driver.cc:267] failed call to cuInit: CUDA_ERROR_NO_DEVICE: no CUDA-capable device is detected\n",
            "\u001b[2K     \u001b[90m━━━━━━━━━━━━━━━━━━━━━━━━━━━━━━━━━━━━━━━━\u001b[0m \u001b[32m12.8/12.8 MB\u001b[0m \u001b[31m50.2 MB/s\u001b[0m eta \u001b[36m0:00:00\u001b[0m\n",
            "\u001b[?25h\u001b[38;5;2m✔ Download and installation successful\u001b[0m\n",
            "You can now load the package via spacy.load('en_core_web_sm')\n"
          ]
        }
      ]
    },
    {
      "cell_type": "markdown",
      "source": [
        "We label positive reviews as \"1\" and negative reviews as \"0\"."
      ],
      "metadata": {
        "id": "GIYTGKIpQwGo"
      }
    },
    {
      "cell_type": "code",
      "source": [
        "review_dicts = []\n",
        "filepath = '/content/dataset/neg/'\n",
        "for filename in os.listdir(filepath):\n",
        "  review_dict = {}\n",
        "  review_dict['review_id'] = filename.split('.')[0]\n",
        "  with open(filepath + filename, 'r', encoding='utf-8') as file:\n",
        "    review_dict['review_content'] = file.read()\n",
        "  review_dict['label'] = 0\n",
        "  review_dicts.append(review_dict)"
      ],
      "metadata": {
        "id": "xY8fY6Uypjse"
      },
      "execution_count": null,
      "outputs": []
    },
    {
      "cell_type": "code",
      "source": [
        "filepath = '/content/dataset/pos/'\n",
        "for filename in os.listdir(filepath):\n",
        "  review_dict = {}\n",
        "  review_dict['review_id'] = filename.split('.')[0]\n",
        "  with open(filepath + filename, 'r', encoding='utf-8') as file:\n",
        "    review_dict['review_content'] = file.read()\n",
        "  review_dict['label'] = 1\n",
        "  review_dicts.append(review_dict)"
      ],
      "metadata": {
        "id": "vxd2AtqUzdn_"
      },
      "execution_count": null,
      "outputs": []
    },
    {
      "cell_type": "code",
      "source": [
        "df = pd.DataFrame.from_dict(review_dicts)"
      ],
      "metadata": {
        "id": "S2KVQ56rxnnS"
      },
      "execution_count": null,
      "outputs": []
    },
    {
      "cell_type": "code",
      "source": [
        "df"
      ],
      "metadata": {
        "colab": {
          "base_uri": "https://localhost:8080/",
          "height": 423
        },
        "id": "O3pq_4gUz8_T",
        "outputId": "2c9c9ad4-e9dc-4cfa-cfa0-93735ac6e0ab"
      },
      "execution_count": null,
      "outputs": [
        {
          "output_type": "execute_result",
          "data": {
            "text/plain": [
              "        review_id                                     review_content  label\n",
              "0        771095-0  Компания 20 Century Fox 34 года занималась про...      0\n",
              "1       797840-28  Во время ловли магического носорога я ушла веш...      0\n",
              "2       258924-39  О фильме:\\nФильм относится к жанру ужасов, о ч...      0\n",
              "3       980011-24  Новаторство создателей телевизионных проектов ...      0\n",
              "4        452720-0  Кто билетов купит пачку - тот получит тачку на...      0\n",
              "...           ...                                                ...    ...\n",
              "106960   254888-1  Неплохой криминальный фильм, неторопливостью и...      1\n",
              "106961   230596-0  Предлагаю поговорить о 70-х. Думаете тогда кто...      1\n",
              "106962  1104221-0  Документальное кино удивительным образом может...      1\n",
              "106963  260981-19  Средства массовой информации плотно вошли в об...      1\n",
              "106964   81540-17  Я тут прочитала несколько отрицательных реценз...      1\n",
              "\n",
              "[106965 rows x 3 columns]"
            ],
            "text/html": [
              "\n",
              "  <div id=\"df-48397d7e-cd88-43df-86ac-5f88489f294e\">\n",
              "    <div class=\"colab-df-container\">\n",
              "      <div>\n",
              "<style scoped>\n",
              "    .dataframe tbody tr th:only-of-type {\n",
              "        vertical-align: middle;\n",
              "    }\n",
              "\n",
              "    .dataframe tbody tr th {\n",
              "        vertical-align: top;\n",
              "    }\n",
              "\n",
              "    .dataframe thead th {\n",
              "        text-align: right;\n",
              "    }\n",
              "</style>\n",
              "<table border=\"1\" class=\"dataframe\">\n",
              "  <thead>\n",
              "    <tr style=\"text-align: right;\">\n",
              "      <th></th>\n",
              "      <th>review_id</th>\n",
              "      <th>review_content</th>\n",
              "      <th>label</th>\n",
              "    </tr>\n",
              "  </thead>\n",
              "  <tbody>\n",
              "    <tr>\n",
              "      <th>0</th>\n",
              "      <td>771095-0</td>\n",
              "      <td>Компания 20 Century Fox 34 года занималась про...</td>\n",
              "      <td>0</td>\n",
              "    </tr>\n",
              "    <tr>\n",
              "      <th>1</th>\n",
              "      <td>797840-28</td>\n",
              "      <td>Во время ловли магического носорога я ушла веш...</td>\n",
              "      <td>0</td>\n",
              "    </tr>\n",
              "    <tr>\n",
              "      <th>2</th>\n",
              "      <td>258924-39</td>\n",
              "      <td>О фильме:\\nФильм относится к жанру ужасов, о ч...</td>\n",
              "      <td>0</td>\n",
              "    </tr>\n",
              "    <tr>\n",
              "      <th>3</th>\n",
              "      <td>980011-24</td>\n",
              "      <td>Новаторство создателей телевизионных проектов ...</td>\n",
              "      <td>0</td>\n",
              "    </tr>\n",
              "    <tr>\n",
              "      <th>4</th>\n",
              "      <td>452720-0</td>\n",
              "      <td>Кто билетов купит пачку - тот получит тачку на...</td>\n",
              "      <td>0</td>\n",
              "    </tr>\n",
              "    <tr>\n",
              "      <th>...</th>\n",
              "      <td>...</td>\n",
              "      <td>...</td>\n",
              "      <td>...</td>\n",
              "    </tr>\n",
              "    <tr>\n",
              "      <th>106960</th>\n",
              "      <td>254888-1</td>\n",
              "      <td>Неплохой криминальный фильм, неторопливостью и...</td>\n",
              "      <td>1</td>\n",
              "    </tr>\n",
              "    <tr>\n",
              "      <th>106961</th>\n",
              "      <td>230596-0</td>\n",
              "      <td>Предлагаю поговорить о 70-х. Думаете тогда кто...</td>\n",
              "      <td>1</td>\n",
              "    </tr>\n",
              "    <tr>\n",
              "      <th>106962</th>\n",
              "      <td>1104221-0</td>\n",
              "      <td>Документальное кино удивительным образом может...</td>\n",
              "      <td>1</td>\n",
              "    </tr>\n",
              "    <tr>\n",
              "      <th>106963</th>\n",
              "      <td>260981-19</td>\n",
              "      <td>Средства массовой информации плотно вошли в об...</td>\n",
              "      <td>1</td>\n",
              "    </tr>\n",
              "    <tr>\n",
              "      <th>106964</th>\n",
              "      <td>81540-17</td>\n",
              "      <td>Я тут прочитала несколько отрицательных реценз...</td>\n",
              "      <td>1</td>\n",
              "    </tr>\n",
              "  </tbody>\n",
              "</table>\n",
              "<p>106965 rows × 3 columns</p>\n",
              "</div>\n",
              "      <button class=\"colab-df-convert\" onclick=\"convertToInteractive('df-48397d7e-cd88-43df-86ac-5f88489f294e')\"\n",
              "              title=\"Convert this dataframe to an interactive table.\"\n",
              "              style=\"display:none;\">\n",
              "        \n",
              "  <svg xmlns=\"http://www.w3.org/2000/svg\" height=\"24px\"viewBox=\"0 0 24 24\"\n",
              "       width=\"24px\">\n",
              "    <path d=\"M0 0h24v24H0V0z\" fill=\"none\"/>\n",
              "    <path d=\"M18.56 5.44l.94 2.06.94-2.06 2.06-.94-2.06-.94-.94-2.06-.94 2.06-2.06.94zm-11 1L8.5 8.5l.94-2.06 2.06-.94-2.06-.94L8.5 2.5l-.94 2.06-2.06.94zm10 10l.94 2.06.94-2.06 2.06-.94-2.06-.94-.94-2.06-.94 2.06-2.06.94z\"/><path d=\"M17.41 7.96l-1.37-1.37c-.4-.4-.92-.59-1.43-.59-.52 0-1.04.2-1.43.59L10.3 9.45l-7.72 7.72c-.78.78-.78 2.05 0 2.83L4 21.41c.39.39.9.59 1.41.59.51 0 1.02-.2 1.41-.59l7.78-7.78 2.81-2.81c.8-.78.8-2.07 0-2.86zM5.41 20L4 18.59l7.72-7.72 1.47 1.35L5.41 20z\"/>\n",
              "  </svg>\n",
              "      </button>\n",
              "      \n",
              "  <style>\n",
              "    .colab-df-container {\n",
              "      display:flex;\n",
              "      flex-wrap:wrap;\n",
              "      gap: 12px;\n",
              "    }\n",
              "\n",
              "    .colab-df-convert {\n",
              "      background-color: #E8F0FE;\n",
              "      border: none;\n",
              "      border-radius: 50%;\n",
              "      cursor: pointer;\n",
              "      display: none;\n",
              "      fill: #1967D2;\n",
              "      height: 32px;\n",
              "      padding: 0 0 0 0;\n",
              "      width: 32px;\n",
              "    }\n",
              "\n",
              "    .colab-df-convert:hover {\n",
              "      background-color: #E2EBFA;\n",
              "      box-shadow: 0px 1px 2px rgba(60, 64, 67, 0.3), 0px 1px 3px 1px rgba(60, 64, 67, 0.15);\n",
              "      fill: #174EA6;\n",
              "    }\n",
              "\n",
              "    [theme=dark] .colab-df-convert {\n",
              "      background-color: #3B4455;\n",
              "      fill: #D2E3FC;\n",
              "    }\n",
              "\n",
              "    [theme=dark] .colab-df-convert:hover {\n",
              "      background-color: #434B5C;\n",
              "      box-shadow: 0px 1px 3px 1px rgba(0, 0, 0, 0.15);\n",
              "      filter: drop-shadow(0px 1px 2px rgba(0, 0, 0, 0.3));\n",
              "      fill: #FFFFFF;\n",
              "    }\n",
              "  </style>\n",
              "\n",
              "      <script>\n",
              "        const buttonEl =\n",
              "          document.querySelector('#df-48397d7e-cd88-43df-86ac-5f88489f294e button.colab-df-convert');\n",
              "        buttonEl.style.display =\n",
              "          google.colab.kernel.accessAllowed ? 'block' : 'none';\n",
              "\n",
              "        async function convertToInteractive(key) {\n",
              "          const element = document.querySelector('#df-48397d7e-cd88-43df-86ac-5f88489f294e');\n",
              "          const dataTable =\n",
              "            await google.colab.kernel.invokeFunction('convertToInteractive',\n",
              "                                                     [key], {});\n",
              "          if (!dataTable) return;\n",
              "\n",
              "          const docLinkHtml = 'Like what you see? Visit the ' +\n",
              "            '<a target=\"_blank\" href=https://colab.research.google.com/notebooks/data_table.ipynb>data table notebook</a>'\n",
              "            + ' to learn more about interactive tables.';\n",
              "          element.innerHTML = '';\n",
              "          dataTable['output_type'] = 'display_data';\n",
              "          await google.colab.output.renderOutput(dataTable, element);\n",
              "          const docLink = document.createElement('div');\n",
              "          docLink.innerHTML = docLinkHtml;\n",
              "          element.appendChild(docLink);\n",
              "        }\n",
              "      </script>\n",
              "    </div>\n",
              "  </div>\n",
              "  "
            ]
          },
          "metadata": {},
          "execution_count": 48
        }
      ]
    },
    {
      "cell_type": "code",
      "source": [
        "df = df.sample(frac=0.1, random_state=42).reset_index(drop=True)"
      ],
      "metadata": {
        "id": "8-fBGhy5hZjd"
      },
      "execution_count": null,
      "outputs": []
    },
    {
      "cell_type": "markdown",
      "source": [
        "Class imbalance of the dataset"
      ],
      "metadata": {
        "id": "bUIK60kycUQv"
      }
    },
    {
      "cell_type": "code",
      "source": [
        "df['label'].value_counts(normalize=True)"
      ],
      "metadata": {
        "colab": {
          "base_uri": "https://localhost:8080/"
        },
        "id": "XiMZdLJViLOD",
        "outputId": "505a4013-c503-47e8-8b31-3e9320a16c70"
      },
      "execution_count": null,
      "outputs": [
        {
          "output_type": "execute_result",
          "data": {
            "text/plain": [
              "1    0.811892\n",
              "0    0.188108\n",
              "Name: label, dtype: float64"
            ]
          },
          "metadata": {},
          "execution_count": 50
        }
      ]
    },
    {
      "cell_type": "code",
      "source": [
        "#@title Remove meantions, urls, RTs, emojis, symbols\n",
        "def remove_emoji(text):\n",
        "    emoji_pattern = re.compile(\"[\"\n",
        "                               u\"\\U0001F600-\\U0001F64F\"  # emoticons\n",
        "                               u\"\\U0001F300-\\U0001F5FF\"  # symbols & pictographs\n",
        "                               u\"\\U0001F680-\\U0001F6FF\"  # transport & map symbols\n",
        "                               u\"\\U0001F1E0-\\U0001F1FF\"  # flags (iOS)\n",
        "                               u\"\\U00002702-\\U000027B0\"\n",
        "                               u\"\\U000024C2-\\U0001F251\"\n",
        "                               \"]+\", flags=re.UNICODE)\n",
        "    return emoji_pattern.sub(r'', text)\n",
        "\n",
        "\n",
        "def brief_clean(text):\n",
        "  text = re.sub('http\\S*', '', text)  # remove urls\n",
        "  text = remove_emoji(text)  # remove emojis\n",
        "  text = text.translate(str.maketrans('', '', string.punctuation + '«»——–…“”©↓'))  # remove string.punctuation from the string\n",
        "  text = text.replace('\\n', ' ')  # replace newlines with space\n",
        "  text = re.sub(' +', ' ', text)  # replace multiple spaces with one space\n",
        "  text = text.lower().strip()  # make all lowercase and strip\n",
        "  return text"
      ],
      "metadata": {
        "id": "GRaJJqYW1uIh"
      },
      "execution_count": null,
      "outputs": []
    },
    {
      "cell_type": "code",
      "source": [
        "df['text_cleaned'] = df['review_content'].map(brief_clean)"
      ],
      "metadata": {
        "id": "p1KXdIWa2e6b"
      },
      "execution_count": null,
      "outputs": []
    },
    {
      "cell_type": "code",
      "source": [
        "df"
      ],
      "metadata": {
        "colab": {
          "base_uri": "https://localhost:8080/",
          "height": 423
        },
        "id": "SyWDRkbFGvqU",
        "outputId": "808b5e54-aa8d-4c99-bcb3-37d658c5e0e6"
      },
      "execution_count": null,
      "outputs": [
        {
          "output_type": "execute_result",
          "data": {
            "text/plain": [
              "       review_id                                     review_content  label  \\\n",
              "0      161007-79  'Никто не знает, как возникла великая сила. Да...      1   \n",
              "1       77454-77  И чего же я столько времени откладывала просмо...      1   \n",
              "2      710276-45  Так получилось, что в преддверии разрыва своих...      1   \n",
              "3      690615-64  Игровая серия Assassin's creed прошла многолет...      0   \n",
              "4         724-75  Один из самых трогательных фильмов, которые я ...      1   \n",
              "...          ...                                                ...    ...   \n",
              "10691  425926-10  Потрясающей популярностью обладает это, на мой...      0   \n",
              "10692  429039-45  Сразу скажу - фильм мне очень не понравился. М...      0   \n",
              "10693   81491-15  Несмотря на любовь американцев к своему футбол...      1   \n",
              "10694   89518-13  Моё знакомство с этим удивительным и незабывае...      1   \n",
              "10695  1199016-3  При всём уважении к уже похвалившим фильм, так...      0   \n",
              "\n",
              "                                            text_cleaned  \n",
              "0      никто не знает как возникла великая сила даже ...  \n",
              "1      и чего же я столько времени откладывала просмо...  \n",
              "2      так получилось что в преддверии разрыва своих ...  \n",
              "3      игровая серия assassins creed прошла многолетн...  \n",
              "4      один из самых трогательных фильмов которые я в...  \n",
              "...                                                  ...  \n",
              "10691  потрясающей популярностью обладает это на мой ...  \n",
              "10692  сразу скажу фильм мне очень не понравился можн...  \n",
              "10693  несмотря на любовь американцев к своему футбол...  \n",
              "10694  моё знакомство с этим удивительным и незабывае...  \n",
              "10695  при всём уважении к уже похвалившим фильм тако...  \n",
              "\n",
              "[10696 rows x 4 columns]"
            ],
            "text/html": [
              "\n",
              "  <div id=\"df-d745e578-bd2e-4f8a-b473-1849344e5ad1\">\n",
              "    <div class=\"colab-df-container\">\n",
              "      <div>\n",
              "<style scoped>\n",
              "    .dataframe tbody tr th:only-of-type {\n",
              "        vertical-align: middle;\n",
              "    }\n",
              "\n",
              "    .dataframe tbody tr th {\n",
              "        vertical-align: top;\n",
              "    }\n",
              "\n",
              "    .dataframe thead th {\n",
              "        text-align: right;\n",
              "    }\n",
              "</style>\n",
              "<table border=\"1\" class=\"dataframe\">\n",
              "  <thead>\n",
              "    <tr style=\"text-align: right;\">\n",
              "      <th></th>\n",
              "      <th>review_id</th>\n",
              "      <th>review_content</th>\n",
              "      <th>label</th>\n",
              "      <th>text_cleaned</th>\n",
              "    </tr>\n",
              "  </thead>\n",
              "  <tbody>\n",
              "    <tr>\n",
              "      <th>0</th>\n",
              "      <td>161007-79</td>\n",
              "      <td>'Никто не знает, как возникла великая сила. Да...</td>\n",
              "      <td>1</td>\n",
              "      <td>никто не знает как возникла великая сила даже ...</td>\n",
              "    </tr>\n",
              "    <tr>\n",
              "      <th>1</th>\n",
              "      <td>77454-77</td>\n",
              "      <td>И чего же я столько времени откладывала просмо...</td>\n",
              "      <td>1</td>\n",
              "      <td>и чего же я столько времени откладывала просмо...</td>\n",
              "    </tr>\n",
              "    <tr>\n",
              "      <th>2</th>\n",
              "      <td>710276-45</td>\n",
              "      <td>Так получилось, что в преддверии разрыва своих...</td>\n",
              "      <td>1</td>\n",
              "      <td>так получилось что в преддверии разрыва своих ...</td>\n",
              "    </tr>\n",
              "    <tr>\n",
              "      <th>3</th>\n",
              "      <td>690615-64</td>\n",
              "      <td>Игровая серия Assassin's creed прошла многолет...</td>\n",
              "      <td>0</td>\n",
              "      <td>игровая серия assassins creed прошла многолетн...</td>\n",
              "    </tr>\n",
              "    <tr>\n",
              "      <th>4</th>\n",
              "      <td>724-75</td>\n",
              "      <td>Один из самых трогательных фильмов, которые я ...</td>\n",
              "      <td>1</td>\n",
              "      <td>один из самых трогательных фильмов которые я в...</td>\n",
              "    </tr>\n",
              "    <tr>\n",
              "      <th>...</th>\n",
              "      <td>...</td>\n",
              "      <td>...</td>\n",
              "      <td>...</td>\n",
              "      <td>...</td>\n",
              "    </tr>\n",
              "    <tr>\n",
              "      <th>10691</th>\n",
              "      <td>425926-10</td>\n",
              "      <td>Потрясающей популярностью обладает это, на мой...</td>\n",
              "      <td>0</td>\n",
              "      <td>потрясающей популярностью обладает это на мой ...</td>\n",
              "    </tr>\n",
              "    <tr>\n",
              "      <th>10692</th>\n",
              "      <td>429039-45</td>\n",
              "      <td>Сразу скажу - фильм мне очень не понравился. М...</td>\n",
              "      <td>0</td>\n",
              "      <td>сразу скажу фильм мне очень не понравился можн...</td>\n",
              "    </tr>\n",
              "    <tr>\n",
              "      <th>10693</th>\n",
              "      <td>81491-15</td>\n",
              "      <td>Несмотря на любовь американцев к своему футбол...</td>\n",
              "      <td>1</td>\n",
              "      <td>несмотря на любовь американцев к своему футбол...</td>\n",
              "    </tr>\n",
              "    <tr>\n",
              "      <th>10694</th>\n",
              "      <td>89518-13</td>\n",
              "      <td>Моё знакомство с этим удивительным и незабывае...</td>\n",
              "      <td>1</td>\n",
              "      <td>моё знакомство с этим удивительным и незабывае...</td>\n",
              "    </tr>\n",
              "    <tr>\n",
              "      <th>10695</th>\n",
              "      <td>1199016-3</td>\n",
              "      <td>При всём уважении к уже похвалившим фильм, так...</td>\n",
              "      <td>0</td>\n",
              "      <td>при всём уважении к уже похвалившим фильм тако...</td>\n",
              "    </tr>\n",
              "  </tbody>\n",
              "</table>\n",
              "<p>10696 rows × 4 columns</p>\n",
              "</div>\n",
              "      <button class=\"colab-df-convert\" onclick=\"convertToInteractive('df-d745e578-bd2e-4f8a-b473-1849344e5ad1')\"\n",
              "              title=\"Convert this dataframe to an interactive table.\"\n",
              "              style=\"display:none;\">\n",
              "        \n",
              "  <svg xmlns=\"http://www.w3.org/2000/svg\" height=\"24px\"viewBox=\"0 0 24 24\"\n",
              "       width=\"24px\">\n",
              "    <path d=\"M0 0h24v24H0V0z\" fill=\"none\"/>\n",
              "    <path d=\"M18.56 5.44l.94 2.06.94-2.06 2.06-.94-2.06-.94-.94-2.06-.94 2.06-2.06.94zm-11 1L8.5 8.5l.94-2.06 2.06-.94-2.06-.94L8.5 2.5l-.94 2.06-2.06.94zm10 10l.94 2.06.94-2.06 2.06-.94-2.06-.94-.94-2.06-.94 2.06-2.06.94z\"/><path d=\"M17.41 7.96l-1.37-1.37c-.4-.4-.92-.59-1.43-.59-.52 0-1.04.2-1.43.59L10.3 9.45l-7.72 7.72c-.78.78-.78 2.05 0 2.83L4 21.41c.39.39.9.59 1.41.59.51 0 1.02-.2 1.41-.59l7.78-7.78 2.81-2.81c.8-.78.8-2.07 0-2.86zM5.41 20L4 18.59l7.72-7.72 1.47 1.35L5.41 20z\"/>\n",
              "  </svg>\n",
              "      </button>\n",
              "      \n",
              "  <style>\n",
              "    .colab-df-container {\n",
              "      display:flex;\n",
              "      flex-wrap:wrap;\n",
              "      gap: 12px;\n",
              "    }\n",
              "\n",
              "    .colab-df-convert {\n",
              "      background-color: #E8F0FE;\n",
              "      border: none;\n",
              "      border-radius: 50%;\n",
              "      cursor: pointer;\n",
              "      display: none;\n",
              "      fill: #1967D2;\n",
              "      height: 32px;\n",
              "      padding: 0 0 0 0;\n",
              "      width: 32px;\n",
              "    }\n",
              "\n",
              "    .colab-df-convert:hover {\n",
              "      background-color: #E2EBFA;\n",
              "      box-shadow: 0px 1px 2px rgba(60, 64, 67, 0.3), 0px 1px 3px 1px rgba(60, 64, 67, 0.15);\n",
              "      fill: #174EA6;\n",
              "    }\n",
              "\n",
              "    [theme=dark] .colab-df-convert {\n",
              "      background-color: #3B4455;\n",
              "      fill: #D2E3FC;\n",
              "    }\n",
              "\n",
              "    [theme=dark] .colab-df-convert:hover {\n",
              "      background-color: #434B5C;\n",
              "      box-shadow: 0px 1px 3px 1px rgba(0, 0, 0, 0.15);\n",
              "      filter: drop-shadow(0px 1px 2px rgba(0, 0, 0, 0.3));\n",
              "      fill: #FFFFFF;\n",
              "    }\n",
              "  </style>\n",
              "\n",
              "      <script>\n",
              "        const buttonEl =\n",
              "          document.querySelector('#df-d745e578-bd2e-4f8a-b473-1849344e5ad1 button.colab-df-convert');\n",
              "        buttonEl.style.display =\n",
              "          google.colab.kernel.accessAllowed ? 'block' : 'none';\n",
              "\n",
              "        async function convertToInteractive(key) {\n",
              "          const element = document.querySelector('#df-d745e578-bd2e-4f8a-b473-1849344e5ad1');\n",
              "          const dataTable =\n",
              "            await google.colab.kernel.invokeFunction('convertToInteractive',\n",
              "                                                     [key], {});\n",
              "          if (!dataTable) return;\n",
              "\n",
              "          const docLinkHtml = 'Like what you see? Visit the ' +\n",
              "            '<a target=\"_blank\" href=https://colab.research.google.com/notebooks/data_table.ipynb>data table notebook</a>'\n",
              "            + ' to learn more about interactive tables.';\n",
              "          element.innerHTML = '';\n",
              "          dataTable['output_type'] = 'display_data';\n",
              "          await google.colab.output.renderOutput(dataTable, element);\n",
              "          const docLink = document.createElement('div');\n",
              "          docLink.innerHTML = docLinkHtml;\n",
              "          element.appendChild(docLink);\n",
              "        }\n",
              "      </script>\n",
              "    </div>\n",
              "  </div>\n",
              "  "
            ]
          },
          "metadata": {},
          "execution_count": 53
        }
      ]
    },
    {
      "cell_type": "code",
      "source": [
        "#@title Now we lemmatize without stop words\n",
        "# Lemmatizes and removes stopwords\n",
        "# doc needs to be a spacy Doc object\n",
        "\n",
        "def lemmatize_without_stops(text):\n",
        "  doc = nlp(text)\n",
        "  lemmas = [token.lemma_ for token in doc if not token.is_stop]\n",
        "  # Word2Vec uses context words to learn the vector representation of a target word,\n",
        "  # if a sentence is only one or two words long,\n",
        "  # the benefit for the training is very small\n",
        "  if len(lemmas) > 2:\n",
        "    return ' '.join(lemmas)"
      ],
      "metadata": {
        "id": "7vGyEKRZyk39"
      },
      "execution_count": null,
      "outputs": []
    },
    {
      "cell_type": "code",
      "source": [
        "#@title We load spaCy language packs and taking advantage of spaCy .pipe() method to speed-up the cleaning process.\n",
        "language = \"ru\" #@param {type:\"string\"}\n",
        "if language == 'ru':\n",
        "  nlp = spacy.load('ru_core_news_sm', disable=['ner', 'parser'])  # disable Named Entity Recognition for speed\n",
        "else:\n",
        "  nlp = spacy.load('en_core_web_sm', disable=['ner', 'parser'])  # disable Named Entity Recognition for speed"
      ],
      "metadata": {
        "id": "fEkQ1oCvf56P"
      },
      "execution_count": null,
      "outputs": []
    },
    {
      "cell_type": "markdown",
      "source": [
        "https://prrao87.github.io/blog/spacy/nlp/performance/2020/05/02/spacy-multiprocess.html#Option-1:-Sequentially-process-DataFrame-column"
      ],
      "metadata": {
        "id": "z794UYucOy2f"
      }
    },
    {
      "cell_type": "code",
      "source": [
        "t = time()\n",
        "\n",
        "# Lemmitize reviews\n",
        "df['text_lem'] = df['text_cleaned'].apply(lemmatize_without_stops)\n",
        "\n",
        "print(f'Time to lemmatize: {round((time() - t), 2)/60} mins')"
      ],
      "metadata": {
        "id": "fS_ujFy67vkP",
        "colab": {
          "base_uri": "https://localhost:8080/"
        },
        "outputId": "2234e154-7601-49b8-ba87-c7c80bc2187d"
      },
      "execution_count": null,
      "outputs": [
        {
          "output_type": "stream",
          "name": "stdout",
          "text": [
            "Time to lemmatize: 23.2135 mins\n"
          ]
        }
      ]
    },
    {
      "cell_type": "code",
      "source": [
        "df"
      ],
      "metadata": {
        "colab": {
          "base_uri": "https://localhost:8080/",
          "height": 641
        },
        "id": "WLpMEZLTOYDz",
        "outputId": "bfed4264-1435-40f2-b7e4-c2884f156bf1"
      },
      "execution_count": null,
      "outputs": [
        {
          "output_type": "execute_result",
          "data": {
            "text/plain": [
              "       review_id                                     review_content  label  \\\n",
              "0      161007-79  'Никто не знает, как возникла великая сила. Да...      1   \n",
              "1       77454-77  И чего же я столько времени откладывала просмо...      1   \n",
              "2      710276-45  Так получилось, что в преддверии разрыва своих...      1   \n",
              "3      690615-64  Игровая серия Assassin's creed прошла многолет...      0   \n",
              "4         724-75  Один из самых трогательных фильмов, которые я ...      1   \n",
              "...          ...                                                ...    ...   \n",
              "10691  425926-10  Потрясающей популярностью обладает это, на мой...      0   \n",
              "10692  429039-45  Сразу скажу - фильм мне очень не понравился. М...      0   \n",
              "10693   81491-15  Несмотря на любовь американцев к своему футбол...      1   \n",
              "10694   89518-13  Моё знакомство с этим удивительным и незабывае...      1   \n",
              "10695  1199016-3  При всём уважении к уже похвалившим фильм, так...      0   \n",
              "\n",
              "                                            text_cleaned  \\\n",
              "0      никто не знает как возникла великая сила даже ...   \n",
              "1      и чего же я столько времени откладывала просмо...   \n",
              "2      так получилось что в преддверии разрыва своих ...   \n",
              "3      игровая серия assassins creed прошла многолетн...   \n",
              "4      один из самых трогательных фильмов которые я в...   \n",
              "...                                                  ...   \n",
              "10691  потрясающей популярностью обладает это на мой ...   \n",
              "10692  сразу скажу фильм мне очень не понравился можн...   \n",
              "10693  несмотря на любовь американцев к своему футбол...   \n",
              "10694  моё знакомство с этим удивительным и незабывае...   \n",
              "10695  при всём уважении к уже похвалившим фильм тако...   \n",
              "\n",
              "                                                text_lem  \n",
              "0      знать возникнуть великий сила книга проклятие ...  \n",
              "1      столько время откладывать просмотр фильм класс...  \n",
              "2      получиться преддверие разрыв отношение сходить...  \n",
              "3      игровой серия assassins creed пройти многолетн...  \n",
              "4      трогательный фильм видеть мег райан хью джекма...  \n",
              "...                                                  ...  \n",
              "10691  потрясать популярность обладать взгляд безлики...  \n",
              "10692  сказать фильм понравиться сказать плохой ужаст...  \n",
              "10693  несмотря любовь американец футбол похожему поб...  \n",
              "10694  знакомство удивительный незабываемый произведе...  \n",
              "10695  уважение похвалить фильм ощущение смотреть раз...  \n",
              "\n",
              "[10696 rows x 5 columns]"
            ],
            "text/html": [
              "\n",
              "  <div id=\"df-427e1f31-6b48-4eca-8c69-923657fa141f\">\n",
              "    <div class=\"colab-df-container\">\n",
              "      <div>\n",
              "<style scoped>\n",
              "    .dataframe tbody tr th:only-of-type {\n",
              "        vertical-align: middle;\n",
              "    }\n",
              "\n",
              "    .dataframe tbody tr th {\n",
              "        vertical-align: top;\n",
              "    }\n",
              "\n",
              "    .dataframe thead th {\n",
              "        text-align: right;\n",
              "    }\n",
              "</style>\n",
              "<table border=\"1\" class=\"dataframe\">\n",
              "  <thead>\n",
              "    <tr style=\"text-align: right;\">\n",
              "      <th></th>\n",
              "      <th>review_id</th>\n",
              "      <th>review_content</th>\n",
              "      <th>label</th>\n",
              "      <th>text_cleaned</th>\n",
              "      <th>text_lem</th>\n",
              "    </tr>\n",
              "  </thead>\n",
              "  <tbody>\n",
              "    <tr>\n",
              "      <th>0</th>\n",
              "      <td>161007-79</td>\n",
              "      <td>'Никто не знает, как возникла великая сила. Да...</td>\n",
              "      <td>1</td>\n",
              "      <td>никто не знает как возникла великая сила даже ...</td>\n",
              "      <td>знать возникнуть великий сила книга проклятие ...</td>\n",
              "    </tr>\n",
              "    <tr>\n",
              "      <th>1</th>\n",
              "      <td>77454-77</td>\n",
              "      <td>И чего же я столько времени откладывала просмо...</td>\n",
              "      <td>1</td>\n",
              "      <td>и чего же я столько времени откладывала просмо...</td>\n",
              "      <td>столько время откладывать просмотр фильм класс...</td>\n",
              "    </tr>\n",
              "    <tr>\n",
              "      <th>2</th>\n",
              "      <td>710276-45</td>\n",
              "      <td>Так получилось, что в преддверии разрыва своих...</td>\n",
              "      <td>1</td>\n",
              "      <td>так получилось что в преддверии разрыва своих ...</td>\n",
              "      <td>получиться преддверие разрыв отношение сходить...</td>\n",
              "    </tr>\n",
              "    <tr>\n",
              "      <th>3</th>\n",
              "      <td>690615-64</td>\n",
              "      <td>Игровая серия Assassin's creed прошла многолет...</td>\n",
              "      <td>0</td>\n",
              "      <td>игровая серия assassins creed прошла многолетн...</td>\n",
              "      <td>игровой серия assassins creed пройти многолетн...</td>\n",
              "    </tr>\n",
              "    <tr>\n",
              "      <th>4</th>\n",
              "      <td>724-75</td>\n",
              "      <td>Один из самых трогательных фильмов, которые я ...</td>\n",
              "      <td>1</td>\n",
              "      <td>один из самых трогательных фильмов которые я в...</td>\n",
              "      <td>трогательный фильм видеть мег райан хью джекма...</td>\n",
              "    </tr>\n",
              "    <tr>\n",
              "      <th>...</th>\n",
              "      <td>...</td>\n",
              "      <td>...</td>\n",
              "      <td>...</td>\n",
              "      <td>...</td>\n",
              "      <td>...</td>\n",
              "    </tr>\n",
              "    <tr>\n",
              "      <th>10691</th>\n",
              "      <td>425926-10</td>\n",
              "      <td>Потрясающей популярностью обладает это, на мой...</td>\n",
              "      <td>0</td>\n",
              "      <td>потрясающей популярностью обладает это на мой ...</td>\n",
              "      <td>потрясать популярность обладать взгляд безлики...</td>\n",
              "    </tr>\n",
              "    <tr>\n",
              "      <th>10692</th>\n",
              "      <td>429039-45</td>\n",
              "      <td>Сразу скажу - фильм мне очень не понравился. М...</td>\n",
              "      <td>0</td>\n",
              "      <td>сразу скажу фильм мне очень не понравился можн...</td>\n",
              "      <td>сказать фильм понравиться сказать плохой ужаст...</td>\n",
              "    </tr>\n",
              "    <tr>\n",
              "      <th>10693</th>\n",
              "      <td>81491-15</td>\n",
              "      <td>Несмотря на любовь американцев к своему футбол...</td>\n",
              "      <td>1</td>\n",
              "      <td>несмотря на любовь американцев к своему футбол...</td>\n",
              "      <td>несмотря любовь американец футбол похожему поб...</td>\n",
              "    </tr>\n",
              "    <tr>\n",
              "      <th>10694</th>\n",
              "      <td>89518-13</td>\n",
              "      <td>Моё знакомство с этим удивительным и незабывае...</td>\n",
              "      <td>1</td>\n",
              "      <td>моё знакомство с этим удивительным и незабывае...</td>\n",
              "      <td>знакомство удивительный незабываемый произведе...</td>\n",
              "    </tr>\n",
              "    <tr>\n",
              "      <th>10695</th>\n",
              "      <td>1199016-3</td>\n",
              "      <td>При всём уважении к уже похвалившим фильм, так...</td>\n",
              "      <td>0</td>\n",
              "      <td>при всём уважении к уже похвалившим фильм тако...</td>\n",
              "      <td>уважение похвалить фильм ощущение смотреть раз...</td>\n",
              "    </tr>\n",
              "  </tbody>\n",
              "</table>\n",
              "<p>10696 rows × 5 columns</p>\n",
              "</div>\n",
              "      <button class=\"colab-df-convert\" onclick=\"convertToInteractive('df-427e1f31-6b48-4eca-8c69-923657fa141f')\"\n",
              "              title=\"Convert this dataframe to an interactive table.\"\n",
              "              style=\"display:none;\">\n",
              "        \n",
              "  <svg xmlns=\"http://www.w3.org/2000/svg\" height=\"24px\"viewBox=\"0 0 24 24\"\n",
              "       width=\"24px\">\n",
              "    <path d=\"M0 0h24v24H0V0z\" fill=\"none\"/>\n",
              "    <path d=\"M18.56 5.44l.94 2.06.94-2.06 2.06-.94-2.06-.94-.94-2.06-.94 2.06-2.06.94zm-11 1L8.5 8.5l.94-2.06 2.06-.94-2.06-.94L8.5 2.5l-.94 2.06-2.06.94zm10 10l.94 2.06.94-2.06 2.06-.94-2.06-.94-.94-2.06-.94 2.06-2.06.94z\"/><path d=\"M17.41 7.96l-1.37-1.37c-.4-.4-.92-.59-1.43-.59-.52 0-1.04.2-1.43.59L10.3 9.45l-7.72 7.72c-.78.78-.78 2.05 0 2.83L4 21.41c.39.39.9.59 1.41.59.51 0 1.02-.2 1.41-.59l7.78-7.78 2.81-2.81c.8-.78.8-2.07 0-2.86zM5.41 20L4 18.59l7.72-7.72 1.47 1.35L5.41 20z\"/>\n",
              "  </svg>\n",
              "      </button>\n",
              "      \n",
              "  <style>\n",
              "    .colab-df-container {\n",
              "      display:flex;\n",
              "      flex-wrap:wrap;\n",
              "      gap: 12px;\n",
              "    }\n",
              "\n",
              "    .colab-df-convert {\n",
              "      background-color: #E8F0FE;\n",
              "      border: none;\n",
              "      border-radius: 50%;\n",
              "      cursor: pointer;\n",
              "      display: none;\n",
              "      fill: #1967D2;\n",
              "      height: 32px;\n",
              "      padding: 0 0 0 0;\n",
              "      width: 32px;\n",
              "    }\n",
              "\n",
              "    .colab-df-convert:hover {\n",
              "      background-color: #E2EBFA;\n",
              "      box-shadow: 0px 1px 2px rgba(60, 64, 67, 0.3), 0px 1px 3px 1px rgba(60, 64, 67, 0.15);\n",
              "      fill: #174EA6;\n",
              "    }\n",
              "\n",
              "    [theme=dark] .colab-df-convert {\n",
              "      background-color: #3B4455;\n",
              "      fill: #D2E3FC;\n",
              "    }\n",
              "\n",
              "    [theme=dark] .colab-df-convert:hover {\n",
              "      background-color: #434B5C;\n",
              "      box-shadow: 0px 1px 3px 1px rgba(0, 0, 0, 0.15);\n",
              "      filter: drop-shadow(0px 1px 2px rgba(0, 0, 0, 0.3));\n",
              "      fill: #FFFFFF;\n",
              "    }\n",
              "  </style>\n",
              "\n",
              "      <script>\n",
              "        const buttonEl =\n",
              "          document.querySelector('#df-427e1f31-6b48-4eca-8c69-923657fa141f button.colab-df-convert');\n",
              "        buttonEl.style.display =\n",
              "          google.colab.kernel.accessAllowed ? 'block' : 'none';\n",
              "\n",
              "        async function convertToInteractive(key) {\n",
              "          const element = document.querySelector('#df-427e1f31-6b48-4eca-8c69-923657fa141f');\n",
              "          const dataTable =\n",
              "            await google.colab.kernel.invokeFunction('convertToInteractive',\n",
              "                                                     [key], {});\n",
              "          if (!dataTable) return;\n",
              "\n",
              "          const docLinkHtml = 'Like what you see? Visit the ' +\n",
              "            '<a target=\"_blank\" href=https://colab.research.google.com/notebooks/data_table.ipynb>data table notebook</a>'\n",
              "            + ' to learn more about interactive tables.';\n",
              "          element.innerHTML = '';\n",
              "          dataTable['output_type'] = 'display_data';\n",
              "          await google.colab.output.renderOutput(dataTable, element);\n",
              "          const docLink = document.createElement('div');\n",
              "          docLink.innerHTML = docLinkHtml;\n",
              "          element.appendChild(docLink);\n",
              "        }\n",
              "      </script>\n",
              "    </div>\n",
              "  </div>\n",
              "  "
            ]
          },
          "metadata": {},
          "execution_count": 59
        }
      ]
    },
    {
      "cell_type": "code",
      "source": [
        "dt_string = datetime.now().strftime('%d-%m-%Y_%H-%M-%S')"
      ],
      "metadata": {
        "id": "pc-HN4S6dXA-"
      },
      "execution_count": null,
      "outputs": []
    },
    {
      "cell_type": "code",
      "source": [
        "filepath = '/content/drive/MyDrive/Datasets/'\n",
        "filename = f'kinopoisk_{len(df)}_reviews_lemmatized_{dt_string}'"
      ],
      "metadata": {
        "id": "9NI2Z4LmhZ47"
      },
      "execution_count": null,
      "outputs": []
    },
    {
      "cell_type": "code",
      "source": [
        "df.to_pickle(filepath + filename)"
      ],
      "metadata": {
        "id": "U2gRpDLEuCJq"
      },
      "execution_count": null,
      "outputs": []
    },
    {
      "cell_type": "code",
      "source": [
        "df_clean = pd.read_pickle('/content/drive/MyDrive/Datasets/kinopoisk_10000_reviews_lemmatized')"
      ],
      "metadata": {
        "id": "FhOIOnqZBX0r"
      },
      "execution_count": null,
      "outputs": []
    },
    {
      "cell_type": "code",
      "source": [
        "#@title Calculate word frequency\n",
        "\n",
        "words_freq = defaultdict(int)\n",
        "for review in df_clean['text_lem'].values:\n",
        "  for word in review.split():\n",
        "    words_freq[word] += 1\n",
        "\n",
        "word_freq_df = pd.DataFrame.from_dict(words_freq, orient='index', columns=['word_count']).reset_index().rename(columns = {'index': 'word'})\n",
        "word_freq_df.sort_values('word_count', ascending=False).head(10)"
      ],
      "metadata": {
        "colab": {
          "base_uri": "https://localhost:8080/",
          "height": 363
        },
        "id": "TD_OqbmUO6q9",
        "outputId": "87e35f12-89aa-4463-ad6c-f7a075f0ecf2"
      },
      "execution_count": null,
      "outputs": [
        {
          "output_type": "execute_result",
          "data": {
            "text/plain": [
              "        word  word_count\n",
              "155    фильм       46692\n",
              "595  человек       12902\n",
              "162    герой       11318\n",
              "322       10       10133\n",
              "170    жизнь        9202\n",
              "129  главный        9010\n",
              "423  хороший        8575\n",
              "151    время        8149\n",
              "500  история        7429\n",
              "127  картина        7364"
            ],
            "text/html": [
              "\n",
              "  <div id=\"df-bbb4109b-1a57-47d8-b6f6-8ea33b871c87\">\n",
              "    <div class=\"colab-df-container\">\n",
              "      <div>\n",
              "<style scoped>\n",
              "    .dataframe tbody tr th:only-of-type {\n",
              "        vertical-align: middle;\n",
              "    }\n",
              "\n",
              "    .dataframe tbody tr th {\n",
              "        vertical-align: top;\n",
              "    }\n",
              "\n",
              "    .dataframe thead th {\n",
              "        text-align: right;\n",
              "    }\n",
              "</style>\n",
              "<table border=\"1\" class=\"dataframe\">\n",
              "  <thead>\n",
              "    <tr style=\"text-align: right;\">\n",
              "      <th></th>\n",
              "      <th>word</th>\n",
              "      <th>word_count</th>\n",
              "    </tr>\n",
              "  </thead>\n",
              "  <tbody>\n",
              "    <tr>\n",
              "      <th>155</th>\n",
              "      <td>фильм</td>\n",
              "      <td>46692</td>\n",
              "    </tr>\n",
              "    <tr>\n",
              "      <th>595</th>\n",
              "      <td>человек</td>\n",
              "      <td>12902</td>\n",
              "    </tr>\n",
              "    <tr>\n",
              "      <th>162</th>\n",
              "      <td>герой</td>\n",
              "      <td>11318</td>\n",
              "    </tr>\n",
              "    <tr>\n",
              "      <th>322</th>\n",
              "      <td>10</td>\n",
              "      <td>10133</td>\n",
              "    </tr>\n",
              "    <tr>\n",
              "      <th>170</th>\n",
              "      <td>жизнь</td>\n",
              "      <td>9202</td>\n",
              "    </tr>\n",
              "    <tr>\n",
              "      <th>129</th>\n",
              "      <td>главный</td>\n",
              "      <td>9010</td>\n",
              "    </tr>\n",
              "    <tr>\n",
              "      <th>423</th>\n",
              "      <td>хороший</td>\n",
              "      <td>8575</td>\n",
              "    </tr>\n",
              "    <tr>\n",
              "      <th>151</th>\n",
              "      <td>время</td>\n",
              "      <td>8149</td>\n",
              "    </tr>\n",
              "    <tr>\n",
              "      <th>500</th>\n",
              "      <td>история</td>\n",
              "      <td>7429</td>\n",
              "    </tr>\n",
              "    <tr>\n",
              "      <th>127</th>\n",
              "      <td>картина</td>\n",
              "      <td>7364</td>\n",
              "    </tr>\n",
              "  </tbody>\n",
              "</table>\n",
              "</div>\n",
              "      <button class=\"colab-df-convert\" onclick=\"convertToInteractive('df-bbb4109b-1a57-47d8-b6f6-8ea33b871c87')\"\n",
              "              title=\"Convert this dataframe to an interactive table.\"\n",
              "              style=\"display:none;\">\n",
              "        \n",
              "  <svg xmlns=\"http://www.w3.org/2000/svg\" height=\"24px\"viewBox=\"0 0 24 24\"\n",
              "       width=\"24px\">\n",
              "    <path d=\"M0 0h24v24H0V0z\" fill=\"none\"/>\n",
              "    <path d=\"M18.56 5.44l.94 2.06.94-2.06 2.06-.94-2.06-.94-.94-2.06-.94 2.06-2.06.94zm-11 1L8.5 8.5l.94-2.06 2.06-.94-2.06-.94L8.5 2.5l-.94 2.06-2.06.94zm10 10l.94 2.06.94-2.06 2.06-.94-2.06-.94-.94-2.06-.94 2.06-2.06.94z\"/><path d=\"M17.41 7.96l-1.37-1.37c-.4-.4-.92-.59-1.43-.59-.52 0-1.04.2-1.43.59L10.3 9.45l-7.72 7.72c-.78.78-.78 2.05 0 2.83L4 21.41c.39.39.9.59 1.41.59.51 0 1.02-.2 1.41-.59l7.78-7.78 2.81-2.81c.8-.78.8-2.07 0-2.86zM5.41 20L4 18.59l7.72-7.72 1.47 1.35L5.41 20z\"/>\n",
              "  </svg>\n",
              "      </button>\n",
              "      \n",
              "  <style>\n",
              "    .colab-df-container {\n",
              "      display:flex;\n",
              "      flex-wrap:wrap;\n",
              "      gap: 12px;\n",
              "    }\n",
              "\n",
              "    .colab-df-convert {\n",
              "      background-color: #E8F0FE;\n",
              "      border: none;\n",
              "      border-radius: 50%;\n",
              "      cursor: pointer;\n",
              "      display: none;\n",
              "      fill: #1967D2;\n",
              "      height: 32px;\n",
              "      padding: 0 0 0 0;\n",
              "      width: 32px;\n",
              "    }\n",
              "\n",
              "    .colab-df-convert:hover {\n",
              "      background-color: #E2EBFA;\n",
              "      box-shadow: 0px 1px 2px rgba(60, 64, 67, 0.3), 0px 1px 3px 1px rgba(60, 64, 67, 0.15);\n",
              "      fill: #174EA6;\n",
              "    }\n",
              "\n",
              "    [theme=dark] .colab-df-convert {\n",
              "      background-color: #3B4455;\n",
              "      fill: #D2E3FC;\n",
              "    }\n",
              "\n",
              "    [theme=dark] .colab-df-convert:hover {\n",
              "      background-color: #434B5C;\n",
              "      box-shadow: 0px 1px 3px 1px rgba(0, 0, 0, 0.15);\n",
              "      filter: drop-shadow(0px 1px 2px rgba(0, 0, 0, 0.3));\n",
              "      fill: #FFFFFF;\n",
              "    }\n",
              "  </style>\n",
              "\n",
              "      <script>\n",
              "        const buttonEl =\n",
              "          document.querySelector('#df-bbb4109b-1a57-47d8-b6f6-8ea33b871c87 button.colab-df-convert');\n",
              "        buttonEl.style.display =\n",
              "          google.colab.kernel.accessAllowed ? 'block' : 'none';\n",
              "\n",
              "        async function convertToInteractive(key) {\n",
              "          const element = document.querySelector('#df-bbb4109b-1a57-47d8-b6f6-8ea33b871c87');\n",
              "          const dataTable =\n",
              "            await google.colab.kernel.invokeFunction('convertToInteractive',\n",
              "                                                     [key], {});\n",
              "          if (!dataTable) return;\n",
              "\n",
              "          const docLinkHtml = 'Like what you see? Visit the ' +\n",
              "            '<a target=\"_blank\" href=https://colab.research.google.com/notebooks/data_table.ipynb>data table notebook</a>'\n",
              "            + ' to learn more about interactive tables.';\n",
              "          element.innerHTML = '';\n",
              "          dataTable['output_type'] = 'display_data';\n",
              "          await google.colab.output.renderOutput(dataTable, element);\n",
              "          const docLink = document.createElement('div');\n",
              "          docLink.innerHTML = docLinkHtml;\n",
              "          element.appendChild(docLink);\n",
              "        }\n",
              "      </script>\n",
              "    </div>\n",
              "  </div>\n",
              "  "
            ]
          },
          "metadata": {},
          "execution_count": 68
        }
      ]
    },
    {
      "cell_type": "markdown",
      "source": [
        "## Bigrams"
      ],
      "metadata": {
        "id": "z9CBLqwFj8xY"
      }
    },
    {
      "cell_type": "markdown",
      "source": [
        "We are using Gensim Phrases package to automatically detect common phrases (bigrams) from a list of sentences.\n",
        "\n",
        "https://radimrehurek.com/gensim/models/phrases.html"
      ],
      "metadata": {
        "id": "ac7K6XRIkBQX"
      }
    },
    {
      "cell_type": "code",
      "source": [
        "from gensim.models.phrases import Phrases, Phraser"
      ],
      "metadata": {
        "id": "-HmVrDyJkHpX"
      },
      "execution_count": null,
      "outputs": []
    },
    {
      "cell_type": "markdown",
      "source": [
        "Phrases() takes a list of list of words as input:"
      ],
      "metadata": {
        "id": "jw35uH6akg6p"
      }
    },
    {
      "cell_type": "code",
      "source": [
        "sent = [row.split() for row in df_clean['text_lem']]"
      ],
      "metadata": {
        "id": "-GU4lAJqkOIi"
      },
      "execution_count": null,
      "outputs": []
    },
    {
      "cell_type": "markdown",
      "source": [
        "Creates the relevant phrases from the list of sentences:"
      ],
      "metadata": {
        "id": "uXoIg0d4knU9"
      }
    },
    {
      "cell_type": "code",
      "source": [
        "phrase_model = Phrases(sent, min_count=15)"
      ],
      "metadata": {
        "id": "ct-nyMEOko4q"
      },
      "execution_count": null,
      "outputs": []
    },
    {
      "cell_type": "code",
      "source": [
        "bigram = Phraser(phrase_model)"
      ],
      "metadata": {
        "id": "tPB76CTzqHP4"
      },
      "execution_count": null,
      "outputs": []
    },
    {
      "cell_type": "code",
      "source": [
        "sentences = bigram[sent]"
      ],
      "metadata": {
        "id": "Ev7ZA1R-lEgA"
      },
      "execution_count": null,
      "outputs": []
    },
    {
      "cell_type": "code",
      "source": [
        "#@title Show bigrams\n",
        "bigram_freq = defaultdict(int)\n",
        "for sentence in sentences:\n",
        "  for word in sentence:\n",
        "     if '_' in word:\n",
        "      bigram_freq[word] += 1\n",
        "\n",
        "bigram_freq_df = pd.DataFrame.from_dict(bigram_freq, orient='index', columns=['bigram_count'])\n",
        "bigram_freq_df.sort_values('bigram_count', ascending=False).head(20)"
      ],
      "metadata": {
        "colab": {
          "base_uri": "https://localhost:8080/",
          "height": 676
        },
        "id": "LyBRxTROxQdk",
        "outputId": "7ce1b3ba-2a2b-4c4f-96c9-f2086ab05834"
      },
      "execution_count": null,
      "outputs": [
        {
          "output_type": "execute_result",
          "data": {
            "text/plain": [
              "                     bigram_count\n",
              "главный_герой                3324\n",
              "10_10                        2266\n",
              "8_10                         1248\n",
              "9_10                         1165\n",
              "актёрский_игра                953\n",
              "главный_героиня               891\n",
              "игра_актёр                    885\n",
              "7_10                          849\n",
              "актёрский_состав              766\n",
              "первый_часть                  714\n",
              "главный_роль                  664\n",
              "друг_друга                    653\n",
              "первый_очередь                542\n",
              "сюжетный_линия                514\n",
              "операторский_работа           482\n",
              "точка_зрение                  460\n",
              "первый_взгляд                 432\n",
              "второй_часть                  390\n",
              "больший_часть                 376\n",
              "протяжение_фильм              361"
            ],
            "text/html": [
              "\n",
              "  <div id=\"df-9aa25822-f867-4841-ac44-03a10646767a\">\n",
              "    <div class=\"colab-df-container\">\n",
              "      <div>\n",
              "<style scoped>\n",
              "    .dataframe tbody tr th:only-of-type {\n",
              "        vertical-align: middle;\n",
              "    }\n",
              "\n",
              "    .dataframe tbody tr th {\n",
              "        vertical-align: top;\n",
              "    }\n",
              "\n",
              "    .dataframe thead th {\n",
              "        text-align: right;\n",
              "    }\n",
              "</style>\n",
              "<table border=\"1\" class=\"dataframe\">\n",
              "  <thead>\n",
              "    <tr style=\"text-align: right;\">\n",
              "      <th></th>\n",
              "      <th>bigram_count</th>\n",
              "    </tr>\n",
              "  </thead>\n",
              "  <tbody>\n",
              "    <tr>\n",
              "      <th>главный_герой</th>\n",
              "      <td>3324</td>\n",
              "    </tr>\n",
              "    <tr>\n",
              "      <th>10_10</th>\n",
              "      <td>2266</td>\n",
              "    </tr>\n",
              "    <tr>\n",
              "      <th>8_10</th>\n",
              "      <td>1248</td>\n",
              "    </tr>\n",
              "    <tr>\n",
              "      <th>9_10</th>\n",
              "      <td>1165</td>\n",
              "    </tr>\n",
              "    <tr>\n",
              "      <th>актёрский_игра</th>\n",
              "      <td>953</td>\n",
              "    </tr>\n",
              "    <tr>\n",
              "      <th>главный_героиня</th>\n",
              "      <td>891</td>\n",
              "    </tr>\n",
              "    <tr>\n",
              "      <th>игра_актёр</th>\n",
              "      <td>885</td>\n",
              "    </tr>\n",
              "    <tr>\n",
              "      <th>7_10</th>\n",
              "      <td>849</td>\n",
              "    </tr>\n",
              "    <tr>\n",
              "      <th>актёрский_состав</th>\n",
              "      <td>766</td>\n",
              "    </tr>\n",
              "    <tr>\n",
              "      <th>первый_часть</th>\n",
              "      <td>714</td>\n",
              "    </tr>\n",
              "    <tr>\n",
              "      <th>главный_роль</th>\n",
              "      <td>664</td>\n",
              "    </tr>\n",
              "    <tr>\n",
              "      <th>друг_друга</th>\n",
              "      <td>653</td>\n",
              "    </tr>\n",
              "    <tr>\n",
              "      <th>первый_очередь</th>\n",
              "      <td>542</td>\n",
              "    </tr>\n",
              "    <tr>\n",
              "      <th>сюжетный_линия</th>\n",
              "      <td>514</td>\n",
              "    </tr>\n",
              "    <tr>\n",
              "      <th>операторский_работа</th>\n",
              "      <td>482</td>\n",
              "    </tr>\n",
              "    <tr>\n",
              "      <th>точка_зрение</th>\n",
              "      <td>460</td>\n",
              "    </tr>\n",
              "    <tr>\n",
              "      <th>первый_взгляд</th>\n",
              "      <td>432</td>\n",
              "    </tr>\n",
              "    <tr>\n",
              "      <th>второй_часть</th>\n",
              "      <td>390</td>\n",
              "    </tr>\n",
              "    <tr>\n",
              "      <th>больший_часть</th>\n",
              "      <td>376</td>\n",
              "    </tr>\n",
              "    <tr>\n",
              "      <th>протяжение_фильм</th>\n",
              "      <td>361</td>\n",
              "    </tr>\n",
              "  </tbody>\n",
              "</table>\n",
              "</div>\n",
              "      <button class=\"colab-df-convert\" onclick=\"convertToInteractive('df-9aa25822-f867-4841-ac44-03a10646767a')\"\n",
              "              title=\"Convert this dataframe to an interactive table.\"\n",
              "              style=\"display:none;\">\n",
              "        \n",
              "  <svg xmlns=\"http://www.w3.org/2000/svg\" height=\"24px\"viewBox=\"0 0 24 24\"\n",
              "       width=\"24px\">\n",
              "    <path d=\"M0 0h24v24H0V0z\" fill=\"none\"/>\n",
              "    <path d=\"M18.56 5.44l.94 2.06.94-2.06 2.06-.94-2.06-.94-.94-2.06-.94 2.06-2.06.94zm-11 1L8.5 8.5l.94-2.06 2.06-.94-2.06-.94L8.5 2.5l-.94 2.06-2.06.94zm10 10l.94 2.06.94-2.06 2.06-.94-2.06-.94-.94-2.06-.94 2.06-2.06.94z\"/><path d=\"M17.41 7.96l-1.37-1.37c-.4-.4-.92-.59-1.43-.59-.52 0-1.04.2-1.43.59L10.3 9.45l-7.72 7.72c-.78.78-.78 2.05 0 2.83L4 21.41c.39.39.9.59 1.41.59.51 0 1.02-.2 1.41-.59l7.78-7.78 2.81-2.81c.8-.78.8-2.07 0-2.86zM5.41 20L4 18.59l7.72-7.72 1.47 1.35L5.41 20z\"/>\n",
              "  </svg>\n",
              "      </button>\n",
              "      \n",
              "  <style>\n",
              "    .colab-df-container {\n",
              "      display:flex;\n",
              "      flex-wrap:wrap;\n",
              "      gap: 12px;\n",
              "    }\n",
              "\n",
              "    .colab-df-convert {\n",
              "      background-color: #E8F0FE;\n",
              "      border: none;\n",
              "      border-radius: 50%;\n",
              "      cursor: pointer;\n",
              "      display: none;\n",
              "      fill: #1967D2;\n",
              "      height: 32px;\n",
              "      padding: 0 0 0 0;\n",
              "      width: 32px;\n",
              "    }\n",
              "\n",
              "    .colab-df-convert:hover {\n",
              "      background-color: #E2EBFA;\n",
              "      box-shadow: 0px 1px 2px rgba(60, 64, 67, 0.3), 0px 1px 3px 1px rgba(60, 64, 67, 0.15);\n",
              "      fill: #174EA6;\n",
              "    }\n",
              "\n",
              "    [theme=dark] .colab-df-convert {\n",
              "      background-color: #3B4455;\n",
              "      fill: #D2E3FC;\n",
              "    }\n",
              "\n",
              "    [theme=dark] .colab-df-convert:hover {\n",
              "      background-color: #434B5C;\n",
              "      box-shadow: 0px 1px 3px 1px rgba(0, 0, 0, 0.15);\n",
              "      filter: drop-shadow(0px 1px 2px rgba(0, 0, 0, 0.3));\n",
              "      fill: #FFFFFF;\n",
              "    }\n",
              "  </style>\n",
              "\n",
              "      <script>\n",
              "        const buttonEl =\n",
              "          document.querySelector('#df-9aa25822-f867-4841-ac44-03a10646767a button.colab-df-convert');\n",
              "        buttonEl.style.display =\n",
              "          google.colab.kernel.accessAllowed ? 'block' : 'none';\n",
              "\n",
              "        async function convertToInteractive(key) {\n",
              "          const element = document.querySelector('#df-9aa25822-f867-4841-ac44-03a10646767a');\n",
              "          const dataTable =\n",
              "            await google.colab.kernel.invokeFunction('convertToInteractive',\n",
              "                                                     [key], {});\n",
              "          if (!dataTable) return;\n",
              "\n",
              "          const docLinkHtml = 'Like what you see? Visit the ' +\n",
              "            '<a target=\"_blank\" href=https://colab.research.google.com/notebooks/data_table.ipynb>data table notebook</a>'\n",
              "            + ' to learn more about interactive tables.';\n",
              "          element.innerHTML = '';\n",
              "          dataTable['output_type'] = 'display_data';\n",
              "          await google.colab.output.renderOutput(dataTable, element);\n",
              "          const docLink = document.createElement('div');\n",
              "          docLink.innerHTML = docLinkHtml;\n",
              "          element.appendChild(docLink);\n",
              "        }\n",
              "      </script>\n",
              "    </div>\n",
              "  </div>\n",
              "  "
            ]
          },
          "metadata": {},
          "execution_count": 74
        }
      ]
    },
    {
      "cell_type": "markdown",
      "source": [
        "# Model training"
      ],
      "metadata": {
        "id": "LEkmVzEXzS0n"
      }
    },
    {
      "cell_type": "code",
      "source": [
        "cores = multiprocessing.cpu_count()"
      ],
      "metadata": {
        "id": "RelbnnIIzOz8"
      },
      "execution_count": null,
      "outputs": []
    },
    {
      "cell_type": "markdown",
      "source": [
        "The parameters:\n",
        "* sg ({0, 1}, optional) – Training algorithm: 1 for skip-gram; otherwise CBOW\n",
        "* min_count = int - Ignores all words with total absolute frequency lower than this - (2, 100)\n",
        "* window = int - The maximum distance between the current and predicted word within a sentence. E.g. window words on the left and window words on the left of our target - (2, 10)\n",
        "* size = int - Dimensionality of the feature vectors. - (50, 300)\n",
        "* sample = float - The threshold for configuring which higher-frequency words are randomly downsampled. Highly influencial. - (0, 1e-5)\n",
        "* alpha = float - The initial learning rate - (0.01, 0.05)\n",
        "* min_alpha = float - Learning rate will linearly drop to min_alpha as training progresses. To set it: alpha - (min_alpha * epochs) ~ 0.00\n",
        "* negative = int - If > 0, negative sampling will be used, the int for negative specifies how many \"noise words\" should be drown. If set to 0, no negative sampling is used. - (5, 20)\n",
        "* workers = int - Use these many worker threads to train the model (=faster training with multicore machines)\n"
      ],
      "metadata": {
        "id": "oaJWJPHa4dsA"
      }
    },
    {
      "cell_type": "code",
      "source": [
        "dimensionality = 300"
      ],
      "metadata": {
        "id": "9zyrlDXX8pQv"
      },
      "execution_count": null,
      "outputs": []
    },
    {
      "cell_type": "code",
      "source": [
        "w2v_model = Word2Vec(min_count=20,\n",
        "                     window=4,\n",
        "                     size=dimensionality,\n",
        "                     sample=6e-5, \n",
        "                     alpha=0.03, \n",
        "                     min_alpha=0.0007, \n",
        "                     negative=20,\n",
        "                     workers=cores-1)"
      ],
      "metadata": {
        "id": "6nYrTRqzzpX7"
      },
      "execution_count": null,
      "outputs": []
    },
    {
      "cell_type": "code",
      "source": [
        "t = time()\n",
        "\n",
        "w2v_model.build_vocab(sentences)\n",
        "\n",
        "print(f'Time to build vocab: {round((time() - t), 2)} secs')\n",
        "print(f'Vocabulary size: {len(w2v_model.wv.vocab)}')"
      ],
      "metadata": {
        "colab": {
          "base_uri": "https://localhost:8080/"
        },
        "id": "5lmifSCxzvnj",
        "outputId": "41e25a84-80cd-4bdd-e0c9-99e6dcb2897d"
      },
      "execution_count": null,
      "outputs": [
        {
          "output_type": "stream",
          "name": "stdout",
          "text": [
            "Time to build vocab: 9.53 secs\n",
            "Vocabulary size: 11759\n"
          ]
        }
      ]
    },
    {
      "cell_type": "code",
      "source": [
        "t = time()\n",
        "\n",
        "w2v_model.train(sentences, total_examples=w2v_model.corpus_count, epochs=30)\n",
        "\n",
        "print(f'Time to train the model: {round((time() - t), 2)/60} mins')"
      ],
      "metadata": {
        "colab": {
          "base_uri": "https://localhost:8080/"
        },
        "id": "LJ9xyFcP0hs6",
        "outputId": "a171a802-1cfb-408d-eabc-f62678fa0bfd"
      },
      "execution_count": null,
      "outputs": [
        {
          "output_type": "stream",
          "name": "stdout",
          "text": [
            "Time to train the model: 9.725333333333333 mins\n"
          ]
        }
      ]
    },
    {
      "cell_type": "code",
      "source": [
        "w2v_model.init_sims(replace=True)"
      ],
      "metadata": {
        "id": "GoG9TIzg0w37"
      },
      "execution_count": null,
      "outputs": []
    },
    {
      "cell_type": "code",
      "source": [
        "filepath = '/content/drive/MyDrive/Models/'\n",
        "filename = 'w2v_'+ f'kinopoisk_{len(df)}_reviews_{dt_string}'"
      ],
      "metadata": {
        "colab": {
          "base_uri": "https://localhost:8080/",
          "height": 189
        },
        "id": "QfNPi5mIiAKT",
        "outputId": "f2de6894-39df-45ed-d81d-45af278cbbe9"
      },
      "execution_count": null,
      "outputs": [
        {
          "output_type": "error",
          "ename": "NameError",
          "evalue": "ignored",
          "traceback": [
            "\u001b[0;31m---------------------------------------------------------------------------\u001b[0m",
            "\u001b[0;31mNameError\u001b[0m                                 Traceback (most recent call last)",
            "\u001b[0;32m<ipython-input-7-a42b4f2731f0>\u001b[0m in \u001b[0;36m<module>\u001b[0;34m\u001b[0m\n\u001b[1;32m      1\u001b[0m \u001b[0mfilepath\u001b[0m \u001b[0;34m=\u001b[0m \u001b[0;34m'/content/drive/MyDrive/Models/'\u001b[0m\u001b[0;34m\u001b[0m\u001b[0;34m\u001b[0m\u001b[0m\n\u001b[0;32m----> 2\u001b[0;31m \u001b[0mfilename\u001b[0m \u001b[0;34m=\u001b[0m \u001b[0;34m'w2v_'\u001b[0m\u001b[0;34m+\u001b[0m \u001b[0;34mf'kinopoisk_{len(df)}_reviews_{dt_string}'\u001b[0m\u001b[0;34m\u001b[0m\u001b[0;34m\u001b[0m\u001b[0m\n\u001b[0m",
            "\u001b[0;31mNameError\u001b[0m: name 'df' is not defined"
          ]
        }
      ]
    },
    {
      "cell_type": "code",
      "source": [
        "w2v_model.save(filepath + filename)"
      ],
      "metadata": {
        "id": "QLDDP0OaI2gT"
      },
      "execution_count": null,
      "outputs": []
    },
    {
      "cell_type": "code",
      "source": [
        "w2v_model = Word2Vec.load('/content/drive/MyDrive/Models/w2v_kinopoisk_10696_reviews_09-03-2023_23-20-35')"
      ],
      "metadata": {
        "id": "foj7P1EwfqEz"
      },
      "execution_count": null,
      "outputs": []
    },
    {
      "cell_type": "code",
      "source": [
        "#@title Select the word for showing the similarities\n",
        "word = \"\\u0430\\u0440\\u0442\\u0445\\u0430\\u0443\\u0441\" #@param {type:\"string\"}"
      ],
      "metadata": {
        "id": "V_CDr1hV08jK",
        "cellView": "form"
      },
      "execution_count": null,
      "outputs": []
    },
    {
      "cell_type": "code",
      "source": [
        "w2v_model.wv.most_similar(positive=[word])"
      ],
      "metadata": {
        "colab": {
          "base_uri": "https://localhost:8080/"
        },
        "id": "_pSpFMXzGt_e",
        "outputId": "5724181e-9828-4e63-8289-0100bd902ca2"
      },
      "execution_count": null,
      "outputs": [
        {
          "output_type": "execute_result",
          "data": {
            "text/plain": [
              "[('авторский_кино', 0.6582237482070923),\n",
              " ('артхаусный', 0.546917200088501),\n",
              " ('заумный', 0.5421145558357239),\n",
              " ('фестивальный', 0.5377029180526733),\n",
              " ('мейнстрим', 0.5236610174179077),\n",
              " ('эстет', 0.5137270092964172),\n",
              " ('кино', 0.4942004680633545),\n",
              " ('феллини', 0.4902035593986511),\n",
              " ('европейский_кино', 0.4880061447620392),\n",
              " ('претенциозный', 0.4780024290084839)]"
            ]
          },
          "metadata": {},
          "execution_count": 10
        }
      ]
    },
    {
      "cell_type": "markdown",
      "source": [
        "# Visualize"
      ],
      "metadata": {
        "id": "CSAkD7X-vJKX"
      }
    },
    {
      "cell_type": "code",
      "source": [
        "import numpy as np\n",
        "import matplotlib.pyplot as plt\n",
        "%matplotlib inline\n",
        " \n",
        "import seaborn as sns\n",
        "\n",
        "from sklearn.decomposition import PCA\n",
        "from sklearn.manifold import TSNE"
      ],
      "metadata": {
        "id": "mIl-VCw2vIGH"
      },
      "execution_count": null,
      "outputs": []
    },
    {
      "cell_type": "code",
      "source": [
        "#@title Plotting function\n",
        "\n",
        "def tsnescatterplot(model, word, list_names):\n",
        "    \"\"\" Plot in seaborn the results from the t-SNE dimensionality reduction algorithm of the vectors of a query word,\n",
        "    its list of most similar words, and a list of words.\n",
        "    \"\"\"\n",
        "    arrays = np.empty((0, dimensionality), dtype='f')\n",
        "    word_labels = [word]\n",
        "    color_list  = ['red']\n",
        "\n",
        "    # adds the vector of the query word\n",
        "    arrays = np.append(arrays, model.wv.__getitem__([word]), axis=0)\n",
        "    \n",
        "    # gets list of most similar words\n",
        "    close_words = model.wv.most_similar([word])\n",
        "    \n",
        "    # adds the vector for each of the closest words to the array\n",
        "    for wrd_score in close_words:\n",
        "        wrd_vector = model.wv.__getitem__([wrd_score[0]])\n",
        "        word_labels.append(wrd_score[0])\n",
        "        color_list.append('blue')\n",
        "        arrays = np.append(arrays, wrd_vector, axis=0)\n",
        "    \n",
        "    # adds the vector for each of the words from list_names to the array\n",
        "    for wrd in list_names:\n",
        "        wrd_vector = model.wv.__getitem__([wrd])\n",
        "        word_labels.append(wrd)\n",
        "        color_list.append('green')\n",
        "        arrays = np.append(arrays, wrd_vector, axis=0)\n",
        "        \n",
        "    # Reduces the dimensionality from 300 dimensions with PCA\n",
        "    reduc = PCA(n_components=len(arrays)).fit_transform(arrays)\n",
        "    \n",
        "    # Finds t-SNE coordinates for 2 dimensions\n",
        "    np.set_printoptions(suppress=True)\n",
        "        \n",
        "    # Reduces the dimensionality from 300 to 2 dimensions with t-SNE\n",
        "    Y = TSNE(n_components=2, random_state=0, perplexity=15).fit_transform(arrays)\n",
        "        \n",
        "    # Sets everything up to plot\n",
        "    df = pd.DataFrame({'x': [x for x in Y[:, 0]],\n",
        "                       'y': [y for y in Y[:, 1]],\n",
        "                       'words': word_labels,\n",
        "                       'color': color_list})\n",
        "    \n",
        "    fig, _ = plt.subplots()\n",
        "    fig.set_size_inches(9, 9)\n",
        "    \n",
        "    # Basic plot\n",
        "    p1 = sns.regplot(data=df,\n",
        "                     x=\"x\",\n",
        "                     y=\"y\",\n",
        "                     fit_reg=False,\n",
        "                     marker=\"o\",\n",
        "                     scatter_kws={'s': 40,\n",
        "                                  'facecolors': df['color']\n",
        "                                 }\n",
        "                    )\n",
        "    \n",
        "    # Adds annotations one by one with a loop\n",
        "    for line in range(0, df.shape[0]):\n",
        "         p1.text(df[\"x\"][line],\n",
        "                 df['y'][line],\n",
        "                 '  ' + df[\"words\"][line].title(),\n",
        "                 horizontalalignment='left',\n",
        "                 verticalalignment='bottom', size='medium',\n",
        "                 color=df['color'][line],\n",
        "                 weight='normal'\n",
        "                ).set_size(15)\n",
        "\n",
        "    \n",
        "    plt.xlim(Y[:, 0].min()-50, Y[:, 0].max()+50)\n",
        "    plt.ylim(Y[:, 1].min()-50, Y[:, 1].max()+50)\n",
        "            \n",
        "    plt.title('t-SNE visualization for {}'.format(word.title()))"
      ],
      "metadata": {
        "id": "Bvbe7QbuvNua"
      },
      "execution_count": null,
      "outputs": []
    },
    {
      "cell_type": "code",
      "source": [
        "tsnescatterplot(w2v_model, word, [i[0] for i in w2v_model.wv.most_similar(negative=[word])])"
      ],
      "metadata": {
        "colab": {
          "base_uri": "https://localhost:8080/",
          "height": 567
        },
        "id": "eJ9mNl7MvbGs",
        "outputId": "63a7bdcd-0f5b-4093-909d-0f8565758080"
      },
      "execution_count": null,
      "outputs": [
        {
          "output_type": "display_data",
          "data": {
            "text/plain": [
              "<Figure size 648x648 with 1 Axes>"
            ],
            "image/png": "[encoded data removed]"
          },
          "metadata": {
            "needs_background": "light"
          }
        }
      ]
    },
    {
      "cell_type": "markdown",
      "source": [
        "# Machine learning"
      ],
      "metadata": {
        "id": "0i8jWMEWmLLp"
      }
    },
    {
      "cell_type": "markdown",
      "source": [
        "We load the trained Word2Vec model and generate word embeddings for a set of documents in a corpus.\n",
        "\n",
        "Since doc_embedding is a two-dimensional array, where each row represents a word embedding and each column represents a dimension of the embedding space, taking the mean along axis 0 results in a new one-dimensional array where each element represents the mean value of the corresponding column across all the word embeddings in the document.\n",
        "\n",
        "By taking the mean of the word embeddings, we obtain a single vector representation of the document that summarizes the semantic information of all the words in the document. This is commonly referred to as a \"document-level embedding\" or \"document vector\".\n",
        "\n",
        " We use them as features"
      ],
      "metadata": {
        "id": "eKRGJpdGmvoo"
      }
    },
    {
      "cell_type": "code",
      "source": [
        "#@title Get the average of the word embeddings of a document to get a document-level embedding\n",
        "def get_doc_embedding(doc) -> list:\n",
        "    doc_embeddings = [w2v_model.wv[word] for word in doc.split() if word in w2v_model.wv.vocab]\n",
        "    if len(doc_embeddings) > 0:\n",
        "        return np.mean(doc_embeddings, axis=0)"
      ],
      "metadata": {
        "id": "cnlhbJ2cmRxc"
      },
      "execution_count": null,
      "outputs": []
    },
    {
      "cell_type": "code",
      "source": [
        "df_clean['text_embedding'] = df_clean['text_lem'].apply(get_doc_embedding)"
      ],
      "metadata": {
        "id": "ZoGsb4EloMHS"
      },
      "execution_count": null,
      "outputs": []
    },
    {
      "cell_type": "markdown",
      "source": [
        "When using document-level embeddings as features in a machine learning model, it is common to split the embedding vector into separate columns, with each column representing a different dimension of the embedding space."
      ],
      "metadata": {
        "id": "f2Jxgx8K778m"
      }
    },
    {
      "cell_type": "code",
      "source": [
        "embedding_cols = [f'embedding_{i+1}' for i in range(dimensionality)]"
      ],
      "metadata": {
        "id": "ToP-wgCtBlkX"
      },
      "execution_count": null,
      "outputs": []
    },
    {
      "cell_type": "code",
      "source": [
        "df_clean[embedding_cols] = pd.DataFrame(df_clean['text_embedding'].to_list())"
      ],
      "metadata": {
        "id": "UxIkti9X-CHh"
      },
      "execution_count": null,
      "outputs": []
    },
    {
      "cell_type": "code",
      "source": [
        "from sklearn.model_selection import train_test_split"
      ],
      "metadata": {
        "id": "AJ9QLvUoDKME"
      },
      "execution_count": null,
      "outputs": []
    },
    {
      "cell_type": "code",
      "source": [
        "train, test = train_test_split(df_clean, train_size=0.6, random_state=42, stratify=df['label'])\n",
        "val, test = train_test_split(test, train_size=0.5, random_state=42, stratify=test['label'])"
      ],
      "metadata": {
        "id": "yBlBJswhDdoW"
      },
      "execution_count": null,
      "outputs": []
    },
    {
      "cell_type": "code",
      "source": [
        "!pip install catboost --quiet"
      ],
      "metadata": {
        "id": "joDFicdLC5Zk"
      },
      "execution_count": null,
      "outputs": []
    },
    {
      "cell_type": "code",
      "source": [
        "from catboost import CatBoostClassifier"
      ],
      "metadata": {
        "id": "GQlF5rVnDBcp"
      },
      "execution_count": null,
      "outputs": []
    },
    {
      "cell_type": "code",
      "source": [
        "input = embedding_cols\n",
        "output = ['label']"
      ],
      "metadata": {
        "id": "4z1POIJGDs1i"
      },
      "execution_count": null,
      "outputs": []
    },
    {
      "cell_type": "code",
      "source": [
        "model = CatBoostClassifier(\n",
        "    verbose=100,\n",
        "    random_seed=42,\n",
        "    learning_rate=0.01,\n",
        "    iterations=1999\n",
        ")"
      ],
      "metadata": {
        "id": "sE31DtBBEHMn"
      },
      "execution_count": null,
      "outputs": []
    },
    {
      "cell_type": "code",
      "source": [
        "model.fit(train[input], train[output], eval_set=(val[input], val[output]))"
      ],
      "metadata": {
        "colab": {
          "base_uri": "https://localhost:8080/"
        },
        "id": "88muJ3p6Eh8a",
        "outputId": "8aa032ea-fbcf-43a0-b042-6c33b9e744b8"
      },
      "execution_count": null,
      "outputs": [
        {
          "output_type": "stream",
          "name": "stdout",
          "text": [
            "0:\tlearn: 0.6859683\ttest: 0.6861675\tbest: 0.6861675 (0)\ttotal: 110ms\tremaining: 3m 39s\n",
            "100:\tlearn: 0.3673821\ttest: 0.3779818\tbest: 0.3779818 (100)\ttotal: 8.96s\tremaining: 2m 48s\n",
            "200:\tlearn: 0.2962197\ttest: 0.3195397\tbest: 0.3195397 (200)\ttotal: 18.8s\tremaining: 2m 48s\n",
            "300:\tlearn: 0.2629020\ttest: 0.2976351\tbest: 0.2976351 (300)\ttotal: 29.3s\tremaining: 2m 45s\n",
            "400:\tlearn: 0.2409504\ttest: 0.2859840\tbest: 0.2859840 (400)\ttotal: 37.5s\tremaining: 2m 29s\n",
            "500:\tlearn: 0.2236002\ttest: 0.2781689\tbest: 0.2781689 (500)\ttotal: 50.5s\tremaining: 2m 31s\n",
            "600:\tlearn: 0.2088963\ttest: 0.2724763\tbest: 0.2724763 (600)\ttotal: 1m\tremaining: 2m 19s\n",
            "700:\tlearn: 0.1955894\ttest: 0.2683918\tbest: 0.2683918 (700)\ttotal: 1m 8s\tremaining: 2m 6s\n",
            "800:\tlearn: 0.1835157\ttest: 0.2645560\tbest: 0.2645560 (800)\ttotal: 1m 18s\tremaining: 1m 57s\n",
            "900:\tlearn: 0.1723694\ttest: 0.2620425\tbest: 0.2620425 (900)\ttotal: 1m 26s\tremaining: 1m 45s\n",
            "1000:\tlearn: 0.1611979\ttest: 0.2593785\tbest: 0.2593785 (1000)\ttotal: 1m 36s\tremaining: 1m 36s\n",
            "1100:\tlearn: 0.1499928\ttest: 0.2571148\tbest: 0.2571055 (1099)\ttotal: 1m 47s\tremaining: 1m 27s\n",
            "1200:\tlearn: 0.1393799\ttest: 0.2553247\tbest: 0.2553182 (1199)\ttotal: 1m 55s\tremaining: 1m 16s\n",
            "1300:\tlearn: 0.1296529\ttest: 0.2545854\tbest: 0.2545406 (1295)\ttotal: 2m 5s\tremaining: 1m 7s\n",
            "1400:\tlearn: 0.1208367\ttest: 0.2536636\tbest: 0.2536029 (1398)\ttotal: 2m 15s\tremaining: 57.9s\n",
            "1500:\tlearn: 0.1127540\ttest: 0.2528231\tbest: 0.2527896 (1496)\ttotal: 2m 23s\tremaining: 47.6s\n",
            "1600:\tlearn: 0.1056587\ttest: 0.2522062\tbest: 0.2522016 (1599)\ttotal: 2m 33s\tremaining: 38.2s\n",
            "1700:\tlearn: 0.0986515\ttest: 0.2516585\tbest: 0.2516585 (1700)\ttotal: 2m 42s\tremaining: 28.5s\n",
            "1800:\tlearn: 0.0923072\ttest: 0.2511841\tbest: 0.2511063 (1795)\ttotal: 2m 52s\tremaining: 18.9s\n",
            "1900:\tlearn: 0.0863479\ttest: 0.2508687\tbest: 0.2508687 (1900)\ttotal: 3m 2s\tremaining: 9.42s\n",
            "1998:\tlearn: 0.0810238\ttest: 0.2509533\tbest: 0.2506908 (1950)\ttotal: 3m 10s\tremaining: 0us\n",
            "\n",
            "bestTest = 0.2506908037\n",
            "bestIteration = 1950\n",
            "\n",
            "Shrink model to first 1951 iterations.\n"
          ]
        },
        {
          "output_type": "execute_result",
          "data": {
            "text/plain": [
              "<catboost.core.CatBoostClassifier at 0x7f9449abdfd0>"
            ]
          },
          "metadata": {},
          "execution_count": 192
        }
      ]
    },
    {
      "cell_type": "code",
      "source": [
        "test['score'] = model.predict_proba(test[input])[:, 1]"
      ],
      "metadata": {
        "id": "62TpCXG9JGzo"
      },
      "execution_count": null,
      "outputs": []
    },
    {
      "cell_type": "code",
      "source": [
        "test[['review_id', 'label', 'score']]"
      ],
      "metadata": {
        "colab": {
          "base_uri": "https://localhost:8080/",
          "height": 423
        },
        "id": "cYljKlMwJhYw",
        "outputId": "889d15d7-734d-41ac-a105-db075aabfbc9"
      },
      "execution_count": null,
      "outputs": [
        {
          "output_type": "execute_result",
          "data": {
            "text/plain": [
              "       review_id  label     score\n",
              "3987   839711-21      0  0.030452\n",
              "10616   826373-0      1  0.983117\n",
              "941    260983-85      1  0.581642\n",
              "8669   477764-51      1  0.857682\n",
              "9889   591929-24      1  0.993608\n",
              "...          ...    ...       ...\n",
              "6278   566232-28      0  0.003958\n",
              "7014   675216-79      1  0.621083\n",
              "889     584612-4      1  0.987136\n",
              "9418    408661-5      1  0.989876\n",
              "133    586494-35      0  0.190424\n",
              "\n",
              "[2140 rows x 3 columns]"
            ],
            "text/html": [
              "\n",
              "  <div id=\"df-45486d66-ed35-40a1-b42b-bd5682db6db9\">\n",
              "    <div class=\"colab-df-container\">\n",
              "      <div>\n",
              "<style scoped>\n",
              "    .dataframe tbody tr th:only-of-type {\n",
              "        vertical-align: middle;\n",
              "    }\n",
              "\n",
              "    .dataframe tbody tr th {\n",
              "        vertical-align: top;\n",
              "    }\n",
              "\n",
              "    .dataframe thead th {\n",
              "        text-align: right;\n",
              "    }\n",
              "</style>\n",
              "<table border=\"1\" class=\"dataframe\">\n",
              "  <thead>\n",
              "    <tr style=\"text-align: right;\">\n",
              "      <th></th>\n",
              "      <th>review_id</th>\n",
              "      <th>label</th>\n",
              "      <th>score</th>\n",
              "    </tr>\n",
              "  </thead>\n",
              "  <tbody>\n",
              "    <tr>\n",
              "      <th>3987</th>\n",
              "      <td>839711-21</td>\n",
              "      <td>0</td>\n",
              "      <td>0.030452</td>\n",
              "    </tr>\n",
              "    <tr>\n",
              "      <th>10616</th>\n",
              "      <td>826373-0</td>\n",
              "      <td>1</td>\n",
              "      <td>0.983117</td>\n",
              "    </tr>\n",
              "    <tr>\n",
              "      <th>941</th>\n",
              "      <td>260983-85</td>\n",
              "      <td>1</td>\n",
              "      <td>0.581642</td>\n",
              "    </tr>\n",
              "    <tr>\n",
              "      <th>8669</th>\n",
              "      <td>477764-51</td>\n",
              "      <td>1</td>\n",
              "      <td>0.857682</td>\n",
              "    </tr>\n",
              "    <tr>\n",
              "      <th>9889</th>\n",
              "      <td>591929-24</td>\n",
              "      <td>1</td>\n",
              "      <td>0.993608</td>\n",
              "    </tr>\n",
              "    <tr>\n",
              "      <th>...</th>\n",
              "      <td>...</td>\n",
              "      <td>...</td>\n",
              "      <td>...</td>\n",
              "    </tr>\n",
              "    <tr>\n",
              "      <th>6278</th>\n",
              "      <td>566232-28</td>\n",
              "      <td>0</td>\n",
              "      <td>0.003958</td>\n",
              "    </tr>\n",
              "    <tr>\n",
              "      <th>7014</th>\n",
              "      <td>675216-79</td>\n",
              "      <td>1</td>\n",
              "      <td>0.621083</td>\n",
              "    </tr>\n",
              "    <tr>\n",
              "      <th>889</th>\n",
              "      <td>584612-4</td>\n",
              "      <td>1</td>\n",
              "      <td>0.987136</td>\n",
              "    </tr>\n",
              "    <tr>\n",
              "      <th>9418</th>\n",
              "      <td>408661-5</td>\n",
              "      <td>1</td>\n",
              "      <td>0.989876</td>\n",
              "    </tr>\n",
              "    <tr>\n",
              "      <th>133</th>\n",
              "      <td>586494-35</td>\n",
              "      <td>0</td>\n",
              "      <td>0.190424</td>\n",
              "    </tr>\n",
              "  </tbody>\n",
              "</table>\n",
              "<p>2140 rows × 3 columns</p>\n",
              "</div>\n",
              "      <button class=\"colab-df-convert\" onclick=\"convertToInteractive('df-45486d66-ed35-40a1-b42b-bd5682db6db9')\"\n",
              "              title=\"Convert this dataframe to an interactive table.\"\n",
              "              style=\"display:none;\">\n",
              "        \n",
              "  <svg xmlns=\"http://www.w3.org/2000/svg\" height=\"24px\"viewBox=\"0 0 24 24\"\n",
              "       width=\"24px\">\n",
              "    <path d=\"M0 0h24v24H0V0z\" fill=\"none\"/>\n",
              "    <path d=\"M18.56 5.44l.94 2.06.94-2.06 2.06-.94-2.06-.94-.94-2.06-.94 2.06-2.06.94zm-11 1L8.5 8.5l.94-2.06 2.06-.94-2.06-.94L8.5 2.5l-.94 2.06-2.06.94zm10 10l.94 2.06.94-2.06 2.06-.94-2.06-.94-.94-2.06-.94 2.06-2.06.94z\"/><path d=\"M17.41 7.96l-1.37-1.37c-.4-.4-.92-.59-1.43-.59-.52 0-1.04.2-1.43.59L10.3 9.45l-7.72 7.72c-.78.78-.78 2.05 0 2.83L4 21.41c.39.39.9.59 1.41.59.51 0 1.02-.2 1.41-.59l7.78-7.78 2.81-2.81c.8-.78.8-2.07 0-2.86zM5.41 20L4 18.59l7.72-7.72 1.47 1.35L5.41 20z\"/>\n",
              "  </svg>\n",
              "      </button>\n",
              "      \n",
              "  <style>\n",
              "    .colab-df-container {\n",
              "      display:flex;\n",
              "      flex-wrap:wrap;\n",
              "      gap: 12px;\n",
              "    }\n",
              "\n",
              "    .colab-df-convert {\n",
              "      background-color: #E8F0FE;\n",
              "      border: none;\n",
              "      border-radius: 50%;\n",
              "      cursor: pointer;\n",
              "      display: none;\n",
              "      fill: #1967D2;\n",
              "      height: 32px;\n",
              "      padding: 0 0 0 0;\n",
              "      width: 32px;\n",
              "    }\n",
              "\n",
              "    .colab-df-convert:hover {\n",
              "      background-color: #E2EBFA;\n",
              "      box-shadow: 0px 1px 2px rgba(60, 64, 67, 0.3), 0px 1px 3px 1px rgba(60, 64, 67, 0.15);\n",
              "      fill: #174EA6;\n",
              "    }\n",
              "\n",
              "    [theme=dark] .colab-df-convert {\n",
              "      background-color: #3B4455;\n",
              "      fill: #D2E3FC;\n",
              "    }\n",
              "\n",
              "    [theme=dark] .colab-df-convert:hover {\n",
              "      background-color: #434B5C;\n",
              "      box-shadow: 0px 1px 3px 1px rgba(0, 0, 0, 0.15);\n",
              "      filter: drop-shadow(0px 1px 2px rgba(0, 0, 0, 0.3));\n",
              "      fill: #FFFFFF;\n",
              "    }\n",
              "  </style>\n",
              "\n",
              "      <script>\n",
              "        const buttonEl =\n",
              "          document.querySelector('#df-45486d66-ed35-40a1-b42b-bd5682db6db9 button.colab-df-convert');\n",
              "        buttonEl.style.display =\n",
              "          google.colab.kernel.accessAllowed ? 'block' : 'none';\n",
              "\n",
              "        async function convertToInteractive(key) {\n",
              "          const element = document.querySelector('#df-45486d66-ed35-40a1-b42b-bd5682db6db9');\n",
              "          const dataTable =\n",
              "            await google.colab.kernel.invokeFunction('convertToInteractive',\n",
              "                                                     [key], {});\n",
              "          if (!dataTable) return;\n",
              "\n",
              "          const docLinkHtml = 'Like what you see? Visit the ' +\n",
              "            '<a target=\"_blank\" href=https://colab.research.google.com/notebooks/data_table.ipynb>data table notebook</a>'\n",
              "            + ' to learn more about interactive tables.';\n",
              "          element.innerHTML = '';\n",
              "          dataTable['output_type'] = 'display_data';\n",
              "          await google.colab.output.renderOutput(dataTable, element);\n",
              "          const docLink = document.createElement('div');\n",
              "          docLink.innerHTML = docLinkHtml;\n",
              "          element.appendChild(docLink);\n",
              "        }\n",
              "      </script>\n",
              "    </div>\n",
              "  </div>\n",
              "  "
            ]
          },
          "metadata": {},
          "execution_count": 196
        }
      ]
    },
    {
      "cell_type": "markdown",
      "source": [
        "Log loss, also known as cross-entropy loss, is a loss function used in classification tasks to measure the difference between predicted probabilities and true labels. It is a commonly used loss function in machine learning algorithms such as logistic regression and neural networks.\n",
        "\n",
        "The log loss formula is:\n",
        "\n",
        "\\begin{equation}\n",
        "-\\log P(y|x),\n",
        "\\end{equation}\n",
        "\n",
        "where $P(y|x)$ is the predicted probability of class $y$ given input $x$. Log loss penalizes incorrect predictions more heavily than correct predictions."
      ],
      "metadata": {
        "id": "0ILofGJ9HcgK"
      }
    },
    {
      "cell_type": "code",
      "source": [
        "from sklearn.metrics import log_loss"
      ],
      "metadata": {
        "id": "7KquzciQKON9"
      },
      "execution_count": null,
      "outputs": []
    },
    {
      "cell_type": "code",
      "source": [
        "def print_metrics():\n",
        "  print(log_loss(test['label'], test['score']))"
      ],
      "metadata": {
        "id": "jkKt20rlJ_u5"
      },
      "execution_count": null,
      "outputs": []
    },
    {
      "cell_type": "code",
      "source": [
        "print_metrics()"
      ],
      "metadata": {
        "colab": {
          "base_uri": "https://localhost:8080/"
        },
        "id": "XaqmIDJbKtfK",
        "outputId": "90027d55-bcd2-4777-c663-940b6714b476"
      },
      "execution_count": null,
      "outputs": [
        {
          "output_type": "stream",
          "name": "stdout",
          "text": [
            "0.24547344242788913\n"
          ]
        }
      ]
    },
    {
      "cell_type": "markdown",
      "source": [
        "# Classification metrics"
      ],
      "metadata": {
        "id": "42acFgnOMaSm"
      }
    },
    {
      "cell_type": "code",
      "source": [
        "test['pred'] = (test['score'] > 0.5) * 1"
      ],
      "metadata": {
        "id": "wvytvTYeNOaU"
      },
      "execution_count": null,
      "outputs": []
    },
    {
      "cell_type": "code",
      "source": [
        "test[['review_id', 'label', 'score', 'pred']]"
      ],
      "metadata": {
        "colab": {
          "base_uri": "https://localhost:8080/",
          "height": 423
        },
        "id": "2rNZhjD9N6SO",
        "outputId": "7efe038d-1b02-4511-a5cb-38e6320170cc"
      },
      "execution_count": null,
      "outputs": [
        {
          "output_type": "execute_result",
          "data": {
            "text/plain": [
              "       review_id  label     score  pred\n",
              "3987   839711-21      0  0.030452     0\n",
              "10616   826373-0      1  0.983117     1\n",
              "941    260983-85      1  0.581642     1\n",
              "8669   477764-51      1  0.857682     1\n",
              "9889   591929-24      1  0.993608     1\n",
              "...          ...    ...       ...   ...\n",
              "6278   566232-28      0  0.003958     0\n",
              "7014   675216-79      1  0.621083     1\n",
              "889     584612-4      1  0.987136     1\n",
              "9418    408661-5      1  0.989876     1\n",
              "133    586494-35      0  0.190424     0\n",
              "\n",
              "[2140 rows x 4 columns]"
            ],
            "text/html": [
              "\n",
              "  <div id=\"df-37d19409-cc5f-4b8b-a593-cc86c9091983\">\n",
              "    <div class=\"colab-df-container\">\n",
              "      <div>\n",
              "<style scoped>\n",
              "    .dataframe tbody tr th:only-of-type {\n",
              "        vertical-align: middle;\n",
              "    }\n",
              "\n",
              "    .dataframe tbody tr th {\n",
              "        vertical-align: top;\n",
              "    }\n",
              "\n",
              "    .dataframe thead th {\n",
              "        text-align: right;\n",
              "    }\n",
              "</style>\n",
              "<table border=\"1\" class=\"dataframe\">\n",
              "  <thead>\n",
              "    <tr style=\"text-align: right;\">\n",
              "      <th></th>\n",
              "      <th>review_id</th>\n",
              "      <th>label</th>\n",
              "      <th>score</th>\n",
              "      <th>pred</th>\n",
              "    </tr>\n",
              "  </thead>\n",
              "  <tbody>\n",
              "    <tr>\n",
              "      <th>3987</th>\n",
              "      <td>839711-21</td>\n",
              "      <td>0</td>\n",
              "      <td>0.030452</td>\n",
              "      <td>0</td>\n",
              "    </tr>\n",
              "    <tr>\n",
              "      <th>10616</th>\n",
              "      <td>826373-0</td>\n",
              "      <td>1</td>\n",
              "      <td>0.983117</td>\n",
              "      <td>1</td>\n",
              "    </tr>\n",
              "    <tr>\n",
              "      <th>941</th>\n",
              "      <td>260983-85</td>\n",
              "      <td>1</td>\n",
              "      <td>0.581642</td>\n",
              "      <td>1</td>\n",
              "    </tr>\n",
              "    <tr>\n",
              "      <th>8669</th>\n",
              "      <td>477764-51</td>\n",
              "      <td>1</td>\n",
              "      <td>0.857682</td>\n",
              "      <td>1</td>\n",
              "    </tr>\n",
              "    <tr>\n",
              "      <th>9889</th>\n",
              "      <td>591929-24</td>\n",
              "      <td>1</td>\n",
              "      <td>0.993608</td>\n",
              "      <td>1</td>\n",
              "    </tr>\n",
              "    <tr>\n",
              "      <th>...</th>\n",
              "      <td>...</td>\n",
              "      <td>...</td>\n",
              "      <td>...</td>\n",
              "      <td>...</td>\n",
              "    </tr>\n",
              "    <tr>\n",
              "      <th>6278</th>\n",
              "      <td>566232-28</td>\n",
              "      <td>0</td>\n",
              "      <td>0.003958</td>\n",
              "      <td>0</td>\n",
              "    </tr>\n",
              "    <tr>\n",
              "      <th>7014</th>\n",
              "      <td>675216-79</td>\n",
              "      <td>1</td>\n",
              "      <td>0.621083</td>\n",
              "      <td>1</td>\n",
              "    </tr>\n",
              "    <tr>\n",
              "      <th>889</th>\n",
              "      <td>584612-4</td>\n",
              "      <td>1</td>\n",
              "      <td>0.987136</td>\n",
              "      <td>1</td>\n",
              "    </tr>\n",
              "    <tr>\n",
              "      <th>9418</th>\n",
              "      <td>408661-5</td>\n",
              "      <td>1</td>\n",
              "      <td>0.989876</td>\n",
              "      <td>1</td>\n",
              "    </tr>\n",
              "    <tr>\n",
              "      <th>133</th>\n",
              "      <td>586494-35</td>\n",
              "      <td>0</td>\n",
              "      <td>0.190424</td>\n",
              "      <td>0</td>\n",
              "    </tr>\n",
              "  </tbody>\n",
              "</table>\n",
              "<p>2140 rows × 4 columns</p>\n",
              "</div>\n",
              "      <button class=\"colab-df-convert\" onclick=\"convertToInteractive('df-37d19409-cc5f-4b8b-a593-cc86c9091983')\"\n",
              "              title=\"Convert this dataframe to an interactive table.\"\n",
              "              style=\"display:none;\">\n",
              "        \n",
              "  <svg xmlns=\"http://www.w3.org/2000/svg\" height=\"24px\"viewBox=\"0 0 24 24\"\n",
              "       width=\"24px\">\n",
              "    <path d=\"M0 0h24v24H0V0z\" fill=\"none\"/>\n",
              "    <path d=\"M18.56 5.44l.94 2.06.94-2.06 2.06-.94-2.06-.94-.94-2.06-.94 2.06-2.06.94zm-11 1L8.5 8.5l.94-2.06 2.06-.94-2.06-.94L8.5 2.5l-.94 2.06-2.06.94zm10 10l.94 2.06.94-2.06 2.06-.94-2.06-.94-.94-2.06-.94 2.06-2.06.94z\"/><path d=\"M17.41 7.96l-1.37-1.37c-.4-.4-.92-.59-1.43-.59-.52 0-1.04.2-1.43.59L10.3 9.45l-7.72 7.72c-.78.78-.78 2.05 0 2.83L4 21.41c.39.39.9.59 1.41.59.51 0 1.02-.2 1.41-.59l7.78-7.78 2.81-2.81c.8-.78.8-2.07 0-2.86zM5.41 20L4 18.59l7.72-7.72 1.47 1.35L5.41 20z\"/>\n",
              "  </svg>\n",
              "      </button>\n",
              "      \n",
              "  <style>\n",
              "    .colab-df-container {\n",
              "      display:flex;\n",
              "      flex-wrap:wrap;\n",
              "      gap: 12px;\n",
              "    }\n",
              "\n",
              "    .colab-df-convert {\n",
              "      background-color: #E8F0FE;\n",
              "      border: none;\n",
              "      border-radius: 50%;\n",
              "      cursor: pointer;\n",
              "      display: none;\n",
              "      fill: #1967D2;\n",
              "      height: 32px;\n",
              "      padding: 0 0 0 0;\n",
              "      width: 32px;\n",
              "    }\n",
              "\n",
              "    .colab-df-convert:hover {\n",
              "      background-color: #E2EBFA;\n",
              "      box-shadow: 0px 1px 2px rgba(60, 64, 67, 0.3), 0px 1px 3px 1px rgba(60, 64, 67, 0.15);\n",
              "      fill: #174EA6;\n",
              "    }\n",
              "\n",
              "    [theme=dark] .colab-df-convert {\n",
              "      background-color: #3B4455;\n",
              "      fill: #D2E3FC;\n",
              "    }\n",
              "\n",
              "    [theme=dark] .colab-df-convert:hover {\n",
              "      background-color: #434B5C;\n",
              "      box-shadow: 0px 1px 3px 1px rgba(0, 0, 0, 0.15);\n",
              "      filter: drop-shadow(0px 1px 2px rgba(0, 0, 0, 0.3));\n",
              "      fill: #FFFFFF;\n",
              "    }\n",
              "  </style>\n",
              "\n",
              "      <script>\n",
              "        const buttonEl =\n",
              "          document.querySelector('#df-37d19409-cc5f-4b8b-a593-cc86c9091983 button.colab-df-convert');\n",
              "        buttonEl.style.display =\n",
              "          google.colab.kernel.accessAllowed ? 'block' : 'none';\n",
              "\n",
              "        async function convertToInteractive(key) {\n",
              "          const element = document.querySelector('#df-37d19409-cc5f-4b8b-a593-cc86c9091983');\n",
              "          const dataTable =\n",
              "            await google.colab.kernel.invokeFunction('convertToInteractive',\n",
              "                                                     [key], {});\n",
              "          if (!dataTable) return;\n",
              "\n",
              "          const docLinkHtml = 'Like what you see? Visit the ' +\n",
              "            '<a target=\"_blank\" href=https://colab.research.google.com/notebooks/data_table.ipynb>data table notebook</a>'\n",
              "            + ' to learn more about interactive tables.';\n",
              "          element.innerHTML = '';\n",
              "          dataTable['output_type'] = 'display_data';\n",
              "          await google.colab.output.renderOutput(dataTable, element);\n",
              "          const docLink = document.createElement('div');\n",
              "          docLink.innerHTML = docLinkHtml;\n",
              "          element.appendChild(docLink);\n",
              "        }\n",
              "      </script>\n",
              "    </div>\n",
              "  </div>\n",
              "  "
            ]
          },
          "metadata": {},
          "execution_count": 204
        }
      ]
    },
    {
      "cell_type": "code",
      "source": [
        "from sklearn.metrics import classification_report"
      ],
      "metadata": {
        "id": "BWmK2XamP0Jf"
      },
      "execution_count": null,
      "outputs": []
    },
    {
      "cell_type": "code",
      "source": [
        "print(classification_report(test['label'], test['pred']))"
      ],
      "metadata": {
        "colab": {
          "base_uri": "https://localhost:8080/"
        },
        "id": "EQxk1U8UP2U8",
        "outputId": "5d132327-6ef1-46f0-f059-dd3850e84cfb"
      },
      "execution_count": null,
      "outputs": [
        {
          "output_type": "stream",
          "name": "stdout",
          "text": [
            "              precision    recall  f1-score   support\n",
            "\n",
            "           0       0.79      0.60      0.69       403\n",
            "           1       0.91      0.96      0.94      1737\n",
            "\n",
            "    accuracy                           0.90      2140\n",
            "   macro avg       0.85      0.78      0.81      2140\n",
            "weighted avg       0.89      0.90      0.89      2140\n",
            "\n"
          ]
        }
      ]
    },
    {
      "cell_type": "markdown",
      "source": [
        "# ROC curve"
      ],
      "metadata": {
        "id": "W7djmu8pU0wT"
      }
    },
    {
      "cell_type": "code",
      "source": [
        "thrs = [0] + list(test['score'].unique())"
      ],
      "metadata": {
        "id": "U-7jO-JfUzUW"
      },
      "execution_count": null,
      "outputs": []
    },
    {
      "cell_type": "code",
      "source": [
        "from sklearn.metrics import f1_score"
      ],
      "metadata": {
        "id": "Z_uDIEnyVM7b"
      },
      "execution_count": null,
      "outputs": []
    },
    {
      "cell_type": "code",
      "source": [
        "#@title Add progress bar\n",
        "from tqdm.notebook import tqdm"
      ],
      "metadata": {
        "id": "SYjq0i1zVpkD"
      },
      "execution_count": null,
      "outputs": []
    },
    {
      "cell_type": "code",
      "source": [
        "result = []\n",
        "for thr in tqdm(thrs):\n",
        "  test['pred_new'] = (test['score'] > thr) * 1\n",
        "  result.append((thr, f1_score(test['label'], test['pred_new'])))"
      ],
      "metadata": {
        "colab": {
          "base_uri": "https://localhost:8080/",
          "height": 49,
          "referenced_widgets": [
            "b1f6eff95e504a2385c7ee5921d7c66b",
            "b7165d7732a2442c92fa2c016e1ac268",
            "134f0347028d4a0fbc7b4a08cdf3b5fe",
            "abff5030383e497f8ae0c1a352bacfa4",
            "27ff16aed443429cbc6c31e9b6afa41e",
            "ae5d7870af3045eaa96c84203942a688",
            "7f91d7bb630d46ba853e8d429d365022",
            "f90801b145a7488da4c4b8de1a96f265",
            "819bf0d5bc024498a47421eb78cab33d",
            "ff6f2da986bd40868fb35ce3dd30382a",
            "698410a777714dfba366843e92c7f941"
          ]
        },
        "id": "NxTTuvXdU9an",
        "outputId": "dc7e019b-89e7-4aed-94fb-a31343d72757"
      },
      "execution_count": null,
      "outputs": [
        {
          "output_type": "display_data",
          "data": {
            "text/plain": [
              "  0%|          | 0/2141 [00:00<?, ?it/s]"
            ],
            "application/vnd.jupyter.widget-view+json": {
              "version_major": 2,
              "version_minor": 0,
              "model_id": "b1f6eff95e504a2385c7ee5921d7c66b"
            }
          },
          "metadata": {}
        }
      ]
    },
    {
      "cell_type": "code",
      "source": [
        "#Find the best threshold\n",
        "best_thr, best_f1 = max(result, key=lambda pair: pair[1])\n",
        "best_thr, best_f1"
      ],
      "metadata": {
        "colab": {
          "base_uri": "https://localhost:8080/"
        },
        "id": "th64IqLYWDoO",
        "outputId": "91eab09c-b611-488e-d554-1df9eb4ac43a"
      },
      "execution_count": null,
      "outputs": [
        {
          "output_type": "execute_result",
          "data": {
            "text/plain": [
              "(0.49926712629279, 0.937552506300756)"
            ]
          },
          "metadata": {},
          "execution_count": 240
        }
      ]
    },
    {
      "cell_type": "code",
      "source": [
        "test['pred_new'] = (test['score'] > best_thr) * 1"
      ],
      "metadata": {
        "id": "bMhyWfQ0hVwY"
      },
      "execution_count": null,
      "outputs": []
    },
    {
      "cell_type": "code",
      "source": [
        "import sklearn.metrics as metrics\n",
        "# calculate the fpr and tpr for all thresholds of the classification\n",
        "\n",
        "fpr, tpr, threshold = metrics.roc_curve(test['label'], test['score'])\n",
        "roc_auc = metrics.auc(fpr, tpr)\n",
        "\n",
        "# method I: plt\n",
        "plt.title('Receiver Operating Characteristic')\n",
        "plt.plot(fpr, tpr, 'b', label = 'AUC = %0.2f' % roc_auc)\n",
        "plt.legend(loc = 'lower right')\n",
        "plt.plot([0, 1], [0, 1],'r--')\n",
        "plt.xlim([0, 1])\n",
        "plt.ylim([0, 1])\n",
        "plt.ylabel('True Positive Rate')\n",
        "plt.xlabel('False Positive Rate')\n",
        "plt.show()"
      ],
      "metadata": {
        "colab": {
          "base_uri": "https://localhost:8080/",
          "height": 295
        },
        "id": "_hJZkRtvYtym",
        "outputId": "fc290118-cc9a-434d-c5b7-5cfb3f38eb8c"
      },
      "execution_count": null,
      "outputs": [
        {
          "output_type": "display_data",
          "data": {
            "text/plain": [
              "<Figure size 432x288 with 1 Axes>"
            ],
            "image/png": "[encoded data removed]"
          },
          "metadata": {}
        }
      ]
    },
    {
      "cell_type": "code",
      "source": [
        "from sklearn.datasets import make_classification\n",
        "from sklearn.linear_model import LogisticRegression\n",
        "from sklearn.model_selection import train_test_split\n",
        "from sklearn.metrics import precision_recall_curve\n",
        "from sklearn.metrics import f1_score\n",
        "from sklearn.metrics import auc\n",
        "from matplotlib import pyplot\n",
        "\n",
        "precision1, recall1, _ = precision_recall_curve(test['label'], test['score'])\n",
        "\n",
        "# plot the precision-recall curves\n",
        "pyplot.plot(recall1, precision1, marker='.', label='score')\n",
        "# axis labels\n",
        "pyplot.xlabel('Recall')\n",
        "pyplot.ylabel('Precision')\n",
        "# show the legend\n",
        "pyplot.legend()\n",
        "# show the plot\n",
        "pyplot.show()"
      ],
      "metadata": {
        "colab": {
          "base_uri": "https://localhost:8080/",
          "height": 279
        },
        "id": "7-ypdnROev3_",
        "outputId": "fc9e44e5-6dcc-45ee-ed51-f929b7332ae8"
      },
      "execution_count": null,
      "outputs": [
        {
          "output_type": "display_data",
          "data": {
            "text/plain": [
              "<Figure size 432x288 with 1 Axes>"
            ],
            "image/png": "[encoded data removed]"
          },
          "metadata": {}
        }
      ]
    },
    {
      "cell_type": "markdown",
      "source": [
        "# Play"
      ],
      "metadata": {
        "id": "WduCJLFojFDP"
      }
    },
    {
      "cell_type": "markdown",
      "source": [
        "Обзоры на Чебурашку с Киноафишы"
      ],
      "metadata": {
        "id": "srlzFLJ22oJd"
      }
    },
    {
      "cell_type": "code",
      "source": [
        "review_1 = '''Я хочу сказать вам огоромное «СПАСИБО» за такой фильм!\n",
        "Смотрел трейлер, думал очередной фильмишка, но ради Чебурашки схожу.\n",
        "Знаете, я ошибался и очень рад этому.\n",
        "В этом фильме 85% сюжета с чебурашкой, это замечательно, что не стали строить фильм на людях, а включили почти в весь сюжет милого персонажа\n",
        "Благодаря фильму, я увидел новую интерпретацию советского мультика. У вас получилось!\n",
        "Чебурашка стал для меня на всю жизнь чем-то добрым, не винным, замечательным персонажем. \n",
        "В некоторых моментах фильма хочется, чтобы он был в нашей реальности.\n",
        "По началу смеешься над чебурашкой, потом плачешь из-за сплетения 2 историй, прошлой и настоящей.\n",
        "Гена, в прошлом потерял жену и отдал свою дочь, и в настоящем он чтобы защитить свою взрослую дочь отдает ЧЕБУРАШКУ шапокляке.\n",
        "В тот момент весь зрительный зал плакал.\n",
        "По итогу, чебурашка разочаровывается в людях. Он сказал, что все люди плахие. Когда он это говорит, хочется еще раз плакать.\n",
        "Потом еще раз все плачут из-за того, что в развязки у них все наладилось, они все вместе и в финале Гена на гармошке играет легендарную песню.\n",
        "А я играю, на гармошке...\n",
        "ОГРОМНОЕ ВАМ СПАСИБО ЗА ФИЛЬМ!\n",
        "Сходите, не пожалете!'''"
      ],
      "metadata": {
        "id": "MyNWJPAajf_l"
      },
      "execution_count": null,
      "outputs": []
    },
    {
      "cell_type": "code",
      "source": [
        "review_2 = '''Финальная рецензия. :)\n",
        "Такой откровенной ХАЛТУРЫ я в кинотеатре еще не смотрел!\n",
        "Анимация низкокачественная, не «врисованна» в картину, а «приклеена» к ней! Местами персонаж двигается отдельно от фона. \n",
        "Даже волосяной покров на чебурашке упорно не хочет шевелиться.\n",
        "Сюжет к Чебурашке притянут «за уши».\n",
        "Авторские посылы увиденные мной приведены ниже.\n",
        "Авторский посыл 1: Главное — семья, но семья этого не оценит! «Безысходность»?\n",
        "Авторский посыл 2: Малый бизнес — это хорошо, но заниматься им нет смысла т. к. вас 100% задушит крупный бизнес с низкопробным продуктом!\n",
        "«Безысходность» или отсылка к крупным партнерам в титрах?\n",
        "Авторский посыл 3: забудьте о деньгах, живите для семьи и не «высовывайтесь», иначе Вас втопчут в грязь более «эффективные бизнесмены/менеджеры».\n",
        "Намек подрастающему поколению о безысходности?! Добавлю, в кино из «недружественных» стран обычно «пресмыкание» показано с точки зрения высмеивания персонажей окружающих «успешного»/богатого/властного человека (\"шакалов»), а здесь это преподнесено как норма общения с «успешными людьми»!\n",
        "И еще раз про «Безысходность» — это фраза Чебурашки из фильма!!!\n",
        "Если кратко о фильме, то это аналог сериала «Кухня», только с Гармашем, Добронравовым , Яковлевой и Чебурашкой (непонятно зачем он здесь т. к. не отпускает ощущение, что его «вписали» в уже готовый сценарий фильма), местами вызывает улыбку, местами давит на слезу, но в целом ЭТО ВТОРОСОРТНЫЙ ПРОДУКТ ДЛЯ ТВ, но никак НЕ ДЛЯ КИНОТЕАТРА.\n",
        "Причины высоких сборов: Безысходность!!! Агрессивные реклама и пиар + в кинотеатр с ребенком сейчас больше не на что пойти…'''"
      ],
      "metadata": {
        "id": "0uyPP8IopEyw"
      },
      "execution_count": null,
      "outputs": []
    },
    {
      "cell_type": "code",
      "source": [
        "df_play = pd.DataFrame()\n",
        "df_play = df_play.append(pd.DataFrame(get_doc_embedding(lemmatize_without_stops(brief_clean(review_1))).reshape(1,-1), columns=embedding_cols)).copy()\n",
        "df_play = df_play.append(pd.DataFrame(get_doc_embedding(lemmatize_without_stops(brief_clean(review_2))).reshape(1,-1), columns=embedding_cols)).copy()"
      ],
      "metadata": {
        "id": "B5DRHW8-k4ej"
      },
      "execution_count": null,
      "outputs": []
    },
    {
      "cell_type": "code",
      "source": [
        "df_play['score'] = model.predict_proba(df_play[input])[:, 1]\n",
        "df_play['pred'] = (df_play['score'] > best_thr) * 1\n",
        "df_play[['score', 'pred']]"
      ],
      "metadata": {
        "colab": {
          "base_uri": "https://localhost:8080/",
          "height": 112
        },
        "id": "U50M5QgBnvT-",
        "outputId": "852e7378-842c-4c9a-92ed-8249472b5855"
      },
      "execution_count": null,
      "outputs": [
        {
          "output_type": "execute_result",
          "data": {
            "text/plain": [
              "      score  pred\n",
              "0  0.989962     1\n",
              "0  0.140314     0"
            ],
            "text/html": [
              "\n",
              "  <div id=\"df-d860a213-9daa-4cfb-aae7-6f81f2c5ac9c\">\n",
              "    <div class=\"colab-df-container\">\n",
              "      <div>\n",
              "<style scoped>\n",
              "    .dataframe tbody tr th:only-of-type {\n",
              "        vertical-align: middle;\n",
              "    }\n",
              "\n",
              "    .dataframe tbody tr th {\n",
              "        vertical-align: top;\n",
              "    }\n",
              "\n",
              "    .dataframe thead th {\n",
              "        text-align: right;\n",
              "    }\n",
              "</style>\n",
              "<table border=\"1\" class=\"dataframe\">\n",
              "  <thead>\n",
              "    <tr style=\"text-align: right;\">\n",
              "      <th></th>\n",
              "      <th>score</th>\n",
              "      <th>pred</th>\n",
              "    </tr>\n",
              "  </thead>\n",
              "  <tbody>\n",
              "    <tr>\n",
              "      <th>0</th>\n",
              "      <td>0.989962</td>\n",
              "      <td>1</td>\n",
              "    </tr>\n",
              "    <tr>\n",
              "      <th>0</th>\n",
              "      <td>0.140314</td>\n",
              "      <td>0</td>\n",
              "    </tr>\n",
              "  </tbody>\n",
              "</table>\n",
              "</div>\n",
              "      <button class=\"colab-df-convert\" onclick=\"convertToInteractive('df-d860a213-9daa-4cfb-aae7-6f81f2c5ac9c')\"\n",
              "              title=\"Convert this dataframe to an interactive table.\"\n",
              "              style=\"display:none;\">\n",
              "        \n",
              "  <svg xmlns=\"http://www.w3.org/2000/svg\" height=\"24px\"viewBox=\"0 0 24 24\"\n",
              "       width=\"24px\">\n",
              "    <path d=\"M0 0h24v24H0V0z\" fill=\"none\"/>\n",
              "    <path d=\"M18.56 5.44l.94 2.06.94-2.06 2.06-.94-2.06-.94-.94-2.06-.94 2.06-2.06.94zm-11 1L8.5 8.5l.94-2.06 2.06-.94-2.06-.94L8.5 2.5l-.94 2.06-2.06.94zm10 10l.94 2.06.94-2.06 2.06-.94-2.06-.94-.94-2.06-.94 2.06-2.06.94z\"/><path d=\"M17.41 7.96l-1.37-1.37c-.4-.4-.92-.59-1.43-.59-.52 0-1.04.2-1.43.59L10.3 9.45l-7.72 7.72c-.78.78-.78 2.05 0 2.83L4 21.41c.39.39.9.59 1.41.59.51 0 1.02-.2 1.41-.59l7.78-7.78 2.81-2.81c.8-.78.8-2.07 0-2.86zM5.41 20L4 18.59l7.72-7.72 1.47 1.35L5.41 20z\"/>\n",
              "  </svg>\n",
              "      </button>\n",
              "      \n",
              "  <style>\n",
              "    .colab-df-container {\n",
              "      display:flex;\n",
              "      flex-wrap:wrap;\n",
              "      gap: 12px;\n",
              "    }\n",
              "\n",
              "    .colab-df-convert {\n",
              "      background-color: #E8F0FE;\n",
              "      border: none;\n",
              "      border-radius: 50%;\n",
              "      cursor: pointer;\n",
              "      display: none;\n",
              "      fill: #1967D2;\n",
              "      height: 32px;\n",
              "      padding: 0 0 0 0;\n",
              "      width: 32px;\n",
              "    }\n",
              "\n",
              "    .colab-df-convert:hover {\n",
              "      background-color: #E2EBFA;\n",
              "      box-shadow: 0px 1px 2px rgba(60, 64, 67, 0.3), 0px 1px 3px 1px rgba(60, 64, 67, 0.15);\n",
              "      fill: #174EA6;\n",
              "    }\n",
              "\n",
              "    [theme=dark] .colab-df-convert {\n",
              "      background-color: #3B4455;\n",
              "      fill: #D2E3FC;\n",
              "    }\n",
              "\n",
              "    [theme=dark] .colab-df-convert:hover {\n",
              "      background-color: #434B5C;\n",
              "      box-shadow: 0px 1px 3px 1px rgba(0, 0, 0, 0.15);\n",
              "      filter: drop-shadow(0px 1px 2px rgba(0, 0, 0, 0.3));\n",
              "      fill: #FFFFFF;\n",
              "    }\n",
              "  </style>\n",
              "\n",
              "      <script>\n",
              "        const buttonEl =\n",
              "          document.querySelector('#df-d860a213-9daa-4cfb-aae7-6f81f2c5ac9c button.colab-df-convert');\n",
              "        buttonEl.style.display =\n",
              "          google.colab.kernel.accessAllowed ? 'block' : 'none';\n",
              "\n",
              "        async function convertToInteractive(key) {\n",
              "          const element = document.querySelector('#df-d860a213-9daa-4cfb-aae7-6f81f2c5ac9c');\n",
              "          const dataTable =\n",
              "            await google.colab.kernel.invokeFunction('convertToInteractive',\n",
              "                                                     [key], {});\n",
              "          if (!dataTable) return;\n",
              "\n",
              "          const docLinkHtml = 'Like what you see? Visit the ' +\n",
              "            '<a target=\"_blank\" href=https://colab.research.google.com/notebooks/data_table.ipynb>data table notebook</a>'\n",
              "            + ' to learn more about interactive tables.';\n",
              "          element.innerHTML = '';\n",
              "          dataTable['output_type'] = 'display_data';\n",
              "          await google.colab.output.renderOutput(dataTable, element);\n",
              "          const docLink = document.createElement('div');\n",
              "          docLink.innerHTML = docLinkHtml;\n",
              "          element.appendChild(docLink);\n",
              "        }\n",
              "      </script>\n",
              "    </div>\n",
              "  </div>\n",
              "  "
            ]
          },
          "metadata": {},
          "execution_count": 291
        }
      ]
    }
  ]
}