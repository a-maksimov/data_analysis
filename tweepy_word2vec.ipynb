{
  "nbformat": 4,
  "nbformat_minor": 0,
  "metadata": {
    "colab": {
      "provenance": [],
      "mount_file_id": "1uXsRUQHxXmmuIGF_jT96mPdNKRpK1IMo",
      "authorship_tag": "ABX9TyOgIVpHi4Y/VlmFVK18CVFO",
      "include_colab_link": true
    },
    "kernelspec": {
      "name": "python3",
      "display_name": "Python 3"
    },
    "language_info": {
      "name": "python"
    }
  },
  "cells": [
    {
      "cell_type": "markdown",
      "metadata": {
        "id": "view-in-github",
        "colab_type": "text"
      },
      "source": [
        "<a href=\"https://colab.research.google.com/github/a-maksimov/data_analysis/blob/main/tweepy_word2vec.ipynb\" target=\"_parent\"><img src=\"https://colab.research.google.com/assets/colab-badge.svg\" alt=\"Open In Colab\"/></a>"
      ]
    },
    {
      "cell_type": "markdown",
      "source": [
        "This notebook downloads twitter timeline of a user (3200 tweets max), preprocess the tweets and trains a word2vec model.\n",
        "TODO: clean emojis."
      ],
      "metadata": {
        "id": "V6pIi3zC2WfZ"
      }
    },
    {
      "cell_type": "markdown",
      "source": [
        "# Set up the environment"
      ],
      "metadata": {
        "id": "nJGhM7WF2Rvm"
      }
    },
    {
      "cell_type": "code",
      "execution_count": 672,
      "metadata": {
        "id": "LAQPFDTn_nXG"
      },
      "outputs": [],
      "source": [
        "!pip --quiet install tweepy"
      ]
    },
    {
      "cell_type": "code",
      "source": [
        "!pip --quiet install python-dotenv"
      ],
      "metadata": {
        "id": "rD7l3Ti3Wtiy"
      },
      "execution_count": 673,
      "outputs": []
    },
    {
      "cell_type": "code",
      "source": [
        "!pip --quiet install spacy"
      ],
      "metadata": {
        "id": "yKf2ISsJtPhO"
      },
      "execution_count": 674,
      "outputs": []
    },
    {
      "cell_type": "code",
      "source": [
        "#@title Download spaCy language packs\n",
        "\n",
        "!python -m spacy download ru_core_news_sm --quiet\n",
        "!python -m spacy download en_core_web_sm --quiet"
      ],
      "metadata": {
        "colab": {
          "base_uri": "https://localhost:8080/"
        },
        "cellView": "form",
        "id": "lPYQALckv1e-",
        "outputId": "c107e631-e3f2-4465-988f-8d5d08104402"
      },
      "execution_count": 675,
      "outputs": [
        {
          "output_type": "stream",
          "name": "stdout",
          "text": [
            "/usr/local/lib/python3.8/dist-packages/torch/cuda/__init__.py:497: UserWarning: Can't initialize NVML\n",
            "  warnings.warn(\"Can't initialize NVML\")\n",
            "2023-03-01 12:12:17.287259: W tensorflow/compiler/xla/stream_executor/platform/default/dso_loader.cc:64] Could not load dynamic library 'libnvinfer.so.7'; dlerror: libnvinfer.so.7: cannot open shared object file: No such file or directory; LD_LIBRARY_PATH: /usr/local/nvidia/lib:/usr/local/nvidia/lib64\n",
            "2023-03-01 12:12:17.287550: W tensorflow/compiler/xla/stream_executor/platform/default/dso_loader.cc:64] Could not load dynamic library 'libnvinfer_plugin.so.7'; dlerror: libnvinfer_plugin.so.7: cannot open shared object file: No such file or directory; LD_LIBRARY_PATH: /usr/local/nvidia/lib:/usr/local/nvidia/lib64\n",
            "2023-03-01 12:12:17.287593: W tensorflow/compiler/tf2tensorrt/utils/py_utils.cc:38] TF-TRT Warning: Cannot dlopen some TensorRT libraries. If you would like to use Nvidia GPU with TensorRT, please make sure the missing libraries mentioned above are installed properly.\n",
            "2023-03-01 12:12:20.220112: E tensorflow/compiler/xla/stream_executor/cuda/cuda_driver.cc:267] failed call to cuInit: CUDA_ERROR_NO_DEVICE: no CUDA-capable device is detected\n",
            "\u001b[2K     \u001b[90m━━━━━━━━━━━━━━━━━━━━━━━━━━━━━━━━━━━━━━━━\u001b[0m \u001b[32m15.3/15.3 MB\u001b[0m \u001b[31m33.2 MB/s\u001b[0m eta \u001b[36m0:00:00\u001b[0m\n",
            "\u001b[?25h\u001b[38;5;2m✔ Download and installation successful\u001b[0m\n",
            "You can now load the package via spacy.load('ru_core_news_sm')\n",
            "/usr/local/lib/python3.8/dist-packages/torch/cuda/__init__.py:497: UserWarning: Can't initialize NVML\n",
            "  warnings.warn(\"Can't initialize NVML\")\n",
            "2023-03-01 12:12:41.503547: W tensorflow/compiler/xla/stream_executor/platform/default/dso_loader.cc:64] Could not load dynamic library 'libnvinfer.so.7'; dlerror: libnvinfer.so.7: cannot open shared object file: No such file or directory; LD_LIBRARY_PATH: /usr/local/nvidia/lib:/usr/local/nvidia/lib64\n",
            "2023-03-01 12:12:41.503717: W tensorflow/compiler/xla/stream_executor/platform/default/dso_loader.cc:64] Could not load dynamic library 'libnvinfer_plugin.so.7'; dlerror: libnvinfer_plugin.so.7: cannot open shared object file: No such file or directory; LD_LIBRARY_PATH: /usr/local/nvidia/lib:/usr/local/nvidia/lib64\n",
            "2023-03-01 12:12:41.503745: W tensorflow/compiler/tf2tensorrt/utils/py_utils.cc:38] TF-TRT Warning: Cannot dlopen some TensorRT libraries. If you would like to use Nvidia GPU with TensorRT, please make sure the missing libraries mentioned above are installed properly.\n",
            "2023-03-01 12:12:45.038804: E tensorflow/compiler/xla/stream_executor/cuda/cuda_driver.cc:267] failed call to cuInit: CUDA_ERROR_NO_DEVICE: no CUDA-capable device is detected\n",
            "\u001b[2K     \u001b[90m━━━━━━━━━━━━━━━━━━━━━━━━━━━━━━━━━━━━━━━━\u001b[0m \u001b[32m12.8/12.8 MB\u001b[0m \u001b[31m20.6 MB/s\u001b[0m eta \u001b[36m0:00:00\u001b[0m\n",
            "\u001b[?25h\u001b[38;5;2m✔ Download and installation successful\u001b[0m\n",
            "You can now load the package via spacy.load('en_core_web_sm')\n"
          ]
        }
      ]
    },
    {
      "cell_type": "code",
      "source": [
        "#@title Imports\n",
        "import tweepy\n",
        "from dotenv import load_dotenv\n",
        "import time\n",
        "from datetime import datetime\n",
        "import os\n",
        "import json\n",
        "import csv\n",
        "import pandas as pd\n",
        "import re\n",
        "import string\n",
        "import spacy\n",
        "from collections import defaultdict\n",
        "import multiprocessing\n",
        "from gensim.models import Word2Vec\n",
        "from random import randint"
      ],
      "metadata": {
        "id": "BuUsN_rs_2tk"
      },
      "execution_count": 676,
      "outputs": []
    },
    {
      "cell_type": "code",
      "source": [
        "load_dotenv('/content/drive/MyDrive/Secrets/.env')"
      ],
      "metadata": {
        "colab": {
          "base_uri": "https://localhost:8080/"
        },
        "id": "Tvplhr1gW-Kj",
        "outputId": "941af81c-ff29-4743-bede-fa839ffba7f2"
      },
      "execution_count": 677,
      "outputs": [
        {
          "output_type": "execute_result",
          "data": {
            "text/plain": [
              "True"
            ]
          },
          "metadata": {},
          "execution_count": 677
        }
      ]
    },
    {
      "cell_type": "markdown",
      "source": [
        "# Download tweets"
      ],
      "metadata": {
        "id": "rz2Ka1iUeouT"
      }
    },
    {
      "cell_type": "code",
      "source": [
        "consumer_key=os.getenv('consumer_key')\n",
        "consumer_secret=os.getenv('consumer_secret')\n",
        "access_token_key=os.getenv('access_token_key')\n",
        "access_token_secret=os.getenv('access_token_secret')\n",
        "\n",
        "auth = tweepy.OAuthHandler(consumer_key, consumer_secret)\n",
        "auth.set_access_token(access_token_key, access_token_secret)\n",
        "\n",
        "api = tweepy.API(auth)"
      ],
      "metadata": {
        "id": "y56sM-MuAd-u"
      },
      "execution_count": 678,
      "outputs": []
    },
    {
      "cell_type": "code",
      "source": [
        "#@title Twitter username and number of their tweets to download\n",
        "twitter_username = 'elonmusk' #@param {type:\"string\"}\n",
        "tweets_count = 3200 #@param {type:\"integer\"}\n",
        "user = api.get_user(twitter_username)"
      ],
      "metadata": {
        "id": "zapLB9HOcJIO"
      },
      "execution_count": 679,
      "outputs": []
    },
    {
      "cell_type": "code",
      "source": [
        "#@title Fetch the tweets from Twitter\n",
        "data = []\n",
        "step = 200\n",
        "data.extend(tweepy.Cursor(api.user_timeline, tweet_mode='extended', screen_name=twitter_username).items(step))\n",
        "print(f'..{len(data)} tweets downloaded')\n",
        "oldest = data[-1].id - 1\n",
        "time.sleep(1)\n",
        "for i in range(0, tweets_count - step, step):  \n",
        "  print(f'getting tweets before id: {oldest}')\n",
        "  # all subsequent requests use the max_id param to prevent duplicates\n",
        "  data.extend(tweepy.Cursor(api.user_timeline, tweet_mode='extended', screen_name=twitter_username, max_id=oldest).items(step))\n",
        "  # update the id of the oldest like minus one\n",
        "  oldest = data[-1].id - 1\n",
        "  print(f'..{len(data)} tweets downloaded')\n",
        "  time.sleep(1)"
      ],
      "metadata": {
        "colab": {
          "base_uri": "https://localhost:8080/"
        },
        "id": "fhS9FI5VeTOz",
        "outputId": "5119d8bf-b058-475a-91d6-8a8cb0c4cf7f",
        "cellView": "form"
      },
      "execution_count": 680,
      "outputs": [
        {
          "output_type": "stream",
          "name": "stdout",
          "text": [
            "..200 tweets downloaded\n",
            "getting tweets before id: 1628667176902352895\n",
            "..400 tweets downloaded\n",
            "getting tweets before id: 1626314402197815295\n",
            "..600 tweets downloaded\n",
            "getting tweets before id: 1623382375584632833\n",
            "..800 tweets downloaded\n",
            "getting tweets before id: 1620284790405738496\n",
            "..1000 tweets downloaded\n",
            "getting tweets before id: 1616855485294215167\n",
            "..1200 tweets downloaded\n",
            "getting tweets before id: 1614106520920412160\n",
            "..1400 tweets downloaded\n",
            "getting tweets before id: 1608965398166392831\n",
            "..1600 tweets downloaded\n",
            "getting tweets before id: 1606348600212000767\n",
            "..1800 tweets downloaded\n",
            "getting tweets before id: 1604257617047609346\n",
            "..2000 tweets downloaded\n",
            "getting tweets before id: 1602737253494693888\n",
            "..2200 tweets downloaded\n",
            "getting tweets before id: 1600752140711972864\n",
            "..2400 tweets downloaded\n",
            "getting tweets before id: 1597728650019098623\n",
            "..2600 tweets downloaded\n",
            "getting tweets before id: 1595534031545765889\n",
            "..2800 tweets downloaded\n",
            "getting tweets before id: 1593674664009555970\n",
            "..3000 tweets downloaded\n",
            "getting tweets before id: 1591664242109054975\n",
            "..3192 tweets downloaded\n"
          ]
        }
      ]
    },
    {
      "cell_type": "code",
      "source": [
        "#@title Save tweets to a csv file\n",
        "dt_string = datetime.now().strftime('%d-%m-%Y_%H-%M-%S')\n",
        "fieldnames = ['id', 'text']\n",
        "filename = f'{twitter_username}_{tweets_count}_{dt_string}.csv'\n",
        "filepath = os.path.join(os.getcwd(), 'tweets/')\n",
        "\n",
        "if not os.path.exists(filepath):\n",
        "  os.mkdir(filepath)\n",
        "with open(filepath + filename, 'w', encoding='utf-8') as file:\n",
        "  writer = csv.DictWriter(file, fieldnames=fieldnames, extrasaction='ignore')\n",
        "  writer.writeheader()   \n",
        "  for tweet in data:\n",
        "    try: # get full text if tweet is a retweet\n",
        "      tweet_dict = dict(zip(fieldnames, [tweet.id, tweet.retweeted_status.full_text]))\n",
        "    except:\n",
        "      tweet_dict = dict(zip(fieldnames, [tweet.id, tweet.full_text]))\n",
        "    writer.writerow(tweet_dict)"
      ],
      "metadata": {
        "id": "DyUfnboPihAw"
      },
      "execution_count": 681,
      "outputs": []
    },
    {
      "cell_type": "markdown",
      "source": [
        "# Cleaning\n",
        "\n"
      ],
      "metadata": {
        "id": "3jgGkusIrDbA"
      }
    },
    {
      "cell_type": "code",
      "source": [
        "#@title import to Pandas\n",
        "df = pd.read_csv('/content/tweets/' + filename)"
      ],
      "metadata": {
        "id": "GPKqsHXWIZNl"
      },
      "execution_count": 682,
      "outputs": []
    },
    {
      "cell_type": "code",
      "source": [
        "#@title Remove meantions, urls, RTs, symbols\n",
        "#TODO Remove emojis\n",
        "\n",
        "def brief_clean(text):\n",
        "  text = re.sub('@[^\\s]*\\s', '', text)  # remove mentions\n",
        "  text = re.sub('http\\S*', '', text)  # remove urls\n",
        "  text = text.replace('\\n', ' ')  # replace newlines with space\n",
        "  text = text.replace(',', ' ')  # remove commas\n",
        "  text = re.sub(' +', ' ', text)  # replace multiple spaces with one space\n",
        "  text = text.replace('RT', '')  # remove RTs\n",
        "  text = text.lower().strip()  # make all lowercase\n",
        "  signs = '«»—\"…“\"'\n",
        "  text = text.translate(str.maketrans('', '', string.punctuation + signs))  # remove string.punctuation from the string\n",
        "  return text"
      ],
      "metadata": {
        "id": "IbqCmw6yMEVB"
      },
      "execution_count": 683,
      "outputs": []
    },
    {
      "cell_type": "code",
      "source": [
        "df['text_cleaned'] = df['text'].map(brief_clean)\n",
        "df['text_cleaned'][1]"
      ],
      "metadata": {
        "colab": {
          "base_uri": "https://localhost:8080/",
          "height": 36
        },
        "id": "xujRpnwflreO",
        "outputId": "687a043a-20d5-432a-dd0a-e415e81d7f12"
      },
      "execution_count": 684,
      "outputs": [
        {
          "output_type": "execute_result",
          "data": {
            "text/plain": [
              "'intense'"
            ],
            "application/vnd.google.colaboratory.intrinsic+json": {
              "type": "string"
            }
          },
          "metadata": {},
          "execution_count": 684
        }
      ]
    },
    {
      "cell_type": "code",
      "source": [
        "language = \"en\" #@param [\"ru\", \"en\"]\n",
        "if language == 'ru':\n",
        "  nlp = spacy.load('ru_core_news_sm', disable=['ner', 'parser'])  # disabling Named Entity Recognition for speed\n",
        "else:\n",
        "  nlp = spacy.load('en_core_web_sm', disable=['ner', 'parser'])  # disabling Named Entity Recognition for speed"
      ],
      "metadata": {
        "id": "AKEP8lfvyTq5"
      },
      "execution_count": 685,
      "outputs": []
    },
    {
      "cell_type": "code",
      "source": [
        "#@title Now we lemmatize with stop words or without\n",
        "# Lemmatizes and removes stopwords\n",
        "# doc needs to be a spacy Doc object\n",
        "def lemmatize(doc):\n",
        "    text = [token.lemma_ for token in doc]\n",
        "    # Word2Vec uses context words to learn the vector representation of a target word,\n",
        "    # if a sentence is only one or two words long,\n",
        "    # the benefit for the training is very small\n",
        "    if len(text) > 2:\n",
        "        return ' '.join(text)\n",
        "\n",
        "def lemmatize_without_stops(doc):\n",
        "    text = [token.lemma_ for token in doc if not token.is_stop]\n",
        "    # Word2Vec uses context words to learn the vector representation of a target word,\n",
        "    # if a sentence is only one or two words long,\n",
        "    # the benefit for the training is very small\n",
        "    if len(text) > 2:\n",
        "        return ' '.join(text)"
      ],
      "metadata": {
        "id": "7vGyEKRZyk39",
        "cellView": "form"
      },
      "execution_count": 686,
      "outputs": []
    },
    {
      "cell_type": "markdown",
      "source": [
        "Taking advantage of spaCy .pipe() method to speed-up the cleaning process:"
      ],
      "metadata": {
        "id": "cwxO64OBZp1B"
      }
    },
    {
      "cell_type": "code",
      "source": [
        "docs = nlp.pipe(df['text_cleaned'].values, batch_size=5000, n_process=-1)  # returns a generator of spacy Docs"
      ],
      "metadata": {
        "id": "z0hsomI9VZht"
      },
      "execution_count": 687,
      "outputs": []
    },
    {
      "cell_type": "code",
      "source": [
        "t = time.time()\n",
        "\n",
        "df['text_lem'] = pd.Series([lemmatize_without_stops(doc) for doc in docs], dtype='string')\n",
        "\n",
        "print(f'Time to lemmatize: {round((time.time() - t), 2)} secs')\n",
        "\n",
        "df"
      ],
      "metadata": {
        "id": "PH5aw1fuY3OY",
        "colab": {
          "base_uri": "https://localhost:8080/",
          "height": 676
        },
        "outputId": "e0ba195d-a3c4-47c0-97fb-901e0828184c"
      },
      "execution_count": 688,
      "outputs": [
        {
          "output_type": "stream",
          "name": "stdout",
          "text": [
            "Time to lemmatize: 12.79 secs\n"
          ]
        },
        {
          "output_type": "execute_result",
          "data": {
            "text/plain": [
              "                       id                                               text  \\\n",
              "0     1630829002112811009                                     @neontaster 🔥🔥   \n",
              "1     1630828537870524416                             @Rainmaker1973 Intense   \n",
              "2     1630827383602450432                                         @EvaFoxU 🤣   \n",
              "3     1630825219429396480                                   @SawyerMerritt 🤣   \n",
              "4     1630816472984330241  What do you call an infinite gear ratio?\\nAll ...   \n",
              "...                   ...                                                ...   \n",
              "3187  1589022495189127169  Search within Twitter reminds me of Infoseek i...   \n",
              "3188  1589021467005816833  @CorySteuben @Erdayastronaut @live_munro Inter...   \n",
              "3189  1589020949822963715  @gchahal @TwitterBlue 42 mins to start, then s...   \n",
              "3190  1589020644007874560  @BillyM2k @nikitabier We definitely need to in...   \n",
              "3191  1589019394449240064                                    @stephsmithio 🤣   \n",
              "\n",
              "                                           text_cleaned  \\\n",
              "0                                                    🔥🔥   \n",
              "1                                               intense   \n",
              "2                                                     🤣   \n",
              "3                                                     🤣   \n",
              "4     what do you call an infinite gear ratio all to...   \n",
              "...                                                 ...   \n",
              "3187  search within twitter reminds me of infoseek i...   \n",
              "3188                                        interesting   \n",
              "3189  42 mins to start then several hours in a month...   \n",
              "3190  we definitely need to incent people to do a lo...   \n",
              "3191                                                  🤣   \n",
              "\n",
              "                                               text_lem  \n",
              "0                                                  <NA>  \n",
              "1                                                  <NA>  \n",
              "2                                                  <NA>  \n",
              "3                                                  <NA>  \n",
              "4                     infinite gear ratio torque action  \n",
              "...                                                 ...  \n",
              "3187  search twitter remind infoseek ' 98 lot well p...  \n",
              "3188                                               <NA>  \n",
              "3189                            42 min start hour month  \n",
              "3190  definitely need incent people lot interaction ...  \n",
              "3191                                               <NA>  \n",
              "\n",
              "[3192 rows x 4 columns]"
            ],
            "text/html": [
              "\n",
              "  <div id=\"df-415bb02f-fe53-47a5-901d-7d3888e45f13\">\n",
              "    <div class=\"colab-df-container\">\n",
              "      <div>\n",
              "<style scoped>\n",
              "    .dataframe tbody tr th:only-of-type {\n",
              "        vertical-align: middle;\n",
              "    }\n",
              "\n",
              "    .dataframe tbody tr th {\n",
              "        vertical-align: top;\n",
              "    }\n",
              "\n",
              "    .dataframe thead th {\n",
              "        text-align: right;\n",
              "    }\n",
              "</style>\n",
              "<table border=\"1\" class=\"dataframe\">\n",
              "  <thead>\n",
              "    <tr style=\"text-align: right;\">\n",
              "      <th></th>\n",
              "      <th>id</th>\n",
              "      <th>text</th>\n",
              "      <th>text_cleaned</th>\n",
              "      <th>text_lem</th>\n",
              "    </tr>\n",
              "  </thead>\n",
              "  <tbody>\n",
              "    <tr>\n",
              "      <th>0</th>\n",
              "      <td>1630829002112811009</td>\n",
              "      <td>@neontaster 🔥🔥</td>\n",
              "      <td>🔥🔥</td>\n",
              "      <td>&lt;NA&gt;</td>\n",
              "    </tr>\n",
              "    <tr>\n",
              "      <th>1</th>\n",
              "      <td>1630828537870524416</td>\n",
              "      <td>@Rainmaker1973 Intense</td>\n",
              "      <td>intense</td>\n",
              "      <td>&lt;NA&gt;</td>\n",
              "    </tr>\n",
              "    <tr>\n",
              "      <th>2</th>\n",
              "      <td>1630827383602450432</td>\n",
              "      <td>@EvaFoxU 🤣</td>\n",
              "      <td>🤣</td>\n",
              "      <td>&lt;NA&gt;</td>\n",
              "    </tr>\n",
              "    <tr>\n",
              "      <th>3</th>\n",
              "      <td>1630825219429396480</td>\n",
              "      <td>@SawyerMerritt 🤣</td>\n",
              "      <td>🤣</td>\n",
              "      <td>&lt;NA&gt;</td>\n",
              "    </tr>\n",
              "    <tr>\n",
              "      <th>4</th>\n",
              "      <td>1630816472984330241</td>\n",
              "      <td>What do you call an infinite gear ratio?\\nAll ...</td>\n",
              "      <td>what do you call an infinite gear ratio all to...</td>\n",
              "      <td>infinite gear ratio torque action</td>\n",
              "    </tr>\n",
              "    <tr>\n",
              "      <th>...</th>\n",
              "      <td>...</td>\n",
              "      <td>...</td>\n",
              "      <td>...</td>\n",
              "      <td>...</td>\n",
              "    </tr>\n",
              "    <tr>\n",
              "      <th>3187</th>\n",
              "      <td>1589022495189127169</td>\n",
              "      <td>Search within Twitter reminds me of Infoseek i...</td>\n",
              "      <td>search within twitter reminds me of infoseek i...</td>\n",
              "      <td>search twitter remind infoseek ' 98 lot well p...</td>\n",
              "    </tr>\n",
              "    <tr>\n",
              "      <th>3188</th>\n",
              "      <td>1589021467005816833</td>\n",
              "      <td>@CorySteuben @Erdayastronaut @live_munro Inter...</td>\n",
              "      <td>interesting</td>\n",
              "      <td>&lt;NA&gt;</td>\n",
              "    </tr>\n",
              "    <tr>\n",
              "      <th>3189</th>\n",
              "      <td>1589020949822963715</td>\n",
              "      <td>@gchahal @TwitterBlue 42 mins to start, then s...</td>\n",
              "      <td>42 mins to start then several hours in a month...</td>\n",
              "      <td>42 min start hour month</td>\n",
              "    </tr>\n",
              "    <tr>\n",
              "      <th>3190</th>\n",
              "      <td>1589020644007874560</td>\n",
              "      <td>@BillyM2k @nikitabier We definitely need to in...</td>\n",
              "      <td>we definitely need to incent people to do a lo...</td>\n",
              "      <td>definitely need incent people lot interaction ...</td>\n",
              "    </tr>\n",
              "    <tr>\n",
              "      <th>3191</th>\n",
              "      <td>1589019394449240064</td>\n",
              "      <td>@stephsmithio 🤣</td>\n",
              "      <td>🤣</td>\n",
              "      <td>&lt;NA&gt;</td>\n",
              "    </tr>\n",
              "  </tbody>\n",
              "</table>\n",
              "<p>3192 rows × 4 columns</p>\n",
              "</div>\n",
              "      <button class=\"colab-df-convert\" onclick=\"convertToInteractive('df-415bb02f-fe53-47a5-901d-7d3888e45f13')\"\n",
              "              title=\"Convert this dataframe to an interactive table.\"\n",
              "              style=\"display:none;\">\n",
              "        \n",
              "  <svg xmlns=\"http://www.w3.org/2000/svg\" height=\"24px\"viewBox=\"0 0 24 24\"\n",
              "       width=\"24px\">\n",
              "    <path d=\"M0 0h24v24H0V0z\" fill=\"none\"/>\n",
              "    <path d=\"M18.56 5.44l.94 2.06.94-2.06 2.06-.94-2.06-.94-.94-2.06-.94 2.06-2.06.94zm-11 1L8.5 8.5l.94-2.06 2.06-.94-2.06-.94L8.5 2.5l-.94 2.06-2.06.94zm10 10l.94 2.06.94-2.06 2.06-.94-2.06-.94-.94-2.06-.94 2.06-2.06.94z\"/><path d=\"M17.41 7.96l-1.37-1.37c-.4-.4-.92-.59-1.43-.59-.52 0-1.04.2-1.43.59L10.3 9.45l-7.72 7.72c-.78.78-.78 2.05 0 2.83L4 21.41c.39.39.9.59 1.41.59.51 0 1.02-.2 1.41-.59l7.78-7.78 2.81-2.81c.8-.78.8-2.07 0-2.86zM5.41 20L4 18.59l7.72-7.72 1.47 1.35L5.41 20z\"/>\n",
              "  </svg>\n",
              "      </button>\n",
              "      \n",
              "  <style>\n",
              "    .colab-df-container {\n",
              "      display:flex;\n",
              "      flex-wrap:wrap;\n",
              "      gap: 12px;\n",
              "    }\n",
              "\n",
              "    .colab-df-convert {\n",
              "      background-color: #E8F0FE;\n",
              "      border: none;\n",
              "      border-radius: 50%;\n",
              "      cursor: pointer;\n",
              "      display: none;\n",
              "      fill: #1967D2;\n",
              "      height: 32px;\n",
              "      padding: 0 0 0 0;\n",
              "      width: 32px;\n",
              "    }\n",
              "\n",
              "    .colab-df-convert:hover {\n",
              "      background-color: #E2EBFA;\n",
              "      box-shadow: 0px 1px 2px rgba(60, 64, 67, 0.3), 0px 1px 3px 1px rgba(60, 64, 67, 0.15);\n",
              "      fill: #174EA6;\n",
              "    }\n",
              "\n",
              "    [theme=dark] .colab-df-convert {\n",
              "      background-color: #3B4455;\n",
              "      fill: #D2E3FC;\n",
              "    }\n",
              "\n",
              "    [theme=dark] .colab-df-convert:hover {\n",
              "      background-color: #434B5C;\n",
              "      box-shadow: 0px 1px 3px 1px rgba(0, 0, 0, 0.15);\n",
              "      filter: drop-shadow(0px 1px 2px rgba(0, 0, 0, 0.3));\n",
              "      fill: #FFFFFF;\n",
              "    }\n",
              "  </style>\n",
              "\n",
              "      <script>\n",
              "        const buttonEl =\n",
              "          document.querySelector('#df-415bb02f-fe53-47a5-901d-7d3888e45f13 button.colab-df-convert');\n",
              "        buttonEl.style.display =\n",
              "          google.colab.kernel.accessAllowed ? 'block' : 'none';\n",
              "\n",
              "        async function convertToInteractive(key) {\n",
              "          const element = document.querySelector('#df-415bb02f-fe53-47a5-901d-7d3888e45f13');\n",
              "          const dataTable =\n",
              "            await google.colab.kernel.invokeFunction('convertToInteractive',\n",
              "                                                     [key], {});\n",
              "          if (!dataTable) return;\n",
              "\n",
              "          const docLinkHtml = 'Like what you see? Visit the ' +\n",
              "            '<a target=\"_blank\" href=https://colab.research.google.com/notebooks/data_table.ipynb>data table notebook</a>'\n",
              "            + ' to learn more about interactive tables.';\n",
              "          element.innerHTML = '';\n",
              "          dataTable['output_type'] = 'display_data';\n",
              "          await google.colab.output.renderOutput(dataTable, element);\n",
              "          const docLink = document.createElement('div');\n",
              "          docLink.innerHTML = docLinkHtml;\n",
              "          element.appendChild(docLink);\n",
              "        }\n",
              "      </script>\n",
              "    </div>\n",
              "  </div>\n",
              "  "
            ]
          },
          "metadata": {},
          "execution_count": 688
        }
      ]
    },
    {
      "cell_type": "code",
      "source": [
        "df_clean = df[['text_lem']].dropna().drop_duplicates().reset_index()\n",
        "df_clean"
      ],
      "metadata": {
        "id": "B5s1pcENLm2t",
        "colab": {
          "base_uri": "https://localhost:8080/",
          "height": 423
        },
        "outputId": "d2fad969-9de1-40e3-ddfb-9d990556ba02"
      },
      "execution_count": 691,
      "outputs": [
        {
          "output_type": "execute_result",
          "data": {
            "text/plain": [
              "      index                                           text_lem\n",
              "0         4                  infinite gear ratio torque action\n",
              "1         5                           photo filter mislead 🤣 🤣\n",
              "2         8  periodic reminder try twitter list greatly imp...\n",
              "3        11  tesla int8 inference way efficient fp16 take l...\n",
              "4        12  wow 9 year ago amazingly dependent russian eng...\n",
              "...     ...                                                ...\n",
              "1708   3182  go forward twitter handle engage impersonation...\n",
              "1709   3185                           fix search high priority\n",
              "1710   3187  search twitter remind infoseek ' 98 lot well p...\n",
              "1711   3189                            42 min start hour month\n",
              "1712   3190  definitely need incent people lot interaction ...\n",
              "\n",
              "[1713 rows x 2 columns]"
            ],
            "text/html": [
              "\n",
              "  <div id=\"df-b3990acf-7fd8-46c0-b28a-63329d04a5e5\">\n",
              "    <div class=\"colab-df-container\">\n",
              "      <div>\n",
              "<style scoped>\n",
              "    .dataframe tbody tr th:only-of-type {\n",
              "        vertical-align: middle;\n",
              "    }\n",
              "\n",
              "    .dataframe tbody tr th {\n",
              "        vertical-align: top;\n",
              "    }\n",
              "\n",
              "    .dataframe thead th {\n",
              "        text-align: right;\n",
              "    }\n",
              "</style>\n",
              "<table border=\"1\" class=\"dataframe\">\n",
              "  <thead>\n",
              "    <tr style=\"text-align: right;\">\n",
              "      <th></th>\n",
              "      <th>index</th>\n",
              "      <th>text_lem</th>\n",
              "    </tr>\n",
              "  </thead>\n",
              "  <tbody>\n",
              "    <tr>\n",
              "      <th>0</th>\n",
              "      <td>4</td>\n",
              "      <td>infinite gear ratio torque action</td>\n",
              "    </tr>\n",
              "    <tr>\n",
              "      <th>1</th>\n",
              "      <td>5</td>\n",
              "      <td>photo filter mislead 🤣 🤣</td>\n",
              "    </tr>\n",
              "    <tr>\n",
              "      <th>2</th>\n",
              "      <td>8</td>\n",
              "      <td>periodic reminder try twitter list greatly imp...</td>\n",
              "    </tr>\n",
              "    <tr>\n",
              "      <th>3</th>\n",
              "      <td>11</td>\n",
              "      <td>tesla int8 inference way efficient fp16 take l...</td>\n",
              "    </tr>\n",
              "    <tr>\n",
              "      <th>4</th>\n",
              "      <td>12</td>\n",
              "      <td>wow 9 year ago amazingly dependent russian eng...</td>\n",
              "    </tr>\n",
              "    <tr>\n",
              "      <th>...</th>\n",
              "      <td>...</td>\n",
              "      <td>...</td>\n",
              "    </tr>\n",
              "    <tr>\n",
              "      <th>1708</th>\n",
              "      <td>3182</td>\n",
              "      <td>go forward twitter handle engage impersonation...</td>\n",
              "    </tr>\n",
              "    <tr>\n",
              "      <th>1709</th>\n",
              "      <td>3185</td>\n",
              "      <td>fix search high priority</td>\n",
              "    </tr>\n",
              "    <tr>\n",
              "      <th>1710</th>\n",
              "      <td>3187</td>\n",
              "      <td>search twitter remind infoseek ' 98 lot well p...</td>\n",
              "    </tr>\n",
              "    <tr>\n",
              "      <th>1711</th>\n",
              "      <td>3189</td>\n",
              "      <td>42 min start hour month</td>\n",
              "    </tr>\n",
              "    <tr>\n",
              "      <th>1712</th>\n",
              "      <td>3190</td>\n",
              "      <td>definitely need incent people lot interaction ...</td>\n",
              "    </tr>\n",
              "  </tbody>\n",
              "</table>\n",
              "<p>1713 rows × 2 columns</p>\n",
              "</div>\n",
              "      <button class=\"colab-df-convert\" onclick=\"convertToInteractive('df-b3990acf-7fd8-46c0-b28a-63329d04a5e5')\"\n",
              "              title=\"Convert this dataframe to an interactive table.\"\n",
              "              style=\"display:none;\">\n",
              "        \n",
              "  <svg xmlns=\"http://www.w3.org/2000/svg\" height=\"24px\"viewBox=\"0 0 24 24\"\n",
              "       width=\"24px\">\n",
              "    <path d=\"M0 0h24v24H0V0z\" fill=\"none\"/>\n",
              "    <path d=\"M18.56 5.44l.94 2.06.94-2.06 2.06-.94-2.06-.94-.94-2.06-.94 2.06-2.06.94zm-11 1L8.5 8.5l.94-2.06 2.06-.94-2.06-.94L8.5 2.5l-.94 2.06-2.06.94zm10 10l.94 2.06.94-2.06 2.06-.94-2.06-.94-.94-2.06-.94 2.06-2.06.94z\"/><path d=\"M17.41 7.96l-1.37-1.37c-.4-.4-.92-.59-1.43-.59-.52 0-1.04.2-1.43.59L10.3 9.45l-7.72 7.72c-.78.78-.78 2.05 0 2.83L4 21.41c.39.39.9.59 1.41.59.51 0 1.02-.2 1.41-.59l7.78-7.78 2.81-2.81c.8-.78.8-2.07 0-2.86zM5.41 20L4 18.59l7.72-7.72 1.47 1.35L5.41 20z\"/>\n",
              "  </svg>\n",
              "      </button>\n",
              "      \n",
              "  <style>\n",
              "    .colab-df-container {\n",
              "      display:flex;\n",
              "      flex-wrap:wrap;\n",
              "      gap: 12px;\n",
              "    }\n",
              "\n",
              "    .colab-df-convert {\n",
              "      background-color: #E8F0FE;\n",
              "      border: none;\n",
              "      border-radius: 50%;\n",
              "      cursor: pointer;\n",
              "      display: none;\n",
              "      fill: #1967D2;\n",
              "      height: 32px;\n",
              "      padding: 0 0 0 0;\n",
              "      width: 32px;\n",
              "    }\n",
              "\n",
              "    .colab-df-convert:hover {\n",
              "      background-color: #E2EBFA;\n",
              "      box-shadow: 0px 1px 2px rgba(60, 64, 67, 0.3), 0px 1px 3px 1px rgba(60, 64, 67, 0.15);\n",
              "      fill: #174EA6;\n",
              "    }\n",
              "\n",
              "    [theme=dark] .colab-df-convert {\n",
              "      background-color: #3B4455;\n",
              "      fill: #D2E3FC;\n",
              "    }\n",
              "\n",
              "    [theme=dark] .colab-df-convert:hover {\n",
              "      background-color: #434B5C;\n",
              "      box-shadow: 0px 1px 3px 1px rgba(0, 0, 0, 0.15);\n",
              "      filter: drop-shadow(0px 1px 2px rgba(0, 0, 0, 0.3));\n",
              "      fill: #FFFFFF;\n",
              "    }\n",
              "  </style>\n",
              "\n",
              "      <script>\n",
              "        const buttonEl =\n",
              "          document.querySelector('#df-b3990acf-7fd8-46c0-b28a-63329d04a5e5 button.colab-df-convert');\n",
              "        buttonEl.style.display =\n",
              "          google.colab.kernel.accessAllowed ? 'block' : 'none';\n",
              "\n",
              "        async function convertToInteractive(key) {\n",
              "          const element = document.querySelector('#df-b3990acf-7fd8-46c0-b28a-63329d04a5e5');\n",
              "          const dataTable =\n",
              "            await google.colab.kernel.invokeFunction('convertToInteractive',\n",
              "                                                     [key], {});\n",
              "          if (!dataTable) return;\n",
              "\n",
              "          const docLinkHtml = 'Like what you see? Visit the ' +\n",
              "            '<a target=\"_blank\" href=https://colab.research.google.com/notebooks/data_table.ipynb>data table notebook</a>'\n",
              "            + ' to learn more about interactive tables.';\n",
              "          element.innerHTML = '';\n",
              "          dataTable['output_type'] = 'display_data';\n",
              "          await google.colab.output.renderOutput(dataTable, element);\n",
              "          const docLink = document.createElement('div');\n",
              "          docLink.innerHTML = docLinkHtml;\n",
              "          element.appendChild(docLink);\n",
              "        }\n",
              "      </script>\n",
              "    </div>\n",
              "  </div>\n",
              "  "
            ]
          },
          "metadata": {},
          "execution_count": 691
        }
      ]
    },
    {
      "cell_type": "code",
      "source": [
        "#@title Calculate word frequency\n",
        "docs = nlp.pipe(df['text_cleaned'].values, batch_size=5000, n_process=-1)  # returns a generator of spacy Docs\n",
        "lem_without_stops = pd.Series([lemmatize_without_stops(doc) for doc in docs], dtype='string').dropna().drop_duplicates()\n",
        "\n",
        "words_freq = defaultdict(int)\n",
        "for tweet in lem_without_stops:\n",
        "  for word in tweet.split():\n",
        "    words_freq[word] += 1\n",
        "\n",
        "word_freq_df = pd.DataFrame.from_dict(words_freq, orient='index', columns=['word_count']).reset_index().rename(columns = {'index': 'word'})\n",
        "word_freq_df.sort_values('word_count', ascending=False).head(10)"
      ],
      "metadata": {
        "colab": {
          "base_uri": "https://localhost:8080/",
          "height": 363
        },
        "id": "RUpAm-0JbSj6",
        "outputId": "71ad05db-607d-4f5f-aac9-e81eb30a0193",
        "cellView": "form"
      },
      "execution_count": 692,
      "outputs": [
        {
          "output_type": "execute_result",
          "data": {
            "text/plain": [
              "        word  word_count\n",
              "12   twitter         314\n",
              "56       amp         194\n",
              "312    tweet         105\n",
              "283   people          97\n",
              "100     like          94\n",
              "61         \"          93\n",
              "17     tesla          77\n",
              "369  account          76\n",
              "8          🤣          74\n",
              "46      work          66"
            ],
            "text/html": [
              "\n",
              "  <div id=\"df-cb8b9458-69f0-4fc1-aa52-c95a2d6b10b1\">\n",
              "    <div class=\"colab-df-container\">\n",
              "      <div>\n",
              "<style scoped>\n",
              "    .dataframe tbody tr th:only-of-type {\n",
              "        vertical-align: middle;\n",
              "    }\n",
              "\n",
              "    .dataframe tbody tr th {\n",
              "        vertical-align: top;\n",
              "    }\n",
              "\n",
              "    .dataframe thead th {\n",
              "        text-align: right;\n",
              "    }\n",
              "</style>\n",
              "<table border=\"1\" class=\"dataframe\">\n",
              "  <thead>\n",
              "    <tr style=\"text-align: right;\">\n",
              "      <th></th>\n",
              "      <th>word</th>\n",
              "      <th>word_count</th>\n",
              "    </tr>\n",
              "  </thead>\n",
              "  <tbody>\n",
              "    <tr>\n",
              "      <th>12</th>\n",
              "      <td>twitter</td>\n",
              "      <td>314</td>\n",
              "    </tr>\n",
              "    <tr>\n",
              "      <th>56</th>\n",
              "      <td>amp</td>\n",
              "      <td>194</td>\n",
              "    </tr>\n",
              "    <tr>\n",
              "      <th>312</th>\n",
              "      <td>tweet</td>\n",
              "      <td>105</td>\n",
              "    </tr>\n",
              "    <tr>\n",
              "      <th>283</th>\n",
              "      <td>people</td>\n",
              "      <td>97</td>\n",
              "    </tr>\n",
              "    <tr>\n",
              "      <th>100</th>\n",
              "      <td>like</td>\n",
              "      <td>94</td>\n",
              "    </tr>\n",
              "    <tr>\n",
              "      <th>61</th>\n",
              "      <td>\"</td>\n",
              "      <td>93</td>\n",
              "    </tr>\n",
              "    <tr>\n",
              "      <th>17</th>\n",
              "      <td>tesla</td>\n",
              "      <td>77</td>\n",
              "    </tr>\n",
              "    <tr>\n",
              "      <th>369</th>\n",
              "      <td>account</td>\n",
              "      <td>76</td>\n",
              "    </tr>\n",
              "    <tr>\n",
              "      <th>8</th>\n",
              "      <td>🤣</td>\n",
              "      <td>74</td>\n",
              "    </tr>\n",
              "    <tr>\n",
              "      <th>46</th>\n",
              "      <td>work</td>\n",
              "      <td>66</td>\n",
              "    </tr>\n",
              "  </tbody>\n",
              "</table>\n",
              "</div>\n",
              "      <button class=\"colab-df-convert\" onclick=\"convertToInteractive('df-cb8b9458-69f0-4fc1-aa52-c95a2d6b10b1')\"\n",
              "              title=\"Convert this dataframe to an interactive table.\"\n",
              "              style=\"display:none;\">\n",
              "        \n",
              "  <svg xmlns=\"http://www.w3.org/2000/svg\" height=\"24px\"viewBox=\"0 0 24 24\"\n",
              "       width=\"24px\">\n",
              "    <path d=\"M0 0h24v24H0V0z\" fill=\"none\"/>\n",
              "    <path d=\"M18.56 5.44l.94 2.06.94-2.06 2.06-.94-2.06-.94-.94-2.06-.94 2.06-2.06.94zm-11 1L8.5 8.5l.94-2.06 2.06-.94-2.06-.94L8.5 2.5l-.94 2.06-2.06.94zm10 10l.94 2.06.94-2.06 2.06-.94-2.06-.94-.94-2.06-.94 2.06-2.06.94z\"/><path d=\"M17.41 7.96l-1.37-1.37c-.4-.4-.92-.59-1.43-.59-.52 0-1.04.2-1.43.59L10.3 9.45l-7.72 7.72c-.78.78-.78 2.05 0 2.83L4 21.41c.39.39.9.59 1.41.59.51 0 1.02-.2 1.41-.59l7.78-7.78 2.81-2.81c.8-.78.8-2.07 0-2.86zM5.41 20L4 18.59l7.72-7.72 1.47 1.35L5.41 20z\"/>\n",
              "  </svg>\n",
              "      </button>\n",
              "      \n",
              "  <style>\n",
              "    .colab-df-container {\n",
              "      display:flex;\n",
              "      flex-wrap:wrap;\n",
              "      gap: 12px;\n",
              "    }\n",
              "\n",
              "    .colab-df-convert {\n",
              "      background-color: #E8F0FE;\n",
              "      border: none;\n",
              "      border-radius: 50%;\n",
              "      cursor: pointer;\n",
              "      display: none;\n",
              "      fill: #1967D2;\n",
              "      height: 32px;\n",
              "      padding: 0 0 0 0;\n",
              "      width: 32px;\n",
              "    }\n",
              "\n",
              "    .colab-df-convert:hover {\n",
              "      background-color: #E2EBFA;\n",
              "      box-shadow: 0px 1px 2px rgba(60, 64, 67, 0.3), 0px 1px 3px 1px rgba(60, 64, 67, 0.15);\n",
              "      fill: #174EA6;\n",
              "    }\n",
              "\n",
              "    [theme=dark] .colab-df-convert {\n",
              "      background-color: #3B4455;\n",
              "      fill: #D2E3FC;\n",
              "    }\n",
              "\n",
              "    [theme=dark] .colab-df-convert:hover {\n",
              "      background-color: #434B5C;\n",
              "      box-shadow: 0px 1px 3px 1px rgba(0, 0, 0, 0.15);\n",
              "      filter: drop-shadow(0px 1px 2px rgba(0, 0, 0, 0.3));\n",
              "      fill: #FFFFFF;\n",
              "    }\n",
              "  </style>\n",
              "\n",
              "      <script>\n",
              "        const buttonEl =\n",
              "          document.querySelector('#df-cb8b9458-69f0-4fc1-aa52-c95a2d6b10b1 button.colab-df-convert');\n",
              "        buttonEl.style.display =\n",
              "          google.colab.kernel.accessAllowed ? 'block' : 'none';\n",
              "\n",
              "        async function convertToInteractive(key) {\n",
              "          const element = document.querySelector('#df-cb8b9458-69f0-4fc1-aa52-c95a2d6b10b1');\n",
              "          const dataTable =\n",
              "            await google.colab.kernel.invokeFunction('convertToInteractive',\n",
              "                                                     [key], {});\n",
              "          if (!dataTable) return;\n",
              "\n",
              "          const docLinkHtml = 'Like what you see? Visit the ' +\n",
              "            '<a target=\"_blank\" href=https://colab.research.google.com/notebooks/data_table.ipynb>data table notebook</a>'\n",
              "            + ' to learn more about interactive tables.';\n",
              "          element.innerHTML = '';\n",
              "          dataTable['output_type'] = 'display_data';\n",
              "          await google.colab.output.renderOutput(dataTable, element);\n",
              "          const docLink = document.createElement('div');\n",
              "          docLink.innerHTML = docLinkHtml;\n",
              "          element.appendChild(docLink);\n",
              "        }\n",
              "      </script>\n",
              "    </div>\n",
              "  </div>\n",
              "  "
            ]
          },
          "metadata": {},
          "execution_count": 692
        }
      ]
    },
    {
      "cell_type": "markdown",
      "source": [
        "## Bigrams"
      ],
      "metadata": {
        "id": "z9CBLqwFj8xY"
      }
    },
    {
      "cell_type": "markdown",
      "source": [
        "We are using Gensim Phrases package to automatically detect common phrases (bigrams) from a list of sentences.\n",
        "\n",
        "https://radimrehurek.com/gensim/models/phrases.html"
      ],
      "metadata": {
        "id": "ac7K6XRIkBQX"
      }
    },
    {
      "cell_type": "code",
      "source": [
        "from gensim.models.phrases import Phrases, Phraser"
      ],
      "metadata": {
        "id": "-HmVrDyJkHpX"
      },
      "execution_count": 693,
      "outputs": []
    },
    {
      "cell_type": "markdown",
      "source": [
        "Phrases() takes a list of list of words as input:"
      ],
      "metadata": {
        "id": "jw35uH6akg6p"
      }
    },
    {
      "cell_type": "code",
      "source": [
        "sent = [row.split() for row in df_clean['text_lem']]"
      ],
      "metadata": {
        "id": "-GU4lAJqkOIi"
      },
      "execution_count": 694,
      "outputs": []
    },
    {
      "cell_type": "markdown",
      "source": [
        "Creates the relevant phrases from the list of sentences:"
      ],
      "metadata": {
        "id": "uXoIg0d4knU9"
      }
    },
    {
      "cell_type": "code",
      "source": [
        "phrase_model = Phrases(sent, min_count=15)"
      ],
      "metadata": {
        "id": "ct-nyMEOko4q"
      },
      "execution_count": 695,
      "outputs": []
    },
    {
      "cell_type": "code",
      "source": [
        "bigram = Phraser(phrase_model)"
      ],
      "metadata": {
        "id": "tPB76CTzqHP4"
      },
      "execution_count": 696,
      "outputs": []
    },
    {
      "cell_type": "code",
      "source": [
        "sentences = bigram[sent]"
      ],
      "metadata": {
        "id": "Ev7ZA1R-lEgA"
      },
      "execution_count": 697,
      "outputs": []
    },
    {
      "cell_type": "code",
      "source": [
        "#@title Show bigrams\n",
        "bigram_freq = defaultdict(int)\n",
        "for sentence in sentences:\n",
        "  for word in sentence:\n",
        "     if '_' in word:\n",
        "      bigram_freq[word] += 1\n",
        "\n",
        "bigram_freq_df = pd.DataFrame.from_dict(bigram_freq, orient='index', columns=['bigram_count'])\n",
        "bigram_freq_df.sort_values('bigram_count', ascending=False).head(20)"
      ],
      "metadata": {
        "colab": {
          "base_uri": "https://localhost:8080/",
          "height": 175
        },
        "id": "LyBRxTROxQdk",
        "outputId": "c97403be-5549-4b92-ae4c-82d55b344f88"
      },
      "execution_count": 698,
      "outputs": [
        {
          "output_type": "execute_result",
          "data": {
            "text/plain": [
              "             bigram_count\n",
              "🤣_🤣                    28\n",
              "falcon_9               19\n",
              "free_speech            18\n",
              "🔥_🔥                    16"
            ],
            "text/html": [
              "\n",
              "  <div id=\"df-1b75cbfe-2f36-4f3d-9858-37ee5959dd9a\">\n",
              "    <div class=\"colab-df-container\">\n",
              "      <div>\n",
              "<style scoped>\n",
              "    .dataframe tbody tr th:only-of-type {\n",
              "        vertical-align: middle;\n",
              "    }\n",
              "\n",
              "    .dataframe tbody tr th {\n",
              "        vertical-align: top;\n",
              "    }\n",
              "\n",
              "    .dataframe thead th {\n",
              "        text-align: right;\n",
              "    }\n",
              "</style>\n",
              "<table border=\"1\" class=\"dataframe\">\n",
              "  <thead>\n",
              "    <tr style=\"text-align: right;\">\n",
              "      <th></th>\n",
              "      <th>bigram_count</th>\n",
              "    </tr>\n",
              "  </thead>\n",
              "  <tbody>\n",
              "    <tr>\n",
              "      <th>🤣_🤣</th>\n",
              "      <td>28</td>\n",
              "    </tr>\n",
              "    <tr>\n",
              "      <th>falcon_9</th>\n",
              "      <td>19</td>\n",
              "    </tr>\n",
              "    <tr>\n",
              "      <th>free_speech</th>\n",
              "      <td>18</td>\n",
              "    </tr>\n",
              "    <tr>\n",
              "      <th>🔥_🔥</th>\n",
              "      <td>16</td>\n",
              "    </tr>\n",
              "  </tbody>\n",
              "</table>\n",
              "</div>\n",
              "      <button class=\"colab-df-convert\" onclick=\"convertToInteractive('df-1b75cbfe-2f36-4f3d-9858-37ee5959dd9a')\"\n",
              "              title=\"Convert this dataframe to an interactive table.\"\n",
              "              style=\"display:none;\">\n",
              "        \n",
              "  <svg xmlns=\"http://www.w3.org/2000/svg\" height=\"24px\"viewBox=\"0 0 24 24\"\n",
              "       width=\"24px\">\n",
              "    <path d=\"M0 0h24v24H0V0z\" fill=\"none\"/>\n",
              "    <path d=\"M18.56 5.44l.94 2.06.94-2.06 2.06-.94-2.06-.94-.94-2.06-.94 2.06-2.06.94zm-11 1L8.5 8.5l.94-2.06 2.06-.94-2.06-.94L8.5 2.5l-.94 2.06-2.06.94zm10 10l.94 2.06.94-2.06 2.06-.94-2.06-.94-.94-2.06-.94 2.06-2.06.94z\"/><path d=\"M17.41 7.96l-1.37-1.37c-.4-.4-.92-.59-1.43-.59-.52 0-1.04.2-1.43.59L10.3 9.45l-7.72 7.72c-.78.78-.78 2.05 0 2.83L4 21.41c.39.39.9.59 1.41.59.51 0 1.02-.2 1.41-.59l7.78-7.78 2.81-2.81c.8-.78.8-2.07 0-2.86zM5.41 20L4 18.59l7.72-7.72 1.47 1.35L5.41 20z\"/>\n",
              "  </svg>\n",
              "      </button>\n",
              "      \n",
              "  <style>\n",
              "    .colab-df-container {\n",
              "      display:flex;\n",
              "      flex-wrap:wrap;\n",
              "      gap: 12px;\n",
              "    }\n",
              "\n",
              "    .colab-df-convert {\n",
              "      background-color: #E8F0FE;\n",
              "      border: none;\n",
              "      border-radius: 50%;\n",
              "      cursor: pointer;\n",
              "      display: none;\n",
              "      fill: #1967D2;\n",
              "      height: 32px;\n",
              "      padding: 0 0 0 0;\n",
              "      width: 32px;\n",
              "    }\n",
              "\n",
              "    .colab-df-convert:hover {\n",
              "      background-color: #E2EBFA;\n",
              "      box-shadow: 0px 1px 2px rgba(60, 64, 67, 0.3), 0px 1px 3px 1px rgba(60, 64, 67, 0.15);\n",
              "      fill: #174EA6;\n",
              "    }\n",
              "\n",
              "    [theme=dark] .colab-df-convert {\n",
              "      background-color: #3B4455;\n",
              "      fill: #D2E3FC;\n",
              "    }\n",
              "\n",
              "    [theme=dark] .colab-df-convert:hover {\n",
              "      background-color: #434B5C;\n",
              "      box-shadow: 0px 1px 3px 1px rgba(0, 0, 0, 0.15);\n",
              "      filter: drop-shadow(0px 1px 2px rgba(0, 0, 0, 0.3));\n",
              "      fill: #FFFFFF;\n",
              "    }\n",
              "  </style>\n",
              "\n",
              "      <script>\n",
              "        const buttonEl =\n",
              "          document.querySelector('#df-1b75cbfe-2f36-4f3d-9858-37ee5959dd9a button.colab-df-convert');\n",
              "        buttonEl.style.display =\n",
              "          google.colab.kernel.accessAllowed ? 'block' : 'none';\n",
              "\n",
              "        async function convertToInteractive(key) {\n",
              "          const element = document.querySelector('#df-1b75cbfe-2f36-4f3d-9858-37ee5959dd9a');\n",
              "          const dataTable =\n",
              "            await google.colab.kernel.invokeFunction('convertToInteractive',\n",
              "                                                     [key], {});\n",
              "          if (!dataTable) return;\n",
              "\n",
              "          const docLinkHtml = 'Like what you see? Visit the ' +\n",
              "            '<a target=\"_blank\" href=https://colab.research.google.com/notebooks/data_table.ipynb>data table notebook</a>'\n",
              "            + ' to learn more about interactive tables.';\n",
              "          element.innerHTML = '';\n",
              "          dataTable['output_type'] = 'display_data';\n",
              "          await google.colab.output.renderOutput(dataTable, element);\n",
              "          const docLink = document.createElement('div');\n",
              "          docLink.innerHTML = docLinkHtml;\n",
              "          element.appendChild(docLink);\n",
              "        }\n",
              "      </script>\n",
              "    </div>\n",
              "  </div>\n",
              "  "
            ]
          },
          "metadata": {},
          "execution_count": 698
        }
      ]
    },
    {
      "cell_type": "markdown",
      "source": [
        "# Model training"
      ],
      "metadata": {
        "id": "LEkmVzEXzS0n"
      }
    },
    {
      "cell_type": "code",
      "source": [
        "cores = multiprocessing.cpu_count()"
      ],
      "metadata": {
        "id": "RelbnnIIzOz8"
      },
      "execution_count": 699,
      "outputs": []
    },
    {
      "cell_type": "markdown",
      "source": [
        "The parameters:\n",
        "* min_count = int - Ignores all words with total absolute frequency lower than this - (2, 100)\n",
        "* window = int - The maximum distance between the current and predicted word within a sentence. E.g. window words on the left and window words on the left of our target - (2, 10)\n",
        "* size = int - Dimensionality of the feature vectors. - (50, 300)\n",
        "* sample = float - The threshold for configuring which higher-frequency words are randomly downsampled. Highly influencial. - (0, 1e-5)\n",
        "* alpha = float - The initial learning rate - (0.01, 0.05)\n",
        "* min_alpha = float - Learning rate will linearly drop to min_alpha as training progresses. To set it: alpha - (min_alpha * epochs) ~ 0.00\n",
        "* negative = int - If > 0, negative sampling will be used, the int for negative specifies how many \"noise words\" should be drown. If set to 0, no negative sampling is used. - (5, 20)\n",
        "* workers = int - Use these many worker threads to train the model (=faster training with multicore machines)"
      ],
      "metadata": {
        "id": "oaJWJPHa4dsA"
      }
    },
    {
      "cell_type": "code",
      "source": [
        "w2v_model = Word2Vec(min_count=2,\n",
        "                     window=5,\n",
        "                     size=300,\n",
        "                     sample=5e-3, \n",
        "                     alpha=0.03, \n",
        "                     min_alpha=0.0001, \n",
        "                     negative=20,\n",
        "                     workers=cores-1)"
      ],
      "metadata": {
        "id": "6nYrTRqzzpX7"
      },
      "execution_count": 700,
      "outputs": []
    },
    {
      "cell_type": "code",
      "source": [
        "t = time.time()\n",
        "\n",
        "w2v_model.build_vocab(sentences)\n",
        "\n",
        "print(f'Time to build vocab: {round((time.time() - t), 2)} secs')\n",
        "print(f'Vocabulary size: {len(w2v_model.wv.vocab)}')"
      ],
      "metadata": {
        "colab": {
          "base_uri": "https://localhost:8080/"
        },
        "id": "5lmifSCxzvnj",
        "outputId": "1f013aa7-64c7-45a2-bf8b-e0cc9804d7b3"
      },
      "execution_count": 701,
      "outputs": [
        {
          "output_type": "stream",
          "name": "stdout",
          "text": [
            "Time to build vocab: 0.49 secs\n",
            "Vocabulary size: 1816\n"
          ]
        }
      ]
    },
    {
      "cell_type": "code",
      "source": [
        "t = time.time()\n",
        "\n",
        "w2v_model.train(sentences, total_examples=w2v_model.corpus_count, epochs=30)\n",
        "\n",
        "print(f'Time to train the model: {round((time.time() - t), 2)} secs')"
      ],
      "metadata": {
        "colab": {
          "base_uri": "https://localhost:8080/"
        },
        "id": "LJ9xyFcP0hs6",
        "outputId": "6a792b48-edd2-4f90-e458-e405bfcc97e5"
      },
      "execution_count": 702,
      "outputs": [
        {
          "output_type": "stream",
          "name": "stdout",
          "text": [
            "Time to train the model: 4.8 secs\n"
          ]
        }
      ]
    },
    {
      "cell_type": "code",
      "source": [
        "w2v_model.init_sims(replace=True)"
      ],
      "metadata": {
        "id": "GoG9TIzg0w37"
      },
      "execution_count": 703,
      "outputs": []
    },
    {
      "cell_type": "markdown",
      "source": [
        "# Test"
      ],
      "metadata": {
        "id": "J5c1p8ityeeK"
      }
    },
    {
      "cell_type": "code",
      "source": [
        "#@title Select the word for showing the similarities\n",
        "word = \"tes\" #@param {type:\"string\"}\n",
        "w2v_model.wv.most_similar(positive=[word])"
      ],
      "metadata": {
        "colab": {
          "base_uri": "https://localhost:8080/"
        },
        "id": "V_CDr1hV08jK",
        "outputId": "096eece0-291f-43ae-fdc3-a28cad11c1a1",
        "cellView": "form"
      },
      "execution_count": 704,
      "outputs": [
        {
          "output_type": "execute_result",
          "data": {
            "text/plain": [
              "[('team', 0.9477834701538086),\n",
              " ('solar', 0.8855279684066772),\n",
              " ('congrat', 0.8785513639450073),\n",
              " ('vehicle', 0.8780403137207031),\n",
              " ('energy', 0.8693171143531799),\n",
              " ('spacex', 0.8604254126548767),\n",
              " ('thank', 0.849407434463501),\n",
              " ('model', 0.8486740589141846),\n",
              " ('sustainable', 0.8476470708847046),\n",
              " ('complete', 0.8327702283859253)]"
            ]
          },
          "metadata": {},
          "execution_count": 704
        }
      ]
    },
    {
      "cell_type": "markdown",
      "source": [
        "# Visualize"
      ],
      "metadata": {
        "id": "CSAkD7X-vJKX"
      }
    },
    {
      "cell_type": "code",
      "source": [
        "import numpy as np\n",
        "import matplotlib.pyplot as plt\n",
        "%matplotlib inline\n",
        " \n",
        "import seaborn as sns\n",
        "\n",
        "from sklearn.decomposition import PCA\n",
        "from sklearn.manifold import TSNE"
      ],
      "metadata": {
        "id": "mIl-VCw2vIGH"
      },
      "execution_count": 706,
      "outputs": []
    },
    {
      "cell_type": "code",
      "source": [
        "#@title Plotting function\n",
        "\n",
        "def tsnescatterplot(model, word, list_names):\n",
        "    \"\"\" Plot in seaborn the results from the t-SNE dimensionality reduction algorithm of the vectors of a query word,\n",
        "    its list of most similar words, and a list of words.\n",
        "    \"\"\"\n",
        "    arrays = np.empty((0, 300), dtype='f')\n",
        "    word_labels = [word]\n",
        "    color_list  = ['red']\n",
        "\n",
        "    # adds the vector of the query word\n",
        "    arrays = np.append(arrays, model.wv.__getitem__([word]), axis=0)\n",
        "    \n",
        "    # gets list of most similar words\n",
        "    close_words = model.wv.most_similar([word])\n",
        "    \n",
        "    # adds the vector for each of the closest words to the array\n",
        "    for wrd_score in close_words:\n",
        "        wrd_vector = model.wv.__getitem__([wrd_score[0]])\n",
        "        word_labels.append(wrd_score[0])\n",
        "        color_list.append('blue')\n",
        "        arrays = np.append(arrays, wrd_vector, axis=0)\n",
        "    \n",
        "    # adds the vector for each of the words from list_names to the array\n",
        "    for wrd in list_names:\n",
        "        wrd_vector = model.wv.__getitem__([wrd])\n",
        "        word_labels.append(wrd)\n",
        "        color_list.append('green')\n",
        "        arrays = np.append(arrays, wrd_vector, axis=0)\n",
        "        \n",
        "    # Reduces the dimensionality from 300 to 20 dimensions with PCA\n",
        "    reduc = PCA(n_components=20).fit_transform(arrays)\n",
        "    \n",
        "    # Finds t-SNE coordinates for 2 dimensions\n",
        "    np.set_printoptions(suppress=True)\n",
        "    \n",
        "    Y = TSNE(n_components=2, random_state=0, perplexity=15).fit_transform(reduc)\n",
        "    \n",
        "    # Sets everything up to plot\n",
        "    df = pd.DataFrame({'x': [x for x in Y[:, 0]],\n",
        "                       'y': [y for y in Y[:, 1]],\n",
        "                       'words': word_labels,\n",
        "                       'color': color_list})\n",
        "    \n",
        "    fig, _ = plt.subplots()\n",
        "    fig.set_size_inches(9, 9)\n",
        "    \n",
        "    # Basic plot\n",
        "    p1 = sns.regplot(data=df,\n",
        "                     x=\"x\",\n",
        "                     y=\"y\",\n",
        "                     fit_reg=False,\n",
        "                     marker=\"o\",\n",
        "                     scatter_kws={'s': 40,\n",
        "                                  'facecolors': df['color']\n",
        "                                 }\n",
        "                    )\n",
        "    \n",
        "    # Adds annotations one by one with a loop\n",
        "    for line in range(0, df.shape[0]):\n",
        "         p1.text(df[\"x\"][line],\n",
        "                 df['y'][line],\n",
        "                 '  ' + df[\"words\"][line].title(),\n",
        "                 horizontalalignment='left',\n",
        "                 verticalalignment='bottom', size='medium',\n",
        "                 color=df['color'][line],\n",
        "                 weight='normal'\n",
        "                ).set_size(15)\n",
        "\n",
        "    \n",
        "    plt.xlim(Y[:, 0].min()-50, Y[:, 0].max()+50)\n",
        "    plt.ylim(Y[:, 1].min()-50, Y[:, 1].max()+50)\n",
        "            \n",
        "    plt.title('t-SNE visualization for {}'.format(word.title()))"
      ],
      "metadata": {
        "cellView": "form",
        "id": "Bvbe7QbuvNua"
      },
      "execution_count": 707,
      "outputs": []
    },
    {
      "cell_type": "code",
      "source": [
        "tsnescatterplot(w2v_model, word, [i[0] for i in w2v_model.wv.most_similar(negative=[word])])"
      ],
      "metadata": {
        "colab": {
          "base_uri": "https://localhost:8080/",
          "height": 660
        },
        "id": "eJ9mNl7MvbGs",
        "outputId": "1a25b23f-8287-466e-cfdd-0e45424c9243"
      },
      "execution_count": 708,
      "outputs": [
        {
          "output_type": "stream",
          "name": "stderr",
          "text": [
            "/usr/local/lib/python3.8/dist-packages/sklearn/manifold/_t_sne.py:780: FutureWarning: The default initialization in TSNE will change from 'random' to 'pca' in 1.2.\n",
            "  warnings.warn(\n",
            "/usr/local/lib/python3.8/dist-packages/sklearn/manifold/_t_sne.py:790: FutureWarning: The default learning rate in TSNE will change from 200.0 to 'auto' in 1.2.\n",
            "  warnings.warn(\n"
          ]
        },
        {
          "output_type": "display_data",
          "data": {
            "text/plain": [
              "<Figure size 648x648 with 1 Axes>"
            ],
            "image/png": "[encoded data removed]"
          },
          "metadata": {
            "needs_background": "light"
          }
        }
      ]
    },
    {
      "cell_type": "markdown",
      "source": [
        "# Play"
      ],
      "metadata": {
        "id": "kqVh3dKH5hOk"
      }
    },
    {
      "cell_type": "code",
      "source": [
        "#@title Try to generate a sentence similar to a context\n",
        "\n",
        "if language == 'ru':\n",
        "  from spacy.lang.ru import Russian\n",
        "else:\n",
        "  from spacy.lang.en import English\n",
        "\n",
        "def generate_sentence(context):\n",
        "    # Tokenize the context\n",
        "    doc = nlp(context)\n",
        "    # Generate the sentence\n",
        "    sentence = []\n",
        "    for token in doc:\n",
        "        if token.is_punct or token.is_stop:\n",
        "            continue\n",
        "        # Use Word2Vec to select a similar word\n",
        "        similar_word = w2v_model.wv.most_similar(positive=[token.lemma_])[0][0]\n",
        "        # Use the original token's part of speech\n",
        "        pos = token.pos_\n",
        "        # Add the similar word to the sentence\n",
        "        sentence.append(f'{similar_word}/{pos}')\n",
        "    # Join the tokens to form a sentence\n",
        "    sentence = ' '.join(sentence)\n",
        "    # Capitalize the first letter of the sentence\n",
        "    sentence = sentence.capitalize()\n",
        "    # Add a period to the end of the sentence\n",
        "    sentence += '.'\n",
        "    return sentence\n",
        "\n",
        "# Example usage\n",
        "context = 'We definitely need to make people to do a lot more interactions on twitter!'\n",
        "generated_sentence = generate_sentence(context)\n",
        "print(generated_sentence)"
      ],
      "metadata": {
        "colab": {
          "base_uri": "https://localhost:8080/"
        },
        "id": "TXtTMuKIknoH",
        "outputId": "ef07624a-e741-4b1c-ed01-6a04b760e14f"
      },
      "execution_count": 713,
      "outputs": [
        {
          "output_type": "stream",
          "name": "stdout",
          "text": [
            "General/adv lot/verb write/noun publish/noun simply/noun follow/noun.\n"
          ]
        }
      ]
    }
  ]
}