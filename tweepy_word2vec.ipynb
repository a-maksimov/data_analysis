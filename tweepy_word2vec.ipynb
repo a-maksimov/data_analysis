{
  "nbformat": 4,
  "nbformat_minor": 0,
  "metadata": {
    "colab": {
      "provenance": [],
      "mount_file_id": "1uXsRUQHxXmmuIGF_jT96mPdNKRpK1IMo",
      "authorship_tag": "ABX9TyOhfz56Ray0WgF1zJonljPF",
      "include_colab_link": true
    },
    "kernelspec": {
      "name": "python3",
      "display_name": "Python 3"
    },
    "language_info": {
      "name": "python"
    },
    "gpuClass": "standard"
  },
  "cells": [
    {
      "cell_type": "markdown",
      "metadata": {
        "id": "view-in-github",
        "colab_type": "text"
      },
      "source": [
        "<a href=\"https://colab.research.google.com/github/a-maksimov/data_analysis/blob/main/tweepy_word2vec.ipynb\" target=\"_parent\"><img src=\"https://colab.research.google.com/assets/colab-badge.svg\" alt=\"Open In Colab\"/></a>"
      ]
    },
    {
      "cell_type": "markdown",
      "source": [
        "This notebook downloads twitter timeline of a user (3200 tweets max), preprocess the tweets and trains a word2vec model and tries to generate a sensible sentence."
      ],
      "metadata": {
        "id": "V6pIi3zC2WfZ"
      }
    },
    {
      "cell_type": "markdown",
      "source": [
        "# Set up the environment"
      ],
      "metadata": {
        "id": "nJGhM7WF2Rvm"
      }
    },
    {
      "cell_type": "code",
      "execution_count": 1,
      "metadata": {
        "id": "LAQPFDTn_nXG"
      },
      "outputs": [],
      "source": [
        "!pip --quiet install tweepy"
      ]
    },
    {
      "cell_type": "code",
      "source": [
        "!pip --quiet install python-dotenv"
      ],
      "metadata": {
        "id": "rD7l3Ti3Wtiy"
      },
      "execution_count": 2,
      "outputs": []
    },
    {
      "cell_type": "code",
      "source": [
        "!pip --quiet install langdetect"
      ],
      "metadata": {
        "id": "iqTX6XaK2aYm"
      },
      "execution_count": 3,
      "outputs": []
    },
    {
      "cell_type": "code",
      "source": [
        "!pip --quiet install spacy"
      ],
      "metadata": {
        "id": "yKf2ISsJtPhO"
      },
      "execution_count": 4,
      "outputs": []
    },
    {
      "cell_type": "code",
      "source": [
        "!pip --quiet install spacy-langdetect"
      ],
      "metadata": {
        "id": "R3XEWl_ANWN6"
      },
      "execution_count": 5,
      "outputs": []
    },
    {
      "cell_type": "code",
      "source": [
        "#@title Download spaCy language packs\n",
        "\n",
        "!python -m spacy download ru_core_news_sm --quiet\n",
        "!python -m spacy download en_core_web_sm --quiet"
      ],
      "metadata": {
        "colab": {
          "base_uri": "https://localhost:8080/"
        },
        "id": "lPYQALckv1e-",
        "outputId": "6674455b-3617-4904-fce5-bbef0efde3b6"
      },
      "execution_count": 6,
      "outputs": [
        {
          "output_type": "stream",
          "name": "stdout",
          "text": [
            "/usr/local/lib/python3.8/dist-packages/torch/cuda/__init__.py:497: UserWarning: Can't initialize NVML\n",
            "  warnings.warn(\"Can't initialize NVML\")\n",
            "2023-03-03 14:04:08.731690: I tensorflow/core/platform/cpu_feature_guard.cc:193] This TensorFlow binary is optimized with oneAPI Deep Neural Network Library (oneDNN) to use the following CPU instructions in performance-critical operations:  AVX2 FMA\n",
            "To enable them in other operations, rebuild TensorFlow with the appropriate compiler flags.\n",
            "2023-03-03 14:04:09.869388: W tensorflow/compiler/xla/stream_executor/platform/default/dso_loader.cc:64] Could not load dynamic library 'libnvinfer.so.7'; dlerror: libnvinfer.so.7: cannot open shared object file: No such file or directory; LD_LIBRARY_PATH: /usr/local/nvidia/lib:/usr/local/nvidia/lib64\n",
            "2023-03-03 14:04:09.869517: W tensorflow/compiler/xla/stream_executor/platform/default/dso_loader.cc:64] Could not load dynamic library 'libnvinfer_plugin.so.7'; dlerror: libnvinfer_plugin.so.7: cannot open shared object file: No such file or directory; LD_LIBRARY_PATH: /usr/local/nvidia/lib:/usr/local/nvidia/lib64\n",
            "2023-03-03 14:04:09.869537: W tensorflow/compiler/tf2tensorrt/utils/py_utils.cc:38] TF-TRT Warning: Cannot dlopen some TensorRT libraries. If you would like to use Nvidia GPU with TensorRT, please make sure the missing libraries mentioned above are installed properly.\n",
            "2023-03-03 14:04:11.690107: E tensorflow/compiler/xla/stream_executor/cuda/cuda_driver.cc:267] failed call to cuInit: CUDA_ERROR_NO_DEVICE: no CUDA-capable device is detected\n",
            "\u001b[2K     \u001b[90m━━━━━━━━━━━━━━━━━━━━━━━━━━━━━━━━━━━━━━━━\u001b[0m \u001b[32m15.3/15.3 MB\u001b[0m \u001b[31m57.2 MB/s\u001b[0m eta \u001b[36m0:00:00\u001b[0m\n",
            "\u001b[?25h\u001b[38;5;2m✔ Download and installation successful\u001b[0m\n",
            "You can now load the package via spacy.load('ru_core_news_sm')\n",
            "/usr/local/lib/python3.8/dist-packages/torch/cuda/__init__.py:497: UserWarning: Can't initialize NVML\n",
            "  warnings.warn(\"Can't initialize NVML\")\n",
            "2023-03-03 14:04:24.297952: I tensorflow/core/platform/cpu_feature_guard.cc:193] This TensorFlow binary is optimized with oneAPI Deep Neural Network Library (oneDNN) to use the following CPU instructions in performance-critical operations:  AVX2 FMA\n",
            "To enable them in other operations, rebuild TensorFlow with the appropriate compiler flags.\n",
            "2023-03-03 14:04:26.604437: W tensorflow/compiler/xla/stream_executor/platform/default/dso_loader.cc:64] Could not load dynamic library 'libnvinfer.so.7'; dlerror: libnvinfer.so.7: cannot open shared object file: No such file or directory; LD_LIBRARY_PATH: /usr/local/nvidia/lib:/usr/local/nvidia/lib64\n",
            "2023-03-03 14:04:26.604596: W tensorflow/compiler/xla/stream_executor/platform/default/dso_loader.cc:64] Could not load dynamic library 'libnvinfer_plugin.so.7'; dlerror: libnvinfer_plugin.so.7: cannot open shared object file: No such file or directory; LD_LIBRARY_PATH: /usr/local/nvidia/lib:/usr/local/nvidia/lib64\n",
            "2023-03-03 14:04:26.604626: W tensorflow/compiler/tf2tensorrt/utils/py_utils.cc:38] TF-TRT Warning: Cannot dlopen some TensorRT libraries. If you would like to use Nvidia GPU with TensorRT, please make sure the missing libraries mentioned above are installed properly.\n",
            "2023-03-03 14:04:29.550779: E tensorflow/compiler/xla/stream_executor/cuda/cuda_driver.cc:267] failed call to cuInit: CUDA_ERROR_NO_DEVICE: no CUDA-capable device is detected\n",
            "\u001b[2K     \u001b[90m━━━━━━━━━━━━━━━━━━━━━━━━━━━━━━━━━━━━━━━━\u001b[0m \u001b[32m12.8/12.8 MB\u001b[0m \u001b[31m24.0 MB/s\u001b[0m eta \u001b[36m0:00:00\u001b[0m\n",
            "\u001b[?25h\u001b[38;5;2m✔ Download and installation successful\u001b[0m\n",
            "You can now load the package via spacy.load('en_core_web_sm')\n"
          ]
        }
      ]
    },
    {
      "cell_type": "code",
      "source": [
        "#@title Imports\n",
        "import tweepy\n",
        "from dotenv import load_dotenv\n",
        "import time\n",
        "from datetime import datetime\n",
        "import os\n",
        "import json\n",
        "import csv\n",
        "import pandas as pd\n",
        "import re\n",
        "import string\n",
        "import spacy\n",
        "from spacy_langdetect import LanguageDetector\n",
        "from collections import defaultdict\n",
        "import multiprocessing\n",
        "from gensim.models import Word2Vec\n",
        "from random import randint"
      ],
      "metadata": {
        "id": "BuUsN_rs_2tk",
        "colab": {
          "base_uri": "https://localhost:8080/"
        },
        "cellView": "form",
        "outputId": "ed5cc8cd-69b5-44a9-b419-2ef4f2945dc3"
      },
      "execution_count": 7,
      "outputs": [
        {
          "output_type": "stream",
          "name": "stderr",
          "text": [
            "/usr/local/lib/python3.8/dist-packages/torch/cuda/__init__.py:497: UserWarning: Can't initialize NVML\n",
            "  warnings.warn(\"Can't initialize NVML\")\n"
          ]
        }
      ]
    },
    {
      "cell_type": "code",
      "source": [
        "load_dotenv('/content/drive/MyDrive/Secrets/.env')"
      ],
      "metadata": {
        "colab": {
          "base_uri": "https://localhost:8080/"
        },
        "id": "Tvplhr1gW-Kj",
        "outputId": "89eecd26-058f-4d23-f094-32e99b62b9d9"
      },
      "execution_count": 8,
      "outputs": [
        {
          "output_type": "execute_result",
          "data": {
            "text/plain": [
              "True"
            ]
          },
          "metadata": {},
          "execution_count": 8
        }
      ]
    },
    {
      "cell_type": "markdown",
      "source": [
        "# Download tweets"
      ],
      "metadata": {
        "id": "rz2Ka1iUeouT"
      }
    },
    {
      "cell_type": "code",
      "source": [
        "consumer_key=os.getenv('consumer_key')\n",
        "consumer_secret=os.getenv('consumer_secret')\n",
        "access_token_key=os.getenv('access_token_key')\n",
        "access_token_secret=os.getenv('access_token_secret')\n",
        "\n",
        "auth = tweepy.OAuthHandler(consumer_key, consumer_secret)\n",
        "auth.set_access_token(access_token_key, access_token_secret)\n",
        "\n",
        "api = tweepy.API(auth)"
      ],
      "metadata": {
        "id": "y56sM-MuAd-u"
      },
      "execution_count": 9,
      "outputs": []
    },
    {
      "cell_type": "code",
      "source": [
        "#@title Twitter username and number of their tweets to download\n",
        "twitter_username = 'msvetov' #@param {type:\"string\"}\n",
        "tweets_count = 3200 #@param {type:\"integer\"}\n",
        "language = \"ru\" #@param [\"ru\", \"en\"]\n",
        "user = api.get_user(twitter_username)"
      ],
      "metadata": {
        "id": "zapLB9HOcJIO",
        "cellView": "form"
      },
      "execution_count": 10,
      "outputs": []
    },
    {
      "cell_type": "code",
      "source": [
        "#@title Fetch the tweets from Twitter\n",
        "data = []\n",
        "step = 200\n",
        "data.extend(tweepy.Cursor(api.user_timeline, tweet_mode='extended', screen_name=twitter_username).items(step))\n",
        "print(f'..{len(data)} tweets downloaded')\n",
        "oldest = data[-1].id - 1\n",
        "time.sleep(1)\n",
        "for i in range(0, tweets_count - step, step):  \n",
        "  print(f'getting tweets before id: {oldest}')\n",
        "  # all subsequent requests use the max_id param to prevent duplicates\n",
        "  data.extend(tweepy.Cursor(api.user_timeline, tweet_mode='extended', screen_name=twitter_username, max_id=oldest).items(step))\n",
        "  # update the id of the oldest like minus one\n",
        "  oldest = data[-1].id - 1\n",
        "  print(f'..{len(data)} tweets downloaded')\n",
        "  time.sleep(1)"
      ],
      "metadata": {
        "colab": {
          "base_uri": "https://localhost:8080/"
        },
        "id": "fhS9FI5VeTOz",
        "outputId": "8ad9d6c3-650a-4623-acbb-4eb64304906a",
        "cellView": "form"
      },
      "execution_count": 11,
      "outputs": [
        {
          "output_type": "stream",
          "name": "stdout",
          "text": [
            "..200 tweets downloaded\n",
            "getting tweets before id: 1627713956788699174\n",
            "..400 tweets downloaded\n",
            "getting tweets before id: 1623023044900843519\n",
            "..600 tweets downloaded\n",
            "getting tweets before id: 1617526682763821061\n",
            "..800 tweets downloaded\n",
            "getting tweets before id: 1610817145390366720\n",
            "..1000 tweets downloaded\n",
            "getting tweets before id: 1603742229578883072\n",
            "..1200 tweets downloaded\n",
            "getting tweets before id: 1595892821248167935\n",
            "..1400 tweets downloaded\n",
            "getting tweets before id: 1584953613796851711\n",
            "..1600 tweets downloaded\n",
            "getting tweets before id: 1579022689926516735\n",
            "..1800 tweets downloaded\n",
            "getting tweets before id: 1575437094536839168\n",
            "..2000 tweets downloaded\n",
            "getting tweets before id: 1569433536645705728\n",
            "..2200 tweets downloaded\n",
            "getting tweets before id: 1561974494079639551\n",
            "..2400 tweets downloaded\n",
            "getting tweets before id: 1558032587301560321\n",
            "..2600 tweets downloaded\n",
            "getting tweets before id: 1554476962843971583\n",
            "..2800 tweets downloaded\n",
            "getting tweets before id: 1549535610922229760\n",
            "..3000 tweets downloaded\n",
            "getting tweets before id: 1545282203428552703\n",
            "..3200 tweets downloaded\n"
          ]
        }
      ]
    },
    {
      "cell_type": "code",
      "source": [
        "#@title Save tweets to a csv file\n",
        "dt_string = datetime.now().strftime('%d-%m-%Y_%H-%M-%S')\n",
        "fieldnames = ['id', 'text']\n",
        "filename = f'{twitter_username}_{tweets_count}_{dt_string}'\n",
        "filepath = os.path.join(os.getcwd(), '/content/drive/MyDrive/Datasets/tweets/')\n",
        "\n",
        "if not os.path.exists(filepath):\n",
        "  os.mkdir(filepath)\n",
        "with open(filepath + filename + '.csv', 'w', encoding='utf-8') as file:\n",
        "  writer = csv.DictWriter(file, fieldnames=fieldnames, extrasaction='ignore')\n",
        "  writer.writeheader()   \n",
        "  for tweet in data:\n",
        "    try: # get full text if tweet is a retweet\n",
        "      tweet_dict = dict(zip(fieldnames, [tweet.id, tweet.retweeted_status.full_text]))\n",
        "    except:\n",
        "      tweet_dict = dict(zip(fieldnames, [tweet.id, tweet.full_text]))\n",
        "    writer.writerow(tweet_dict)"
      ],
      "metadata": {
        "id": "DyUfnboPihAw"
      },
      "execution_count": 12,
      "outputs": []
    },
    {
      "cell_type": "markdown",
      "source": [
        "# Cleaning\n",
        "\n"
      ],
      "metadata": {
        "id": "3jgGkusIrDbA"
      }
    },
    {
      "cell_type": "code",
      "source": [
        "#@title Import to Pandas\n",
        "df = pd.read_csv(filepath + filename + '.csv')"
      ],
      "metadata": {
        "id": "GPKqsHXWIZNl"
      },
      "execution_count": 13,
      "outputs": []
    },
    {
      "cell_type": "code",
      "source": [
        "#@title Remove meantions, urls, RTs, emojis, symbols\n",
        "def remove_emoji(text):\n",
        "    emoji_pattern = re.compile(\"[\"\n",
        "                               u\"\\U0001F600-\\U0001F64F\"  # emoticons\n",
        "                               u\"\\U0001F300-\\U0001F5FF\"  # symbols & pictographs\n",
        "                               u\"\\U0001F680-\\U0001F6FF\"  # transport & map symbols\n",
        "                               u\"\\U0001F1E0-\\U0001F1FF\"  # flags (iOS)\n",
        "                               u\"\\U00002702-\\U000027B0\"\n",
        "                               u\"\\U000024C2-\\U0001F251\"\n",
        "                               \"]+\", flags=re.UNICODE)\n",
        "    return emoji_pattern.sub(r'', text)\n",
        "\n",
        "\n",
        "def brief_clean(text):\n",
        "  text = re.sub('@[^\\s]*\\s', '', text)  # remove mentions\n",
        "  text = text.replace('RT', '')  # remove RTs\n",
        "  text = re.sub('http\\S*', '', text)  # remove urls\n",
        "  text = remove_emoji(text)  # remove emojis\n",
        "  text = text.translate(str.maketrans('', '', string.punctuation + '«»——–…“©↓'))  # remove string.punctuation from the string\n",
        "  text = text.replace('\\n', ' ')  # replace newlines with space\n",
        "  text = re.sub(' +', ' ', text)  # replace multiple spaces with one space\n",
        "  text = text.lower().strip()  # make all lowercase and strip\n",
        "  return text"
      ],
      "metadata": {
        "id": "IbqCmw6yMEVB"
      },
      "execution_count": 14,
      "outputs": []
    },
    {
      "cell_type": "code",
      "source": [
        "df['text_cleaned'] = df['text'].map(brief_clean)"
      ],
      "metadata": {
        "id": "xujRpnwflreO"
      },
      "execution_count": 15,
      "outputs": []
    },
    {
      "cell_type": "code",
      "source": [
        "df['text_cleaned'].duplicated().sum()"
      ],
      "metadata": {
        "colab": {
          "base_uri": "https://localhost:8080/"
        },
        "id": "bkuS-HtWFypC",
        "outputId": "aedcd4ad-1c46-4329-9215-9483e35c0e1b"
      },
      "execution_count": 16,
      "outputs": [
        {
          "output_type": "execute_result",
          "data": {
            "text/plain": [
              "198"
            ]
          },
          "metadata": {},
          "execution_count": 16
        }
      ]
    },
    {
      "cell_type": "markdown",
      "source": [
        "We drop duplicate tweets after brief cleaning"
      ],
      "metadata": {
        "id": "kbl_BFz0Ahol"
      }
    },
    {
      "cell_type": "code",
      "source": [
        "df = df.drop_duplicates('text_cleaned')\n",
        "df.info()"
      ],
      "metadata": {
        "colab": {
          "base_uri": "https://localhost:8080/"
        },
        "id": "X4oigI2pF9A6",
        "outputId": "1678ff59-504b-4c27-ae73-5d84d3cd82d1"
      },
      "execution_count": 17,
      "outputs": [
        {
          "output_type": "stream",
          "name": "stdout",
          "text": [
            "<class 'pandas.core.frame.DataFrame'>\n",
            "Int64Index: 3002 entries, 0 to 3199\n",
            "Data columns (total 3 columns):\n",
            " #   Column        Non-Null Count  Dtype \n",
            "---  ------        --------------  ----- \n",
            " 0   id            3002 non-null   int64 \n",
            " 1   text          3002 non-null   object\n",
            " 2   text_cleaned  3002 non-null   object\n",
            "dtypes: int64(1), object(2)\n",
            "memory usage: 93.8+ KB\n"
          ]
        }
      ]
    },
    {
      "cell_type": "markdown",
      "source": [
        "We reset index"
      ],
      "metadata": {
        "id": "QptDtKIH5FkT"
      }
    },
    {
      "cell_type": "code",
      "source": [
        "df = df.reset_index(drop=True)"
      ],
      "metadata": {
        "id": "nQm20b0z4At6"
      },
      "execution_count": 18,
      "outputs": []
    },
    {
      "cell_type": "code",
      "source": [
        "#@title Now we lemmatize without stop words\n",
        "# Lemmatizes and removes stopwords\n",
        "# doc needs to be a spacy Doc object\n",
        "\n",
        "def lemmatize_without_stops(doc):\n",
        "  text = [token.lemma_ for token in doc if not token.is_stop]\n",
        "  # Word2Vec uses context words to learn the vector representation of a target word,\n",
        "  # if a sentence is only one or two words long,\n",
        "  # the benefit for the training is very small\n",
        "  if len(text) > 2:\n",
        "    return ' '.join(text)"
      ],
      "metadata": {
        "id": "7vGyEKRZyk39"
      },
      "execution_count": 19,
      "outputs": []
    },
    {
      "cell_type": "code",
      "source": [
        "#@title We load spaCy language packs and taking advantage of spaCy .pipe() method to speed-up the cleaning process.\n",
        "if language == 'ru':\n",
        "  nlp = spacy.load('ru_core_news_sm')  # disable Named Entity Recognition for speed\n",
        "else:\n",
        "  nlp = spacy.load('en_core_web_sm')  # disable Named Entity Recognition for speed"
      ],
      "metadata": {
        "id": "fEkQ1oCvf56P"
      },
      "execution_count": 20,
      "outputs": []
    },
    {
      "cell_type": "code",
      "source": [
        "#@title Add language detector to a spaCy pipeline\n",
        "# spaCy looks for a factory function with the name \"get_lang_detector\" in the current module \n",
        "# (i.e., the module that contains the nlp.add_pipe call)\n",
        "from spacy.language import Language\n",
        "@Language.factory('language_detector')\n",
        "def get_lang_detector(nlp, name):\n",
        "    return LanguageDetector()"
      ],
      "metadata": {
        "id": "2kNUPl2_urOX"
      },
      "execution_count": 21,
      "outputs": []
    },
    {
      "cell_type": "code",
      "source": [
        "nlp.add_pipe('language_detector', last=True)"
      ],
      "metadata": {
        "colab": {
          "base_uri": "https://localhost:8080/"
        },
        "id": "gP7kQGXzvMux",
        "outputId": "5a72d047-ec56-4ef7-fe3c-715c3c8ae2f6"
      },
      "execution_count": 22,
      "outputs": [
        {
          "output_type": "execute_result",
          "data": {
            "text/plain": [
              "<spacy_langdetect.spacy_langdetect.LanguageDetector at 0x7f8c18d492e0>"
            ]
          },
          "metadata": {},
          "execution_count": 22
        }
      ]
    },
    {
      "cell_type": "code",
      "source": [
        "#@title Test language detector\n",
        "test_docs = nlp.pipe(['Это русский текст', 'This is english text'])\n",
        "[doc._.language for doc in test_docs]"
      ],
      "metadata": {
        "colab": {
          "base_uri": "https://localhost:8080/"
        },
        "id": "OcCV2eE2w2Oz",
        "outputId": "9e7a34a0-9fd6-42cf-8e1b-936c8bef93c4"
      },
      "execution_count": 23,
      "outputs": [
        {
          "output_type": "execute_result",
          "data": {
            "text/plain": [
              "[{'language': 'ru', 'score': 0.9999967590830038},\n",
              " {'language': 'en', 'score': 0.9999963621245831}]"
            ]
          },
          "metadata": {},
          "execution_count": 23
        }
      ]
    },
    {
      "cell_type": "code",
      "source": [
        "docs = nlp.pipe(df['text_cleaned'], batch_size=3000, n_process=-1)  # returns a generator of spacy Docs"
      ],
      "metadata": {
        "id": "EIjbVSksvKPy"
      },
      "execution_count": 24,
      "outputs": []
    },
    {
      "cell_type": "code",
      "source": [
        "t = time.time()\n",
        "\n",
        "# Lemmitize tweets in specific language\n",
        "df['text_lem'] = pd.Series([lemmatize_without_stops(doc) if doc._.language['language'] == language else None for doc in docs])\n",
        "\n",
        "print(f'Time to lemmatize: {round((time.time() - t), 2)} secs')"
      ],
      "metadata": {
        "id": "PH5aw1fuY3OY",
        "colab": {
          "base_uri": "https://localhost:8080/"
        },
        "outputId": "4baf5079-006a-4c8e-bf49-f5b26e6e31ab"
      },
      "execution_count": 25,
      "outputs": [
        {
          "output_type": "stream",
          "name": "stdout",
          "text": [
            "Time to lemmatize: 81.24 secs\n"
          ]
        }
      ]
    },
    {
      "cell_type": "code",
      "source": [
        "df_clean = df.dropna().copy()"
      ],
      "metadata": {
        "id": "B5s1pcENLm2t"
      },
      "execution_count": 26,
      "outputs": []
    },
    {
      "cell_type": "code",
      "source": [
        "#@title Calculate word frequency\n",
        "\n",
        "words_freq = defaultdict(int)\n",
        "for tweet in df_clean['text_lem'].values:\n",
        "  for word in tweet.split():\n",
        "    words_freq[word] += 1\n",
        "\n",
        "word_freq_df = pd.DataFrame.from_dict(words_freq, orient='index', columns=['word_count']).reset_index().rename(columns = {'index': 'word'})\n",
        "word_freq_df.sort_values('word_count', ascending=False).head(10)"
      ],
      "metadata": {
        "colab": {
          "base_uri": "https://localhost:8080/",
          "height": 363
        },
        "id": "RUpAm-0JbSj6",
        "outputId": "ad4d3858-6daf-4e2a-938e-f8590397c1c0"
      },
      "execution_count": 27,
      "outputs": [
        {
          "output_type": "execute_result",
          "data": {
            "text/plain": [
              "            word  word_count\n",
              "20       человек         457\n",
              "235       россия         356\n",
              "130        путин         317\n",
              "620          год         282\n",
              "44         война         272\n",
              "455  государство         176\n",
              "35       сегодня         157\n",
              "153       против         144\n",
              "49       украина         142\n",
              "584       страна         135"
            ],
            "text/html": [
              "\n",
              "  <div id=\"df-6bd4e83a-edde-4b16-8507-289340a003d0\">\n",
              "    <div class=\"colab-df-container\">\n",
              "      <div>\n",
              "<style scoped>\n",
              "    .dataframe tbody tr th:only-of-type {\n",
              "        vertical-align: middle;\n",
              "    }\n",
              "\n",
              "    .dataframe tbody tr th {\n",
              "        vertical-align: top;\n",
              "    }\n",
              "\n",
              "    .dataframe thead th {\n",
              "        text-align: right;\n",
              "    }\n",
              "</style>\n",
              "<table border=\"1\" class=\"dataframe\">\n",
              "  <thead>\n",
              "    <tr style=\"text-align: right;\">\n",
              "      <th></th>\n",
              "      <th>word</th>\n",
              "      <th>word_count</th>\n",
              "    </tr>\n",
              "  </thead>\n",
              "  <tbody>\n",
              "    <tr>\n",
              "      <th>20</th>\n",
              "      <td>человек</td>\n",
              "      <td>457</td>\n",
              "    </tr>\n",
              "    <tr>\n",
              "      <th>235</th>\n",
              "      <td>россия</td>\n",
              "      <td>356</td>\n",
              "    </tr>\n",
              "    <tr>\n",
              "      <th>130</th>\n",
              "      <td>путин</td>\n",
              "      <td>317</td>\n",
              "    </tr>\n",
              "    <tr>\n",
              "      <th>620</th>\n",
              "      <td>год</td>\n",
              "      <td>282</td>\n",
              "    </tr>\n",
              "    <tr>\n",
              "      <th>44</th>\n",
              "      <td>война</td>\n",
              "      <td>272</td>\n",
              "    </tr>\n",
              "    <tr>\n",
              "      <th>455</th>\n",
              "      <td>государство</td>\n",
              "      <td>176</td>\n",
              "    </tr>\n",
              "    <tr>\n",
              "      <th>35</th>\n",
              "      <td>сегодня</td>\n",
              "      <td>157</td>\n",
              "    </tr>\n",
              "    <tr>\n",
              "      <th>153</th>\n",
              "      <td>против</td>\n",
              "      <td>144</td>\n",
              "    </tr>\n",
              "    <tr>\n",
              "      <th>49</th>\n",
              "      <td>украина</td>\n",
              "      <td>142</td>\n",
              "    </tr>\n",
              "    <tr>\n",
              "      <th>584</th>\n",
              "      <td>страна</td>\n",
              "      <td>135</td>\n",
              "    </tr>\n",
              "  </tbody>\n",
              "</table>\n",
              "</div>\n",
              "      <button class=\"colab-df-convert\" onclick=\"convertToInteractive('df-6bd4e83a-edde-4b16-8507-289340a003d0')\"\n",
              "              title=\"Convert this dataframe to an interactive table.\"\n",
              "              style=\"display:none;\">\n",
              "        \n",
              "  <svg xmlns=\"http://www.w3.org/2000/svg\" height=\"24px\"viewBox=\"0 0 24 24\"\n",
              "       width=\"24px\">\n",
              "    <path d=\"M0 0h24v24H0V0z\" fill=\"none\"/>\n",
              "    <path d=\"M18.56 5.44l.94 2.06.94-2.06 2.06-.94-2.06-.94-.94-2.06-.94 2.06-2.06.94zm-11 1L8.5 8.5l.94-2.06 2.06-.94-2.06-.94L8.5 2.5l-.94 2.06-2.06.94zm10 10l.94 2.06.94-2.06 2.06-.94-2.06-.94-.94-2.06-.94 2.06-2.06.94z\"/><path d=\"M17.41 7.96l-1.37-1.37c-.4-.4-.92-.59-1.43-.59-.52 0-1.04.2-1.43.59L10.3 9.45l-7.72 7.72c-.78.78-.78 2.05 0 2.83L4 21.41c.39.39.9.59 1.41.59.51 0 1.02-.2 1.41-.59l7.78-7.78 2.81-2.81c.8-.78.8-2.07 0-2.86zM5.41 20L4 18.59l7.72-7.72 1.47 1.35L5.41 20z\"/>\n",
              "  </svg>\n",
              "      </button>\n",
              "      \n",
              "  <style>\n",
              "    .colab-df-container {\n",
              "      display:flex;\n",
              "      flex-wrap:wrap;\n",
              "      gap: 12px;\n",
              "    }\n",
              "\n",
              "    .colab-df-convert {\n",
              "      background-color: #E8F0FE;\n",
              "      border: none;\n",
              "      border-radius: 50%;\n",
              "      cursor: pointer;\n",
              "      display: none;\n",
              "      fill: #1967D2;\n",
              "      height: 32px;\n",
              "      padding: 0 0 0 0;\n",
              "      width: 32px;\n",
              "    }\n",
              "\n",
              "    .colab-df-convert:hover {\n",
              "      background-color: #E2EBFA;\n",
              "      box-shadow: 0px 1px 2px rgba(60, 64, 67, 0.3), 0px 1px 3px 1px rgba(60, 64, 67, 0.15);\n",
              "      fill: #174EA6;\n",
              "    }\n",
              "\n",
              "    [theme=dark] .colab-df-convert {\n",
              "      background-color: #3B4455;\n",
              "      fill: #D2E3FC;\n",
              "    }\n",
              "\n",
              "    [theme=dark] .colab-df-convert:hover {\n",
              "      background-color: #434B5C;\n",
              "      box-shadow: 0px 1px 3px 1px rgba(0, 0, 0, 0.15);\n",
              "      filter: drop-shadow(0px 1px 2px rgba(0, 0, 0, 0.3));\n",
              "      fill: #FFFFFF;\n",
              "    }\n",
              "  </style>\n",
              "\n",
              "      <script>\n",
              "        const buttonEl =\n",
              "          document.querySelector('#df-6bd4e83a-edde-4b16-8507-289340a003d0 button.colab-df-convert');\n",
              "        buttonEl.style.display =\n",
              "          google.colab.kernel.accessAllowed ? 'block' : 'none';\n",
              "\n",
              "        async function convertToInteractive(key) {\n",
              "          const element = document.querySelector('#df-6bd4e83a-edde-4b16-8507-289340a003d0');\n",
              "          const dataTable =\n",
              "            await google.colab.kernel.invokeFunction('convertToInteractive',\n",
              "                                                     [key], {});\n",
              "          if (!dataTable) return;\n",
              "\n",
              "          const docLinkHtml = 'Like what you see? Visit the ' +\n",
              "            '<a target=\"_blank\" href=https://colab.research.google.com/notebooks/data_table.ipynb>data table notebook</a>'\n",
              "            + ' to learn more about interactive tables.';\n",
              "          element.innerHTML = '';\n",
              "          dataTable['output_type'] = 'display_data';\n",
              "          await google.colab.output.renderOutput(dataTable, element);\n",
              "          const docLink = document.createElement('div');\n",
              "          docLink.innerHTML = docLinkHtml;\n",
              "          element.appendChild(docLink);\n",
              "        }\n",
              "      </script>\n",
              "    </div>\n",
              "  </div>\n",
              "  "
            ]
          },
          "metadata": {},
          "execution_count": 27
        }
      ]
    },
    {
      "cell_type": "markdown",
      "source": [
        "## Bigrams"
      ],
      "metadata": {
        "id": "z9CBLqwFj8xY"
      }
    },
    {
      "cell_type": "markdown",
      "source": [
        "We are using Gensim Phrases package to automatically detect common phrases (bigrams) from a list of sentences.\n",
        "\n",
        "https://radimrehurek.com/gensim/models/phrases.html"
      ],
      "metadata": {
        "id": "ac7K6XRIkBQX"
      }
    },
    {
      "cell_type": "code",
      "source": [
        "from gensim.models.phrases import Phrases, Phraser"
      ],
      "metadata": {
        "id": "-HmVrDyJkHpX"
      },
      "execution_count": 28,
      "outputs": []
    },
    {
      "cell_type": "markdown",
      "source": [
        "Phrases() takes a list of list of words as input:"
      ],
      "metadata": {
        "id": "jw35uH6akg6p"
      }
    },
    {
      "cell_type": "code",
      "source": [
        "sent = [row.split() for row in df_clean['text_lem']]"
      ],
      "metadata": {
        "id": "-GU4lAJqkOIi"
      },
      "execution_count": 29,
      "outputs": []
    },
    {
      "cell_type": "markdown",
      "source": [
        "Creates the relevant phrases from the list of sentences:"
      ],
      "metadata": {
        "id": "uXoIg0d4knU9"
      }
    },
    {
      "cell_type": "code",
      "source": [
        "phrase_model = Phrases(sent, min_count=15)"
      ],
      "metadata": {
        "id": "ct-nyMEOko4q"
      },
      "execution_count": 30,
      "outputs": []
    },
    {
      "cell_type": "code",
      "source": [
        "bigram = Phraser(phrase_model)"
      ],
      "metadata": {
        "id": "tPB76CTzqHP4"
      },
      "execution_count": 31,
      "outputs": []
    },
    {
      "cell_type": "code",
      "source": [
        "sentences = bigram[sent]"
      ],
      "metadata": {
        "id": "Ev7ZA1R-lEgA"
      },
      "execution_count": 32,
      "outputs": []
    },
    {
      "cell_type": "code",
      "source": [
        "#@title Show bigrams\n",
        "bigram_freq = defaultdict(int)\n",
        "for sentence in sentences:\n",
        "  for word in sentence:\n",
        "     if '_' in word:\n",
        "      bigram_freq[word] += 1\n",
        "\n",
        "bigram_freq_df = pd.DataFrame.from_dict(bigram_freq, orient='index', columns=['bigram_count'])\n",
        "bigram_freq_df.sort_values('bigram_count', ascending=False).head(20)"
      ],
      "metadata": {
        "colab": {
          "base_uri": "https://localhost:8080/",
          "height": 269
        },
        "id": "LyBRxTROxQdk",
        "outputId": "ffe0cc0a-872c-4af9-ce27-2ddc325dcf90"
      },
      "execution_count": 33,
      "outputs": [
        {
          "output_type": "execute_result",
          "data": {
            "text/plain": [
              "                    bigram_count\n",
              "сегодня_2100                  57\n",
              "российский_политик            26\n",
              "илон_маск                     21\n",
              "свобода_слово                 20\n",
              "путинский_режим               19\n",
              "прямой_текст                  18\n",
              "2100_эфир                      1"
            ],
            "text/html": [
              "\n",
              "  <div id=\"df-6cd44db5-3c3c-4e29-b284-865fbc9179b4\">\n",
              "    <div class=\"colab-df-container\">\n",
              "      <div>\n",
              "<style scoped>\n",
              "    .dataframe tbody tr th:only-of-type {\n",
              "        vertical-align: middle;\n",
              "    }\n",
              "\n",
              "    .dataframe tbody tr th {\n",
              "        vertical-align: top;\n",
              "    }\n",
              "\n",
              "    .dataframe thead th {\n",
              "        text-align: right;\n",
              "    }\n",
              "</style>\n",
              "<table border=\"1\" class=\"dataframe\">\n",
              "  <thead>\n",
              "    <tr style=\"text-align: right;\">\n",
              "      <th></th>\n",
              "      <th>bigram_count</th>\n",
              "    </tr>\n",
              "  </thead>\n",
              "  <tbody>\n",
              "    <tr>\n",
              "      <th>сегодня_2100</th>\n",
              "      <td>57</td>\n",
              "    </tr>\n",
              "    <tr>\n",
              "      <th>российский_политик</th>\n",
              "      <td>26</td>\n",
              "    </tr>\n",
              "    <tr>\n",
              "      <th>илон_маск</th>\n",
              "      <td>21</td>\n",
              "    </tr>\n",
              "    <tr>\n",
              "      <th>свобода_слово</th>\n",
              "      <td>20</td>\n",
              "    </tr>\n",
              "    <tr>\n",
              "      <th>путинский_режим</th>\n",
              "      <td>19</td>\n",
              "    </tr>\n",
              "    <tr>\n",
              "      <th>прямой_текст</th>\n",
              "      <td>18</td>\n",
              "    </tr>\n",
              "    <tr>\n",
              "      <th>2100_эфир</th>\n",
              "      <td>1</td>\n",
              "    </tr>\n",
              "  </tbody>\n",
              "</table>\n",
              "</div>\n",
              "      <button class=\"colab-df-convert\" onclick=\"convertToInteractive('df-6cd44db5-3c3c-4e29-b284-865fbc9179b4')\"\n",
              "              title=\"Convert this dataframe to an interactive table.\"\n",
              "              style=\"display:none;\">\n",
              "        \n",
              "  <svg xmlns=\"http://www.w3.org/2000/svg\" height=\"24px\"viewBox=\"0 0 24 24\"\n",
              "       width=\"24px\">\n",
              "    <path d=\"M0 0h24v24H0V0z\" fill=\"none\"/>\n",
              "    <path d=\"M18.56 5.44l.94 2.06.94-2.06 2.06-.94-2.06-.94-.94-2.06-.94 2.06-2.06.94zm-11 1L8.5 8.5l.94-2.06 2.06-.94-2.06-.94L8.5 2.5l-.94 2.06-2.06.94zm10 10l.94 2.06.94-2.06 2.06-.94-2.06-.94-.94-2.06-.94 2.06-2.06.94z\"/><path d=\"M17.41 7.96l-1.37-1.37c-.4-.4-.92-.59-1.43-.59-.52 0-1.04.2-1.43.59L10.3 9.45l-7.72 7.72c-.78.78-.78 2.05 0 2.83L4 21.41c.39.39.9.59 1.41.59.51 0 1.02-.2 1.41-.59l7.78-7.78 2.81-2.81c.8-.78.8-2.07 0-2.86zM5.41 20L4 18.59l7.72-7.72 1.47 1.35L5.41 20z\"/>\n",
              "  </svg>\n",
              "      </button>\n",
              "      \n",
              "  <style>\n",
              "    .colab-df-container {\n",
              "      display:flex;\n",
              "      flex-wrap:wrap;\n",
              "      gap: 12px;\n",
              "    }\n",
              "\n",
              "    .colab-df-convert {\n",
              "      background-color: #E8F0FE;\n",
              "      border: none;\n",
              "      border-radius: 50%;\n",
              "      cursor: pointer;\n",
              "      display: none;\n",
              "      fill: #1967D2;\n",
              "      height: 32px;\n",
              "      padding: 0 0 0 0;\n",
              "      width: 32px;\n",
              "    }\n",
              "\n",
              "    .colab-df-convert:hover {\n",
              "      background-color: #E2EBFA;\n",
              "      box-shadow: 0px 1px 2px rgba(60, 64, 67, 0.3), 0px 1px 3px 1px rgba(60, 64, 67, 0.15);\n",
              "      fill: #174EA6;\n",
              "    }\n",
              "\n",
              "    [theme=dark] .colab-df-convert {\n",
              "      background-color: #3B4455;\n",
              "      fill: #D2E3FC;\n",
              "    }\n",
              "\n",
              "    [theme=dark] .colab-df-convert:hover {\n",
              "      background-color: #434B5C;\n",
              "      box-shadow: 0px 1px 3px 1px rgba(0, 0, 0, 0.15);\n",
              "      filter: drop-shadow(0px 1px 2px rgba(0, 0, 0, 0.3));\n",
              "      fill: #FFFFFF;\n",
              "    }\n",
              "  </style>\n",
              "\n",
              "      <script>\n",
              "        const buttonEl =\n",
              "          document.querySelector('#df-6cd44db5-3c3c-4e29-b284-865fbc9179b4 button.colab-df-convert');\n",
              "        buttonEl.style.display =\n",
              "          google.colab.kernel.accessAllowed ? 'block' : 'none';\n",
              "\n",
              "        async function convertToInteractive(key) {\n",
              "          const element = document.querySelector('#df-6cd44db5-3c3c-4e29-b284-865fbc9179b4');\n",
              "          const dataTable =\n",
              "            await google.colab.kernel.invokeFunction('convertToInteractive',\n",
              "                                                     [key], {});\n",
              "          if (!dataTable) return;\n",
              "\n",
              "          const docLinkHtml = 'Like what you see? Visit the ' +\n",
              "            '<a target=\"_blank\" href=https://colab.research.google.com/notebooks/data_table.ipynb>data table notebook</a>'\n",
              "            + ' to learn more about interactive tables.';\n",
              "          element.innerHTML = '';\n",
              "          dataTable['output_type'] = 'display_data';\n",
              "          await google.colab.output.renderOutput(dataTable, element);\n",
              "          const docLink = document.createElement('div');\n",
              "          docLink.innerHTML = docLinkHtml;\n",
              "          element.appendChild(docLink);\n",
              "        }\n",
              "      </script>\n",
              "    </div>\n",
              "  </div>\n",
              "  "
            ]
          },
          "metadata": {},
          "execution_count": 33
        }
      ]
    },
    {
      "cell_type": "markdown",
      "source": [
        "# Model training"
      ],
      "metadata": {
        "id": "LEkmVzEXzS0n"
      }
    },
    {
      "cell_type": "code",
      "source": [
        "cores = multiprocessing.cpu_count()"
      ],
      "metadata": {
        "id": "RelbnnIIzOz8"
      },
      "execution_count": 34,
      "outputs": []
    },
    {
      "cell_type": "markdown",
      "source": [
        "The parameters:\n",
        "* sg ({0, 1}, optional) – Training algorithm: 1 for skip-gram; otherwise CBOW\n",
        "* min_count = int - Ignores all words with total absolute frequency lower than this - (2, 100)\n",
        "* window = int - The maximum distance between the current and predicted word within a sentence. E.g. window words on the left and window words on the left of our target - (2, 10)\n",
        "* size = int - Dimensionality of the feature vectors. - (50, 300)\n",
        "* sample = float - The threshold for configuring which higher-frequency words are randomly downsampled. Highly influencial. - (0, 1e-5)\n",
        "* alpha = float - The initial learning rate - (0.01, 0.05)\n",
        "* min_alpha = float - Learning rate will linearly drop to min_alpha as training progresses. To set it: alpha - (min_alpha * epochs) ~ 0.00\n",
        "* negative = int - If > 0, negative sampling will be used, the int for negative specifies how many \"noise words\" should be drown. If set to 0, no negative sampling is used. - (5, 20)\n",
        "* workers = int - Use these many worker threads to train the model (=faster training with multicore machines)\n"
      ],
      "metadata": {
        "id": "oaJWJPHa4dsA"
      }
    },
    {
      "cell_type": "code",
      "source": [
        "w2v_model = Word2Vec(min_count=2,\n",
        "                     window=5,\n",
        "                     size=300,\n",
        "                     sample=5e-3, \n",
        "                     alpha=0.03, \n",
        "                     min_alpha=0.0001, \n",
        "                     negative=20,\n",
        "                     workers=cores-1,\n",
        "                     sg=0\n",
        "                     )"
      ],
      "metadata": {
        "id": "6nYrTRqzzpX7"
      },
      "execution_count": 35,
      "outputs": []
    },
    {
      "cell_type": "code",
      "source": [
        "t = time.time()\n",
        "\n",
        "w2v_model.build_vocab(sentences)\n",
        "\n",
        "print(f'Time to build vocab: {round((time.time() - t), 2)} secs')\n",
        "print(f'Vocabulary size: {len(w2v_model.wv.vocab)}')"
      ],
      "metadata": {
        "colab": {
          "base_uri": "https://localhost:8080/"
        },
        "id": "5lmifSCxzvnj",
        "outputId": "73d337bb-ecc3-4d67-a2bb-03f7cca1438e"
      },
      "execution_count": 36,
      "outputs": [
        {
          "output_type": "stream",
          "name": "stdout",
          "text": [
            "Time to build vocab: 2.33 secs\n",
            "Vocabulary size: 4793\n"
          ]
        }
      ]
    },
    {
      "cell_type": "code",
      "source": [
        "t = time.time()\n",
        "\n",
        "w2v_model.train(sentences, total_examples=w2v_model.corpus_count, epochs=30)\n",
        "\n",
        "print(f'Time to train the model: {round((time.time() - t), 2)} secs')"
      ],
      "metadata": {
        "colab": {
          "base_uri": "https://localhost:8080/"
        },
        "id": "LJ9xyFcP0hs6",
        "outputId": "a5d339f3-351f-4670-9e70-fb27ee08e064"
      },
      "execution_count": 37,
      "outputs": [
        {
          "output_type": "stream",
          "name": "stdout",
          "text": [
            "Time to train the model: 15.84 secs\n"
          ]
        }
      ]
    },
    {
      "cell_type": "code",
      "source": [
        "w2v_model.init_sims(replace=True)"
      ],
      "metadata": {
        "id": "GoG9TIzg0w37"
      },
      "execution_count": 38,
      "outputs": []
    },
    {
      "cell_type": "code",
      "source": [
        "w2v_model.save('/content/drive/MyDrive/Models/' + 'w2v_' + filename)"
      ],
      "metadata": {
        "id": "QLDDP0OaI2gT"
      },
      "execution_count": 39,
      "outputs": []
    },
    {
      "cell_type": "markdown",
      "source": [
        "# Test"
      ],
      "metadata": {
        "id": "J5c1p8ityeeK"
      }
    },
    {
      "cell_type": "code",
      "source": [
        "w2v_model = Word2Vec.load('/content/drive/MyDrive/Models/' + 'w2v_' + filename)"
      ],
      "metadata": {
        "id": "y-mbcA4mJulb"
      },
      "execution_count": 40,
      "outputs": []
    },
    {
      "cell_type": "code",
      "source": [
        "#@title Select the word for showing the similarities\n",
        "word = \"\\u0441\\u043C\\u0438\" #@param {type:\"string\"}"
      ],
      "metadata": {
        "id": "V_CDr1hV08jK",
        "cellView": "form"
      },
      "execution_count": 41,
      "outputs": []
    },
    {
      "cell_type": "code",
      "source": [
        "w2v_model.wv.most_similar(positive=[word])"
      ],
      "metadata": {
        "colab": {
          "base_uri": "https://localhost:8080/"
        },
        "id": "_pSpFMXzGt_e",
        "outputId": "b7933707-712c-4336-8556-3afde8e6b910"
      },
      "execution_count": 42,
      "outputs": [
        {
          "output_type": "execute_result",
          "data": {
            "text/plain": [
              "[('либеральный', 0.8049564361572266),\n",
              " ('журналист', 0.7344719171524048),\n",
              " ('подписывайтесь', 0.7110414505004883),\n",
              " ('последовательный', 0.6929588317871094),\n",
              " ('блокировка', 0.689312756061554),\n",
              " ('банкрот', 0.6886098384857178),\n",
              " ('внутренний', 0.6862215995788574),\n",
              " ('медуза', 0.6822073459625244),\n",
              " ('руководство', 0.6772804260253906),\n",
              " ('отличие', 0.6593586802482605)]"
            ]
          },
          "metadata": {},
          "execution_count": 42
        }
      ]
    },
    {
      "cell_type": "markdown",
      "source": [
        "# Visualize"
      ],
      "metadata": {
        "id": "CSAkD7X-vJKX"
      }
    },
    {
      "cell_type": "code",
      "source": [
        "import numpy as np\n",
        "import matplotlib.pyplot as plt\n",
        "%matplotlib inline\n",
        " \n",
        "import seaborn as sns\n",
        "\n",
        "from sklearn.decomposition import PCA\n",
        "from sklearn.manifold import TSNE"
      ],
      "metadata": {
        "id": "mIl-VCw2vIGH"
      },
      "execution_count": 43,
      "outputs": []
    },
    {
      "cell_type": "code",
      "source": [
        "#@title Plotting function\n",
        "\n",
        "def tsnescatterplot(model, word, list_names):\n",
        "    \"\"\" Plot in seaborn the results from the t-SNE dimensionality reduction algorithm of the vectors of a query word,\n",
        "    its list of most similar words, and a list of words.\n",
        "    \"\"\"\n",
        "    arrays = np.empty((0, 300), dtype='f')\n",
        "    word_labels = [word]\n",
        "    color_list  = ['red']\n",
        "\n",
        "    # adds the vector of the query word\n",
        "    arrays = np.append(arrays, model.wv.__getitem__([word]), axis=0)\n",
        "    \n",
        "    # gets list of most similar words\n",
        "    close_words = model.wv.most_similar([word])\n",
        "    \n",
        "    # adds the vector for each of the closest words to the array\n",
        "    for wrd_score in close_words:\n",
        "        wrd_vector = model.wv.__getitem__([wrd_score[0]])\n",
        "        word_labels.append(wrd_score[0])\n",
        "        color_list.append('blue')\n",
        "        arrays = np.append(arrays, wrd_vector, axis=0)\n",
        "    \n",
        "    # adds the vector for each of the words from list_names to the array\n",
        "    for wrd in list_names:\n",
        "        wrd_vector = model.wv.__getitem__([wrd])\n",
        "        word_labels.append(wrd)\n",
        "        color_list.append('green')\n",
        "        arrays = np.append(arrays, wrd_vector, axis=0)\n",
        "        \n",
        "    # Reduces the dimensionality from 300 dimensions with PCA\n",
        "    reduc = PCA(n_components=len(arrays)).fit_transform(arrays)\n",
        "    \n",
        "    # Finds t-SNE coordinates for 2 dimensions\n",
        "    np.set_printoptions(suppress=True)\n",
        "        \n",
        "    # Reduces the dimensionality from 300 to 2 dimensions with t-SNE\n",
        "    Y = TSNE(n_components=2, random_state=0, perplexity=15).fit_transform(arrays)\n",
        "        \n",
        "    # Sets everything up to plot\n",
        "    df = pd.DataFrame({'x': [x for x in Y[:, 0]],\n",
        "                       'y': [y for y in Y[:, 1]],\n",
        "                       'words': word_labels,\n",
        "                       'color': color_list})\n",
        "    \n",
        "    fig, _ = plt.subplots()\n",
        "    fig.set_size_inches(9, 9)\n",
        "    \n",
        "    # Basic plot\n",
        "    p1 = sns.regplot(data=df,\n",
        "                     x=\"x\",\n",
        "                     y=\"y\",\n",
        "                     fit_reg=False,\n",
        "                     marker=\"o\",\n",
        "                     scatter_kws={'s': 40,\n",
        "                                  'facecolors': df['color']\n",
        "                                 }\n",
        "                    )\n",
        "    \n",
        "    # Adds annotations one by one with a loop\n",
        "    for line in range(0, df.shape[0]):\n",
        "         p1.text(df[\"x\"][line],\n",
        "                 df['y'][line],\n",
        "                 '  ' + df[\"words\"][line].title(),\n",
        "                 horizontalalignment='left',\n",
        "                 verticalalignment='bottom', size='medium',\n",
        "                 color=df['color'][line],\n",
        "                 weight='normal'\n",
        "                ).set_size(15)\n",
        "\n",
        "    \n",
        "    plt.xlim(Y[:, 0].min()-50, Y[:, 0].max()+50)\n",
        "    plt.ylim(Y[:, 1].min()-50, Y[:, 1].max()+50)\n",
        "            \n",
        "    plt.title('t-SNE visualization for {}'.format(word.title()))"
      ],
      "metadata": {
        "id": "Bvbe7QbuvNua"
      },
      "execution_count": 44,
      "outputs": []
    },
    {
      "cell_type": "code",
      "source": [
        "tsnescatterplot(w2v_model, word, [i[0] for i in w2v_model.wv.most_similar(negative=[word])])"
      ],
      "metadata": {
        "colab": {
          "base_uri": "https://localhost:8080/",
          "height": 567
        },
        "id": "eJ9mNl7MvbGs",
        "outputId": "eb506dfe-2733-4d1d-99d4-ffe656a06fde"
      },
      "execution_count": 45,
      "outputs": [
        {
          "output_type": "display_data",
          "data": {
            "text/plain": [
              "<Figure size 648x648 with 1 Axes>"
            ],
            "image/png": "[encoded data removed]"
          },
          "metadata": {
            "needs_background": "light"
          }
        }
      ]
    },
    {
      "cell_type": "markdown",
      "source": [
        "# Play"
      ],
      "metadata": {
        "id": "kqVh3dKH5hOk"
      }
    },
    {
      "cell_type": "code",
      "source": [
        "from spacy.pipeline import sentencizer\n",
        "#@title Try to generate a sentence\n",
        "\n",
        "if language == 'ru':\n",
        "  from spacy.lang.ru import Russian\n",
        "else:\n",
        "  from spacy.lang.en import English\n",
        "\n",
        "import random\n",
        "\n",
        "def generate_sentence():\n",
        "    # Select a random word from the vocabulary\n",
        "    seed_word = random.choice(w2v_model.wv.index2word)\n",
        "    \n",
        "    # Generate the sentence\n",
        "    sentence = []\n",
        "    for _ in range(10):  # Generate a sentence with 10 words\n",
        "        # Use Word2Vec to select a list of top-5 similar words\n",
        "\n",
        "        similar_words = [sim_word for sim_word, _ in w2v_model.wv.most_similar(positive=[seed_word], topn=4)]\n",
        "        \n",
        "        # Randomly sample a similar word that is different from the previous word\n",
        "        similar_word = random.choice(similar_words)\n",
        "        \n",
        "        # Use SpaCy to tag the part of speech of the similar word\n",
        "        pos = nlp(similar_word)[0].pos_\n",
        "        \n",
        "        # Add the similar word to the sentence\n",
        "        sentence.append(f'{similar_word}/{pos}')\n",
        "        # Update the current word to the similar word\n",
        "        seed_word = similar_word\n",
        "        \n",
        "    # Join the tokens to form a sentence\n",
        "    sentence = ' '.join(sentence)\n",
        "    # Capitalize the first letter of the sentence\n",
        "    sentence = sentence.capitalize()\n",
        "    # Add a period to the end of the sentence\n",
        "    sentence += '.'\n",
        "    \n",
        "    return sentence\n",
        "\n",
        "\n",
        "# Example usage\n",
        "generated_sentence = generate_sentence()\n",
        "print(generated_sentence)"
      ],
      "metadata": {
        "colab": {
          "base_uri": "https://localhost:8080/"
        },
        "id": "TXtTMuKIknoH",
        "outputId": "6a07f6be-1703-44a2-bfa6-6aa19b50b961"
      },
      "execution_count": 66,
      "outputs": [
        {
          "output_type": "stream",
          "name": "stdout",
          "text": [
            "Националистический/adj светлана/propn питать/verb автомобиль/noun тинькофф/noun отважный/adj мудила/verb отважный/adj приготовиться/verb чёрт/propn.\n"
          ]
        }
      ]
    }
  ]
}