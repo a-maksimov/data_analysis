{
  "nbformat": 4,
  "nbformat_minor": 0,
  "metadata": {
    "colab": {
      "provenance": [],
      "collapsed_sections": [
        "d_9IrJQwrKVC",
        "Ax_jp0T-nBwj",
        "1fZZQY4FDP1A",
        "qIe9-T-BoEk1",
        "DXDpkf35qbWz"
      ],
      "mount_file_id": "15Ql603GlsgbWxMh-KJLtH6k12_bEWVRn",
      "authorship_tag": "ABX9TyNU0kWcspgjLkfdvlEjTLy8",
      "include_colab_link": true
    },
    "kernelspec": {
      "name": "python3",
      "display_name": "Python 3"
    },
    "language_info": {
      "name": "python"
    }
  },
  "cells": [
    {
      "cell_type": "markdown",
      "metadata": {
        "id": "view-in-github",
        "colab_type": "text"
      },
      "source": [
        "<a href=\"https://colab.research.google.com/github/a-maksimov/data_analysis/blob/main/imdb_horror_analysis.ipynb\" target=\"_parent\"><img src=\"https://colab.research.google.com/assets/colab-badge.svg\" alt=\"Open In Colab\"/></a>"
      ]
    },
    {
      "cell_type": "markdown",
      "source": [
        "# Defining the questions\n",
        "Q.1   Analyze which genres have the highest and the lowest average rating\n",
        "\n",
        "Q.2   Analyze genre combinations make a successful"
      ],
      "metadata": {
        "id": "sRgVWj82I6pA"
      }
    },
    {
      "cell_type": "markdown",
      "source": [
        "# Collecting and cleaning the data\n",
        "\n",
        "IMDb Dataset:\n",
        "https://www.kaggle.com/datasets/ashirwadsangwan/imdb-dataset"
      ],
      "metadata": {
        "id": "d_9IrJQwrKVC"
      }
    },
    {
      "cell_type": "markdown",
      "source": [
        "title.basics.tsv.gz - Contains the following information for titles:\n",
        "* tconst (string) - alphanumeric unique identifier of the title.\n",
        "* titleType (string) – the type/format of the title (e.g. movie, short,\n",
        "tvseries, tvepisode, video, etc).\n",
        "* genres (string array) – includes up to three genres associated with\n",
        "the title.\n",
        "\n",
        "https://drive.google.com/file/d/1zys9QZjgjA_6kSg9EWd5RdNAJ13lDs2p/view?usp=sharing"
      ],
      "metadata": {
        "id": "T5tfXMddrEES"
      }
    },
    {
      "cell_type": "markdown",
      "source": [
        "title.ratings.tsv.gz – Contains the IMDb rating and votes information for titles:\n",
        "* tconst (string) - alphanumeric unique identifier of the title.\n",
        "* averageRating – weighted average of all the individual user ratings.\n",
        "* numVotes - number of votes the title has received.\n",
        "\n",
        "https://drive.google.com/file/d/1cszDgIoziE05bgcTN4oYDLWqDEWCWfPv/view?usp=sharing"
      ],
      "metadata": {
        "id": "AOt2HGey3yPN"
      }
    },
    {
      "cell_type": "code",
      "source": [
        "! gdown 1zys9QZjgjA_6kSg9EWd5RdNAJ13lDs2p"
      ],
      "metadata": {
        "id": "in60e6OJrZ9P",
        "colab": {
          "base_uri": "https://localhost:8080/"
        },
        "outputId": "e993db76-726d-4cd3-d0a6-28f4576606b3"
      },
      "execution_count": 70,
      "outputs": [
        {
          "output_type": "stream",
          "name": "stdout",
          "text": [
            "Access denied with the following error:\n",
            "\n",
            " \tCannot retrieve the public link of the file. You may need to change\n",
            "\tthe permission to 'Anyone with the link', or have had many accesses. \n",
            "\n",
            "You may still be able to access the file from the browser:\n",
            "\n",
            "\t https://drive.google.com/uc?id=1zys9QZjgjA_6kSg9EWd5RdNAJ13lDs2p \n",
            "\n"
          ]
        }
      ]
    },
    {
      "cell_type": "markdown",
      "source": [
        "\"basics\" table is over 100 MB, so it can't be download with gdown. You have to mount Google Drive into notebook."
      ],
      "metadata": {
        "id": "7yPDXzCuK7fS"
      }
    },
    {
      "cell_type": "code",
      "source": [
        "! unzip -o /content/drive/MyDrive/Datasets/title_basics.zip"
      ],
      "metadata": {
        "id": "aVwnn30B-i-A",
        "colab": {
          "base_uri": "https://localhost:8080/"
        },
        "outputId": "f18d072c-ba42-4ad1-e0ae-03a8d12817d1"
      },
      "execution_count": 71,
      "outputs": [
        {
          "output_type": "stream",
          "name": "stdout",
          "text": [
            "Archive:  /content/drive/MyDrive/Datasets/title_basics.zip\n",
            "  inflating: title_basics.tsv        \n"
          ]
        }
      ]
    },
    {
      "cell_type": "code",
      "source": [
        "! gdown 1cszDgIoziE05bgcTN4oYDLWqDEWCWfPv"
      ],
      "metadata": {
        "id": "v1wR2xUn39oV",
        "colab": {
          "base_uri": "https://localhost:8080/"
        },
        "outputId": "8f97d7d8-65b5-4419-c7d0-42e3598d6741"
      },
      "execution_count": 72,
      "outputs": [
        {
          "output_type": "stream",
          "name": "stdout",
          "text": [
            "Downloading...\n",
            "From: https://drive.google.com/uc?id=1cszDgIoziE05bgcTN4oYDLWqDEWCWfPv\n",
            "To: /content/title_ratings.zip\n",
            "\r  0% 0.00/6.47M [00:00<?, ?B/s]\r100% 6.47M/6.47M [00:00<00:00, 145MB/s]\n"
          ]
        }
      ]
    },
    {
      "cell_type": "code",
      "source": [
        "! unzip -o /content/title_ratings.zip"
      ],
      "metadata": {
        "id": "IxbJFNGE6DVz",
        "colab": {
          "base_uri": "https://localhost:8080/"
        },
        "outputId": "f01b6181-87f7-4ded-eeed-7ee4c5677a21"
      },
      "execution_count": 73,
      "outputs": [
        {
          "output_type": "stream",
          "name": "stdout",
          "text": [
            "Archive:  /content/title_ratings.zip\n",
            "  inflating: title_ratings.tsv       \n"
          ]
        }
      ]
    },
    {
      "cell_type": "code",
      "source": [
        "import pandas as pd\n",
        "import seaborn as sns"
      ],
      "metadata": {
        "id": "EIL22l_ZtI4J"
      },
      "execution_count": 74,
      "outputs": []
    },
    {
      "cell_type": "markdown",
      "source": [
        "Parse the files.\n",
        "\n",
        "From basics we keep only movies and relevant fields."
      ],
      "metadata": {
        "id": "N6LWDC_zEsZO"
      }
    },
    {
      "cell_type": "code",
      "source": [
        "fields = ['tconst', 'titleType', 'primaryTitle',  'startYear', 'genres']\n",
        "basics = pd.read_table('/content/title_basics.tsv', usecols=fields)[lambda row: row['titleType'] == 'movie']     "
      ],
      "metadata": {
        "id": "ThhoHILUtv_Y"
      },
      "execution_count": 75,
      "outputs": []
    },
    {
      "cell_type": "code",
      "source": [
        "basics.head()"
      ],
      "metadata": {
        "id": "LJcJcUoz_DRj",
        "colab": {
          "base_uri": "https://localhost:8080/",
          "height": 206
        },
        "outputId": "1babe8ff-8a60-4828-d179-1e25d6625ae9"
      },
      "execution_count": 76,
      "outputs": [
        {
          "output_type": "execute_result",
          "data": {
            "text/plain": [
              "        tconst titleType                   primaryTitle startYear  \\\n",
              "8    tt0000009     movie                     Miss Jerry      1894   \n",
              "144  tt0000147     movie  The Corbett-Fitzsimmons Fight      1897   \n",
              "498  tt0000502     movie                       Bohemios      1905   \n",
              "570  tt0000574     movie    The Story of the Kelly Gang      1906   \n",
              "587  tt0000591     movie               The Prodigal Son      1907   \n",
              "\n",
              "                         genres  \n",
              "8                       Romance  \n",
              "144      Documentary,News,Sport  \n",
              "498                          \\N  \n",
              "570  Action,Adventure,Biography  \n",
              "587                       Drama  "
            ],
            "text/html": [
              "\n",
              "  <div id=\"df-e6ea58d1-b305-41ea-a051-bcb2874f7e71\">\n",
              "    <div class=\"colab-df-container\">\n",
              "      <div>\n",
              "<style scoped>\n",
              "    .dataframe tbody tr th:only-of-type {\n",
              "        vertical-align: middle;\n",
              "    }\n",
              "\n",
              "    .dataframe tbody tr th {\n",
              "        vertical-align: top;\n",
              "    }\n",
              "\n",
              "    .dataframe thead th {\n",
              "        text-align: right;\n",
              "    }\n",
              "</style>\n",
              "<table border=\"1\" class=\"dataframe\">\n",
              "  <thead>\n",
              "    <tr style=\"text-align: right;\">\n",
              "      <th></th>\n",
              "      <th>tconst</th>\n",
              "      <th>titleType</th>\n",
              "      <th>primaryTitle</th>\n",
              "      <th>startYear</th>\n",
              "      <th>genres</th>\n",
              "    </tr>\n",
              "  </thead>\n",
              "  <tbody>\n",
              "    <tr>\n",
              "      <th>8</th>\n",
              "      <td>tt0000009</td>\n",
              "      <td>movie</td>\n",
              "      <td>Miss Jerry</td>\n",
              "      <td>1894</td>\n",
              "      <td>Romance</td>\n",
              "    </tr>\n",
              "    <tr>\n",
              "      <th>144</th>\n",
              "      <td>tt0000147</td>\n",
              "      <td>movie</td>\n",
              "      <td>The Corbett-Fitzsimmons Fight</td>\n",
              "      <td>1897</td>\n",
              "      <td>Documentary,News,Sport</td>\n",
              "    </tr>\n",
              "    <tr>\n",
              "      <th>498</th>\n",
              "      <td>tt0000502</td>\n",
              "      <td>movie</td>\n",
              "      <td>Bohemios</td>\n",
              "      <td>1905</td>\n",
              "      <td>\\N</td>\n",
              "    </tr>\n",
              "    <tr>\n",
              "      <th>570</th>\n",
              "      <td>tt0000574</td>\n",
              "      <td>movie</td>\n",
              "      <td>The Story of the Kelly Gang</td>\n",
              "      <td>1906</td>\n",
              "      <td>Action,Adventure,Biography</td>\n",
              "    </tr>\n",
              "    <tr>\n",
              "      <th>587</th>\n",
              "      <td>tt0000591</td>\n",
              "      <td>movie</td>\n",
              "      <td>The Prodigal Son</td>\n",
              "      <td>1907</td>\n",
              "      <td>Drama</td>\n",
              "    </tr>\n",
              "  </tbody>\n",
              "</table>\n",
              "</div>\n",
              "      <button class=\"colab-df-convert\" onclick=\"convertToInteractive('df-e6ea58d1-b305-41ea-a051-bcb2874f7e71')\"\n",
              "              title=\"Convert this dataframe to an interactive table.\"\n",
              "              style=\"display:none;\">\n",
              "        \n",
              "  <svg xmlns=\"http://www.w3.org/2000/svg\" height=\"24px\"viewBox=\"0 0 24 24\"\n",
              "       width=\"24px\">\n",
              "    <path d=\"M0 0h24v24H0V0z\" fill=\"none\"/>\n",
              "    <path d=\"M18.56 5.44l.94 2.06.94-2.06 2.06-.94-2.06-.94-.94-2.06-.94 2.06-2.06.94zm-11 1L8.5 8.5l.94-2.06 2.06-.94-2.06-.94L8.5 2.5l-.94 2.06-2.06.94zm10 10l.94 2.06.94-2.06 2.06-.94-2.06-.94-.94-2.06-.94 2.06-2.06.94z\"/><path d=\"M17.41 7.96l-1.37-1.37c-.4-.4-.92-.59-1.43-.59-.52 0-1.04.2-1.43.59L10.3 9.45l-7.72 7.72c-.78.78-.78 2.05 0 2.83L4 21.41c.39.39.9.59 1.41.59.51 0 1.02-.2 1.41-.59l7.78-7.78 2.81-2.81c.8-.78.8-2.07 0-2.86zM5.41 20L4 18.59l7.72-7.72 1.47 1.35L5.41 20z\"/>\n",
              "  </svg>\n",
              "      </button>\n",
              "      \n",
              "  <style>\n",
              "    .colab-df-container {\n",
              "      display:flex;\n",
              "      flex-wrap:wrap;\n",
              "      gap: 12px;\n",
              "    }\n",
              "\n",
              "    .colab-df-convert {\n",
              "      background-color: #E8F0FE;\n",
              "      border: none;\n",
              "      border-radius: 50%;\n",
              "      cursor: pointer;\n",
              "      display: none;\n",
              "      fill: #1967D2;\n",
              "      height: 32px;\n",
              "      padding: 0 0 0 0;\n",
              "      width: 32px;\n",
              "    }\n",
              "\n",
              "    .colab-df-convert:hover {\n",
              "      background-color: #E2EBFA;\n",
              "      box-shadow: 0px 1px 2px rgba(60, 64, 67, 0.3), 0px 1px 3px 1px rgba(60, 64, 67, 0.15);\n",
              "      fill: #174EA6;\n",
              "    }\n",
              "\n",
              "    [theme=dark] .colab-df-convert {\n",
              "      background-color: #3B4455;\n",
              "      fill: #D2E3FC;\n",
              "    }\n",
              "\n",
              "    [theme=dark] .colab-df-convert:hover {\n",
              "      background-color: #434B5C;\n",
              "      box-shadow: 0px 1px 3px 1px rgba(0, 0, 0, 0.15);\n",
              "      filter: drop-shadow(0px 1px 2px rgba(0, 0, 0, 0.3));\n",
              "      fill: #FFFFFF;\n",
              "    }\n",
              "  </style>\n",
              "\n",
              "      <script>\n",
              "        const buttonEl =\n",
              "          document.querySelector('#df-e6ea58d1-b305-41ea-a051-bcb2874f7e71 button.colab-df-convert');\n",
              "        buttonEl.style.display =\n",
              "          google.colab.kernel.accessAllowed ? 'block' : 'none';\n",
              "\n",
              "        async function convertToInteractive(key) {\n",
              "          const element = document.querySelector('#df-e6ea58d1-b305-41ea-a051-bcb2874f7e71');\n",
              "          const dataTable =\n",
              "            await google.colab.kernel.invokeFunction('convertToInteractive',\n",
              "                                                     [key], {});\n",
              "          if (!dataTable) return;\n",
              "\n",
              "          const docLinkHtml = 'Like what you see? Visit the ' +\n",
              "            '<a target=\"_blank\" href=https://colab.research.google.com/notebooks/data_table.ipynb>data table notebook</a>'\n",
              "            + ' to learn more about interactive tables.';\n",
              "          element.innerHTML = '';\n",
              "          dataTable['output_type'] = 'display_data';\n",
              "          await google.colab.output.renderOutput(dataTable, element);\n",
              "          const docLink = document.createElement('div');\n",
              "          docLink.innerHTML = docLinkHtml;\n",
              "          element.appendChild(docLink);\n",
              "        }\n",
              "      </script>\n",
              "    </div>\n",
              "  </div>\n",
              "  "
            ]
          },
          "metadata": {},
          "execution_count": 76
        }
      ]
    },
    {
      "cell_type": "markdown",
      "source": [
        "Parse ratings table"
      ],
      "metadata": {
        "id": "7XylTdhNlz1X"
      }
    },
    {
      "cell_type": "code",
      "source": [
        "ratings = pd.read_table('/content/title_ratings.tsv')    "
      ],
      "metadata": {
        "id": "YRLK51JX_dZY"
      },
      "execution_count": 77,
      "outputs": []
    },
    {
      "cell_type": "code",
      "source": [
        "ratings.head()"
      ],
      "metadata": {
        "id": "4wSxgWjM_k7m",
        "colab": {
          "base_uri": "https://localhost:8080/",
          "height": 206
        },
        "outputId": "240d22f3-eb01-4726-b773-88af223615f6"
      },
      "execution_count": 78,
      "outputs": [
        {
          "output_type": "execute_result",
          "data": {
            "text/plain": [
              "      tconst  averageRating  numVotes\n",
              "0  tt0000001            5.7      1949\n",
              "1  tt0000002            5.8       264\n",
              "2  tt0000003            6.5      1782\n",
              "3  tt0000004            5.6       179\n",
              "4  tt0000005            6.2      2583"
            ],
            "text/html": [
              "\n",
              "  <div id=\"df-151f113f-2cee-4657-b9e8-e0497fa1c8df\">\n",
              "    <div class=\"colab-df-container\">\n",
              "      <div>\n",
              "<style scoped>\n",
              "    .dataframe tbody tr th:only-of-type {\n",
              "        vertical-align: middle;\n",
              "    }\n",
              "\n",
              "    .dataframe tbody tr th {\n",
              "        vertical-align: top;\n",
              "    }\n",
              "\n",
              "    .dataframe thead th {\n",
              "        text-align: right;\n",
              "    }\n",
              "</style>\n",
              "<table border=\"1\" class=\"dataframe\">\n",
              "  <thead>\n",
              "    <tr style=\"text-align: right;\">\n",
              "      <th></th>\n",
              "      <th>tconst</th>\n",
              "      <th>averageRating</th>\n",
              "      <th>numVotes</th>\n",
              "    </tr>\n",
              "  </thead>\n",
              "  <tbody>\n",
              "    <tr>\n",
              "      <th>0</th>\n",
              "      <td>tt0000001</td>\n",
              "      <td>5.7</td>\n",
              "      <td>1949</td>\n",
              "    </tr>\n",
              "    <tr>\n",
              "      <th>1</th>\n",
              "      <td>tt0000002</td>\n",
              "      <td>5.8</td>\n",
              "      <td>264</td>\n",
              "    </tr>\n",
              "    <tr>\n",
              "      <th>2</th>\n",
              "      <td>tt0000003</td>\n",
              "      <td>6.5</td>\n",
              "      <td>1782</td>\n",
              "    </tr>\n",
              "    <tr>\n",
              "      <th>3</th>\n",
              "      <td>tt0000004</td>\n",
              "      <td>5.6</td>\n",
              "      <td>179</td>\n",
              "    </tr>\n",
              "    <tr>\n",
              "      <th>4</th>\n",
              "      <td>tt0000005</td>\n",
              "      <td>6.2</td>\n",
              "      <td>2583</td>\n",
              "    </tr>\n",
              "  </tbody>\n",
              "</table>\n",
              "</div>\n",
              "      <button class=\"colab-df-convert\" onclick=\"convertToInteractive('df-151f113f-2cee-4657-b9e8-e0497fa1c8df')\"\n",
              "              title=\"Convert this dataframe to an interactive table.\"\n",
              "              style=\"display:none;\">\n",
              "        \n",
              "  <svg xmlns=\"http://www.w3.org/2000/svg\" height=\"24px\"viewBox=\"0 0 24 24\"\n",
              "       width=\"24px\">\n",
              "    <path d=\"M0 0h24v24H0V0z\" fill=\"none\"/>\n",
              "    <path d=\"M18.56 5.44l.94 2.06.94-2.06 2.06-.94-2.06-.94-.94-2.06-.94 2.06-2.06.94zm-11 1L8.5 8.5l.94-2.06 2.06-.94-2.06-.94L8.5 2.5l-.94 2.06-2.06.94zm10 10l.94 2.06.94-2.06 2.06-.94-2.06-.94-.94-2.06-.94 2.06-2.06.94z\"/><path d=\"M17.41 7.96l-1.37-1.37c-.4-.4-.92-.59-1.43-.59-.52 0-1.04.2-1.43.59L10.3 9.45l-7.72 7.72c-.78.78-.78 2.05 0 2.83L4 21.41c.39.39.9.59 1.41.59.51 0 1.02-.2 1.41-.59l7.78-7.78 2.81-2.81c.8-.78.8-2.07 0-2.86zM5.41 20L4 18.59l7.72-7.72 1.47 1.35L5.41 20z\"/>\n",
              "  </svg>\n",
              "      </button>\n",
              "      \n",
              "  <style>\n",
              "    .colab-df-container {\n",
              "      display:flex;\n",
              "      flex-wrap:wrap;\n",
              "      gap: 12px;\n",
              "    }\n",
              "\n",
              "    .colab-df-convert {\n",
              "      background-color: #E8F0FE;\n",
              "      border: none;\n",
              "      border-radius: 50%;\n",
              "      cursor: pointer;\n",
              "      display: none;\n",
              "      fill: #1967D2;\n",
              "      height: 32px;\n",
              "      padding: 0 0 0 0;\n",
              "      width: 32px;\n",
              "    }\n",
              "\n",
              "    .colab-df-convert:hover {\n",
              "      background-color: #E2EBFA;\n",
              "      box-shadow: 0px 1px 2px rgba(60, 64, 67, 0.3), 0px 1px 3px 1px rgba(60, 64, 67, 0.15);\n",
              "      fill: #174EA6;\n",
              "    }\n",
              "\n",
              "    [theme=dark] .colab-df-convert {\n",
              "      background-color: #3B4455;\n",
              "      fill: #D2E3FC;\n",
              "    }\n",
              "\n",
              "    [theme=dark] .colab-df-convert:hover {\n",
              "      background-color: #434B5C;\n",
              "      box-shadow: 0px 1px 3px 1px rgba(0, 0, 0, 0.15);\n",
              "      filter: drop-shadow(0px 1px 2px rgba(0, 0, 0, 0.3));\n",
              "      fill: #FFFFFF;\n",
              "    }\n",
              "  </style>\n",
              "\n",
              "      <script>\n",
              "        const buttonEl =\n",
              "          document.querySelector('#df-151f113f-2cee-4657-b9e8-e0497fa1c8df button.colab-df-convert');\n",
              "        buttonEl.style.display =\n",
              "          google.colab.kernel.accessAllowed ? 'block' : 'none';\n",
              "\n",
              "        async function convertToInteractive(key) {\n",
              "          const element = document.querySelector('#df-151f113f-2cee-4657-b9e8-e0497fa1c8df');\n",
              "          const dataTable =\n",
              "            await google.colab.kernel.invokeFunction('convertToInteractive',\n",
              "                                                     [key], {});\n",
              "          if (!dataTable) return;\n",
              "\n",
              "          const docLinkHtml = 'Like what you see? Visit the ' +\n",
              "            '<a target=\"_blank\" href=https://colab.research.google.com/notebooks/data_table.ipynb>data table notebook</a>'\n",
              "            + ' to learn more about interactive tables.';\n",
              "          element.innerHTML = '';\n",
              "          dataTable['output_type'] = 'display_data';\n",
              "          await google.colab.output.renderOutput(dataTable, element);\n",
              "          const docLink = document.createElement('div');\n",
              "          docLink.innerHTML = docLinkHtml;\n",
              "          element.appendChild(docLink);\n",
              "        }\n",
              "      </script>\n",
              "    </div>\n",
              "  </div>\n",
              "  "
            ]
          },
          "metadata": {},
          "execution_count": 78
        }
      ]
    },
    {
      "cell_type": "markdown",
      "source": [
        "# Process"
      ],
      "metadata": {
        "id": "Ax_jp0T-nBwj"
      }
    },
    {
      "cell_type": "markdown",
      "source": [
        "Merge \"basics\" table with \"ratings\" table into one \"df\" table"
      ],
      "metadata": {
        "id": "RlbuSyfbEzWG"
      }
    },
    {
      "cell_type": "code",
      "source": [
        "df = basics.merge(ratings, on='tconst', how='left')\n",
        "df.info()"
      ],
      "metadata": {
        "id": "OWb6ybP5zfIS",
        "colab": {
          "base_uri": "https://localhost:8080/"
        },
        "outputId": "d2cb7c9f-f9c4-47a1-b380-359fefad0db0"
      },
      "execution_count": 79,
      "outputs": [
        {
          "output_type": "stream",
          "name": "stdout",
          "text": [
            "<class 'pandas.core.frame.DataFrame'>\n",
            "Int64Index: 635049 entries, 0 to 635048\n",
            "Data columns (total 7 columns):\n",
            " #   Column         Non-Null Count   Dtype  \n",
            "---  ------         --------------   -----  \n",
            " 0   tconst         635049 non-null  object \n",
            " 1   titleType      635049 non-null  object \n",
            " 2   primaryTitle   635049 non-null  object \n",
            " 3   startYear      635049 non-null  object \n",
            " 4   genres         635049 non-null  object \n",
            " 5   averageRating  286871 non-null  float64\n",
            " 6   numVotes       286871 non-null  float64\n",
            "dtypes: float64(2), object(5)\n",
            "memory usage: 38.8+ MB\n"
          ]
        }
      ]
    },
    {
      "cell_type": "markdown",
      "source": [
        "Remove rows without genres or with votes no less than 1000 (from ~635k titles down to ~39k)."
      ],
      "metadata": {
        "id": "9DbsWlNNG2oe"
      }
    },
    {
      "cell_type": "code",
      "source": [
        "min_numVotes = 1000\n",
        "df = df[(df['genres'] != r'\\N') & (df['numVotes'] >= min_numVotes)].copy()"
      ],
      "metadata": {
        "id": "d-7RBjVRzjQ3"
      },
      "execution_count": 80,
      "outputs": []
    },
    {
      "cell_type": "code",
      "source": [
        "df.info()"
      ],
      "metadata": {
        "id": "yzM4H9hXt3Ey",
        "colab": {
          "base_uri": "https://localhost:8080/"
        },
        "outputId": "f5a0ffd2-74c4-495c-ce08-f253517fc915"
      },
      "execution_count": 81,
      "outputs": [
        {
          "output_type": "stream",
          "name": "stdout",
          "text": [
            "<class 'pandas.core.frame.DataFrame'>\n",
            "Int64Index: 39236 entries, 132 to 635040\n",
            "Data columns (total 7 columns):\n",
            " #   Column         Non-Null Count  Dtype  \n",
            "---  ------         --------------  -----  \n",
            " 0   tconst         39236 non-null  object \n",
            " 1   titleType      39236 non-null  object \n",
            " 2   primaryTitle   39236 non-null  object \n",
            " 3   startYear      39236 non-null  object \n",
            " 4   genres         39236 non-null  object \n",
            " 5   averageRating  39236 non-null  float64\n",
            " 6   numVotes       39236 non-null  float64\n",
            "dtypes: float64(2), object(5)\n",
            "memory usage: 2.4+ MB\n"
          ]
        }
      ]
    },
    {
      "cell_type": "markdown",
      "source": [
        "No we check genres combinations in order to define broader categories."
      ],
      "metadata": {
        "id": "1R9udPwPPNUP"
      }
    },
    {
      "cell_type": "code",
      "source": [
        "df.genres.value_counts().head()"
      ],
      "metadata": {
        "id": "oVVEe98by0Cj",
        "colab": {
          "base_uri": "https://localhost:8080/"
        },
        "outputId": "45fef5b0-b3c6-47c8-a084-3dac84097a7d"
      },
      "execution_count": 82,
      "outputs": [
        {
          "output_type": "execute_result",
          "data": {
            "text/plain": [
              "Drama                   3070\n",
              "Comedy                  1912\n",
              "Comedy,Drama            1777\n",
              "Drama,Romance           1592\n",
              "Comedy,Drama,Romance    1500\n",
              "Name: genres, dtype: int64"
            ]
          },
          "metadata": {},
          "execution_count": 82
        }
      ]
    },
    {
      "cell_type": "markdown",
      "source": [
        "Genres is a string of maximum of 3 genres associated with the title.\n",
        "\n",
        "For our analysis we map broader genre definitions in the following order:\n",
        "\n",
        "1. Animation\n",
        "2. Documentary\n",
        "3. Musical\n",
        "4. Comedy\n",
        "5. Horror\n",
        "6. Action\n",
        "7. Adventure\n",
        "8. Thriller\n",
        "9. Crime\n",
        "10. Drama\n",
        "11. Other\n",
        "\n",
        "[IMDB genre definitions](https://help.imdb.com/article/contribution/titles/genres/GZDRMS6R742JRGAG)"
      ],
      "metadata": {
        "id": "qjWBFTB6Bbf8"
      }
    },
    {
      "cell_type": "code",
      "source": [
        "#@title Genres processing\n",
        "\n",
        "# Returns the genre in the order of genres_order\n",
        "def get_genre(string):\n",
        "    string_list = string.split(',')\n",
        "    genres_order = ['Animation', 'Documentary', 'Musical', 'Comedy', 'Horror', 'Action', 'Adventure',\n",
        "                    'Thriller', 'Crime', 'Drama']\n",
        "    if len(string_list) == 1:\n",
        "        if string_list[0] in genres_order:\n",
        "            return string_list[0]\n",
        "        else:\n",
        "            return 'Other'\n",
        "    for genre in genres_order:\n",
        "        if genre in string_list:\n",
        "            return genre\n",
        "    return 'Other'"
      ],
      "metadata": {
        "id": "pjfEFKLE0FpQ"
      },
      "execution_count": 83,
      "outputs": []
    },
    {
      "cell_type": "code",
      "source": [
        "df['genre'] = df['genres'].map(lambda genre: get_genre(genre))"
      ],
      "metadata": {
        "id": "fSVLVqemLfmx"
      },
      "execution_count": 84,
      "outputs": []
    },
    {
      "cell_type": "code",
      "source": [
        "df.genre.value_counts(dropna=False)"
      ],
      "metadata": {
        "id": "Tw-TOuM_D9vI",
        "colab": {
          "base_uri": "https://localhost:8080/"
        },
        "outputId": "eef13e16-1296-4727-e558-88af6f3a21c6"
      },
      "execution_count": 85,
      "outputs": [
        {
          "output_type": "execute_result",
          "data": {
            "text/plain": [
              "Comedy         12303\n",
              "Drama           7982\n",
              "Action          4771\n",
              "Horror          4317\n",
              "Thriller        2705\n",
              "Documentary     1948\n",
              "Crime           1787\n",
              "Animation       1281\n",
              "Adventure        996\n",
              "Musical          669\n",
              "Other            477\n",
              "Name: genre, dtype: int64"
            ]
          },
          "metadata": {},
          "execution_count": 85
        }
      ]
    },
    {
      "cell_type": "markdown",
      "source": [
        "We check which of genres combinations have NaN in \"genre\" column. Should be empty table."
      ],
      "metadata": {
        "id": "EW3IuWb7baIS"
      }
    },
    {
      "cell_type": "code",
      "source": [
        "df[df['genre'].isna()].groupby('genres')['tconst'].count().reset_index(name='count').sort_values(['count'], ascending=False)"
      ],
      "metadata": {
        "id": "52C6B-aQEAji",
        "colab": {
          "base_uri": "https://localhost:8080/",
          "height": 49
        },
        "outputId": "f70a96cf-f590-4ccd-c730-aff5b3619af5"
      },
      "execution_count": 86,
      "outputs": [
        {
          "output_type": "execute_result",
          "data": {
            "text/plain": [
              "Empty DataFrame\n",
              "Columns: [genres, count]\n",
              "Index: []"
            ],
            "text/html": [
              "\n",
              "  <div id=\"df-1f9245c5-8786-4d58-a180-a75b4f5543a4\">\n",
              "    <div class=\"colab-df-container\">\n",
              "      <div>\n",
              "<style scoped>\n",
              "    .dataframe tbody tr th:only-of-type {\n",
              "        vertical-align: middle;\n",
              "    }\n",
              "\n",
              "    .dataframe tbody tr th {\n",
              "        vertical-align: top;\n",
              "    }\n",
              "\n",
              "    .dataframe thead th {\n",
              "        text-align: right;\n",
              "    }\n",
              "</style>\n",
              "<table border=\"1\" class=\"dataframe\">\n",
              "  <thead>\n",
              "    <tr style=\"text-align: right;\">\n",
              "      <th></th>\n",
              "      <th>genres</th>\n",
              "      <th>count</th>\n",
              "    </tr>\n",
              "  </thead>\n",
              "  <tbody>\n",
              "  </tbody>\n",
              "</table>\n",
              "</div>\n",
              "      <button class=\"colab-df-convert\" onclick=\"convertToInteractive('df-1f9245c5-8786-4d58-a180-a75b4f5543a4')\"\n",
              "              title=\"Convert this dataframe to an interactive table.\"\n",
              "              style=\"display:none;\">\n",
              "        \n",
              "  <svg xmlns=\"http://www.w3.org/2000/svg\" height=\"24px\"viewBox=\"0 0 24 24\"\n",
              "       width=\"24px\">\n",
              "    <path d=\"M0 0h24v24H0V0z\" fill=\"none\"/>\n",
              "    <path d=\"M18.56 5.44l.94 2.06.94-2.06 2.06-.94-2.06-.94-.94-2.06-.94 2.06-2.06.94zm-11 1L8.5 8.5l.94-2.06 2.06-.94-2.06-.94L8.5 2.5l-.94 2.06-2.06.94zm10 10l.94 2.06.94-2.06 2.06-.94-2.06-.94-.94-2.06-.94 2.06-2.06.94z\"/><path d=\"M17.41 7.96l-1.37-1.37c-.4-.4-.92-.59-1.43-.59-.52 0-1.04.2-1.43.59L10.3 9.45l-7.72 7.72c-.78.78-.78 2.05 0 2.83L4 21.41c.39.39.9.59 1.41.59.51 0 1.02-.2 1.41-.59l7.78-7.78 2.81-2.81c.8-.78.8-2.07 0-2.86zM5.41 20L4 18.59l7.72-7.72 1.47 1.35L5.41 20z\"/>\n",
              "  </svg>\n",
              "      </button>\n",
              "      \n",
              "  <style>\n",
              "    .colab-df-container {\n",
              "      display:flex;\n",
              "      flex-wrap:wrap;\n",
              "      gap: 12px;\n",
              "    }\n",
              "\n",
              "    .colab-df-convert {\n",
              "      background-color: #E8F0FE;\n",
              "      border: none;\n",
              "      border-radius: 50%;\n",
              "      cursor: pointer;\n",
              "      display: none;\n",
              "      fill: #1967D2;\n",
              "      height: 32px;\n",
              "      padding: 0 0 0 0;\n",
              "      width: 32px;\n",
              "    }\n",
              "\n",
              "    .colab-df-convert:hover {\n",
              "      background-color: #E2EBFA;\n",
              "      box-shadow: 0px 1px 2px rgba(60, 64, 67, 0.3), 0px 1px 3px 1px rgba(60, 64, 67, 0.15);\n",
              "      fill: #174EA6;\n",
              "    }\n",
              "\n",
              "    [theme=dark] .colab-df-convert {\n",
              "      background-color: #3B4455;\n",
              "      fill: #D2E3FC;\n",
              "    }\n",
              "\n",
              "    [theme=dark] .colab-df-convert:hover {\n",
              "      background-color: #434B5C;\n",
              "      box-shadow: 0px 1px 3px 1px rgba(0, 0, 0, 0.15);\n",
              "      filter: drop-shadow(0px 1px 2px rgba(0, 0, 0, 0.3));\n",
              "      fill: #FFFFFF;\n",
              "    }\n",
              "  </style>\n",
              "\n",
              "      <script>\n",
              "        const buttonEl =\n",
              "          document.querySelector('#df-1f9245c5-8786-4d58-a180-a75b4f5543a4 button.colab-df-convert');\n",
              "        buttonEl.style.display =\n",
              "          google.colab.kernel.accessAllowed ? 'block' : 'none';\n",
              "\n",
              "        async function convertToInteractive(key) {\n",
              "          const element = document.querySelector('#df-1f9245c5-8786-4d58-a180-a75b4f5543a4');\n",
              "          const dataTable =\n",
              "            await google.colab.kernel.invokeFunction('convertToInteractive',\n",
              "                                                     [key], {});\n",
              "          if (!dataTable) return;\n",
              "\n",
              "          const docLinkHtml = 'Like what you see? Visit the ' +\n",
              "            '<a target=\"_blank\" href=https://colab.research.google.com/notebooks/data_table.ipynb>data table notebook</a>'\n",
              "            + ' to learn more about interactive tables.';\n",
              "          element.innerHTML = '';\n",
              "          dataTable['output_type'] = 'display_data';\n",
              "          await google.colab.output.renderOutput(dataTable, element);\n",
              "          const docLink = document.createElement('div');\n",
              "          docLink.innerHTML = docLinkHtml;\n",
              "          element.appendChild(docLink);\n",
              "        }\n",
              "      </script>\n",
              "    </div>\n",
              "  </div>\n",
              "  "
            ]
          },
          "metadata": {},
          "execution_count": 86
        }
      ]
    },
    {
      "cell_type": "markdown",
      "source": [
        "Let's see if our classification makes sense by viewing the most popular titles and their genres/genre."
      ],
      "metadata": {
        "id": "LZmX3YWdBgnV"
      }
    },
    {
      "cell_type": "code",
      "source": [
        "df[['primaryTitle', 'startYear', 'genres', 'genre', 'averageRating', 'numVotes']].sort_values('numVotes', ascending=False).head(10)"
      ],
      "metadata": {
        "colab": {
          "base_uri": "https://localhost:8080/",
          "height": 363
        },
        "id": "zCBcfIR1SIGD",
        "outputId": "a0123033-12a6-40e9-a297-30d22a6813ec"
      },
      "execution_count": 87,
      "outputs": [
        {
          "output_type": "execute_result",
          "data": {
            "text/plain": [
              "                                             primaryTitle startYear  \\\n",
              "77483                            The Shawshank Redemption      1994   \n",
              "208519                                    The Dark Knight      2008   \n",
              "309246                                          Inception      2010   \n",
              "91319                                          Fight Club      1999   \n",
              "76655                                        Forrest Gump      1994   \n",
              "77320                                        Pulp Fiction      1994   \n",
              "89196                                          The Matrix      1999   \n",
              "82667   The Lord of the Rings: The Fellowship of the Ring      2001   \n",
              "50030                                       The Godfather      1972   \n",
              "103957      The Lord of the Rings: The Return of the King      2003   \n",
              "\n",
              "                         genres   genre  averageRating   numVotes  \n",
              "77483                     Drama   Drama            9.3  2698227.0  \n",
              "208519       Action,Crime,Drama  Action            9.0  2671978.0  \n",
              "309246  Action,Adventure,Sci-Fi  Action            8.8  2370380.0  \n",
              "91319                     Drama   Drama            8.8  2143125.0  \n",
              "76655             Drama,Romance   Drama            8.8  2095576.0  \n",
              "77320               Crime,Drama   Crime            8.9  2071071.0  \n",
              "89196             Action,Sci-Fi  Action            8.7  1925601.0  \n",
              "82667    Action,Adventure,Drama  Action            8.8  1887585.0  \n",
              "50030               Crime,Drama   Crime            9.2  1872530.0  \n",
              "103957   Action,Adventure,Drama  Action            9.0  1858226.0  "
            ],
            "text/html": [
              "\n",
              "  <div id=\"df-3b13791f-4632-4d01-9f30-2159d8322031\">\n",
              "    <div class=\"colab-df-container\">\n",
              "      <div>\n",
              "<style scoped>\n",
              "    .dataframe tbody tr th:only-of-type {\n",
              "        vertical-align: middle;\n",
              "    }\n",
              "\n",
              "    .dataframe tbody tr th {\n",
              "        vertical-align: top;\n",
              "    }\n",
              "\n",
              "    .dataframe thead th {\n",
              "        text-align: right;\n",
              "    }\n",
              "</style>\n",
              "<table border=\"1\" class=\"dataframe\">\n",
              "  <thead>\n",
              "    <tr style=\"text-align: right;\">\n",
              "      <th></th>\n",
              "      <th>primaryTitle</th>\n",
              "      <th>startYear</th>\n",
              "      <th>genres</th>\n",
              "      <th>genre</th>\n",
              "      <th>averageRating</th>\n",
              "      <th>numVotes</th>\n",
              "    </tr>\n",
              "  </thead>\n",
              "  <tbody>\n",
              "    <tr>\n",
              "      <th>77483</th>\n",
              "      <td>The Shawshank Redemption</td>\n",
              "      <td>1994</td>\n",
              "      <td>Drama</td>\n",
              "      <td>Drama</td>\n",
              "      <td>9.3</td>\n",
              "      <td>2698227.0</td>\n",
              "    </tr>\n",
              "    <tr>\n",
              "      <th>208519</th>\n",
              "      <td>The Dark Knight</td>\n",
              "      <td>2008</td>\n",
              "      <td>Action,Crime,Drama</td>\n",
              "      <td>Action</td>\n",
              "      <td>9.0</td>\n",
              "      <td>2671978.0</td>\n",
              "    </tr>\n",
              "    <tr>\n",
              "      <th>309246</th>\n",
              "      <td>Inception</td>\n",
              "      <td>2010</td>\n",
              "      <td>Action,Adventure,Sci-Fi</td>\n",
              "      <td>Action</td>\n",
              "      <td>8.8</td>\n",
              "      <td>2370380.0</td>\n",
              "    </tr>\n",
              "    <tr>\n",
              "      <th>91319</th>\n",
              "      <td>Fight Club</td>\n",
              "      <td>1999</td>\n",
              "      <td>Drama</td>\n",
              "      <td>Drama</td>\n",
              "      <td>8.8</td>\n",
              "      <td>2143125.0</td>\n",
              "    </tr>\n",
              "    <tr>\n",
              "      <th>76655</th>\n",
              "      <td>Forrest Gump</td>\n",
              "      <td>1994</td>\n",
              "      <td>Drama,Romance</td>\n",
              "      <td>Drama</td>\n",
              "      <td>8.8</td>\n",
              "      <td>2095576.0</td>\n",
              "    </tr>\n",
              "    <tr>\n",
              "      <th>77320</th>\n",
              "      <td>Pulp Fiction</td>\n",
              "      <td>1994</td>\n",
              "      <td>Crime,Drama</td>\n",
              "      <td>Crime</td>\n",
              "      <td>8.9</td>\n",
              "      <td>2071071.0</td>\n",
              "    </tr>\n",
              "    <tr>\n",
              "      <th>89196</th>\n",
              "      <td>The Matrix</td>\n",
              "      <td>1999</td>\n",
              "      <td>Action,Sci-Fi</td>\n",
              "      <td>Action</td>\n",
              "      <td>8.7</td>\n",
              "      <td>1925601.0</td>\n",
              "    </tr>\n",
              "    <tr>\n",
              "      <th>82667</th>\n",
              "      <td>The Lord of the Rings: The Fellowship of the Ring</td>\n",
              "      <td>2001</td>\n",
              "      <td>Action,Adventure,Drama</td>\n",
              "      <td>Action</td>\n",
              "      <td>8.8</td>\n",
              "      <td>1887585.0</td>\n",
              "    </tr>\n",
              "    <tr>\n",
              "      <th>50030</th>\n",
              "      <td>The Godfather</td>\n",
              "      <td>1972</td>\n",
              "      <td>Crime,Drama</td>\n",
              "      <td>Crime</td>\n",
              "      <td>9.2</td>\n",
              "      <td>1872530.0</td>\n",
              "    </tr>\n",
              "    <tr>\n",
              "      <th>103957</th>\n",
              "      <td>The Lord of the Rings: The Return of the King</td>\n",
              "      <td>2003</td>\n",
              "      <td>Action,Adventure,Drama</td>\n",
              "      <td>Action</td>\n",
              "      <td>9.0</td>\n",
              "      <td>1858226.0</td>\n",
              "    </tr>\n",
              "  </tbody>\n",
              "</table>\n",
              "</div>\n",
              "      <button class=\"colab-df-convert\" onclick=\"convertToInteractive('df-3b13791f-4632-4d01-9f30-2159d8322031')\"\n",
              "              title=\"Convert this dataframe to an interactive table.\"\n",
              "              style=\"display:none;\">\n",
              "        \n",
              "  <svg xmlns=\"http://www.w3.org/2000/svg\" height=\"24px\"viewBox=\"0 0 24 24\"\n",
              "       width=\"24px\">\n",
              "    <path d=\"M0 0h24v24H0V0z\" fill=\"none\"/>\n",
              "    <path d=\"M18.56 5.44l.94 2.06.94-2.06 2.06-.94-2.06-.94-.94-2.06-.94 2.06-2.06.94zm-11 1L8.5 8.5l.94-2.06 2.06-.94-2.06-.94L8.5 2.5l-.94 2.06-2.06.94zm10 10l.94 2.06.94-2.06 2.06-.94-2.06-.94-.94-2.06-.94 2.06-2.06.94z\"/><path d=\"M17.41 7.96l-1.37-1.37c-.4-.4-.92-.59-1.43-.59-.52 0-1.04.2-1.43.59L10.3 9.45l-7.72 7.72c-.78.78-.78 2.05 0 2.83L4 21.41c.39.39.9.59 1.41.59.51 0 1.02-.2 1.41-.59l7.78-7.78 2.81-2.81c.8-.78.8-2.07 0-2.86zM5.41 20L4 18.59l7.72-7.72 1.47 1.35L5.41 20z\"/>\n",
              "  </svg>\n",
              "      </button>\n",
              "      \n",
              "  <style>\n",
              "    .colab-df-container {\n",
              "      display:flex;\n",
              "      flex-wrap:wrap;\n",
              "      gap: 12px;\n",
              "    }\n",
              "\n",
              "    .colab-df-convert {\n",
              "      background-color: #E8F0FE;\n",
              "      border: none;\n",
              "      border-radius: 50%;\n",
              "      cursor: pointer;\n",
              "      display: none;\n",
              "      fill: #1967D2;\n",
              "      height: 32px;\n",
              "      padding: 0 0 0 0;\n",
              "      width: 32px;\n",
              "    }\n",
              "\n",
              "    .colab-df-convert:hover {\n",
              "      background-color: #E2EBFA;\n",
              "      box-shadow: 0px 1px 2px rgba(60, 64, 67, 0.3), 0px 1px 3px 1px rgba(60, 64, 67, 0.15);\n",
              "      fill: #174EA6;\n",
              "    }\n",
              "\n",
              "    [theme=dark] .colab-df-convert {\n",
              "      background-color: #3B4455;\n",
              "      fill: #D2E3FC;\n",
              "    }\n",
              "\n",
              "    [theme=dark] .colab-df-convert:hover {\n",
              "      background-color: #434B5C;\n",
              "      box-shadow: 0px 1px 3px 1px rgba(0, 0, 0, 0.15);\n",
              "      filter: drop-shadow(0px 1px 2px rgba(0, 0, 0, 0.3));\n",
              "      fill: #FFFFFF;\n",
              "    }\n",
              "  </style>\n",
              "\n",
              "      <script>\n",
              "        const buttonEl =\n",
              "          document.querySelector('#df-3b13791f-4632-4d01-9f30-2159d8322031 button.colab-df-convert');\n",
              "        buttonEl.style.display =\n",
              "          google.colab.kernel.accessAllowed ? 'block' : 'none';\n",
              "\n",
              "        async function convertToInteractive(key) {\n",
              "          const element = document.querySelector('#df-3b13791f-4632-4d01-9f30-2159d8322031');\n",
              "          const dataTable =\n",
              "            await google.colab.kernel.invokeFunction('convertToInteractive',\n",
              "                                                     [key], {});\n",
              "          if (!dataTable) return;\n",
              "\n",
              "          const docLinkHtml = 'Like what you see? Visit the ' +\n",
              "            '<a target=\"_blank\" href=https://colab.research.google.com/notebooks/data_table.ipynb>data table notebook</a>'\n",
              "            + ' to learn more about interactive tables.';\n",
              "          element.innerHTML = '';\n",
              "          dataTable['output_type'] = 'display_data';\n",
              "          await google.colab.output.renderOutput(dataTable, element);\n",
              "          const docLink = document.createElement('div');\n",
              "          docLink.innerHTML = docLinkHtml;\n",
              "          element.appendChild(docLink);\n",
              "        }\n",
              "      </script>\n",
              "    </div>\n",
              "  </div>\n",
              "  "
            ]
          },
          "metadata": {},
          "execution_count": 87
        }
      ]
    },
    {
      "cell_type": "markdown",
      "source": [
        "# Q.1 Analysis\n",
        "The formula for calculating the Top Rated 250 Titles gives a true Bayesian estimate weighted rating:\n",
        " \n",
        " \n",
        "\\begin{equation}\n",
        "\\text{WR} = \\frac{v}{v+m} \\times R + \\frac{m}{v+m} \\times C \n",
        "\\end{equation}\n",
        "\n",
        "Where:\n",
        "\n",
        "$R$ = average for the movie (mean) = (averageRating)\n",
        "\n",
        "$v$ = number of votes for the movie = (numVotes)\n",
        "\n",
        "$m$ = minimum votes required to be listed in the Top 250 (currently 25000)\n",
        "\n",
        "$C$ = the mean vote across the whole report (currently 7.0)\n",
        "\n",
        "For the Top 250, only votes from regular voters are considered.\n",
        "\n",
        "Since IMDb doesn't disclose who are regular voters, we can't really know what is the exact criteria.\n",
        "\n",
        "[Source](https://www.quora.com/What-algorithm-does-IMDB-use-to-decide-the-top-250-movies)\n",
        "\n",
        "We use this formula, however we calculate mean \"averageRating\" across whole df and minimum numVotes is 1000."
      ],
      "metadata": {
        "id": "1fZZQY4FDP1A"
      }
    },
    {
      "cell_type": "code",
      "source": [
        "df['wr'] = ((df['numVotes'] / (df['numVotes'] + min_numVotes)) * df['averageRating']) + ((min_numVotes / (df['numVotes'] + min_numVotes)) * df['averageRating'].mean())"
      ],
      "metadata": {
        "id": "yWdqufzqFe6B"
      },
      "execution_count": 88,
      "outputs": []
    },
    {
      "cell_type": "code",
      "source": [
        "df[['primaryTitle', 'wr']].sort_values('wr', ascending=False).head(10)"
      ],
      "metadata": {
        "colab": {
          "base_uri": "https://localhost:8080/",
          "height": 363
        },
        "id": "psy_RDYOKiUQ",
        "outputId": "69d616b8-343c-4710-9dbc-f2f3e033661f"
      },
      "execution_count": 89,
      "outputs": [
        {
          "output_type": "execute_result",
          "data": {
            "text/plain": [
              "                                         primaryTitle        wr\n",
              "365514                        The Silence of Swastika  9.305783\n",
              "77483                        The Shawshank Redemption  9.298876\n",
              "50030                                   The Godfather  9.198434\n",
              "142682                                The Chaos Class  9.130578\n",
              "450590                         CM101MMXI Fundamentals  9.040431\n",
              "208519                                The Dark Knight  8.998977\n",
              "103957  The Lord of the Rings: The Return of the King  8.998530\n",
              "75700                                Schindler's List  8.997998\n",
              "52069                           The Godfather Part II  8.997866\n",
              "35976                                    12 Angry Men  8.996574"
            ],
            "text/html": [
              "\n",
              "  <div id=\"df-be0b5aba-8340-4255-a68b-e270881f6fc9\">\n",
              "    <div class=\"colab-df-container\">\n",
              "      <div>\n",
              "<style scoped>\n",
              "    .dataframe tbody tr th:only-of-type {\n",
              "        vertical-align: middle;\n",
              "    }\n",
              "\n",
              "    .dataframe tbody tr th {\n",
              "        vertical-align: top;\n",
              "    }\n",
              "\n",
              "    .dataframe thead th {\n",
              "        text-align: right;\n",
              "    }\n",
              "</style>\n",
              "<table border=\"1\" class=\"dataframe\">\n",
              "  <thead>\n",
              "    <tr style=\"text-align: right;\">\n",
              "      <th></th>\n",
              "      <th>primaryTitle</th>\n",
              "      <th>wr</th>\n",
              "    </tr>\n",
              "  </thead>\n",
              "  <tbody>\n",
              "    <tr>\n",
              "      <th>365514</th>\n",
              "      <td>The Silence of Swastika</td>\n",
              "      <td>9.305783</td>\n",
              "    </tr>\n",
              "    <tr>\n",
              "      <th>77483</th>\n",
              "      <td>The Shawshank Redemption</td>\n",
              "      <td>9.298876</td>\n",
              "    </tr>\n",
              "    <tr>\n",
              "      <th>50030</th>\n",
              "      <td>The Godfather</td>\n",
              "      <td>9.198434</td>\n",
              "    </tr>\n",
              "    <tr>\n",
              "      <th>142682</th>\n",
              "      <td>The Chaos Class</td>\n",
              "      <td>9.130578</td>\n",
              "    </tr>\n",
              "    <tr>\n",
              "      <th>450590</th>\n",
              "      <td>CM101MMXI Fundamentals</td>\n",
              "      <td>9.040431</td>\n",
              "    </tr>\n",
              "    <tr>\n",
              "      <th>208519</th>\n",
              "      <td>The Dark Knight</td>\n",
              "      <td>8.998977</td>\n",
              "    </tr>\n",
              "    <tr>\n",
              "      <th>103957</th>\n",
              "      <td>The Lord of the Rings: The Return of the King</td>\n",
              "      <td>8.998530</td>\n",
              "    </tr>\n",
              "    <tr>\n",
              "      <th>75700</th>\n",
              "      <td>Schindler's List</td>\n",
              "      <td>8.997998</td>\n",
              "    </tr>\n",
              "    <tr>\n",
              "      <th>52069</th>\n",
              "      <td>The Godfather Part II</td>\n",
              "      <td>8.997866</td>\n",
              "    </tr>\n",
              "    <tr>\n",
              "      <th>35976</th>\n",
              "      <td>12 Angry Men</td>\n",
              "      <td>8.996574</td>\n",
              "    </tr>\n",
              "  </tbody>\n",
              "</table>\n",
              "</div>\n",
              "      <button class=\"colab-df-convert\" onclick=\"convertToInteractive('df-be0b5aba-8340-4255-a68b-e270881f6fc9')\"\n",
              "              title=\"Convert this dataframe to an interactive table.\"\n",
              "              style=\"display:none;\">\n",
              "        \n",
              "  <svg xmlns=\"http://www.w3.org/2000/svg\" height=\"24px\"viewBox=\"0 0 24 24\"\n",
              "       width=\"24px\">\n",
              "    <path d=\"M0 0h24v24H0V0z\" fill=\"none\"/>\n",
              "    <path d=\"M18.56 5.44l.94 2.06.94-2.06 2.06-.94-2.06-.94-.94-2.06-.94 2.06-2.06.94zm-11 1L8.5 8.5l.94-2.06 2.06-.94-2.06-.94L8.5 2.5l-.94 2.06-2.06.94zm10 10l.94 2.06.94-2.06 2.06-.94-2.06-.94-.94-2.06-.94 2.06-2.06.94z\"/><path d=\"M17.41 7.96l-1.37-1.37c-.4-.4-.92-.59-1.43-.59-.52 0-1.04.2-1.43.59L10.3 9.45l-7.72 7.72c-.78.78-.78 2.05 0 2.83L4 21.41c.39.39.9.59 1.41.59.51 0 1.02-.2 1.41-.59l7.78-7.78 2.81-2.81c.8-.78.8-2.07 0-2.86zM5.41 20L4 18.59l7.72-7.72 1.47 1.35L5.41 20z\"/>\n",
              "  </svg>\n",
              "      </button>\n",
              "      \n",
              "  <style>\n",
              "    .colab-df-container {\n",
              "      display:flex;\n",
              "      flex-wrap:wrap;\n",
              "      gap: 12px;\n",
              "    }\n",
              "\n",
              "    .colab-df-convert {\n",
              "      background-color: #E8F0FE;\n",
              "      border: none;\n",
              "      border-radius: 50%;\n",
              "      cursor: pointer;\n",
              "      display: none;\n",
              "      fill: #1967D2;\n",
              "      height: 32px;\n",
              "      padding: 0 0 0 0;\n",
              "      width: 32px;\n",
              "    }\n",
              "\n",
              "    .colab-df-convert:hover {\n",
              "      background-color: #E2EBFA;\n",
              "      box-shadow: 0px 1px 2px rgba(60, 64, 67, 0.3), 0px 1px 3px 1px rgba(60, 64, 67, 0.15);\n",
              "      fill: #174EA6;\n",
              "    }\n",
              "\n",
              "    [theme=dark] .colab-df-convert {\n",
              "      background-color: #3B4455;\n",
              "      fill: #D2E3FC;\n",
              "    }\n",
              "\n",
              "    [theme=dark] .colab-df-convert:hover {\n",
              "      background-color: #434B5C;\n",
              "      box-shadow: 0px 1px 3px 1px rgba(0, 0, 0, 0.15);\n",
              "      filter: drop-shadow(0px 1px 2px rgba(0, 0, 0, 0.3));\n",
              "      fill: #FFFFFF;\n",
              "    }\n",
              "  </style>\n",
              "\n",
              "      <script>\n",
              "        const buttonEl =\n",
              "          document.querySelector('#df-be0b5aba-8340-4255-a68b-e270881f6fc9 button.colab-df-convert');\n",
              "        buttonEl.style.display =\n",
              "          google.colab.kernel.accessAllowed ? 'block' : 'none';\n",
              "\n",
              "        async function convertToInteractive(key) {\n",
              "          const element = document.querySelector('#df-be0b5aba-8340-4255-a68b-e270881f6fc9');\n",
              "          const dataTable =\n",
              "            await google.colab.kernel.invokeFunction('convertToInteractive',\n",
              "                                                     [key], {});\n",
              "          if (!dataTable) return;\n",
              "\n",
              "          const docLinkHtml = 'Like what you see? Visit the ' +\n",
              "            '<a target=\"_blank\" href=https://colab.research.google.com/notebooks/data_table.ipynb>data table notebook</a>'\n",
              "            + ' to learn more about interactive tables.';\n",
              "          element.innerHTML = '';\n",
              "          dataTable['output_type'] = 'display_data';\n",
              "          await google.colab.output.renderOutput(dataTable, element);\n",
              "          const docLink = document.createElement('div');\n",
              "          docLink.innerHTML = docLinkHtml;\n",
              "          element.appendChild(docLink);\n",
              "        }\n",
              "      </script>\n",
              "    </div>\n",
              "  </div>\n",
              "  "
            ]
          },
          "metadata": {},
          "execution_count": 89
        }
      ]
    },
    {
      "cell_type": "markdown",
      "source": [
        "Let's see how our top movies by 'wr' compares with IMDB's top 10."
      ],
      "metadata": {
        "id": "yuwidt77LAug"
      }
    },
    {
      "cell_type": "markdown",
      "source": [
        "https://www.kaggle.com/datasets/rajugc/imdb-top-250-movies-dataset"
      ],
      "metadata": {
        "id": "Pis51IkeLbRq"
      }
    },
    {
      "cell_type": "markdown",
      "source": [
        "https://drive.google.com/file/d/1qxOUIz2ZBLa-bd7Q7aTr-zBKXQKoFPPw/view?usp=sharing"
      ],
      "metadata": {
        "id": "kDq3loqaLXd9"
      }
    },
    {
      "cell_type": "code",
      "source": [
        "! gdown 1qxOUIz2ZBLa-bd7Q7aTr-zBKXQKoFPPw"
      ],
      "metadata": {
        "colab": {
          "base_uri": "https://localhost:8080/"
        },
        "id": "-YuLgtqOK1P1",
        "outputId": "210bd7d0-1cf6-4a3a-ebfd-65329f80f73f"
      },
      "execution_count": 90,
      "outputs": [
        {
          "output_type": "stream",
          "name": "stdout",
          "text": [
            "Downloading...\n",
            "From: https://drive.google.com/uc?id=1qxOUIz2ZBLa-bd7Q7aTr-zBKXQKoFPPw\n",
            "To: /content/IMDB Top 250.zip\n",
            "\r  0% 0.00/52.8k [00:00<?, ?B/s]\r100% 52.8k/52.8k [00:00<00:00, 64.1MB/s]\n"
          ]
        }
      ]
    },
    {
      "cell_type": "code",
      "source": [
        "! unzip -o '/content/IMDB Top 250.zip'"
      ],
      "metadata": {
        "colab": {
          "base_uri": "https://localhost:8080/"
        },
        "id": "4ooAvcJ8LqAI",
        "outputId": "2da96682-d076-416c-c502-e7aeba9c5cb7"
      },
      "execution_count": 91,
      "outputs": [
        {
          "output_type": "stream",
          "name": "stdout",
          "text": [
            "Archive:  /content/IMDB Top 250.zip\n",
            "  inflating: IMDB Top 250 Movies.csv  \n"
          ]
        }
      ]
    },
    {
      "cell_type": "code",
      "source": [
        "imdb_top_250 = pd.read_csv('/content/IMDB Top 250 Movies.csv', usecols=['rank', 'name', 'rating'])\n",
        "imdb_top_250.head(10)"
      ],
      "metadata": {
        "colab": {
          "base_uri": "https://localhost:8080/",
          "height": 363
        },
        "id": "djtLHyK-L8iU",
        "outputId": "8d78dfbd-d0d7-44aa-d873-1284207d40c8"
      },
      "execution_count": 92,
      "outputs": [
        {
          "output_type": "execute_result",
          "data": {
            "text/plain": [
              "   rank                                               name  rating\n",
              "0     1                           The Shawshank Redemption     9.3\n",
              "1     2                                      The Godfather     9.2\n",
              "2     3                                    The Dark Knight     9.0\n",
              "3     4                              The Godfather Part II     9.0\n",
              "4     5                                       12 Angry Men     9.0\n",
              "5     6                                   Schindler's List     9.0\n",
              "6     7      The Lord of the Rings: The Return of the King     9.0\n",
              "7     8                                       Pulp Fiction     8.9\n",
              "8     9  The Lord of the Rings: The Fellowship of the Ring     8.8\n",
              "9    10                     The Good, the Bad and the Ugly     8.8"
            ],
            "text/html": [
              "\n",
              "  <div id=\"df-86a71a02-ff09-42cc-8914-0afd83b62010\">\n",
              "    <div class=\"colab-df-container\">\n",
              "      <div>\n",
              "<style scoped>\n",
              "    .dataframe tbody tr th:only-of-type {\n",
              "        vertical-align: middle;\n",
              "    }\n",
              "\n",
              "    .dataframe tbody tr th {\n",
              "        vertical-align: top;\n",
              "    }\n",
              "\n",
              "    .dataframe thead th {\n",
              "        text-align: right;\n",
              "    }\n",
              "</style>\n",
              "<table border=\"1\" class=\"dataframe\">\n",
              "  <thead>\n",
              "    <tr style=\"text-align: right;\">\n",
              "      <th></th>\n",
              "      <th>rank</th>\n",
              "      <th>name</th>\n",
              "      <th>rating</th>\n",
              "    </tr>\n",
              "  </thead>\n",
              "  <tbody>\n",
              "    <tr>\n",
              "      <th>0</th>\n",
              "      <td>1</td>\n",
              "      <td>The Shawshank Redemption</td>\n",
              "      <td>9.3</td>\n",
              "    </tr>\n",
              "    <tr>\n",
              "      <th>1</th>\n",
              "      <td>2</td>\n",
              "      <td>The Godfather</td>\n",
              "      <td>9.2</td>\n",
              "    </tr>\n",
              "    <tr>\n",
              "      <th>2</th>\n",
              "      <td>3</td>\n",
              "      <td>The Dark Knight</td>\n",
              "      <td>9.0</td>\n",
              "    </tr>\n",
              "    <tr>\n",
              "      <th>3</th>\n",
              "      <td>4</td>\n",
              "      <td>The Godfather Part II</td>\n",
              "      <td>9.0</td>\n",
              "    </tr>\n",
              "    <tr>\n",
              "      <th>4</th>\n",
              "      <td>5</td>\n",
              "      <td>12 Angry Men</td>\n",
              "      <td>9.0</td>\n",
              "    </tr>\n",
              "    <tr>\n",
              "      <th>5</th>\n",
              "      <td>6</td>\n",
              "      <td>Schindler's List</td>\n",
              "      <td>9.0</td>\n",
              "    </tr>\n",
              "    <tr>\n",
              "      <th>6</th>\n",
              "      <td>7</td>\n",
              "      <td>The Lord of the Rings: The Return of the King</td>\n",
              "      <td>9.0</td>\n",
              "    </tr>\n",
              "    <tr>\n",
              "      <th>7</th>\n",
              "      <td>8</td>\n",
              "      <td>Pulp Fiction</td>\n",
              "      <td>8.9</td>\n",
              "    </tr>\n",
              "    <tr>\n",
              "      <th>8</th>\n",
              "      <td>9</td>\n",
              "      <td>The Lord of the Rings: The Fellowship of the Ring</td>\n",
              "      <td>8.8</td>\n",
              "    </tr>\n",
              "    <tr>\n",
              "      <th>9</th>\n",
              "      <td>10</td>\n",
              "      <td>The Good, the Bad and the Ugly</td>\n",
              "      <td>8.8</td>\n",
              "    </tr>\n",
              "  </tbody>\n",
              "</table>\n",
              "</div>\n",
              "      <button class=\"colab-df-convert\" onclick=\"convertToInteractive('df-86a71a02-ff09-42cc-8914-0afd83b62010')\"\n",
              "              title=\"Convert this dataframe to an interactive table.\"\n",
              "              style=\"display:none;\">\n",
              "        \n",
              "  <svg xmlns=\"http://www.w3.org/2000/svg\" height=\"24px\"viewBox=\"0 0 24 24\"\n",
              "       width=\"24px\">\n",
              "    <path d=\"M0 0h24v24H0V0z\" fill=\"none\"/>\n",
              "    <path d=\"M18.56 5.44l.94 2.06.94-2.06 2.06-.94-2.06-.94-.94-2.06-.94 2.06-2.06.94zm-11 1L8.5 8.5l.94-2.06 2.06-.94-2.06-.94L8.5 2.5l-.94 2.06-2.06.94zm10 10l.94 2.06.94-2.06 2.06-.94-2.06-.94-.94-2.06-.94 2.06-2.06.94z\"/><path d=\"M17.41 7.96l-1.37-1.37c-.4-.4-.92-.59-1.43-.59-.52 0-1.04.2-1.43.59L10.3 9.45l-7.72 7.72c-.78.78-.78 2.05 0 2.83L4 21.41c.39.39.9.59 1.41.59.51 0 1.02-.2 1.41-.59l7.78-7.78 2.81-2.81c.8-.78.8-2.07 0-2.86zM5.41 20L4 18.59l7.72-7.72 1.47 1.35L5.41 20z\"/>\n",
              "  </svg>\n",
              "      </button>\n",
              "      \n",
              "  <style>\n",
              "    .colab-df-container {\n",
              "      display:flex;\n",
              "      flex-wrap:wrap;\n",
              "      gap: 12px;\n",
              "    }\n",
              "\n",
              "    .colab-df-convert {\n",
              "      background-color: #E8F0FE;\n",
              "      border: none;\n",
              "      border-radius: 50%;\n",
              "      cursor: pointer;\n",
              "      display: none;\n",
              "      fill: #1967D2;\n",
              "      height: 32px;\n",
              "      padding: 0 0 0 0;\n",
              "      width: 32px;\n",
              "    }\n",
              "\n",
              "    .colab-df-convert:hover {\n",
              "      background-color: #E2EBFA;\n",
              "      box-shadow: 0px 1px 2px rgba(60, 64, 67, 0.3), 0px 1px 3px 1px rgba(60, 64, 67, 0.15);\n",
              "      fill: #174EA6;\n",
              "    }\n",
              "\n",
              "    [theme=dark] .colab-df-convert {\n",
              "      background-color: #3B4455;\n",
              "      fill: #D2E3FC;\n",
              "    }\n",
              "\n",
              "    [theme=dark] .colab-df-convert:hover {\n",
              "      background-color: #434B5C;\n",
              "      box-shadow: 0px 1px 3px 1px rgba(0, 0, 0, 0.15);\n",
              "      filter: drop-shadow(0px 1px 2px rgba(0, 0, 0, 0.3));\n",
              "      fill: #FFFFFF;\n",
              "    }\n",
              "  </style>\n",
              "\n",
              "      <script>\n",
              "        const buttonEl =\n",
              "          document.querySelector('#df-86a71a02-ff09-42cc-8914-0afd83b62010 button.colab-df-convert');\n",
              "        buttonEl.style.display =\n",
              "          google.colab.kernel.accessAllowed ? 'block' : 'none';\n",
              "\n",
              "        async function convertToInteractive(key) {\n",
              "          const element = document.querySelector('#df-86a71a02-ff09-42cc-8914-0afd83b62010');\n",
              "          const dataTable =\n",
              "            await google.colab.kernel.invokeFunction('convertToInteractive',\n",
              "                                                     [key], {});\n",
              "          if (!dataTable) return;\n",
              "\n",
              "          const docLinkHtml = 'Like what you see? Visit the ' +\n",
              "            '<a target=\"_blank\" href=https://colab.research.google.com/notebooks/data_table.ipynb>data table notebook</a>'\n",
              "            + ' to learn more about interactive tables.';\n",
              "          element.innerHTML = '';\n",
              "          dataTable['output_type'] = 'display_data';\n",
              "          await google.colab.output.renderOutput(dataTable, element);\n",
              "          const docLink = document.createElement('div');\n",
              "          docLink.innerHTML = docLinkHtml;\n",
              "          element.appendChild(docLink);\n",
              "        }\n",
              "      </script>\n",
              "    </div>\n",
              "  </div>\n",
              "  "
            ]
          },
          "metadata": {},
          "execution_count": 92
        }
      ]
    },
    {
      "cell_type": "markdown",
      "source": [
        "We notice that IMDB 250 does not include popular movies in languages other than English."
      ],
      "metadata": {
        "id": "uw7ZkdB0QKPC"
      }
    },
    {
      "cell_type": "markdown",
      "source": [
        "Now let's see statistics on ratings of movie genres."
      ],
      "metadata": {
        "id": "QdGCylu6Qe4o"
      }
    },
    {
      "cell_type": "code",
      "source": [
        "df.groupby('genre')['wr'].agg(['count', 'mean', 'min', 'max', 'std']).sort_values(['mean'], ascending=False)"
      ],
      "metadata": {
        "id": "emC_UiE6JlOn",
        "colab": {
          "base_uri": "https://localhost:8080/",
          "height": 425
        },
        "outputId": "f64c26b8-22ec-4eec-8ed0-6def1057a25d"
      },
      "execution_count": 93,
      "outputs": [
        {
          "output_type": "execute_result",
          "data": {
            "text/plain": [
              "             count      mean       min       max       std\n",
              "genre                                                     \n",
              "Documentary   1948  6.967635  1.660355  9.305783  0.653643\n",
              "Drama         7982  6.655169  1.070484  9.298876  0.714822\n",
              "Crime         1787  6.638159  1.859680  9.198434  0.708101\n",
              "Animation     1281  6.592325  1.706592  8.898109  0.842652\n",
              "Musical        669  6.495156  2.058397  8.555974  0.807559\n",
              "Adventure      996  6.399256  1.978464  8.989019  0.814355\n",
              "Thriller      2705  6.287342  1.324256  8.903476  0.839034\n",
              "Comedy       12303  6.209464  1.131240  9.130578  0.863136\n",
              "Other          477  6.201415  2.618764  8.493304  0.889967\n",
              "Action        4771  6.130389  1.252177  8.998977  0.974303\n",
              "Horror        4317  5.571763  1.723866  8.497492  0.836538"
            ],
            "text/html": [
              "\n",
              "  <div id=\"df-b8318a67-e42a-4007-8c2e-0dfbbf6c0fbf\">\n",
              "    <div class=\"colab-df-container\">\n",
              "      <div>\n",
              "<style scoped>\n",
              "    .dataframe tbody tr th:only-of-type {\n",
              "        vertical-align: middle;\n",
              "    }\n",
              "\n",
              "    .dataframe tbody tr th {\n",
              "        vertical-align: top;\n",
              "    }\n",
              "\n",
              "    .dataframe thead th {\n",
              "        text-align: right;\n",
              "    }\n",
              "</style>\n",
              "<table border=\"1\" class=\"dataframe\">\n",
              "  <thead>\n",
              "    <tr style=\"text-align: right;\">\n",
              "      <th></th>\n",
              "      <th>count</th>\n",
              "      <th>mean</th>\n",
              "      <th>min</th>\n",
              "      <th>max</th>\n",
              "      <th>std</th>\n",
              "    </tr>\n",
              "    <tr>\n",
              "      <th>genre</th>\n",
              "      <th></th>\n",
              "      <th></th>\n",
              "      <th></th>\n",
              "      <th></th>\n",
              "      <th></th>\n",
              "    </tr>\n",
              "  </thead>\n",
              "  <tbody>\n",
              "    <tr>\n",
              "      <th>Documentary</th>\n",
              "      <td>1948</td>\n",
              "      <td>6.967635</td>\n",
              "      <td>1.660355</td>\n",
              "      <td>9.305783</td>\n",
              "      <td>0.653643</td>\n",
              "    </tr>\n",
              "    <tr>\n",
              "      <th>Drama</th>\n",
              "      <td>7982</td>\n",
              "      <td>6.655169</td>\n",
              "      <td>1.070484</td>\n",
              "      <td>9.298876</td>\n",
              "      <td>0.714822</td>\n",
              "    </tr>\n",
              "    <tr>\n",
              "      <th>Crime</th>\n",
              "      <td>1787</td>\n",
              "      <td>6.638159</td>\n",
              "      <td>1.859680</td>\n",
              "      <td>9.198434</td>\n",
              "      <td>0.708101</td>\n",
              "    </tr>\n",
              "    <tr>\n",
              "      <th>Animation</th>\n",
              "      <td>1281</td>\n",
              "      <td>6.592325</td>\n",
              "      <td>1.706592</td>\n",
              "      <td>8.898109</td>\n",
              "      <td>0.842652</td>\n",
              "    </tr>\n",
              "    <tr>\n",
              "      <th>Musical</th>\n",
              "      <td>669</td>\n",
              "      <td>6.495156</td>\n",
              "      <td>2.058397</td>\n",
              "      <td>8.555974</td>\n",
              "      <td>0.807559</td>\n",
              "    </tr>\n",
              "    <tr>\n",
              "      <th>Adventure</th>\n",
              "      <td>996</td>\n",
              "      <td>6.399256</td>\n",
              "      <td>1.978464</td>\n",
              "      <td>8.989019</td>\n",
              "      <td>0.814355</td>\n",
              "    </tr>\n",
              "    <tr>\n",
              "      <th>Thriller</th>\n",
              "      <td>2705</td>\n",
              "      <td>6.287342</td>\n",
              "      <td>1.324256</td>\n",
              "      <td>8.903476</td>\n",
              "      <td>0.839034</td>\n",
              "    </tr>\n",
              "    <tr>\n",
              "      <th>Comedy</th>\n",
              "      <td>12303</td>\n",
              "      <td>6.209464</td>\n",
              "      <td>1.131240</td>\n",
              "      <td>9.130578</td>\n",
              "      <td>0.863136</td>\n",
              "    </tr>\n",
              "    <tr>\n",
              "      <th>Other</th>\n",
              "      <td>477</td>\n",
              "      <td>6.201415</td>\n",
              "      <td>2.618764</td>\n",
              "      <td>8.493304</td>\n",
              "      <td>0.889967</td>\n",
              "    </tr>\n",
              "    <tr>\n",
              "      <th>Action</th>\n",
              "      <td>4771</td>\n",
              "      <td>6.130389</td>\n",
              "      <td>1.252177</td>\n",
              "      <td>8.998977</td>\n",
              "      <td>0.974303</td>\n",
              "    </tr>\n",
              "    <tr>\n",
              "      <th>Horror</th>\n",
              "      <td>4317</td>\n",
              "      <td>5.571763</td>\n",
              "      <td>1.723866</td>\n",
              "      <td>8.497492</td>\n",
              "      <td>0.836538</td>\n",
              "    </tr>\n",
              "  </tbody>\n",
              "</table>\n",
              "</div>\n",
              "      <button class=\"colab-df-convert\" onclick=\"convertToInteractive('df-b8318a67-e42a-4007-8c2e-0dfbbf6c0fbf')\"\n",
              "              title=\"Convert this dataframe to an interactive table.\"\n",
              "              style=\"display:none;\">\n",
              "        \n",
              "  <svg xmlns=\"http://www.w3.org/2000/svg\" height=\"24px\"viewBox=\"0 0 24 24\"\n",
              "       width=\"24px\">\n",
              "    <path d=\"M0 0h24v24H0V0z\" fill=\"none\"/>\n",
              "    <path d=\"M18.56 5.44l.94 2.06.94-2.06 2.06-.94-2.06-.94-.94-2.06-.94 2.06-2.06.94zm-11 1L8.5 8.5l.94-2.06 2.06-.94-2.06-.94L8.5 2.5l-.94 2.06-2.06.94zm10 10l.94 2.06.94-2.06 2.06-.94-2.06-.94-.94-2.06-.94 2.06-2.06.94z\"/><path d=\"M17.41 7.96l-1.37-1.37c-.4-.4-.92-.59-1.43-.59-.52 0-1.04.2-1.43.59L10.3 9.45l-7.72 7.72c-.78.78-.78 2.05 0 2.83L4 21.41c.39.39.9.59 1.41.59.51 0 1.02-.2 1.41-.59l7.78-7.78 2.81-2.81c.8-.78.8-2.07 0-2.86zM5.41 20L4 18.59l7.72-7.72 1.47 1.35L5.41 20z\"/>\n",
              "  </svg>\n",
              "      </button>\n",
              "      \n",
              "  <style>\n",
              "    .colab-df-container {\n",
              "      display:flex;\n",
              "      flex-wrap:wrap;\n",
              "      gap: 12px;\n",
              "    }\n",
              "\n",
              "    .colab-df-convert {\n",
              "      background-color: #E8F0FE;\n",
              "      border: none;\n",
              "      border-radius: 50%;\n",
              "      cursor: pointer;\n",
              "      display: none;\n",
              "      fill: #1967D2;\n",
              "      height: 32px;\n",
              "      padding: 0 0 0 0;\n",
              "      width: 32px;\n",
              "    }\n",
              "\n",
              "    .colab-df-convert:hover {\n",
              "      background-color: #E2EBFA;\n",
              "      box-shadow: 0px 1px 2px rgba(60, 64, 67, 0.3), 0px 1px 3px 1px rgba(60, 64, 67, 0.15);\n",
              "      fill: #174EA6;\n",
              "    }\n",
              "\n",
              "    [theme=dark] .colab-df-convert {\n",
              "      background-color: #3B4455;\n",
              "      fill: #D2E3FC;\n",
              "    }\n",
              "\n",
              "    [theme=dark] .colab-df-convert:hover {\n",
              "      background-color: #434B5C;\n",
              "      box-shadow: 0px 1px 3px 1px rgba(0, 0, 0, 0.15);\n",
              "      filter: drop-shadow(0px 1px 2px rgba(0, 0, 0, 0.3));\n",
              "      fill: #FFFFFF;\n",
              "    }\n",
              "  </style>\n",
              "\n",
              "      <script>\n",
              "        const buttonEl =\n",
              "          document.querySelector('#df-b8318a67-e42a-4007-8c2e-0dfbbf6c0fbf button.colab-df-convert');\n",
              "        buttonEl.style.display =\n",
              "          google.colab.kernel.accessAllowed ? 'block' : 'none';\n",
              "\n",
              "        async function convertToInteractive(key) {\n",
              "          const element = document.querySelector('#df-b8318a67-e42a-4007-8c2e-0dfbbf6c0fbf');\n",
              "          const dataTable =\n",
              "            await google.colab.kernel.invokeFunction('convertToInteractive',\n",
              "                                                     [key], {});\n",
              "          if (!dataTable) return;\n",
              "\n",
              "          const docLinkHtml = 'Like what you see? Visit the ' +\n",
              "            '<a target=\"_blank\" href=https://colab.research.google.com/notebooks/data_table.ipynb>data table notebook</a>'\n",
              "            + ' to learn more about interactive tables.';\n",
              "          element.innerHTML = '';\n",
              "          dataTable['output_type'] = 'display_data';\n",
              "          await google.colab.output.renderOutput(dataTable, element);\n",
              "          const docLink = document.createElement('div');\n",
              "          docLink.innerHTML = docLinkHtml;\n",
              "          element.appendChild(docLink);\n",
              "        }\n",
              "      </script>\n",
              "    </div>\n",
              "  </div>\n",
              "  "
            ]
          },
          "metadata": {},
          "execution_count": 93
        }
      ]
    },
    {
      "cell_type": "markdown",
      "source": [
        "We see that Horror genre has the lowest mean rating."
      ],
      "metadata": {
        "id": "vPjtemgbQoDO"
      }
    },
    {
      "cell_type": "code",
      "source": [
        "result = df.groupby('genre')['wr'].agg(['mean']).sort_values(['mean']).copy()\n",
        "result"
      ],
      "metadata": {
        "id": "wbChJpRqMThE",
        "colab": {
          "base_uri": "https://localhost:8080/",
          "height": 425
        },
        "outputId": "1663de97-1457-448f-9bee-48bff42ac6ae"
      },
      "execution_count": 94,
      "outputs": [
        {
          "output_type": "execute_result",
          "data": {
            "text/plain": [
              "                 mean\n",
              "genre                \n",
              "Horror       5.571763\n",
              "Action       6.130389\n",
              "Other        6.201415\n",
              "Comedy       6.209464\n",
              "Thriller     6.287342\n",
              "Adventure    6.399256\n",
              "Musical      6.495156\n",
              "Animation    6.592325\n",
              "Crime        6.638159\n",
              "Drama        6.655169\n",
              "Documentary  6.967635"
            ],
            "text/html": [
              "\n",
              "  <div id=\"df-a16e4dc8-ea74-4d86-ad7c-0b97978580ac\">\n",
              "    <div class=\"colab-df-container\">\n",
              "      <div>\n",
              "<style scoped>\n",
              "    .dataframe tbody tr th:only-of-type {\n",
              "        vertical-align: middle;\n",
              "    }\n",
              "\n",
              "    .dataframe tbody tr th {\n",
              "        vertical-align: top;\n",
              "    }\n",
              "\n",
              "    .dataframe thead th {\n",
              "        text-align: right;\n",
              "    }\n",
              "</style>\n",
              "<table border=\"1\" class=\"dataframe\">\n",
              "  <thead>\n",
              "    <tr style=\"text-align: right;\">\n",
              "      <th></th>\n",
              "      <th>mean</th>\n",
              "    </tr>\n",
              "    <tr>\n",
              "      <th>genre</th>\n",
              "      <th></th>\n",
              "    </tr>\n",
              "  </thead>\n",
              "  <tbody>\n",
              "    <tr>\n",
              "      <th>Horror</th>\n",
              "      <td>5.571763</td>\n",
              "    </tr>\n",
              "    <tr>\n",
              "      <th>Action</th>\n",
              "      <td>6.130389</td>\n",
              "    </tr>\n",
              "    <tr>\n",
              "      <th>Other</th>\n",
              "      <td>6.201415</td>\n",
              "    </tr>\n",
              "    <tr>\n",
              "      <th>Comedy</th>\n",
              "      <td>6.209464</td>\n",
              "    </tr>\n",
              "    <tr>\n",
              "      <th>Thriller</th>\n",
              "      <td>6.287342</td>\n",
              "    </tr>\n",
              "    <tr>\n",
              "      <th>Adventure</th>\n",
              "      <td>6.399256</td>\n",
              "    </tr>\n",
              "    <tr>\n",
              "      <th>Musical</th>\n",
              "      <td>6.495156</td>\n",
              "    </tr>\n",
              "    <tr>\n",
              "      <th>Animation</th>\n",
              "      <td>6.592325</td>\n",
              "    </tr>\n",
              "    <tr>\n",
              "      <th>Crime</th>\n",
              "      <td>6.638159</td>\n",
              "    </tr>\n",
              "    <tr>\n",
              "      <th>Drama</th>\n",
              "      <td>6.655169</td>\n",
              "    </tr>\n",
              "    <tr>\n",
              "      <th>Documentary</th>\n",
              "      <td>6.967635</td>\n",
              "    </tr>\n",
              "  </tbody>\n",
              "</table>\n",
              "</div>\n",
              "      <button class=\"colab-df-convert\" onclick=\"convertToInteractive('df-a16e4dc8-ea74-4d86-ad7c-0b97978580ac')\"\n",
              "              title=\"Convert this dataframe to an interactive table.\"\n",
              "              style=\"display:none;\">\n",
              "        \n",
              "  <svg xmlns=\"http://www.w3.org/2000/svg\" height=\"24px\"viewBox=\"0 0 24 24\"\n",
              "       width=\"24px\">\n",
              "    <path d=\"M0 0h24v24H0V0z\" fill=\"none\"/>\n",
              "    <path d=\"M18.56 5.44l.94 2.06.94-2.06 2.06-.94-2.06-.94-.94-2.06-.94 2.06-2.06.94zm-11 1L8.5 8.5l.94-2.06 2.06-.94-2.06-.94L8.5 2.5l-.94 2.06-2.06.94zm10 10l.94 2.06.94-2.06 2.06-.94-2.06-.94-.94-2.06-.94 2.06-2.06.94z\"/><path d=\"M17.41 7.96l-1.37-1.37c-.4-.4-.92-.59-1.43-.59-.52 0-1.04.2-1.43.59L10.3 9.45l-7.72 7.72c-.78.78-.78 2.05 0 2.83L4 21.41c.39.39.9.59 1.41.59.51 0 1.02-.2 1.41-.59l7.78-7.78 2.81-2.81c.8-.78.8-2.07 0-2.86zM5.41 20L4 18.59l7.72-7.72 1.47 1.35L5.41 20z\"/>\n",
              "  </svg>\n",
              "      </button>\n",
              "      \n",
              "  <style>\n",
              "    .colab-df-container {\n",
              "      display:flex;\n",
              "      flex-wrap:wrap;\n",
              "      gap: 12px;\n",
              "    }\n",
              "\n",
              "    .colab-df-convert {\n",
              "      background-color: #E8F0FE;\n",
              "      border: none;\n",
              "      border-radius: 50%;\n",
              "      cursor: pointer;\n",
              "      display: none;\n",
              "      fill: #1967D2;\n",
              "      height: 32px;\n",
              "      padding: 0 0 0 0;\n",
              "      width: 32px;\n",
              "    }\n",
              "\n",
              "    .colab-df-convert:hover {\n",
              "      background-color: #E2EBFA;\n",
              "      box-shadow: 0px 1px 2px rgba(60, 64, 67, 0.3), 0px 1px 3px 1px rgba(60, 64, 67, 0.15);\n",
              "      fill: #174EA6;\n",
              "    }\n",
              "\n",
              "    [theme=dark] .colab-df-convert {\n",
              "      background-color: #3B4455;\n",
              "      fill: #D2E3FC;\n",
              "    }\n",
              "\n",
              "    [theme=dark] .colab-df-convert:hover {\n",
              "      background-color: #434B5C;\n",
              "      box-shadow: 0px 1px 3px 1px rgba(0, 0, 0, 0.15);\n",
              "      filter: drop-shadow(0px 1px 2px rgba(0, 0, 0, 0.3));\n",
              "      fill: #FFFFFF;\n",
              "    }\n",
              "  </style>\n",
              "\n",
              "      <script>\n",
              "        const buttonEl =\n",
              "          document.querySelector('#df-a16e4dc8-ea74-4d86-ad7c-0b97978580ac button.colab-df-convert');\n",
              "        buttonEl.style.display =\n",
              "          google.colab.kernel.accessAllowed ? 'block' : 'none';\n",
              "\n",
              "        async function convertToInteractive(key) {\n",
              "          const element = document.querySelector('#df-a16e4dc8-ea74-4d86-ad7c-0b97978580ac');\n",
              "          const dataTable =\n",
              "            await google.colab.kernel.invokeFunction('convertToInteractive',\n",
              "                                                     [key], {});\n",
              "          if (!dataTable) return;\n",
              "\n",
              "          const docLinkHtml = 'Like what you see? Visit the ' +\n",
              "            '<a target=\"_blank\" href=https://colab.research.google.com/notebooks/data_table.ipynb>data table notebook</a>'\n",
              "            + ' to learn more about interactive tables.';\n",
              "          element.innerHTML = '';\n",
              "          dataTable['output_type'] = 'display_data';\n",
              "          await google.colab.output.renderOutput(dataTable, element);\n",
              "          const docLink = document.createElement('div');\n",
              "          docLink.innerHTML = docLinkHtml;\n",
              "          element.appendChild(docLink);\n",
              "        }\n",
              "      </script>\n",
              "    </div>\n",
              "  </div>\n",
              "  "
            ]
          },
          "metadata": {},
          "execution_count": 94
        }
      ]
    },
    {
      "cell_type": "markdown",
      "source": [
        "# Q.1 Visualize"
      ],
      "metadata": {
        "id": "qIe9-T-BoEk1"
      }
    },
    {
      "cell_type": "code",
      "source": [
        "import matplotlib.pyplot as plt\n",
        "plt.style.use('dark_background')\n",
        "figsize = (10, 6)\n",
        "\n",
        "result.plot(kind='barh', title='Genre vs Weighted average rating', figsize=figsize)"
      ],
      "metadata": {
        "id": "x-9uwd2Nk4Ud",
        "colab": {
          "base_uri": "https://localhost:8080/",
          "height": 408
        },
        "outputId": "3f4299e5-6a35-4080-9ae2-427e266202a6"
      },
      "execution_count": 104,
      "outputs": [
        {
          "output_type": "execute_result",
          "data": {
            "text/plain": [
              "<AxesSubplot:title={'center':'Genre vs Weighted average rating'}, ylabel='genre'>"
            ]
          },
          "metadata": {},
          "execution_count": 104
        },
        {
          "output_type": "display_data",
          "data": {
            "text/plain": [
              "<Figure size 720x432 with 1 Axes>"
            ],
            "image/png": "[encoded data removed]"
          },
          "metadata": {}
        }
      ]
    },
    {
      "cell_type": "code",
      "source": [
        "df.sort_values('genre').reset_index().plot(x='genre', y='wr', kind='scatter', alpha=0.05, rot=90,\n",
        "                                           title='Scatter plot (Weighted average Rating vs Genre)', figsize=figsize)"
      ],
      "metadata": {
        "id": "Yu9h4MDug7JR",
        "colab": {
          "base_uri": "https://localhost:8080/",
          "height": 480
        },
        "outputId": "70735921-0ea4-491c-d4aa-a93fced335df"
      },
      "execution_count": 96,
      "outputs": [
        {
          "output_type": "execute_result",
          "data": {
            "text/plain": [
              "<AxesSubplot:title={'center':'Scatter plot (Weighted average Rating vs Genre)'}, xlabel='genre', ylabel='wr'>"
            ]
          },
          "metadata": {},
          "execution_count": 96
        },
        {
          "output_type": "display_data",
          "data": {
            "text/plain": [
              "<Figure size 720x432 with 1 Axes>"
            ],
            "image/png": "[encoded data removed]"
          },
          "metadata": {}
        }
      ]
    },
    {
      "cell_type": "markdown",
      "source": [
        "# Q.2 Analysis"
      ],
      "metadata": {
        "id": "TAsHOs5Zjdej"
      }
    },
    {
      "cell_type": "code",
      "source": [
        "# Splits string of genres into a list of secondary and third genres.\n",
        "# Or just the secondary if there are only 2 genres in the string.\n",
        "# If there is only 1 genre in the string, then return empty list.\n",
        "def split_series(series, genre):\n",
        "  series_list = series.str.split(',')[0]\n",
        "  if len(series_list) == 1:\n",
        "    return ['empty', 'empty']\n",
        "  elif len(series_list) == 2:\n",
        "    series_list.remove(genre)\n",
        "    return series_list + ['empty']\n",
        "  else :\n",
        "    series_list.remove(genre)\n",
        "    return series_list"
      ],
      "metadata": {
        "id": "DKIgSFk4gXSN"
      },
      "execution_count": 97,
      "outputs": []
    },
    {
      "cell_type": "markdown",
      "source": [
        "We select all movies with 'Horror' in \"genres\" string and split the genres into columns \"genre_2\" and \"genre_3\"."
      ],
      "metadata": {
        "id": "AJlw7cf2jy97"
      }
    },
    {
      "cell_type": "code",
      "source": [
        "test_genre = 'Horror'\n",
        "t = df[df['genres'].str.contains(test_genre)].copy()\n",
        "t[['genre_2', 'genre_3']] = t[['genres']].apply(split_series, axis=1, result_type='expand', genre=test_genre)"
      ],
      "metadata": {
        "id": "9IG4ceGfgkf6"
      },
      "execution_count": 98,
      "outputs": []
    },
    {
      "cell_type": "markdown",
      "source": [
        "We keep only those combination of genres with count > 10."
      ],
      "metadata": {
        "id": "3jrCK8LqkX1I"
      }
    },
    {
      "cell_type": "code",
      "source": [
        "t = t[t.groupby('genres').genres.transform('count') >= 10].copy()"
      ],
      "metadata": {
        "id": "D91jXmFk0mN7"
      },
      "execution_count": 99,
      "outputs": []
    },
    {
      "cell_type": "markdown",
      "source": [
        "Prepare a pivot table for a heatmap"
      ],
      "metadata": {
        "id": "6VzR2RsekoFI"
      }
    },
    {
      "cell_type": "code",
      "source": [
        "result_2 = t.pivot_table(index='genre_2',columns=['genre_3'],values='wr',aggfunc=['mean'])\n",
        "result_2"
      ],
      "metadata": {
        "id": "YAHswxyeyXM3",
        "colab": {
          "base_uri": "https://localhost:8080/",
          "height": 488
        },
        "outputId": "c2d64f8a-a265-41f3-c05f-761a88a03bdd"
      },
      "execution_count": 100,
      "outputs": [
        {
          "output_type": "execute_result",
          "data": {
            "text/plain": [
              "                 mean                                                   \\\n",
              "genre_3     Adventure    Comedy     Crime     Drama   Fantasy    Music   \n",
              "genre_2                                                                  \n",
              "Action       5.173265  5.559638  5.810855  5.477097  5.545208      NaN   \n",
              "Adventure         NaN  5.360721       NaN  5.642003  5.524841      NaN   \n",
              "Comedy            NaN       NaN  6.096358  5.909084  5.656761  5.71579   \n",
              "Crime             NaN       NaN       NaN  5.973700       NaN      NaN   \n",
              "Documentary       NaN       NaN       NaN       NaN       NaN      NaN   \n",
              "Drama             NaN       NaN       NaN       NaN  6.070420      NaN   \n",
              "Fantasy           NaN       NaN       NaN       NaN       NaN      NaN   \n",
              "Mystery           NaN       NaN       NaN       NaN       NaN      NaN   \n",
              "Romance           NaN       NaN       NaN       NaN       NaN      NaN   \n",
              "Sci-Fi            NaN       NaN       NaN       NaN       NaN      NaN   \n",
              "Thriller          NaN       NaN       NaN       NaN       NaN      NaN   \n",
              "empty             NaN       NaN       NaN       NaN       NaN      NaN   \n",
              "\n",
              "                                                                         \n",
              "genre_3       Musical   Mystery   Romance    Sci-Fi  Thriller     empty  \n",
              "genre_2                                                                  \n",
              "Action            NaN  5.327824       NaN  5.307485  5.235012  5.262162  \n",
              "Adventure         NaN  5.780974       NaN  5.389366  5.347941  5.655394  \n",
              "Comedy       5.957432  5.810013  5.902590  5.439793  5.519071  5.491912  \n",
              "Crime             NaN  5.931561       NaN  5.611132  5.560461  5.895612  \n",
              "Documentary       NaN       NaN       NaN       NaN       NaN  6.161793  \n",
              "Drama             NaN  5.893081  5.959734  5.956317  5.713596  6.060925  \n",
              "Fantasy           NaN  5.672774       NaN  5.632274  5.435060  5.710758  \n",
              "Mystery           NaN       NaN  5.773533  5.627524  5.635438  5.708736  \n",
              "Romance           NaN       NaN       NaN       NaN  5.251830       NaN  \n",
              "Sci-Fi            NaN       NaN       NaN       NaN  5.374324  5.359928  \n",
              "Thriller          NaN       NaN       NaN       NaN       NaN  5.352246  \n",
              "empty             NaN       NaN       NaN       NaN       NaN  5.359968  "
            ],
            "text/html": [
              "\n",
              "  <div id=\"df-9fbc796e-980b-4c73-9aaf-d901d2d3a329\">\n",
              "    <div class=\"colab-df-container\">\n",
              "      <div>\n",
              "<style scoped>\n",
              "    .dataframe tbody tr th:only-of-type {\n",
              "        vertical-align: middle;\n",
              "    }\n",
              "\n",
              "    .dataframe tbody tr th {\n",
              "        vertical-align: top;\n",
              "    }\n",
              "\n",
              "    .dataframe thead tr th {\n",
              "        text-align: left;\n",
              "    }\n",
              "\n",
              "    .dataframe thead tr:last-of-type th {\n",
              "        text-align: right;\n",
              "    }\n",
              "</style>\n",
              "<table border=\"1\" class=\"dataframe\">\n",
              "  <thead>\n",
              "    <tr>\n",
              "      <th></th>\n",
              "      <th colspan=\"12\" halign=\"left\">mean</th>\n",
              "    </tr>\n",
              "    <tr>\n",
              "      <th>genre_3</th>\n",
              "      <th>Adventure</th>\n",
              "      <th>Comedy</th>\n",
              "      <th>Crime</th>\n",
              "      <th>Drama</th>\n",
              "      <th>Fantasy</th>\n",
              "      <th>Music</th>\n",
              "      <th>Musical</th>\n",
              "      <th>Mystery</th>\n",
              "      <th>Romance</th>\n",
              "      <th>Sci-Fi</th>\n",
              "      <th>Thriller</th>\n",
              "      <th>empty</th>\n",
              "    </tr>\n",
              "    <tr>\n",
              "      <th>genre_2</th>\n",
              "      <th></th>\n",
              "      <th></th>\n",
              "      <th></th>\n",
              "      <th></th>\n",
              "      <th></th>\n",
              "      <th></th>\n",
              "      <th></th>\n",
              "      <th></th>\n",
              "      <th></th>\n",
              "      <th></th>\n",
              "      <th></th>\n",
              "      <th></th>\n",
              "    </tr>\n",
              "  </thead>\n",
              "  <tbody>\n",
              "    <tr>\n",
              "      <th>Action</th>\n",
              "      <td>5.173265</td>\n",
              "      <td>5.559638</td>\n",
              "      <td>5.810855</td>\n",
              "      <td>5.477097</td>\n",
              "      <td>5.545208</td>\n",
              "      <td>NaN</td>\n",
              "      <td>NaN</td>\n",
              "      <td>5.327824</td>\n",
              "      <td>NaN</td>\n",
              "      <td>5.307485</td>\n",
              "      <td>5.235012</td>\n",
              "      <td>5.262162</td>\n",
              "    </tr>\n",
              "    <tr>\n",
              "      <th>Adventure</th>\n",
              "      <td>NaN</td>\n",
              "      <td>5.360721</td>\n",
              "      <td>NaN</td>\n",
              "      <td>5.642003</td>\n",
              "      <td>5.524841</td>\n",
              "      <td>NaN</td>\n",
              "      <td>NaN</td>\n",
              "      <td>5.780974</td>\n",
              "      <td>NaN</td>\n",
              "      <td>5.389366</td>\n",
              "      <td>5.347941</td>\n",
              "      <td>5.655394</td>\n",
              "    </tr>\n",
              "    <tr>\n",
              "      <th>Comedy</th>\n",
              "      <td>NaN</td>\n",
              "      <td>NaN</td>\n",
              "      <td>6.096358</td>\n",
              "      <td>5.909084</td>\n",
              "      <td>5.656761</td>\n",
              "      <td>5.71579</td>\n",
              "      <td>5.957432</td>\n",
              "      <td>5.810013</td>\n",
              "      <td>5.902590</td>\n",
              "      <td>5.439793</td>\n",
              "      <td>5.519071</td>\n",
              "      <td>5.491912</td>\n",
              "    </tr>\n",
              "    <tr>\n",
              "      <th>Crime</th>\n",
              "      <td>NaN</td>\n",
              "      <td>NaN</td>\n",
              "      <td>NaN</td>\n",
              "      <td>5.973700</td>\n",
              "      <td>NaN</td>\n",
              "      <td>NaN</td>\n",
              "      <td>NaN</td>\n",
              "      <td>5.931561</td>\n",
              "      <td>NaN</td>\n",
              "      <td>5.611132</td>\n",
              "      <td>5.560461</td>\n",
              "      <td>5.895612</td>\n",
              "    </tr>\n",
              "    <tr>\n",
              "      <th>Documentary</th>\n",
              "      <td>NaN</td>\n",
              "      <td>NaN</td>\n",
              "      <td>NaN</td>\n",
              "      <td>NaN</td>\n",
              "      <td>NaN</td>\n",
              "      <td>NaN</td>\n",
              "      <td>NaN</td>\n",
              "      <td>NaN</td>\n",
              "      <td>NaN</td>\n",
              "      <td>NaN</td>\n",
              "      <td>NaN</td>\n",
              "      <td>6.161793</td>\n",
              "    </tr>\n",
              "    <tr>\n",
              "      <th>Drama</th>\n",
              "      <td>NaN</td>\n",
              "      <td>NaN</td>\n",
              "      <td>NaN</td>\n",
              "      <td>NaN</td>\n",
              "      <td>6.070420</td>\n",
              "      <td>NaN</td>\n",
              "      <td>NaN</td>\n",
              "      <td>5.893081</td>\n",
              "      <td>5.959734</td>\n",
              "      <td>5.956317</td>\n",
              "      <td>5.713596</td>\n",
              "      <td>6.060925</td>\n",
              "    </tr>\n",
              "    <tr>\n",
              "      <th>Fantasy</th>\n",
              "      <td>NaN</td>\n",
              "      <td>NaN</td>\n",
              "      <td>NaN</td>\n",
              "      <td>NaN</td>\n",
              "      <td>NaN</td>\n",
              "      <td>NaN</td>\n",
              "      <td>NaN</td>\n",
              "      <td>5.672774</td>\n",
              "      <td>NaN</td>\n",
              "      <td>5.632274</td>\n",
              "      <td>5.435060</td>\n",
              "      <td>5.710758</td>\n",
              "    </tr>\n",
              "    <tr>\n",
              "      <th>Mystery</th>\n",
              "      <td>NaN</td>\n",
              "      <td>NaN</td>\n",
              "      <td>NaN</td>\n",
              "      <td>NaN</td>\n",
              "      <td>NaN</td>\n",
              "      <td>NaN</td>\n",
              "      <td>NaN</td>\n",
              "      <td>NaN</td>\n",
              "      <td>5.773533</td>\n",
              "      <td>5.627524</td>\n",
              "      <td>5.635438</td>\n",
              "      <td>5.708736</td>\n",
              "    </tr>\n",
              "    <tr>\n",
              "      <th>Romance</th>\n",
              "      <td>NaN</td>\n",
              "      <td>NaN</td>\n",
              "      <td>NaN</td>\n",
              "      <td>NaN</td>\n",
              "      <td>NaN</td>\n",
              "      <td>NaN</td>\n",
              "      <td>NaN</td>\n",
              "      <td>NaN</td>\n",
              "      <td>NaN</td>\n",
              "      <td>NaN</td>\n",
              "      <td>5.251830</td>\n",
              "      <td>NaN</td>\n",
              "    </tr>\n",
              "    <tr>\n",
              "      <th>Sci-Fi</th>\n",
              "      <td>NaN</td>\n",
              "      <td>NaN</td>\n",
              "      <td>NaN</td>\n",
              "      <td>NaN</td>\n",
              "      <td>NaN</td>\n",
              "      <td>NaN</td>\n",
              "      <td>NaN</td>\n",
              "      <td>NaN</td>\n",
              "      <td>NaN</td>\n",
              "      <td>NaN</td>\n",
              "      <td>5.374324</td>\n",
              "      <td>5.359928</td>\n",
              "    </tr>\n",
              "    <tr>\n",
              "      <th>Thriller</th>\n",
              "      <td>NaN</td>\n",
              "      <td>NaN</td>\n",
              "      <td>NaN</td>\n",
              "      <td>NaN</td>\n",
              "      <td>NaN</td>\n",
              "      <td>NaN</td>\n",
              "      <td>NaN</td>\n",
              "      <td>NaN</td>\n",
              "      <td>NaN</td>\n",
              "      <td>NaN</td>\n",
              "      <td>NaN</td>\n",
              "      <td>5.352246</td>\n",
              "    </tr>\n",
              "    <tr>\n",
              "      <th>empty</th>\n",
              "      <td>NaN</td>\n",
              "      <td>NaN</td>\n",
              "      <td>NaN</td>\n",
              "      <td>NaN</td>\n",
              "      <td>NaN</td>\n",
              "      <td>NaN</td>\n",
              "      <td>NaN</td>\n",
              "      <td>NaN</td>\n",
              "      <td>NaN</td>\n",
              "      <td>NaN</td>\n",
              "      <td>NaN</td>\n",
              "      <td>5.359968</td>\n",
              "    </tr>\n",
              "  </tbody>\n",
              "</table>\n",
              "</div>\n",
              "      <button class=\"colab-df-convert\" onclick=\"convertToInteractive('df-9fbc796e-980b-4c73-9aaf-d901d2d3a329')\"\n",
              "              title=\"Convert this dataframe to an interactive table.\"\n",
              "              style=\"display:none;\">\n",
              "        \n",
              "  <svg xmlns=\"http://www.w3.org/2000/svg\" height=\"24px\"viewBox=\"0 0 24 24\"\n",
              "       width=\"24px\">\n",
              "    <path d=\"M0 0h24v24H0V0z\" fill=\"none\"/>\n",
              "    <path d=\"M18.56 5.44l.94 2.06.94-2.06 2.06-.94-2.06-.94-.94-2.06-.94 2.06-2.06.94zm-11 1L8.5 8.5l.94-2.06 2.06-.94-2.06-.94L8.5 2.5l-.94 2.06-2.06.94zm10 10l.94 2.06.94-2.06 2.06-.94-2.06-.94-.94-2.06-.94 2.06-2.06.94z\"/><path d=\"M17.41 7.96l-1.37-1.37c-.4-.4-.92-.59-1.43-.59-.52 0-1.04.2-1.43.59L10.3 9.45l-7.72 7.72c-.78.78-.78 2.05 0 2.83L4 21.41c.39.39.9.59 1.41.59.51 0 1.02-.2 1.41-.59l7.78-7.78 2.81-2.81c.8-.78.8-2.07 0-2.86zM5.41 20L4 18.59l7.72-7.72 1.47 1.35L5.41 20z\"/>\n",
              "  </svg>\n",
              "      </button>\n",
              "      \n",
              "  <style>\n",
              "    .colab-df-container {\n",
              "      display:flex;\n",
              "      flex-wrap:wrap;\n",
              "      gap: 12px;\n",
              "    }\n",
              "\n",
              "    .colab-df-convert {\n",
              "      background-color: #E8F0FE;\n",
              "      border: none;\n",
              "      border-radius: 50%;\n",
              "      cursor: pointer;\n",
              "      display: none;\n",
              "      fill: #1967D2;\n",
              "      height: 32px;\n",
              "      padding: 0 0 0 0;\n",
              "      width: 32px;\n",
              "    }\n",
              "\n",
              "    .colab-df-convert:hover {\n",
              "      background-color: #E2EBFA;\n",
              "      box-shadow: 0px 1px 2px rgba(60, 64, 67, 0.3), 0px 1px 3px 1px rgba(60, 64, 67, 0.15);\n",
              "      fill: #174EA6;\n",
              "    }\n",
              "\n",
              "    [theme=dark] .colab-df-convert {\n",
              "      background-color: #3B4455;\n",
              "      fill: #D2E3FC;\n",
              "    }\n",
              "\n",
              "    [theme=dark] .colab-df-convert:hover {\n",
              "      background-color: #434B5C;\n",
              "      box-shadow: 0px 1px 3px 1px rgba(0, 0, 0, 0.15);\n",
              "      filter: drop-shadow(0px 1px 2px rgba(0, 0, 0, 0.3));\n",
              "      fill: #FFFFFF;\n",
              "    }\n",
              "  </style>\n",
              "\n",
              "      <script>\n",
              "        const buttonEl =\n",
              "          document.querySelector('#df-9fbc796e-980b-4c73-9aaf-d901d2d3a329 button.colab-df-convert');\n",
              "        buttonEl.style.display =\n",
              "          google.colab.kernel.accessAllowed ? 'block' : 'none';\n",
              "\n",
              "        async function convertToInteractive(key) {\n",
              "          const element = document.querySelector('#df-9fbc796e-980b-4c73-9aaf-d901d2d3a329');\n",
              "          const dataTable =\n",
              "            await google.colab.kernel.invokeFunction('convertToInteractive',\n",
              "                                                     [key], {});\n",
              "          if (!dataTable) return;\n",
              "\n",
              "          const docLinkHtml = 'Like what you see? Visit the ' +\n",
              "            '<a target=\"_blank\" href=https://colab.research.google.com/notebooks/data_table.ipynb>data table notebook</a>'\n",
              "            + ' to learn more about interactive tables.';\n",
              "          element.innerHTML = '';\n",
              "          dataTable['output_type'] = 'display_data';\n",
              "          await google.colab.output.renderOutput(dataTable, element);\n",
              "          const docLink = document.createElement('div');\n",
              "          docLink.innerHTML = docLinkHtml;\n",
              "          element.appendChild(docLink);\n",
              "        }\n",
              "      </script>\n",
              "    </div>\n",
              "  </div>\n",
              "  "
            ]
          },
          "metadata": {},
          "execution_count": 100
        }
      ]
    },
    {
      "cell_type": "markdown",
      "source": [
        "# Q.2 Vizualize"
      ],
      "metadata": {
        "id": "bXV1YCHRkhqV"
      }
    },
    {
      "cell_type": "code",
      "source": [
        "fig, ax = plt.subplots(figsize=figsize)  \n",
        "sns.heatmap(result_2)"
      ],
      "metadata": {
        "colab": {
          "base_uri": "https://localhost:8080/",
          "height": 480
        },
        "id": "xmfaprOljRs7",
        "outputId": "eea51b83-3a91-4b17-d869-e68e7c00df43"
      },
      "execution_count": 101,
      "outputs": [
        {
          "output_type": "execute_result",
          "data": {
            "text/plain": [
              "<AxesSubplot:xlabel='None-genre_3', ylabel='genre_2'>"
            ]
          },
          "metadata": {},
          "execution_count": 101
        },
        {
          "output_type": "display_data",
          "data": {
            "text/plain": [
              "<Figure size 720x432 with 2 Axes>"
            ],
            "image/png": "[encoded data removed]"
          },
          "metadata": {}
        }
      ]
    },
    {
      "cell_type": "markdown",
      "source": [
        "We conclude that for the Horror combinations with the Comedy and Drama are the most successful in terms of rating. Because Documentary has the highest mean rating overall, the Horror documentaries also show good result."
      ],
      "metadata": {
        "id": "Zzmtux0vQ1s7"
      }
    },
    {
      "cell_type": "markdown",
      "source": [
        "# Play"
      ],
      "metadata": {
        "id": "DXDpkf35qbWz"
      }
    },
    {
      "cell_type": "code",
      "source": [
        "#@title Here we can try all sorts of weird genres combinations to find a movie for the evening watch\n",
        "# 'Fantasy,Horror,Romance'\n",
        "df[df['genres'] == 'Fantasy,Horror,Romance'].sort_values(['startYear'], ascending=False)"
      ],
      "metadata": {
        "id": "-NkqK1ExqBW_",
        "colab": {
          "base_uri": "https://localhost:8080/",
          "height": 0
        },
        "cellView": "form",
        "outputId": "fc759543-e255-4a38-fa8c-6aba141a4698"
      },
      "execution_count": 102,
      "outputs": [
        {
          "output_type": "execute_result",
          "data": {
            "text/plain": [
              "            tconst titleType   primaryTitle startYear                  genres  \\\n",
              "253027  tt11116374     movie  Don't Kill Me      2021  Fantasy,Horror,Romance   \n",
              "63571    tt0088851     movie      The Bride      1985  Fantasy,Horror,Romance   \n",
              "49748    tt0068284     movie        Blacula      1972  Fantasy,Horror,Romance   \n",
              "\n",
              "        averageRating  numVotes   genre        wr  \n",
              "253027            4.3    2073.0  Horror  4.939936  \n",
              "63571             5.4    3271.0  Horror  5.602885  \n",
              "49748             5.7    7147.0  Horror  5.769538  "
            ],
            "text/html": [
              "\n",
              "  <div id=\"df-04129d2a-15ce-40be-b520-f0f616ed370c\">\n",
              "    <div class=\"colab-df-container\">\n",
              "      <div>\n",
              "<style scoped>\n",
              "    .dataframe tbody tr th:only-of-type {\n",
              "        vertical-align: middle;\n",
              "    }\n",
              "\n",
              "    .dataframe tbody tr th {\n",
              "        vertical-align: top;\n",
              "    }\n",
              "\n",
              "    .dataframe thead th {\n",
              "        text-align: right;\n",
              "    }\n",
              "</style>\n",
              "<table border=\"1\" class=\"dataframe\">\n",
              "  <thead>\n",
              "    <tr style=\"text-align: right;\">\n",
              "      <th></th>\n",
              "      <th>tconst</th>\n",
              "      <th>titleType</th>\n",
              "      <th>primaryTitle</th>\n",
              "      <th>startYear</th>\n",
              "      <th>genres</th>\n",
              "      <th>averageRating</th>\n",
              "      <th>numVotes</th>\n",
              "      <th>genre</th>\n",
              "      <th>wr</th>\n",
              "    </tr>\n",
              "  </thead>\n",
              "  <tbody>\n",
              "    <tr>\n",
              "      <th>253027</th>\n",
              "      <td>tt11116374</td>\n",
              "      <td>movie</td>\n",
              "      <td>Don't Kill Me</td>\n",
              "      <td>2021</td>\n",
              "      <td>Fantasy,Horror,Romance</td>\n",
              "      <td>4.3</td>\n",
              "      <td>2073.0</td>\n",
              "      <td>Horror</td>\n",
              "      <td>4.939936</td>\n",
              "    </tr>\n",
              "    <tr>\n",
              "      <th>63571</th>\n",
              "      <td>tt0088851</td>\n",
              "      <td>movie</td>\n",
              "      <td>The Bride</td>\n",
              "      <td>1985</td>\n",
              "      <td>Fantasy,Horror,Romance</td>\n",
              "      <td>5.4</td>\n",
              "      <td>3271.0</td>\n",
              "      <td>Horror</td>\n",
              "      <td>5.602885</td>\n",
              "    </tr>\n",
              "    <tr>\n",
              "      <th>49748</th>\n",
              "      <td>tt0068284</td>\n",
              "      <td>movie</td>\n",
              "      <td>Blacula</td>\n",
              "      <td>1972</td>\n",
              "      <td>Fantasy,Horror,Romance</td>\n",
              "      <td>5.7</td>\n",
              "      <td>7147.0</td>\n",
              "      <td>Horror</td>\n",
              "      <td>5.769538</td>\n",
              "    </tr>\n",
              "  </tbody>\n",
              "</table>\n",
              "</div>\n",
              "      <button class=\"colab-df-convert\" onclick=\"convertToInteractive('df-04129d2a-15ce-40be-b520-f0f616ed370c')\"\n",
              "              title=\"Convert this dataframe to an interactive table.\"\n",
              "              style=\"display:none;\">\n",
              "        \n",
              "  <svg xmlns=\"http://www.w3.org/2000/svg\" height=\"24px\"viewBox=\"0 0 24 24\"\n",
              "       width=\"24px\">\n",
              "    <path d=\"M0 0h24v24H0V0z\" fill=\"none\"/>\n",
              "    <path d=\"M18.56 5.44l.94 2.06.94-2.06 2.06-.94-2.06-.94-.94-2.06-.94 2.06-2.06.94zm-11 1L8.5 8.5l.94-2.06 2.06-.94-2.06-.94L8.5 2.5l-.94 2.06-2.06.94zm10 10l.94 2.06.94-2.06 2.06-.94-2.06-.94-.94-2.06-.94 2.06-2.06.94z\"/><path d=\"M17.41 7.96l-1.37-1.37c-.4-.4-.92-.59-1.43-.59-.52 0-1.04.2-1.43.59L10.3 9.45l-7.72 7.72c-.78.78-.78 2.05 0 2.83L4 21.41c.39.39.9.59 1.41.59.51 0 1.02-.2 1.41-.59l7.78-7.78 2.81-2.81c.8-.78.8-2.07 0-2.86zM5.41 20L4 18.59l7.72-7.72 1.47 1.35L5.41 20z\"/>\n",
              "  </svg>\n",
              "      </button>\n",
              "      \n",
              "  <style>\n",
              "    .colab-df-container {\n",
              "      display:flex;\n",
              "      flex-wrap:wrap;\n",
              "      gap: 12px;\n",
              "    }\n",
              "\n",
              "    .colab-df-convert {\n",
              "      background-color: #E8F0FE;\n",
              "      border: none;\n",
              "      border-radius: 50%;\n",
              "      cursor: pointer;\n",
              "      display: none;\n",
              "      fill: #1967D2;\n",
              "      height: 32px;\n",
              "      padding: 0 0 0 0;\n",
              "      width: 32px;\n",
              "    }\n",
              "\n",
              "    .colab-df-convert:hover {\n",
              "      background-color: #E2EBFA;\n",
              "      box-shadow: 0px 1px 2px rgba(60, 64, 67, 0.3), 0px 1px 3px 1px rgba(60, 64, 67, 0.15);\n",
              "      fill: #174EA6;\n",
              "    }\n",
              "\n",
              "    [theme=dark] .colab-df-convert {\n",
              "      background-color: #3B4455;\n",
              "      fill: #D2E3FC;\n",
              "    }\n",
              "\n",
              "    [theme=dark] .colab-df-convert:hover {\n",
              "      background-color: #434B5C;\n",
              "      box-shadow: 0px 1px 3px 1px rgba(0, 0, 0, 0.15);\n",
              "      filter: drop-shadow(0px 1px 2px rgba(0, 0, 0, 0.3));\n",
              "      fill: #FFFFFF;\n",
              "    }\n",
              "  </style>\n",
              "\n",
              "      <script>\n",
              "        const buttonEl =\n",
              "          document.querySelector('#df-04129d2a-15ce-40be-b520-f0f616ed370c button.colab-df-convert');\n",
              "        buttonEl.style.display =\n",
              "          google.colab.kernel.accessAllowed ? 'block' : 'none';\n",
              "\n",
              "        async function convertToInteractive(key) {\n",
              "          const element = document.querySelector('#df-04129d2a-15ce-40be-b520-f0f616ed370c');\n",
              "          const dataTable =\n",
              "            await google.colab.kernel.invokeFunction('convertToInteractive',\n",
              "                                                     [key], {});\n",
              "          if (!dataTable) return;\n",
              "\n",
              "          const docLinkHtml = 'Like what you see? Visit the ' +\n",
              "            '<a target=\"_blank\" href=https://colab.research.google.com/notebooks/data_table.ipynb>data table notebook</a>'\n",
              "            + ' to learn more about interactive tables.';\n",
              "          element.innerHTML = '';\n",
              "          dataTable['output_type'] = 'display_data';\n",
              "          await google.colab.output.renderOutput(dataTable, element);\n",
              "          const docLink = document.createElement('div');\n",
              "          docLink.innerHTML = docLinkHtml;\n",
              "          element.appendChild(docLink);\n",
              "        }\n",
              "      </script>\n",
              "    </div>\n",
              "  </div>\n",
              "  "
            ]
          },
          "metadata": {},
          "execution_count": 102
        }
      ]
    }
  ]
}