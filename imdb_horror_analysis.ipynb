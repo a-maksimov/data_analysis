{
  "nbformat": 4,
  "nbformat_minor": 0,
  "metadata": {
    "colab": {
      "provenance": [],
      "collapsed_sections": [
        "Ax_jp0T-nBwj",
        "1fZZQY4FDP1A",
        "qIe9-T-BoEk1",
        "DXDpkf35qbWz"
      ],
      "mount_file_id": "15Ql603GlsgbWxMh-KJLtH6k12_bEWVRn",
      "authorship_tag": "ABX9TyPHtnVJO50mpWtVqxtClUxD",
      "include_colab_link": true
    },
    "kernelspec": {
      "name": "python3",
      "display_name": "Python 3"
    },
    "language_info": {
      "name": "python"
    }
  },
  "cells": [
    {
      "cell_type": "markdown",
      "metadata": {
        "id": "view-in-github",
        "colab_type": "text"
      },
      "source": [
        "<a href=\"https://colab.research.google.com/github/a-maksimov/data_analysis/blob/main/imdb_horror_analysis.ipynb\" target=\"_parent\"><img src=\"https://colab.research.google.com/assets/colab-badge.svg\" alt=\"Open In Colab\"/></a>"
      ]
    },
    {
      "cell_type": "markdown",
      "source": [
        "# Defining the questions\n",
        "Q.1   Analyze which genres have the highest and the lowest average rating\n",
        "\n",
        "Q.2   Analyze genre combinations which make a movie more succesful in terms of average rating."
      ],
      "metadata": {
        "id": "sRgVWj82I6pA"
      }
    },
    {
      "cell_type": "markdown",
      "source": [
        "# Collecting and cleaning the data\n",
        "\n",
        "IMDb Dataset:\n",
        "https://datasets.imdbws.com/"
      ],
      "metadata": {
        "id": "d_9IrJQwrKVC"
      }
    },
    {
      "cell_type": "markdown",
      "source": [
        "title.basics.tsv.gz - Contains the following information for titles:\n",
        "* tconst (string) - alphanumeric unique identifier of the title.\n",
        "* titleType (string) – the type/format of the title (e.g. movie, short,\n",
        "tvseries, tvepisode, video, etc).\n",
        "* genres (string array) – includes up to three genres associated with\n",
        "the title.\n",
        "\n",
        "https://datasets.imdbws.com/title.basics.tsv.gz"
      ],
      "metadata": {
        "id": "T5tfXMddrEES"
      }
    },
    {
      "cell_type": "markdown",
      "source": [
        "title.ratings.tsv.gz – Contains the IMDb rating and votes information for titles:\n",
        "* tconst (string) - alphanumeric unique identifier of the title.\n",
        "* averageRating – weighted average of all the individual user ratings.\n",
        "* numVotes - number of votes the title has received.\n",
        "\n",
        "https://datasets.imdbws.com/title.ratings.tsv.gz"
      ],
      "metadata": {
        "id": "AOt2HGey3yPN"
      }
    },
    {
      "cell_type": "code",
      "source": [
        "!wget 'https://datasets.imdbws.com/title.basics.tsv.gz'"
      ],
      "metadata": {
        "id": "in60e6OJrZ9P",
        "colab": {
          "base_uri": "https://localhost:8080/"
        },
        "outputId": "e3793765-c29b-409b-f573-e04f6c5d0820"
      },
      "execution_count": 13,
      "outputs": [
        {
          "output_type": "stream",
          "name": "stdout",
          "text": [
            "--2023-02-27 07:11:29--  https://datasets.imdbws.com/title.basics.tsv.gz\n",
            "Resolving datasets.imdbws.com (datasets.imdbws.com)... 13.249.98.91, 13.249.98.61, 13.249.98.35, ...\n",
            "Connecting to datasets.imdbws.com (datasets.imdbws.com)|13.249.98.91|:443... connected.\n",
            "HTTP request sent, awaiting response... 200 OK\n",
            "Length: 168546093 (161M) [binary/octet-stream]\n",
            "Saving to: ‘title.basics.tsv.gz’\n",
            "\n",
            "title.basics.tsv.gz 100%[===================>] 160.74M   102MB/s    in 1.6s    \n",
            "\n",
            "2023-02-27 07:11:31 (102 MB/s) - ‘title.basics.tsv.gz’ saved [168546093/168546093]\n",
            "\n"
          ]
        }
      ]
    },
    {
      "cell_type": "markdown",
      "source": [
        "\"basics\" table is over 100 MB, so it can't be download with gdown. You have to mount Google Drive into notebook."
      ],
      "metadata": {
        "id": "7yPDXzCuK7fS"
      }
    },
    {
      "cell_type": "code",
      "source": [
        "!gzip -df '/content/title.basics.tsv.gz'"
      ],
      "metadata": {
        "id": "aVwnn30B-i-A"
      },
      "execution_count": 21,
      "outputs": []
    },
    {
      "cell_type": "code",
      "source": [
        "!wget 'https://datasets.imdbws.com/title.ratings.tsv.gz'"
      ],
      "metadata": {
        "id": "v1wR2xUn39oV",
        "colab": {
          "base_uri": "https://localhost:8080/"
        },
        "outputId": "6e33a37d-e681-46c4-8806-cd8043c74129"
      },
      "execution_count": 23,
      "outputs": [
        {
          "output_type": "stream",
          "name": "stdout",
          "text": [
            "--2023-02-27 07:12:45--  https://datasets.imdbws.com/title.ratings.tsv.gz\n",
            "Resolving datasets.imdbws.com (datasets.imdbws.com)... 13.249.98.73, 13.249.98.61, 13.249.98.91, ...\n",
            "Connecting to datasets.imdbws.com (datasets.imdbws.com)|13.249.98.73|:443... connected.\n",
            "HTTP request sent, awaiting response... 200 OK\n",
            "Length: 6445044 (6.1M) [binary/octet-stream]\n",
            "Saving to: ‘title.ratings.tsv.gz.3’\n",
            "\n",
            "title.ratings.tsv.g 100%[===================>]   6.15M  30.8MB/s    in 0.2s    \n",
            "\n",
            "2023-02-27 07:12:46 (30.8 MB/s) - ‘title.ratings.tsv.gz.3’ saved [6445044/6445044]\n",
            "\n"
          ]
        }
      ]
    },
    {
      "cell_type": "code",
      "source": [
        "!gzip -df '/content/title.ratings.tsv.gz'"
      ],
      "metadata": {
        "id": "IxbJFNGE6DVz"
      },
      "execution_count": 25,
      "outputs": []
    },
    {
      "cell_type": "code",
      "source": [
        "import pandas as pd\n",
        "import seaborn as sns"
      ],
      "metadata": {
        "id": "EIL22l_ZtI4J"
      },
      "execution_count": 17,
      "outputs": []
    },
    {
      "cell_type": "markdown",
      "source": [
        "Parse the files.\n",
        "\n",
        "From basics we keep only movies and relevant fields."
      ],
      "metadata": {
        "id": "N6LWDC_zEsZO"
      }
    },
    {
      "cell_type": "code",
      "source": [
        "fields = ['tconst', 'titleType', 'primaryTitle',  'startYear', 'genres']\n",
        "basics = pd.read_table('/content/title.basics.tsv', usecols=fields)[lambda row: row['titleType'] == 'movie']     "
      ],
      "metadata": {
        "id": "ThhoHILUtv_Y"
      },
      "execution_count": 18,
      "outputs": []
    },
    {
      "cell_type": "code",
      "source": [
        "basics.head()"
      ],
      "metadata": {
        "id": "LJcJcUoz_DRj",
        "colab": {
          "base_uri": "https://localhost:8080/",
          "height": 206
        },
        "outputId": "0ddc2655-ea75-4497-ad09-e11d3ca80ca4"
      },
      "execution_count": 28,
      "outputs": [
        {
          "output_type": "execute_result",
          "data": {
            "text/plain": [
              "        tconst titleType                   primaryTitle startYear  \\\n",
              "8    tt0000009     movie                     Miss Jerry      1894   \n",
              "144  tt0000147     movie  The Corbett-Fitzsimmons Fight      1897   \n",
              "498  tt0000502     movie                       Bohemios      1905   \n",
              "570  tt0000574     movie    The Story of the Kelly Gang      1906   \n",
              "587  tt0000591     movie               The Prodigal Son      1907   \n",
              "\n",
              "                         genres  \n",
              "8                       Romance  \n",
              "144      Documentary,News,Sport  \n",
              "498                          \\N  \n",
              "570  Action,Adventure,Biography  \n",
              "587                       Drama  "
            ],
            "text/html": [
              "\n",
              "  <div id=\"df-5d43ecfd-37e8-4efb-b090-3173c73d48e4\">\n",
              "    <div class=\"colab-df-container\">\n",
              "      <div>\n",
              "<style scoped>\n",
              "    .dataframe tbody tr th:only-of-type {\n",
              "        vertical-align: middle;\n",
              "    }\n",
              "\n",
              "    .dataframe tbody tr th {\n",
              "        vertical-align: top;\n",
              "    }\n",
              "\n",
              "    .dataframe thead th {\n",
              "        text-align: right;\n",
              "    }\n",
              "</style>\n",
              "<table border=\"1\" class=\"dataframe\">\n",
              "  <thead>\n",
              "    <tr style=\"text-align: right;\">\n",
              "      <th></th>\n",
              "      <th>tconst</th>\n",
              "      <th>titleType</th>\n",
              "      <th>primaryTitle</th>\n",
              "      <th>startYear</th>\n",
              "      <th>genres</th>\n",
              "    </tr>\n",
              "  </thead>\n",
              "  <tbody>\n",
              "    <tr>\n",
              "      <th>8</th>\n",
              "      <td>tt0000009</td>\n",
              "      <td>movie</td>\n",
              "      <td>Miss Jerry</td>\n",
              "      <td>1894</td>\n",
              "      <td>Romance</td>\n",
              "    </tr>\n",
              "    <tr>\n",
              "      <th>144</th>\n",
              "      <td>tt0000147</td>\n",
              "      <td>movie</td>\n",
              "      <td>The Corbett-Fitzsimmons Fight</td>\n",
              "      <td>1897</td>\n",
              "      <td>Documentary,News,Sport</td>\n",
              "    </tr>\n",
              "    <tr>\n",
              "      <th>498</th>\n",
              "      <td>tt0000502</td>\n",
              "      <td>movie</td>\n",
              "      <td>Bohemios</td>\n",
              "      <td>1905</td>\n",
              "      <td>\\N</td>\n",
              "    </tr>\n",
              "    <tr>\n",
              "      <th>570</th>\n",
              "      <td>tt0000574</td>\n",
              "      <td>movie</td>\n",
              "      <td>The Story of the Kelly Gang</td>\n",
              "      <td>1906</td>\n",
              "      <td>Action,Adventure,Biography</td>\n",
              "    </tr>\n",
              "    <tr>\n",
              "      <th>587</th>\n",
              "      <td>tt0000591</td>\n",
              "      <td>movie</td>\n",
              "      <td>The Prodigal Son</td>\n",
              "      <td>1907</td>\n",
              "      <td>Drama</td>\n",
              "    </tr>\n",
              "  </tbody>\n",
              "</table>\n",
              "</div>\n",
              "      <button class=\"colab-df-convert\" onclick=\"convertToInteractive('df-5d43ecfd-37e8-4efb-b090-3173c73d48e4')\"\n",
              "              title=\"Convert this dataframe to an interactive table.\"\n",
              "              style=\"display:none;\">\n",
              "        \n",
              "  <svg xmlns=\"http://www.w3.org/2000/svg\" height=\"24px\"viewBox=\"0 0 24 24\"\n",
              "       width=\"24px\">\n",
              "    <path d=\"M0 0h24v24H0V0z\" fill=\"none\"/>\n",
              "    <path d=\"M18.56 5.44l.94 2.06.94-2.06 2.06-.94-2.06-.94-.94-2.06-.94 2.06-2.06.94zm-11 1L8.5 8.5l.94-2.06 2.06-.94-2.06-.94L8.5 2.5l-.94 2.06-2.06.94zm10 10l.94 2.06.94-2.06 2.06-.94-2.06-.94-.94-2.06-.94 2.06-2.06.94z\"/><path d=\"M17.41 7.96l-1.37-1.37c-.4-.4-.92-.59-1.43-.59-.52 0-1.04.2-1.43.59L10.3 9.45l-7.72 7.72c-.78.78-.78 2.05 0 2.83L4 21.41c.39.39.9.59 1.41.59.51 0 1.02-.2 1.41-.59l7.78-7.78 2.81-2.81c.8-.78.8-2.07 0-2.86zM5.41 20L4 18.59l7.72-7.72 1.47 1.35L5.41 20z\"/>\n",
              "  </svg>\n",
              "      </button>\n",
              "      \n",
              "  <style>\n",
              "    .colab-df-container {\n",
              "      display:flex;\n",
              "      flex-wrap:wrap;\n",
              "      gap: 12px;\n",
              "    }\n",
              "\n",
              "    .colab-df-convert {\n",
              "      background-color: #E8F0FE;\n",
              "      border: none;\n",
              "      border-radius: 50%;\n",
              "      cursor: pointer;\n",
              "      display: none;\n",
              "      fill: #1967D2;\n",
              "      height: 32px;\n",
              "      padding: 0 0 0 0;\n",
              "      width: 32px;\n",
              "    }\n",
              "\n",
              "    .colab-df-convert:hover {\n",
              "      background-color: #E2EBFA;\n",
              "      box-shadow: 0px 1px 2px rgba(60, 64, 67, 0.3), 0px 1px 3px 1px rgba(60, 64, 67, 0.15);\n",
              "      fill: #174EA6;\n",
              "    }\n",
              "\n",
              "    [theme=dark] .colab-df-convert {\n",
              "      background-color: #3B4455;\n",
              "      fill: #D2E3FC;\n",
              "    }\n",
              "\n",
              "    [theme=dark] .colab-df-convert:hover {\n",
              "      background-color: #434B5C;\n",
              "      box-shadow: 0px 1px 3px 1px rgba(0, 0, 0, 0.15);\n",
              "      filter: drop-shadow(0px 1px 2px rgba(0, 0, 0, 0.3));\n",
              "      fill: #FFFFFF;\n",
              "    }\n",
              "  </style>\n",
              "\n",
              "      <script>\n",
              "        const buttonEl =\n",
              "          document.querySelector('#df-5d43ecfd-37e8-4efb-b090-3173c73d48e4 button.colab-df-convert');\n",
              "        buttonEl.style.display =\n",
              "          google.colab.kernel.accessAllowed ? 'block' : 'none';\n",
              "\n",
              "        async function convertToInteractive(key) {\n",
              "          const element = document.querySelector('#df-5d43ecfd-37e8-4efb-b090-3173c73d48e4');\n",
              "          const dataTable =\n",
              "            await google.colab.kernel.invokeFunction('convertToInteractive',\n",
              "                                                     [key], {});\n",
              "          if (!dataTable) return;\n",
              "\n",
              "          const docLinkHtml = 'Like what you see? Visit the ' +\n",
              "            '<a target=\"_blank\" href=https://colab.research.google.com/notebooks/data_table.ipynb>data table notebook</a>'\n",
              "            + ' to learn more about interactive tables.';\n",
              "          element.innerHTML = '';\n",
              "          dataTable['output_type'] = 'display_data';\n",
              "          await google.colab.output.renderOutput(dataTable, element);\n",
              "          const docLink = document.createElement('div');\n",
              "          docLink.innerHTML = docLinkHtml;\n",
              "          element.appendChild(docLink);\n",
              "        }\n",
              "      </script>\n",
              "    </div>\n",
              "  </div>\n",
              "  "
            ]
          },
          "metadata": {},
          "execution_count": 28
        }
      ]
    },
    {
      "cell_type": "markdown",
      "source": [
        "Parse ratings table"
      ],
      "metadata": {
        "id": "7XylTdhNlz1X"
      }
    },
    {
      "cell_type": "code",
      "source": [
        "ratings = pd.read_table('/content/title.ratings.tsv')"
      ],
      "metadata": {
        "id": "YRLK51JX_dZY"
      },
      "execution_count": 29,
      "outputs": []
    },
    {
      "cell_type": "code",
      "source": [
        "ratings.head()"
      ],
      "metadata": {
        "id": "4wSxgWjM_k7m",
        "colab": {
          "base_uri": "https://localhost:8080/",
          "height": 206
        },
        "outputId": "f110df1e-53eb-46ad-a19a-108845ec63de"
      },
      "execution_count": 30,
      "outputs": [
        {
          "output_type": "execute_result",
          "data": {
            "text/plain": [
              "      tconst  averageRating  numVotes\n",
              "0  tt0000001            5.7      1955\n",
              "1  tt0000002            5.8       263\n",
              "2  tt0000003            6.5      1788\n",
              "3  tt0000004            5.6       179\n",
              "4  tt0000005            6.2      2591"
            ],
            "text/html": [
              "\n",
              "  <div id=\"df-e93c60f5-b8f0-4c9b-8b70-459d299d13fa\">\n",
              "    <div class=\"colab-df-container\">\n",
              "      <div>\n",
              "<style scoped>\n",
              "    .dataframe tbody tr th:only-of-type {\n",
              "        vertical-align: middle;\n",
              "    }\n",
              "\n",
              "    .dataframe tbody tr th {\n",
              "        vertical-align: top;\n",
              "    }\n",
              "\n",
              "    .dataframe thead th {\n",
              "        text-align: right;\n",
              "    }\n",
              "</style>\n",
              "<table border=\"1\" class=\"dataframe\">\n",
              "  <thead>\n",
              "    <tr style=\"text-align: right;\">\n",
              "      <th></th>\n",
              "      <th>tconst</th>\n",
              "      <th>averageRating</th>\n",
              "      <th>numVotes</th>\n",
              "    </tr>\n",
              "  </thead>\n",
              "  <tbody>\n",
              "    <tr>\n",
              "      <th>0</th>\n",
              "      <td>tt0000001</td>\n",
              "      <td>5.7</td>\n",
              "      <td>1955</td>\n",
              "    </tr>\n",
              "    <tr>\n",
              "      <th>1</th>\n",
              "      <td>tt0000002</td>\n",
              "      <td>5.8</td>\n",
              "      <td>263</td>\n",
              "    </tr>\n",
              "    <tr>\n",
              "      <th>2</th>\n",
              "      <td>tt0000003</td>\n",
              "      <td>6.5</td>\n",
              "      <td>1788</td>\n",
              "    </tr>\n",
              "    <tr>\n",
              "      <th>3</th>\n",
              "      <td>tt0000004</td>\n",
              "      <td>5.6</td>\n",
              "      <td>179</td>\n",
              "    </tr>\n",
              "    <tr>\n",
              "      <th>4</th>\n",
              "      <td>tt0000005</td>\n",
              "      <td>6.2</td>\n",
              "      <td>2591</td>\n",
              "    </tr>\n",
              "  </tbody>\n",
              "</table>\n",
              "</div>\n",
              "      <button class=\"colab-df-convert\" onclick=\"convertToInteractive('df-e93c60f5-b8f0-4c9b-8b70-459d299d13fa')\"\n",
              "              title=\"Convert this dataframe to an interactive table.\"\n",
              "              style=\"display:none;\">\n",
              "        \n",
              "  <svg xmlns=\"http://www.w3.org/2000/svg\" height=\"24px\"viewBox=\"0 0 24 24\"\n",
              "       width=\"24px\">\n",
              "    <path d=\"M0 0h24v24H0V0z\" fill=\"none\"/>\n",
              "    <path d=\"M18.56 5.44l.94 2.06.94-2.06 2.06-.94-2.06-.94-.94-2.06-.94 2.06-2.06.94zm-11 1L8.5 8.5l.94-2.06 2.06-.94-2.06-.94L8.5 2.5l-.94 2.06-2.06.94zm10 10l.94 2.06.94-2.06 2.06-.94-2.06-.94-.94-2.06-.94 2.06-2.06.94z\"/><path d=\"M17.41 7.96l-1.37-1.37c-.4-.4-.92-.59-1.43-.59-.52 0-1.04.2-1.43.59L10.3 9.45l-7.72 7.72c-.78.78-.78 2.05 0 2.83L4 21.41c.39.39.9.59 1.41.59.51 0 1.02-.2 1.41-.59l7.78-7.78 2.81-2.81c.8-.78.8-2.07 0-2.86zM5.41 20L4 18.59l7.72-7.72 1.47 1.35L5.41 20z\"/>\n",
              "  </svg>\n",
              "      </button>\n",
              "      \n",
              "  <style>\n",
              "    .colab-df-container {\n",
              "      display:flex;\n",
              "      flex-wrap:wrap;\n",
              "      gap: 12px;\n",
              "    }\n",
              "\n",
              "    .colab-df-convert {\n",
              "      background-color: #E8F0FE;\n",
              "      border: none;\n",
              "      border-radius: 50%;\n",
              "      cursor: pointer;\n",
              "      display: none;\n",
              "      fill: #1967D2;\n",
              "      height: 32px;\n",
              "      padding: 0 0 0 0;\n",
              "      width: 32px;\n",
              "    }\n",
              "\n",
              "    .colab-df-convert:hover {\n",
              "      background-color: #E2EBFA;\n",
              "      box-shadow: 0px 1px 2px rgba(60, 64, 67, 0.3), 0px 1px 3px 1px rgba(60, 64, 67, 0.15);\n",
              "      fill: #174EA6;\n",
              "    }\n",
              "\n",
              "    [theme=dark] .colab-df-convert {\n",
              "      background-color: #3B4455;\n",
              "      fill: #D2E3FC;\n",
              "    }\n",
              "\n",
              "    [theme=dark] .colab-df-convert:hover {\n",
              "      background-color: #434B5C;\n",
              "      box-shadow: 0px 1px 3px 1px rgba(0, 0, 0, 0.15);\n",
              "      filter: drop-shadow(0px 1px 2px rgba(0, 0, 0, 0.3));\n",
              "      fill: #FFFFFF;\n",
              "    }\n",
              "  </style>\n",
              "\n",
              "      <script>\n",
              "        const buttonEl =\n",
              "          document.querySelector('#df-e93c60f5-b8f0-4c9b-8b70-459d299d13fa button.colab-df-convert');\n",
              "        buttonEl.style.display =\n",
              "          google.colab.kernel.accessAllowed ? 'block' : 'none';\n",
              "\n",
              "        async function convertToInteractive(key) {\n",
              "          const element = document.querySelector('#df-e93c60f5-b8f0-4c9b-8b70-459d299d13fa');\n",
              "          const dataTable =\n",
              "            await google.colab.kernel.invokeFunction('convertToInteractive',\n",
              "                                                     [key], {});\n",
              "          if (!dataTable) return;\n",
              "\n",
              "          const docLinkHtml = 'Like what you see? Visit the ' +\n",
              "            '<a target=\"_blank\" href=https://colab.research.google.com/notebooks/data_table.ipynb>data table notebook</a>'\n",
              "            + ' to learn more about interactive tables.';\n",
              "          element.innerHTML = '';\n",
              "          dataTable['output_type'] = 'display_data';\n",
              "          await google.colab.output.renderOutput(dataTable, element);\n",
              "          const docLink = document.createElement('div');\n",
              "          docLink.innerHTML = docLinkHtml;\n",
              "          element.appendChild(docLink);\n",
              "        }\n",
              "      </script>\n",
              "    </div>\n",
              "  </div>\n",
              "  "
            ]
          },
          "metadata": {},
          "execution_count": 30
        }
      ]
    },
    {
      "cell_type": "markdown",
      "source": [
        "# Process"
      ],
      "metadata": {
        "id": "Ax_jp0T-nBwj"
      }
    },
    {
      "cell_type": "markdown",
      "source": [
        "Merge \"basics\" table with \"ratings\" table into one \"df\" table"
      ],
      "metadata": {
        "id": "RlbuSyfbEzWG"
      }
    },
    {
      "cell_type": "code",
      "source": [
        "df = basics.merge(ratings, on='tconst', how='left')\n",
        "df.info()"
      ],
      "metadata": {
        "id": "OWb6ybP5zfIS",
        "colab": {
          "base_uri": "https://localhost:8080/"
        },
        "outputId": "bb26ac8d-da65-4c33-ed30-b8f20d8df9cf"
      },
      "execution_count": 31,
      "outputs": [
        {
          "output_type": "stream",
          "name": "stdout",
          "text": [
            "<class 'pandas.core.frame.DataFrame'>\n",
            "Int64Index: 636863 entries, 0 to 636862\n",
            "Data columns (total 7 columns):\n",
            " #   Column         Non-Null Count   Dtype  \n",
            "---  ------         --------------   -----  \n",
            " 0   tconst         636863 non-null  object \n",
            " 1   titleType      636863 non-null  object \n",
            " 2   primaryTitle   636863 non-null  object \n",
            " 3   startYear      636863 non-null  object \n",
            " 4   genres         636863 non-null  object \n",
            " 5   averageRating  287823 non-null  float64\n",
            " 6   numVotes       287823 non-null  float64\n",
            "dtypes: float64(2), object(5)\n",
            "memory usage: 38.9+ MB\n"
          ]
        }
      ]
    },
    {
      "cell_type": "markdown",
      "source": [
        "Remove rows without genres or with votes no less than 1000 (from ~635k titles down to ~39k)."
      ],
      "metadata": {
        "id": "9DbsWlNNG2oe"
      }
    },
    {
      "cell_type": "code",
      "source": [
        "min_numVotes = 1000\n",
        "df = df[(df['genres'] != r'\\N') & (df['numVotes'] >= min_numVotes)].copy()"
      ],
      "metadata": {
        "id": "d-7RBjVRzjQ3"
      },
      "execution_count": 32,
      "outputs": []
    },
    {
      "cell_type": "code",
      "source": [
        "df.info()"
      ],
      "metadata": {
        "id": "yzM4H9hXt3Ey",
        "colab": {
          "base_uri": "https://localhost:8080/"
        },
        "outputId": "408e8b50-918a-4f5b-d7b0-032bc55371bd"
      },
      "execution_count": 33,
      "outputs": [
        {
          "output_type": "stream",
          "name": "stdout",
          "text": [
            "<class 'pandas.core.frame.DataFrame'>\n",
            "Int64Index: 39370 entries, 132 to 636854\n",
            "Data columns (total 7 columns):\n",
            " #   Column         Non-Null Count  Dtype  \n",
            "---  ------         --------------  -----  \n",
            " 0   tconst         39370 non-null  object \n",
            " 1   titleType      39370 non-null  object \n",
            " 2   primaryTitle   39370 non-null  object \n",
            " 3   startYear      39370 non-null  object \n",
            " 4   genres         39370 non-null  object \n",
            " 5   averageRating  39370 non-null  float64\n",
            " 6   numVotes       39370 non-null  float64\n",
            "dtypes: float64(2), object(5)\n",
            "memory usage: 2.4+ MB\n"
          ]
        }
      ]
    },
    {
      "cell_type": "markdown",
      "source": [
        "No we check genres combinations in order to define broader categories."
      ],
      "metadata": {
        "id": "1R9udPwPPNUP"
      }
    },
    {
      "cell_type": "code",
      "source": [
        "df.genres.value_counts().head()"
      ],
      "metadata": {
        "id": "oVVEe98by0Cj",
        "colab": {
          "base_uri": "https://localhost:8080/"
        },
        "outputId": "cbbc5da4-865c-4a6c-bb3f-8ff9c466b913"
      },
      "execution_count": 34,
      "outputs": [
        {
          "output_type": "execute_result",
          "data": {
            "text/plain": [
              "Drama                   3078\n",
              "Comedy                  1913\n",
              "Comedy,Drama            1790\n",
              "Drama,Romance           1594\n",
              "Comedy,Drama,Romance    1502\n",
              "Name: genres, dtype: int64"
            ]
          },
          "metadata": {},
          "execution_count": 34
        }
      ]
    },
    {
      "cell_type": "markdown",
      "source": [
        "Genres is a string of maximum of 3 genres associated with the title.\n",
        "\n",
        "For our analysis we map broader genre definitions in the following order:\n",
        "\n",
        "1. Animation\n",
        "2. Documentary\n",
        "3. Musical\n",
        "4. Comedy\n",
        "5. Horror\n",
        "6. Action\n",
        "7. Adventure\n",
        "8. Thriller\n",
        "9. Crime\n",
        "10. Drama\n",
        "11. Other\n",
        "\n",
        "[IMDB genre definitions](https://help.imdb.com/article/contribution/titles/genres/GZDRMS6R742JRGAG)"
      ],
      "metadata": {
        "id": "qjWBFTB6Bbf8"
      }
    },
    {
      "cell_type": "code",
      "source": [
        "#@title Genres processing\n",
        "\n",
        "# Returns the genre in the order of genres_order\n",
        "def get_genre(string):\n",
        "    string_list = string.split(',')\n",
        "    genres_order = ['Animation', 'Documentary', 'Musical', 'Comedy', 'Horror', 'Action', 'Adventure',\n",
        "                    'Thriller', 'Crime', 'Drama']\n",
        "    if len(string_list) == 1:\n",
        "        if string_list[0] in genres_order:\n",
        "            return string_list[0]\n",
        "        else:\n",
        "            return 'Other'\n",
        "    for genre in genres_order:\n",
        "        if genre in string_list:\n",
        "            return genre\n",
        "    return 'Other'"
      ],
      "metadata": {
        "id": "pjfEFKLE0FpQ"
      },
      "execution_count": 35,
      "outputs": []
    },
    {
      "cell_type": "code",
      "source": [
        "df['genre'] = df['genres'].map(lambda genre: get_genre(genre))"
      ],
      "metadata": {
        "id": "fSVLVqemLfmx"
      },
      "execution_count": 36,
      "outputs": []
    },
    {
      "cell_type": "code",
      "source": [
        "df.genre.value_counts(dropna=False)"
      ],
      "metadata": {
        "id": "Tw-TOuM_D9vI",
        "colab": {
          "base_uri": "https://localhost:8080/"
        },
        "outputId": "16e3b0ff-9bbc-477e-bfb4-13e950066bf8"
      },
      "execution_count": 37,
      "outputs": [
        {
          "output_type": "execute_result",
          "data": {
            "text/plain": [
              "Comedy         12347\n",
              "Drama           8038\n",
              "Action          4789\n",
              "Horror          4332\n",
              "Thriller        2713\n",
              "Documentary     1956\n",
              "Crime           1795\n",
              "Animation       1285\n",
              "Adventure       1004\n",
              "Musical          668\n",
              "Other            443\n",
              "Name: genre, dtype: int64"
            ]
          },
          "metadata": {},
          "execution_count": 37
        }
      ]
    },
    {
      "cell_type": "markdown",
      "source": [
        "We check which of genres combinations have NaN in \"genre\" column. Should be empty table."
      ],
      "metadata": {
        "id": "EW3IuWb7baIS"
      }
    },
    {
      "cell_type": "code",
      "source": [
        "df[df['genre'].isna()].groupby('genres')['tconst'].count().reset_index(name='count').sort_values(['count'], ascending=False)"
      ],
      "metadata": {
        "id": "52C6B-aQEAji",
        "colab": {
          "base_uri": "https://localhost:8080/",
          "height": 0
        },
        "outputId": "83e358fb-4267-4666-f21d-fd52cee106ff"
      },
      "execution_count": 38,
      "outputs": [
        {
          "output_type": "execute_result",
          "data": {
            "text/plain": [
              "Empty DataFrame\n",
              "Columns: [genres, count]\n",
              "Index: []"
            ],
            "text/html": [
              "\n",
              "  <div id=\"df-986c1202-44db-414a-84ff-c47db5fa7e7e\">\n",
              "    <div class=\"colab-df-container\">\n",
              "      <div>\n",
              "<style scoped>\n",
              "    .dataframe tbody tr th:only-of-type {\n",
              "        vertical-align: middle;\n",
              "    }\n",
              "\n",
              "    .dataframe tbody tr th {\n",
              "        vertical-align: top;\n",
              "    }\n",
              "\n",
              "    .dataframe thead th {\n",
              "        text-align: right;\n",
              "    }\n",
              "</style>\n",
              "<table border=\"1\" class=\"dataframe\">\n",
              "  <thead>\n",
              "    <tr style=\"text-align: right;\">\n",
              "      <th></th>\n",
              "      <th>genres</th>\n",
              "      <th>count</th>\n",
              "    </tr>\n",
              "  </thead>\n",
              "  <tbody>\n",
              "  </tbody>\n",
              "</table>\n",
              "</div>\n",
              "      <button class=\"colab-df-convert\" onclick=\"convertToInteractive('df-986c1202-44db-414a-84ff-c47db5fa7e7e')\"\n",
              "              title=\"Convert this dataframe to an interactive table.\"\n",
              "              style=\"display:none;\">\n",
              "        \n",
              "  <svg xmlns=\"http://www.w3.org/2000/svg\" height=\"24px\"viewBox=\"0 0 24 24\"\n",
              "       width=\"24px\">\n",
              "    <path d=\"M0 0h24v24H0V0z\" fill=\"none\"/>\n",
              "    <path d=\"M18.56 5.44l.94 2.06.94-2.06 2.06-.94-2.06-.94-.94-2.06-.94 2.06-2.06.94zm-11 1L8.5 8.5l.94-2.06 2.06-.94-2.06-.94L8.5 2.5l-.94 2.06-2.06.94zm10 10l.94 2.06.94-2.06 2.06-.94-2.06-.94-.94-2.06-.94 2.06-2.06.94z\"/><path d=\"M17.41 7.96l-1.37-1.37c-.4-.4-.92-.59-1.43-.59-.52 0-1.04.2-1.43.59L10.3 9.45l-7.72 7.72c-.78.78-.78 2.05 0 2.83L4 21.41c.39.39.9.59 1.41.59.51 0 1.02-.2 1.41-.59l7.78-7.78 2.81-2.81c.8-.78.8-2.07 0-2.86zM5.41 20L4 18.59l7.72-7.72 1.47 1.35L5.41 20z\"/>\n",
              "  </svg>\n",
              "      </button>\n",
              "      \n",
              "  <style>\n",
              "    .colab-df-container {\n",
              "      display:flex;\n",
              "      flex-wrap:wrap;\n",
              "      gap: 12px;\n",
              "    }\n",
              "\n",
              "    .colab-df-convert {\n",
              "      background-color: #E8F0FE;\n",
              "      border: none;\n",
              "      border-radius: 50%;\n",
              "      cursor: pointer;\n",
              "      display: none;\n",
              "      fill: #1967D2;\n",
              "      height: 32px;\n",
              "      padding: 0 0 0 0;\n",
              "      width: 32px;\n",
              "    }\n",
              "\n",
              "    .colab-df-convert:hover {\n",
              "      background-color: #E2EBFA;\n",
              "      box-shadow: 0px 1px 2px rgba(60, 64, 67, 0.3), 0px 1px 3px 1px rgba(60, 64, 67, 0.15);\n",
              "      fill: #174EA6;\n",
              "    }\n",
              "\n",
              "    [theme=dark] .colab-df-convert {\n",
              "      background-color: #3B4455;\n",
              "      fill: #D2E3FC;\n",
              "    }\n",
              "\n",
              "    [theme=dark] .colab-df-convert:hover {\n",
              "      background-color: #434B5C;\n",
              "      box-shadow: 0px 1px 3px 1px rgba(0, 0, 0, 0.15);\n",
              "      filter: drop-shadow(0px 1px 2px rgba(0, 0, 0, 0.3));\n",
              "      fill: #FFFFFF;\n",
              "    }\n",
              "  </style>\n",
              "\n",
              "      <script>\n",
              "        const buttonEl =\n",
              "          document.querySelector('#df-986c1202-44db-414a-84ff-c47db5fa7e7e button.colab-df-convert');\n",
              "        buttonEl.style.display =\n",
              "          google.colab.kernel.accessAllowed ? 'block' : 'none';\n",
              "\n",
              "        async function convertToInteractive(key) {\n",
              "          const element = document.querySelector('#df-986c1202-44db-414a-84ff-c47db5fa7e7e');\n",
              "          const dataTable =\n",
              "            await google.colab.kernel.invokeFunction('convertToInteractive',\n",
              "                                                     [key], {});\n",
              "          if (!dataTable) return;\n",
              "\n",
              "          const docLinkHtml = 'Like what you see? Visit the ' +\n",
              "            '<a target=\"_blank\" href=https://colab.research.google.com/notebooks/data_table.ipynb>data table notebook</a>'\n",
              "            + ' to learn more about interactive tables.';\n",
              "          element.innerHTML = '';\n",
              "          dataTable['output_type'] = 'display_data';\n",
              "          await google.colab.output.renderOutput(dataTable, element);\n",
              "          const docLink = document.createElement('div');\n",
              "          docLink.innerHTML = docLinkHtml;\n",
              "          element.appendChild(docLink);\n",
              "        }\n",
              "      </script>\n",
              "    </div>\n",
              "  </div>\n",
              "  "
            ]
          },
          "metadata": {},
          "execution_count": 38
        }
      ]
    },
    {
      "cell_type": "markdown",
      "source": [
        "Let's see if our classification makes sense by viewing the most popular titles and their genres/genre."
      ],
      "metadata": {
        "id": "LZmX3YWdBgnV"
      }
    },
    {
      "cell_type": "code",
      "source": [
        "df[['primaryTitle', 'startYear', 'genres', 'genre', 'averageRating', 'numVotes']].sort_values('numVotes', ascending=False).head(10)"
      ],
      "metadata": {
        "colab": {
          "base_uri": "https://localhost:8080/",
          "height": 0
        },
        "id": "zCBcfIR1SIGD",
        "outputId": "e8db689a-c59e-4399-ee0c-d41b79f20048"
      },
      "execution_count": 39,
      "outputs": [
        {
          "output_type": "execute_result",
          "data": {
            "text/plain": [
              "                                             primaryTitle startYear  \\\n",
              "77477                            The Shawshank Redemption      1994   \n",
              "208494                                    The Dark Knight      2008   \n",
              "309189                                          Inception      2010   \n",
              "91307                                          Fight Club      1999   \n",
              "76649                                        Forrest Gump      1994   \n",
              "77314                                        Pulp Fiction      1994   \n",
              "89185                                          The Matrix      1999   \n",
              "82659   The Lord of the Rings: The Fellowship of the Ring      2001   \n",
              "50030                                       The Godfather      1972   \n",
              "218359                                       Interstellar      2014   \n",
              "\n",
              "                         genres      genre  averageRating   numVotes  \n",
              "77477                     Drama      Drama            9.3  2706353.0  \n",
              "208494       Action,Crime,Drama     Action            9.0  2679814.0  \n",
              "309189  Action,Adventure,Sci-Fi     Action            8.8  2377823.0  \n",
              "91307                     Drama      Drama            8.8  2150874.0  \n",
              "76649             Drama,Romance      Drama            8.8  2102744.0  \n",
              "77314               Crime,Drama      Crime            8.9  2077780.0  \n",
              "89185             Action,Sci-Fi     Action            8.7  1931124.0  \n",
              "82659    Action,Adventure,Drama     Action            8.8  1892516.0  \n",
              "50030               Crime,Drama      Crime            9.2  1879379.0  \n",
              "218359   Adventure,Drama,Sci-Fi  Adventure            8.6  1864738.0  "
            ],
            "text/html": [
              "\n",
              "  <div id=\"df-87378dc4-4aa2-4a9f-b905-ef0f81f55f2f\">\n",
              "    <div class=\"colab-df-container\">\n",
              "      <div>\n",
              "<style scoped>\n",
              "    .dataframe tbody tr th:only-of-type {\n",
              "        vertical-align: middle;\n",
              "    }\n",
              "\n",
              "    .dataframe tbody tr th {\n",
              "        vertical-align: top;\n",
              "    }\n",
              "\n",
              "    .dataframe thead th {\n",
              "        text-align: right;\n",
              "    }\n",
              "</style>\n",
              "<table border=\"1\" class=\"dataframe\">\n",
              "  <thead>\n",
              "    <tr style=\"text-align: right;\">\n",
              "      <th></th>\n",
              "      <th>primaryTitle</th>\n",
              "      <th>startYear</th>\n",
              "      <th>genres</th>\n",
              "      <th>genre</th>\n",
              "      <th>averageRating</th>\n",
              "      <th>numVotes</th>\n",
              "    </tr>\n",
              "  </thead>\n",
              "  <tbody>\n",
              "    <tr>\n",
              "      <th>77477</th>\n",
              "      <td>The Shawshank Redemption</td>\n",
              "      <td>1994</td>\n",
              "      <td>Drama</td>\n",
              "      <td>Drama</td>\n",
              "      <td>9.3</td>\n",
              "      <td>2706353.0</td>\n",
              "    </tr>\n",
              "    <tr>\n",
              "      <th>208494</th>\n",
              "      <td>The Dark Knight</td>\n",
              "      <td>2008</td>\n",
              "      <td>Action,Crime,Drama</td>\n",
              "      <td>Action</td>\n",
              "      <td>9.0</td>\n",
              "      <td>2679814.0</td>\n",
              "    </tr>\n",
              "    <tr>\n",
              "      <th>309189</th>\n",
              "      <td>Inception</td>\n",
              "      <td>2010</td>\n",
              "      <td>Action,Adventure,Sci-Fi</td>\n",
              "      <td>Action</td>\n",
              "      <td>8.8</td>\n",
              "      <td>2377823.0</td>\n",
              "    </tr>\n",
              "    <tr>\n",
              "      <th>91307</th>\n",
              "      <td>Fight Club</td>\n",
              "      <td>1999</td>\n",
              "      <td>Drama</td>\n",
              "      <td>Drama</td>\n",
              "      <td>8.8</td>\n",
              "      <td>2150874.0</td>\n",
              "    </tr>\n",
              "    <tr>\n",
              "      <th>76649</th>\n",
              "      <td>Forrest Gump</td>\n",
              "      <td>1994</td>\n",
              "      <td>Drama,Romance</td>\n",
              "      <td>Drama</td>\n",
              "      <td>8.8</td>\n",
              "      <td>2102744.0</td>\n",
              "    </tr>\n",
              "    <tr>\n",
              "      <th>77314</th>\n",
              "      <td>Pulp Fiction</td>\n",
              "      <td>1994</td>\n",
              "      <td>Crime,Drama</td>\n",
              "      <td>Crime</td>\n",
              "      <td>8.9</td>\n",
              "      <td>2077780.0</td>\n",
              "    </tr>\n",
              "    <tr>\n",
              "      <th>89185</th>\n",
              "      <td>The Matrix</td>\n",
              "      <td>1999</td>\n",
              "      <td>Action,Sci-Fi</td>\n",
              "      <td>Action</td>\n",
              "      <td>8.7</td>\n",
              "      <td>1931124.0</td>\n",
              "    </tr>\n",
              "    <tr>\n",
              "      <th>82659</th>\n",
              "      <td>The Lord of the Rings: The Fellowship of the Ring</td>\n",
              "      <td>2001</td>\n",
              "      <td>Action,Adventure,Drama</td>\n",
              "      <td>Action</td>\n",
              "      <td>8.8</td>\n",
              "      <td>1892516.0</td>\n",
              "    </tr>\n",
              "    <tr>\n",
              "      <th>50030</th>\n",
              "      <td>The Godfather</td>\n",
              "      <td>1972</td>\n",
              "      <td>Crime,Drama</td>\n",
              "      <td>Crime</td>\n",
              "      <td>9.2</td>\n",
              "      <td>1879379.0</td>\n",
              "    </tr>\n",
              "    <tr>\n",
              "      <th>218359</th>\n",
              "      <td>Interstellar</td>\n",
              "      <td>2014</td>\n",
              "      <td>Adventure,Drama,Sci-Fi</td>\n",
              "      <td>Adventure</td>\n",
              "      <td>8.6</td>\n",
              "      <td>1864738.0</td>\n",
              "    </tr>\n",
              "  </tbody>\n",
              "</table>\n",
              "</div>\n",
              "      <button class=\"colab-df-convert\" onclick=\"convertToInteractive('df-87378dc4-4aa2-4a9f-b905-ef0f81f55f2f')\"\n",
              "              title=\"Convert this dataframe to an interactive table.\"\n",
              "              style=\"display:none;\">\n",
              "        \n",
              "  <svg xmlns=\"http://www.w3.org/2000/svg\" height=\"24px\"viewBox=\"0 0 24 24\"\n",
              "       width=\"24px\">\n",
              "    <path d=\"M0 0h24v24H0V0z\" fill=\"none\"/>\n",
              "    <path d=\"M18.56 5.44l.94 2.06.94-2.06 2.06-.94-2.06-.94-.94-2.06-.94 2.06-2.06.94zm-11 1L8.5 8.5l.94-2.06 2.06-.94-2.06-.94L8.5 2.5l-.94 2.06-2.06.94zm10 10l.94 2.06.94-2.06 2.06-.94-2.06-.94-.94-2.06-.94 2.06-2.06.94z\"/><path d=\"M17.41 7.96l-1.37-1.37c-.4-.4-.92-.59-1.43-.59-.52 0-1.04.2-1.43.59L10.3 9.45l-7.72 7.72c-.78.78-.78 2.05 0 2.83L4 21.41c.39.39.9.59 1.41.59.51 0 1.02-.2 1.41-.59l7.78-7.78 2.81-2.81c.8-.78.8-2.07 0-2.86zM5.41 20L4 18.59l7.72-7.72 1.47 1.35L5.41 20z\"/>\n",
              "  </svg>\n",
              "      </button>\n",
              "      \n",
              "  <style>\n",
              "    .colab-df-container {\n",
              "      display:flex;\n",
              "      flex-wrap:wrap;\n",
              "      gap: 12px;\n",
              "    }\n",
              "\n",
              "    .colab-df-convert {\n",
              "      background-color: #E8F0FE;\n",
              "      border: none;\n",
              "      border-radius: 50%;\n",
              "      cursor: pointer;\n",
              "      display: none;\n",
              "      fill: #1967D2;\n",
              "      height: 32px;\n",
              "      padding: 0 0 0 0;\n",
              "      width: 32px;\n",
              "    }\n",
              "\n",
              "    .colab-df-convert:hover {\n",
              "      background-color: #E2EBFA;\n",
              "      box-shadow: 0px 1px 2px rgba(60, 64, 67, 0.3), 0px 1px 3px 1px rgba(60, 64, 67, 0.15);\n",
              "      fill: #174EA6;\n",
              "    }\n",
              "\n",
              "    [theme=dark] .colab-df-convert {\n",
              "      background-color: #3B4455;\n",
              "      fill: #D2E3FC;\n",
              "    }\n",
              "\n",
              "    [theme=dark] .colab-df-convert:hover {\n",
              "      background-color: #434B5C;\n",
              "      box-shadow: 0px 1px 3px 1px rgba(0, 0, 0, 0.15);\n",
              "      filter: drop-shadow(0px 1px 2px rgba(0, 0, 0, 0.3));\n",
              "      fill: #FFFFFF;\n",
              "    }\n",
              "  </style>\n",
              "\n",
              "      <script>\n",
              "        const buttonEl =\n",
              "          document.querySelector('#df-87378dc4-4aa2-4a9f-b905-ef0f81f55f2f button.colab-df-convert');\n",
              "        buttonEl.style.display =\n",
              "          google.colab.kernel.accessAllowed ? 'block' : 'none';\n",
              "\n",
              "        async function convertToInteractive(key) {\n",
              "          const element = document.querySelector('#df-87378dc4-4aa2-4a9f-b905-ef0f81f55f2f');\n",
              "          const dataTable =\n",
              "            await google.colab.kernel.invokeFunction('convertToInteractive',\n",
              "                                                     [key], {});\n",
              "          if (!dataTable) return;\n",
              "\n",
              "          const docLinkHtml = 'Like what you see? Visit the ' +\n",
              "            '<a target=\"_blank\" href=https://colab.research.google.com/notebooks/data_table.ipynb>data table notebook</a>'\n",
              "            + ' to learn more about interactive tables.';\n",
              "          element.innerHTML = '';\n",
              "          dataTable['output_type'] = 'display_data';\n",
              "          await google.colab.output.renderOutput(dataTable, element);\n",
              "          const docLink = document.createElement('div');\n",
              "          docLink.innerHTML = docLinkHtml;\n",
              "          element.appendChild(docLink);\n",
              "        }\n",
              "      </script>\n",
              "    </div>\n",
              "  </div>\n",
              "  "
            ]
          },
          "metadata": {},
          "execution_count": 39
        }
      ]
    },
    {
      "cell_type": "markdown",
      "source": [
        "# Q.1 Analysis\n",
        "The formula for calculating the Top Rated 250 Titles gives a true Bayesian estimate weighted rating:\n",
        " \n",
        " \n",
        "\\begin{equation}\n",
        "\\text{WR} = \\frac{v}{v+m} \\times R + \\frac{m}{v+m} \\times C \n",
        "\\end{equation}\n",
        "\n",
        "Where:\n",
        "\n",
        "$R$ = average for the movie (mean) = (averageRating)\n",
        "\n",
        "$v$ = number of votes for the movie = (numVotes)\n",
        "\n",
        "$m$ = minimum votes required to be listed in the Top 250 (currently 25000)\n",
        "\n",
        "$C$ = the mean vote across the whole report (currently 7.0)\n",
        "\n",
        "For the Top 250, only votes from regular voters are considered.\n",
        "\n",
        "Since IMDb doesn't disclose who are regular voters, we can't really know what is the exact criteria.\n",
        "\n",
        "[Source](https://www.quora.com/What-algorithm-does-IMDB-use-to-decide-the-top-250-movies)\n",
        "\n",
        "We use this formula, however we calculate mean \"averageRating\" across whole df and minimum numVotes is 1000."
      ],
      "metadata": {
        "id": "1fZZQY4FDP1A"
      }
    },
    {
      "cell_type": "code",
      "source": [
        "df['wr'] = ((df['numVotes'] / (df['numVotes'] + min_numVotes)) * df['averageRating']) + ((min_numVotes / (df['numVotes'] + min_numVotes)) * df['averageRating'].mean())"
      ],
      "metadata": {
        "id": "yWdqufzqFe6B"
      },
      "execution_count": 40,
      "outputs": []
    },
    {
      "cell_type": "code",
      "source": [
        "df[['primaryTitle', 'wr']].sort_values('wr', ascending=False).head(10)"
      ],
      "metadata": {
        "colab": {
          "base_uri": "https://localhost:8080/",
          "height": 0
        },
        "id": "psy_RDYOKiUQ",
        "outputId": "8ac4e754-c9a2-46c3-ca13-694b2fb19f0f"
      },
      "execution_count": 41,
      "outputs": [
        {
          "output_type": "execute_result",
          "data": {
            "text/plain": [
              "                                         primaryTitle        wr\n",
              "365438                        The Silence of Swastika  9.305986\n",
              "77477                        The Shawshank Redemption  9.298879\n",
              "50030                                   The Godfather  9.198439\n",
              "142663                                The Chaos Class  9.130708\n",
              "450450                         CM101MMXI Fundamentals  9.040425\n",
              "208494                                The Dark Knight  8.998980\n",
              "103943  The Lord of the Rings: The Return of the King  8.998533\n",
              "75695                                Schindler's List  8.998002\n",
              "52069                           The Godfather Part II  8.997871\n",
              "35976                                    12 Angry Men  8.996583"
            ],
            "text/html": [
              "\n",
              "  <div id=\"df-6c1f2d04-1d72-458e-ade2-63937a09cda3\">\n",
              "    <div class=\"colab-df-container\">\n",
              "      <div>\n",
              "<style scoped>\n",
              "    .dataframe tbody tr th:only-of-type {\n",
              "        vertical-align: middle;\n",
              "    }\n",
              "\n",
              "    .dataframe tbody tr th {\n",
              "        vertical-align: top;\n",
              "    }\n",
              "\n",
              "    .dataframe thead th {\n",
              "        text-align: right;\n",
              "    }\n",
              "</style>\n",
              "<table border=\"1\" class=\"dataframe\">\n",
              "  <thead>\n",
              "    <tr style=\"text-align: right;\">\n",
              "      <th></th>\n",
              "      <th>primaryTitle</th>\n",
              "      <th>wr</th>\n",
              "    </tr>\n",
              "  </thead>\n",
              "  <tbody>\n",
              "    <tr>\n",
              "      <th>365438</th>\n",
              "      <td>The Silence of Swastika</td>\n",
              "      <td>9.305986</td>\n",
              "    </tr>\n",
              "    <tr>\n",
              "      <th>77477</th>\n",
              "      <td>The Shawshank Redemption</td>\n",
              "      <td>9.298879</td>\n",
              "    </tr>\n",
              "    <tr>\n",
              "      <th>50030</th>\n",
              "      <td>The Godfather</td>\n",
              "      <td>9.198439</td>\n",
              "    </tr>\n",
              "    <tr>\n",
              "      <th>142663</th>\n",
              "      <td>The Chaos Class</td>\n",
              "      <td>9.130708</td>\n",
              "    </tr>\n",
              "    <tr>\n",
              "      <th>450450</th>\n",
              "      <td>CM101MMXI Fundamentals</td>\n",
              "      <td>9.040425</td>\n",
              "    </tr>\n",
              "    <tr>\n",
              "      <th>208494</th>\n",
              "      <td>The Dark Knight</td>\n",
              "      <td>8.998980</td>\n",
              "    </tr>\n",
              "    <tr>\n",
              "      <th>103943</th>\n",
              "      <td>The Lord of the Rings: The Return of the King</td>\n",
              "      <td>8.998533</td>\n",
              "    </tr>\n",
              "    <tr>\n",
              "      <th>75695</th>\n",
              "      <td>Schindler's List</td>\n",
              "      <td>8.998002</td>\n",
              "    </tr>\n",
              "    <tr>\n",
              "      <th>52069</th>\n",
              "      <td>The Godfather Part II</td>\n",
              "      <td>8.997871</td>\n",
              "    </tr>\n",
              "    <tr>\n",
              "      <th>35976</th>\n",
              "      <td>12 Angry Men</td>\n",
              "      <td>8.996583</td>\n",
              "    </tr>\n",
              "  </tbody>\n",
              "</table>\n",
              "</div>\n",
              "      <button class=\"colab-df-convert\" onclick=\"convertToInteractive('df-6c1f2d04-1d72-458e-ade2-63937a09cda3')\"\n",
              "              title=\"Convert this dataframe to an interactive table.\"\n",
              "              style=\"display:none;\">\n",
              "        \n",
              "  <svg xmlns=\"http://www.w3.org/2000/svg\" height=\"24px\"viewBox=\"0 0 24 24\"\n",
              "       width=\"24px\">\n",
              "    <path d=\"M0 0h24v24H0V0z\" fill=\"none\"/>\n",
              "    <path d=\"M18.56 5.44l.94 2.06.94-2.06 2.06-.94-2.06-.94-.94-2.06-.94 2.06-2.06.94zm-11 1L8.5 8.5l.94-2.06 2.06-.94-2.06-.94L8.5 2.5l-.94 2.06-2.06.94zm10 10l.94 2.06.94-2.06 2.06-.94-2.06-.94-.94-2.06-.94 2.06-2.06.94z\"/><path d=\"M17.41 7.96l-1.37-1.37c-.4-.4-.92-.59-1.43-.59-.52 0-1.04.2-1.43.59L10.3 9.45l-7.72 7.72c-.78.78-.78 2.05 0 2.83L4 21.41c.39.39.9.59 1.41.59.51 0 1.02-.2 1.41-.59l7.78-7.78 2.81-2.81c.8-.78.8-2.07 0-2.86zM5.41 20L4 18.59l7.72-7.72 1.47 1.35L5.41 20z\"/>\n",
              "  </svg>\n",
              "      </button>\n",
              "      \n",
              "  <style>\n",
              "    .colab-df-container {\n",
              "      display:flex;\n",
              "      flex-wrap:wrap;\n",
              "      gap: 12px;\n",
              "    }\n",
              "\n",
              "    .colab-df-convert {\n",
              "      background-color: #E8F0FE;\n",
              "      border: none;\n",
              "      border-radius: 50%;\n",
              "      cursor: pointer;\n",
              "      display: none;\n",
              "      fill: #1967D2;\n",
              "      height: 32px;\n",
              "      padding: 0 0 0 0;\n",
              "      width: 32px;\n",
              "    }\n",
              "\n",
              "    .colab-df-convert:hover {\n",
              "      background-color: #E2EBFA;\n",
              "      box-shadow: 0px 1px 2px rgba(60, 64, 67, 0.3), 0px 1px 3px 1px rgba(60, 64, 67, 0.15);\n",
              "      fill: #174EA6;\n",
              "    }\n",
              "\n",
              "    [theme=dark] .colab-df-convert {\n",
              "      background-color: #3B4455;\n",
              "      fill: #D2E3FC;\n",
              "    }\n",
              "\n",
              "    [theme=dark] .colab-df-convert:hover {\n",
              "      background-color: #434B5C;\n",
              "      box-shadow: 0px 1px 3px 1px rgba(0, 0, 0, 0.15);\n",
              "      filter: drop-shadow(0px 1px 2px rgba(0, 0, 0, 0.3));\n",
              "      fill: #FFFFFF;\n",
              "    }\n",
              "  </style>\n",
              "\n",
              "      <script>\n",
              "        const buttonEl =\n",
              "          document.querySelector('#df-6c1f2d04-1d72-458e-ade2-63937a09cda3 button.colab-df-convert');\n",
              "        buttonEl.style.display =\n",
              "          google.colab.kernel.accessAllowed ? 'block' : 'none';\n",
              "\n",
              "        async function convertToInteractive(key) {\n",
              "          const element = document.querySelector('#df-6c1f2d04-1d72-458e-ade2-63937a09cda3');\n",
              "          const dataTable =\n",
              "            await google.colab.kernel.invokeFunction('convertToInteractive',\n",
              "                                                     [key], {});\n",
              "          if (!dataTable) return;\n",
              "\n",
              "          const docLinkHtml = 'Like what you see? Visit the ' +\n",
              "            '<a target=\"_blank\" href=https://colab.research.google.com/notebooks/data_table.ipynb>data table notebook</a>'\n",
              "            + ' to learn more about interactive tables.';\n",
              "          element.innerHTML = '';\n",
              "          dataTable['output_type'] = 'display_data';\n",
              "          await google.colab.output.renderOutput(dataTable, element);\n",
              "          const docLink = document.createElement('div');\n",
              "          docLink.innerHTML = docLinkHtml;\n",
              "          element.appendChild(docLink);\n",
              "        }\n",
              "      </script>\n",
              "    </div>\n",
              "  </div>\n",
              "  "
            ]
          },
          "metadata": {},
          "execution_count": 41
        }
      ]
    },
    {
      "cell_type": "markdown",
      "source": [
        "Let's see how our top movies by 'wr' compares with IMDB's top 10."
      ],
      "metadata": {
        "id": "yuwidt77LAug"
      }
    },
    {
      "cell_type": "markdown",
      "source": [
        "https://www.kaggle.com/datasets/rajugc/imdb-top-250-movies-dataset"
      ],
      "metadata": {
        "id": "Pis51IkeLbRq"
      }
    },
    {
      "cell_type": "markdown",
      "source": [
        "https://drive.google.com/file/d/1qxOUIz2ZBLa-bd7Q7aTr-zBKXQKoFPPw/view?usp=sharing"
      ],
      "metadata": {
        "id": "kDq3loqaLXd9"
      }
    },
    {
      "cell_type": "code",
      "source": [
        "! gdown 1qxOUIz2ZBLa-bd7Q7aTr-zBKXQKoFPPw"
      ],
      "metadata": {
        "colab": {
          "base_uri": "https://localhost:8080/"
        },
        "id": "-YuLgtqOK1P1",
        "outputId": "1d2f6ff8-395f-45c7-fab8-a3912b52a1bb"
      },
      "execution_count": 42,
      "outputs": [
        {
          "output_type": "stream",
          "name": "stdout",
          "text": [
            "Downloading...\n",
            "From: https://drive.google.com/uc?id=1qxOUIz2ZBLa-bd7Q7aTr-zBKXQKoFPPw\n",
            "To: /content/IMDB Top 250.zip\n",
            "\r  0% 0.00/52.8k [00:00<?, ?B/s]\r100% 52.8k/52.8k [00:00<00:00, 52.5MB/s]\n"
          ]
        }
      ]
    },
    {
      "cell_type": "code",
      "source": [
        "! unzip -o '/content/IMDB Top 250.zip'"
      ],
      "metadata": {
        "colab": {
          "base_uri": "https://localhost:8080/"
        },
        "id": "4ooAvcJ8LqAI",
        "outputId": "c19fb314-6954-4452-fd0b-f563374f2607"
      },
      "execution_count": 43,
      "outputs": [
        {
          "output_type": "stream",
          "name": "stdout",
          "text": [
            "Archive:  /content/IMDB Top 250.zip\n",
            "  inflating: IMDB Top 250 Movies.csv  \n"
          ]
        }
      ]
    },
    {
      "cell_type": "code",
      "source": [
        "imdb_top_250 = pd.read_csv('/content/IMDB Top 250 Movies.csv', usecols=['rank', 'name', 'rating'])\n",
        "imdb_top_250.head(10)"
      ],
      "metadata": {
        "colab": {
          "base_uri": "https://localhost:8080/",
          "height": 0
        },
        "id": "djtLHyK-L8iU",
        "outputId": "6fc8da55-6be4-47a5-aac9-75fb7333c11e"
      },
      "execution_count": 44,
      "outputs": [
        {
          "output_type": "execute_result",
          "data": {
            "text/plain": [
              "   rank                                               name  rating\n",
              "0     1                           The Shawshank Redemption     9.3\n",
              "1     2                                      The Godfather     9.2\n",
              "2     3                                    The Dark Knight     9.0\n",
              "3     4                              The Godfather Part II     9.0\n",
              "4     5                                       12 Angry Men     9.0\n",
              "5     6                                   Schindler's List     9.0\n",
              "6     7      The Lord of the Rings: The Return of the King     9.0\n",
              "7     8                                       Pulp Fiction     8.9\n",
              "8     9  The Lord of the Rings: The Fellowship of the Ring     8.8\n",
              "9    10                     The Good, the Bad and the Ugly     8.8"
            ],
            "text/html": [
              "\n",
              "  <div id=\"df-955e4995-8265-484c-8f0a-4c2c6a1b6468\">\n",
              "    <div class=\"colab-df-container\">\n",
              "      <div>\n",
              "<style scoped>\n",
              "    .dataframe tbody tr th:only-of-type {\n",
              "        vertical-align: middle;\n",
              "    }\n",
              "\n",
              "    .dataframe tbody tr th {\n",
              "        vertical-align: top;\n",
              "    }\n",
              "\n",
              "    .dataframe thead th {\n",
              "        text-align: right;\n",
              "    }\n",
              "</style>\n",
              "<table border=\"1\" class=\"dataframe\">\n",
              "  <thead>\n",
              "    <tr style=\"text-align: right;\">\n",
              "      <th></th>\n",
              "      <th>rank</th>\n",
              "      <th>name</th>\n",
              "      <th>rating</th>\n",
              "    </tr>\n",
              "  </thead>\n",
              "  <tbody>\n",
              "    <tr>\n",
              "      <th>0</th>\n",
              "      <td>1</td>\n",
              "      <td>The Shawshank Redemption</td>\n",
              "      <td>9.3</td>\n",
              "    </tr>\n",
              "    <tr>\n",
              "      <th>1</th>\n",
              "      <td>2</td>\n",
              "      <td>The Godfather</td>\n",
              "      <td>9.2</td>\n",
              "    </tr>\n",
              "    <tr>\n",
              "      <th>2</th>\n",
              "      <td>3</td>\n",
              "      <td>The Dark Knight</td>\n",
              "      <td>9.0</td>\n",
              "    </tr>\n",
              "    <tr>\n",
              "      <th>3</th>\n",
              "      <td>4</td>\n",
              "      <td>The Godfather Part II</td>\n",
              "      <td>9.0</td>\n",
              "    </tr>\n",
              "    <tr>\n",
              "      <th>4</th>\n",
              "      <td>5</td>\n",
              "      <td>12 Angry Men</td>\n",
              "      <td>9.0</td>\n",
              "    </tr>\n",
              "    <tr>\n",
              "      <th>5</th>\n",
              "      <td>6</td>\n",
              "      <td>Schindler's List</td>\n",
              "      <td>9.0</td>\n",
              "    </tr>\n",
              "    <tr>\n",
              "      <th>6</th>\n",
              "      <td>7</td>\n",
              "      <td>The Lord of the Rings: The Return of the King</td>\n",
              "      <td>9.0</td>\n",
              "    </tr>\n",
              "    <tr>\n",
              "      <th>7</th>\n",
              "      <td>8</td>\n",
              "      <td>Pulp Fiction</td>\n",
              "      <td>8.9</td>\n",
              "    </tr>\n",
              "    <tr>\n",
              "      <th>8</th>\n",
              "      <td>9</td>\n",
              "      <td>The Lord of the Rings: The Fellowship of the Ring</td>\n",
              "      <td>8.8</td>\n",
              "    </tr>\n",
              "    <tr>\n",
              "      <th>9</th>\n",
              "      <td>10</td>\n",
              "      <td>The Good, the Bad and the Ugly</td>\n",
              "      <td>8.8</td>\n",
              "    </tr>\n",
              "  </tbody>\n",
              "</table>\n",
              "</div>\n",
              "      <button class=\"colab-df-convert\" onclick=\"convertToInteractive('df-955e4995-8265-484c-8f0a-4c2c6a1b6468')\"\n",
              "              title=\"Convert this dataframe to an interactive table.\"\n",
              "              style=\"display:none;\">\n",
              "        \n",
              "  <svg xmlns=\"http://www.w3.org/2000/svg\" height=\"24px\"viewBox=\"0 0 24 24\"\n",
              "       width=\"24px\">\n",
              "    <path d=\"M0 0h24v24H0V0z\" fill=\"none\"/>\n",
              "    <path d=\"M18.56 5.44l.94 2.06.94-2.06 2.06-.94-2.06-.94-.94-2.06-.94 2.06-2.06.94zm-11 1L8.5 8.5l.94-2.06 2.06-.94-2.06-.94L8.5 2.5l-.94 2.06-2.06.94zm10 10l.94 2.06.94-2.06 2.06-.94-2.06-.94-.94-2.06-.94 2.06-2.06.94z\"/><path d=\"M17.41 7.96l-1.37-1.37c-.4-.4-.92-.59-1.43-.59-.52 0-1.04.2-1.43.59L10.3 9.45l-7.72 7.72c-.78.78-.78 2.05 0 2.83L4 21.41c.39.39.9.59 1.41.59.51 0 1.02-.2 1.41-.59l7.78-7.78 2.81-2.81c.8-.78.8-2.07 0-2.86zM5.41 20L4 18.59l7.72-7.72 1.47 1.35L5.41 20z\"/>\n",
              "  </svg>\n",
              "      </button>\n",
              "      \n",
              "  <style>\n",
              "    .colab-df-container {\n",
              "      display:flex;\n",
              "      flex-wrap:wrap;\n",
              "      gap: 12px;\n",
              "    }\n",
              "\n",
              "    .colab-df-convert {\n",
              "      background-color: #E8F0FE;\n",
              "      border: none;\n",
              "      border-radius: 50%;\n",
              "      cursor: pointer;\n",
              "      display: none;\n",
              "      fill: #1967D2;\n",
              "      height: 32px;\n",
              "      padding: 0 0 0 0;\n",
              "      width: 32px;\n",
              "    }\n",
              "\n",
              "    .colab-df-convert:hover {\n",
              "      background-color: #E2EBFA;\n",
              "      box-shadow: 0px 1px 2px rgba(60, 64, 67, 0.3), 0px 1px 3px 1px rgba(60, 64, 67, 0.15);\n",
              "      fill: #174EA6;\n",
              "    }\n",
              "\n",
              "    [theme=dark] .colab-df-convert {\n",
              "      background-color: #3B4455;\n",
              "      fill: #D2E3FC;\n",
              "    }\n",
              "\n",
              "    [theme=dark] .colab-df-convert:hover {\n",
              "      background-color: #434B5C;\n",
              "      box-shadow: 0px 1px 3px 1px rgba(0, 0, 0, 0.15);\n",
              "      filter: drop-shadow(0px 1px 2px rgba(0, 0, 0, 0.3));\n",
              "      fill: #FFFFFF;\n",
              "    }\n",
              "  </style>\n",
              "\n",
              "      <script>\n",
              "        const buttonEl =\n",
              "          document.querySelector('#df-955e4995-8265-484c-8f0a-4c2c6a1b6468 button.colab-df-convert');\n",
              "        buttonEl.style.display =\n",
              "          google.colab.kernel.accessAllowed ? 'block' : 'none';\n",
              "\n",
              "        async function convertToInteractive(key) {\n",
              "          const element = document.querySelector('#df-955e4995-8265-484c-8f0a-4c2c6a1b6468');\n",
              "          const dataTable =\n",
              "            await google.colab.kernel.invokeFunction('convertToInteractive',\n",
              "                                                     [key], {});\n",
              "          if (!dataTable) return;\n",
              "\n",
              "          const docLinkHtml = 'Like what you see? Visit the ' +\n",
              "            '<a target=\"_blank\" href=https://colab.research.google.com/notebooks/data_table.ipynb>data table notebook</a>'\n",
              "            + ' to learn more about interactive tables.';\n",
              "          element.innerHTML = '';\n",
              "          dataTable['output_type'] = 'display_data';\n",
              "          await google.colab.output.renderOutput(dataTable, element);\n",
              "          const docLink = document.createElement('div');\n",
              "          docLink.innerHTML = docLinkHtml;\n",
              "          element.appendChild(docLink);\n",
              "        }\n",
              "      </script>\n",
              "    </div>\n",
              "  </div>\n",
              "  "
            ]
          },
          "metadata": {},
          "execution_count": 44
        }
      ]
    },
    {
      "cell_type": "markdown",
      "source": [
        "We notice that IMDB 250 does not include popular movies in languages other than English."
      ],
      "metadata": {
        "id": "uw7ZkdB0QKPC"
      }
    },
    {
      "cell_type": "markdown",
      "source": [
        "Now let's see statistics on ratings of movie genres."
      ],
      "metadata": {
        "id": "QdGCylu6Qe4o"
      }
    },
    {
      "cell_type": "code",
      "source": [
        "df.groupby('genre')['wr'].agg(['count', 'mean', 'min', 'max', 'std']).sort_values(['mean'], ascending=False)"
      ],
      "metadata": {
        "id": "emC_UiE6JlOn",
        "colab": {
          "base_uri": "https://localhost:8080/",
          "height": 0
        },
        "outputId": "90989f7e-5072-4026-b8bb-1d072e51bf0f"
      },
      "execution_count": 45,
      "outputs": [
        {
          "output_type": "execute_result",
          "data": {
            "text/plain": [
              "             count      mean       min       max       std\n",
              "genre                                                     \n",
              "Documentary   1956  6.966055  1.660328  9.305986  0.653241\n",
              "Drama         8038  6.653223  1.070450  9.298879  0.712394\n",
              "Crime         1795  6.635744  1.859626  9.198439  0.706751\n",
              "Animation     1285  6.589530  1.705140  8.901424  0.848586\n",
              "Musical        668  6.492767  2.058175  8.556296  0.808024\n",
              "Adventure     1004  6.393644  1.978319  8.898707  0.812515\n",
              "Thriller      2713  6.284722  1.324188  8.903503  0.835469\n",
              "Comedy       12347  6.208169  1.131169  9.130708  0.862091\n",
              "Other          443  6.171628  2.618381  8.713398  0.912891\n",
              "Action        4789  6.130428  1.252146  8.998980  0.972027\n",
              "Horror        4332  5.570737  1.723760  8.497496  0.835399"
            ],
            "text/html": [
              "\n",
              "  <div id=\"df-aeed22f0-56c8-4b33-8c0a-8d0d8741c69a\">\n",
              "    <div class=\"colab-df-container\">\n",
              "      <div>\n",
              "<style scoped>\n",
              "    .dataframe tbody tr th:only-of-type {\n",
              "        vertical-align: middle;\n",
              "    }\n",
              "\n",
              "    .dataframe tbody tr th {\n",
              "        vertical-align: top;\n",
              "    }\n",
              "\n",
              "    .dataframe thead th {\n",
              "        text-align: right;\n",
              "    }\n",
              "</style>\n",
              "<table border=\"1\" class=\"dataframe\">\n",
              "  <thead>\n",
              "    <tr style=\"text-align: right;\">\n",
              "      <th></th>\n",
              "      <th>count</th>\n",
              "      <th>mean</th>\n",
              "      <th>min</th>\n",
              "      <th>max</th>\n",
              "      <th>std</th>\n",
              "    </tr>\n",
              "    <tr>\n",
              "      <th>genre</th>\n",
              "      <th></th>\n",
              "      <th></th>\n",
              "      <th></th>\n",
              "      <th></th>\n",
              "      <th></th>\n",
              "    </tr>\n",
              "  </thead>\n",
              "  <tbody>\n",
              "    <tr>\n",
              "      <th>Documentary</th>\n",
              "      <td>1956</td>\n",
              "      <td>6.966055</td>\n",
              "      <td>1.660328</td>\n",
              "      <td>9.305986</td>\n",
              "      <td>0.653241</td>\n",
              "    </tr>\n",
              "    <tr>\n",
              "      <th>Drama</th>\n",
              "      <td>8038</td>\n",
              "      <td>6.653223</td>\n",
              "      <td>1.070450</td>\n",
              "      <td>9.298879</td>\n",
              "      <td>0.712394</td>\n",
              "    </tr>\n",
              "    <tr>\n",
              "      <th>Crime</th>\n",
              "      <td>1795</td>\n",
              "      <td>6.635744</td>\n",
              "      <td>1.859626</td>\n",
              "      <td>9.198439</td>\n",
              "      <td>0.706751</td>\n",
              "    </tr>\n",
              "    <tr>\n",
              "      <th>Animation</th>\n",
              "      <td>1285</td>\n",
              "      <td>6.589530</td>\n",
              "      <td>1.705140</td>\n",
              "      <td>8.901424</td>\n",
              "      <td>0.848586</td>\n",
              "    </tr>\n",
              "    <tr>\n",
              "      <th>Musical</th>\n",
              "      <td>668</td>\n",
              "      <td>6.492767</td>\n",
              "      <td>2.058175</td>\n",
              "      <td>8.556296</td>\n",
              "      <td>0.808024</td>\n",
              "    </tr>\n",
              "    <tr>\n",
              "      <th>Adventure</th>\n",
              "      <td>1004</td>\n",
              "      <td>6.393644</td>\n",
              "      <td>1.978319</td>\n",
              "      <td>8.898707</td>\n",
              "      <td>0.812515</td>\n",
              "    </tr>\n",
              "    <tr>\n",
              "      <th>Thriller</th>\n",
              "      <td>2713</td>\n",
              "      <td>6.284722</td>\n",
              "      <td>1.324188</td>\n",
              "      <td>8.903503</td>\n",
              "      <td>0.835469</td>\n",
              "    </tr>\n",
              "    <tr>\n",
              "      <th>Comedy</th>\n",
              "      <td>12347</td>\n",
              "      <td>6.208169</td>\n",
              "      <td>1.131169</td>\n",
              "      <td>9.130708</td>\n",
              "      <td>0.862091</td>\n",
              "    </tr>\n",
              "    <tr>\n",
              "      <th>Other</th>\n",
              "      <td>443</td>\n",
              "      <td>6.171628</td>\n",
              "      <td>2.618381</td>\n",
              "      <td>8.713398</td>\n",
              "      <td>0.912891</td>\n",
              "    </tr>\n",
              "    <tr>\n",
              "      <th>Action</th>\n",
              "      <td>4789</td>\n",
              "      <td>6.130428</td>\n",
              "      <td>1.252146</td>\n",
              "      <td>8.998980</td>\n",
              "      <td>0.972027</td>\n",
              "    </tr>\n",
              "    <tr>\n",
              "      <th>Horror</th>\n",
              "      <td>4332</td>\n",
              "      <td>5.570737</td>\n",
              "      <td>1.723760</td>\n",
              "      <td>8.497496</td>\n",
              "      <td>0.835399</td>\n",
              "    </tr>\n",
              "  </tbody>\n",
              "</table>\n",
              "</div>\n",
              "      <button class=\"colab-df-convert\" onclick=\"convertToInteractive('df-aeed22f0-56c8-4b33-8c0a-8d0d8741c69a')\"\n",
              "              title=\"Convert this dataframe to an interactive table.\"\n",
              "              style=\"display:none;\">\n",
              "        \n",
              "  <svg xmlns=\"http://www.w3.org/2000/svg\" height=\"24px\"viewBox=\"0 0 24 24\"\n",
              "       width=\"24px\">\n",
              "    <path d=\"M0 0h24v24H0V0z\" fill=\"none\"/>\n",
              "    <path d=\"M18.56 5.44l.94 2.06.94-2.06 2.06-.94-2.06-.94-.94-2.06-.94 2.06-2.06.94zm-11 1L8.5 8.5l.94-2.06 2.06-.94-2.06-.94L8.5 2.5l-.94 2.06-2.06.94zm10 10l.94 2.06.94-2.06 2.06-.94-2.06-.94-.94-2.06-.94 2.06-2.06.94z\"/><path d=\"M17.41 7.96l-1.37-1.37c-.4-.4-.92-.59-1.43-.59-.52 0-1.04.2-1.43.59L10.3 9.45l-7.72 7.72c-.78.78-.78 2.05 0 2.83L4 21.41c.39.39.9.59 1.41.59.51 0 1.02-.2 1.41-.59l7.78-7.78 2.81-2.81c.8-.78.8-2.07 0-2.86zM5.41 20L4 18.59l7.72-7.72 1.47 1.35L5.41 20z\"/>\n",
              "  </svg>\n",
              "      </button>\n",
              "      \n",
              "  <style>\n",
              "    .colab-df-container {\n",
              "      display:flex;\n",
              "      flex-wrap:wrap;\n",
              "      gap: 12px;\n",
              "    }\n",
              "\n",
              "    .colab-df-convert {\n",
              "      background-color: #E8F0FE;\n",
              "      border: none;\n",
              "      border-radius: 50%;\n",
              "      cursor: pointer;\n",
              "      display: none;\n",
              "      fill: #1967D2;\n",
              "      height: 32px;\n",
              "      padding: 0 0 0 0;\n",
              "      width: 32px;\n",
              "    }\n",
              "\n",
              "    .colab-df-convert:hover {\n",
              "      background-color: #E2EBFA;\n",
              "      box-shadow: 0px 1px 2px rgba(60, 64, 67, 0.3), 0px 1px 3px 1px rgba(60, 64, 67, 0.15);\n",
              "      fill: #174EA6;\n",
              "    }\n",
              "\n",
              "    [theme=dark] .colab-df-convert {\n",
              "      background-color: #3B4455;\n",
              "      fill: #D2E3FC;\n",
              "    }\n",
              "\n",
              "    [theme=dark] .colab-df-convert:hover {\n",
              "      background-color: #434B5C;\n",
              "      box-shadow: 0px 1px 3px 1px rgba(0, 0, 0, 0.15);\n",
              "      filter: drop-shadow(0px 1px 2px rgba(0, 0, 0, 0.3));\n",
              "      fill: #FFFFFF;\n",
              "    }\n",
              "  </style>\n",
              "\n",
              "      <script>\n",
              "        const buttonEl =\n",
              "          document.querySelector('#df-aeed22f0-56c8-4b33-8c0a-8d0d8741c69a button.colab-df-convert');\n",
              "        buttonEl.style.display =\n",
              "          google.colab.kernel.accessAllowed ? 'block' : 'none';\n",
              "\n",
              "        async function convertToInteractive(key) {\n",
              "          const element = document.querySelector('#df-aeed22f0-56c8-4b33-8c0a-8d0d8741c69a');\n",
              "          const dataTable =\n",
              "            await google.colab.kernel.invokeFunction('convertToInteractive',\n",
              "                                                     [key], {});\n",
              "          if (!dataTable) return;\n",
              "\n",
              "          const docLinkHtml = 'Like what you see? Visit the ' +\n",
              "            '<a target=\"_blank\" href=https://colab.research.google.com/notebooks/data_table.ipynb>data table notebook</a>'\n",
              "            + ' to learn more about interactive tables.';\n",
              "          element.innerHTML = '';\n",
              "          dataTable['output_type'] = 'display_data';\n",
              "          await google.colab.output.renderOutput(dataTable, element);\n",
              "          const docLink = document.createElement('div');\n",
              "          docLink.innerHTML = docLinkHtml;\n",
              "          element.appendChild(docLink);\n",
              "        }\n",
              "      </script>\n",
              "    </div>\n",
              "  </div>\n",
              "  "
            ]
          },
          "metadata": {},
          "execution_count": 45
        }
      ]
    },
    {
      "cell_type": "markdown",
      "source": [
        "We see that Horror genre has the lowest mean rating."
      ],
      "metadata": {
        "id": "vPjtemgbQoDO"
      }
    },
    {
      "cell_type": "code",
      "source": [
        "result = df.groupby('genre')['wr'].agg(['mean']).sort_values(['mean']).copy()\n",
        "result"
      ],
      "metadata": {
        "id": "wbChJpRqMThE",
        "colab": {
          "base_uri": "https://localhost:8080/",
          "height": 0
        },
        "outputId": "283cd06b-b4ad-4d52-dfc2-8ffb76bfbf3e"
      },
      "execution_count": 46,
      "outputs": [
        {
          "output_type": "execute_result",
          "data": {
            "text/plain": [
              "                 mean\n",
              "genre                \n",
              "Horror       5.570737\n",
              "Action       6.130428\n",
              "Other        6.171628\n",
              "Comedy       6.208169\n",
              "Thriller     6.284722\n",
              "Adventure    6.393644\n",
              "Musical      6.492767\n",
              "Animation    6.589530\n",
              "Crime        6.635744\n",
              "Drama        6.653223\n",
              "Documentary  6.966055"
            ],
            "text/html": [
              "\n",
              "  <div id=\"df-4d0f5aa9-8a92-45c6-ab5d-cb92e4759418\">\n",
              "    <div class=\"colab-df-container\">\n",
              "      <div>\n",
              "<style scoped>\n",
              "    .dataframe tbody tr th:only-of-type {\n",
              "        vertical-align: middle;\n",
              "    }\n",
              "\n",
              "    .dataframe tbody tr th {\n",
              "        vertical-align: top;\n",
              "    }\n",
              "\n",
              "    .dataframe thead th {\n",
              "        text-align: right;\n",
              "    }\n",
              "</style>\n",
              "<table border=\"1\" class=\"dataframe\">\n",
              "  <thead>\n",
              "    <tr style=\"text-align: right;\">\n",
              "      <th></th>\n",
              "      <th>mean</th>\n",
              "    </tr>\n",
              "    <tr>\n",
              "      <th>genre</th>\n",
              "      <th></th>\n",
              "    </tr>\n",
              "  </thead>\n",
              "  <tbody>\n",
              "    <tr>\n",
              "      <th>Horror</th>\n",
              "      <td>5.570737</td>\n",
              "    </tr>\n",
              "    <tr>\n",
              "      <th>Action</th>\n",
              "      <td>6.130428</td>\n",
              "    </tr>\n",
              "    <tr>\n",
              "      <th>Other</th>\n",
              "      <td>6.171628</td>\n",
              "    </tr>\n",
              "    <tr>\n",
              "      <th>Comedy</th>\n",
              "      <td>6.208169</td>\n",
              "    </tr>\n",
              "    <tr>\n",
              "      <th>Thriller</th>\n",
              "      <td>6.284722</td>\n",
              "    </tr>\n",
              "    <tr>\n",
              "      <th>Adventure</th>\n",
              "      <td>6.393644</td>\n",
              "    </tr>\n",
              "    <tr>\n",
              "      <th>Musical</th>\n",
              "      <td>6.492767</td>\n",
              "    </tr>\n",
              "    <tr>\n",
              "      <th>Animation</th>\n",
              "      <td>6.589530</td>\n",
              "    </tr>\n",
              "    <tr>\n",
              "      <th>Crime</th>\n",
              "      <td>6.635744</td>\n",
              "    </tr>\n",
              "    <tr>\n",
              "      <th>Drama</th>\n",
              "      <td>6.653223</td>\n",
              "    </tr>\n",
              "    <tr>\n",
              "      <th>Documentary</th>\n",
              "      <td>6.966055</td>\n",
              "    </tr>\n",
              "  </tbody>\n",
              "</table>\n",
              "</div>\n",
              "      <button class=\"colab-df-convert\" onclick=\"convertToInteractive('df-4d0f5aa9-8a92-45c6-ab5d-cb92e4759418')\"\n",
              "              title=\"Convert this dataframe to an interactive table.\"\n",
              "              style=\"display:none;\">\n",
              "        \n",
              "  <svg xmlns=\"http://www.w3.org/2000/svg\" height=\"24px\"viewBox=\"0 0 24 24\"\n",
              "       width=\"24px\">\n",
              "    <path d=\"M0 0h24v24H0V0z\" fill=\"none\"/>\n",
              "    <path d=\"M18.56 5.44l.94 2.06.94-2.06 2.06-.94-2.06-.94-.94-2.06-.94 2.06-2.06.94zm-11 1L8.5 8.5l.94-2.06 2.06-.94-2.06-.94L8.5 2.5l-.94 2.06-2.06.94zm10 10l.94 2.06.94-2.06 2.06-.94-2.06-.94-.94-2.06-.94 2.06-2.06.94z\"/><path d=\"M17.41 7.96l-1.37-1.37c-.4-.4-.92-.59-1.43-.59-.52 0-1.04.2-1.43.59L10.3 9.45l-7.72 7.72c-.78.78-.78 2.05 0 2.83L4 21.41c.39.39.9.59 1.41.59.51 0 1.02-.2 1.41-.59l7.78-7.78 2.81-2.81c.8-.78.8-2.07 0-2.86zM5.41 20L4 18.59l7.72-7.72 1.47 1.35L5.41 20z\"/>\n",
              "  </svg>\n",
              "      </button>\n",
              "      \n",
              "  <style>\n",
              "    .colab-df-container {\n",
              "      display:flex;\n",
              "      flex-wrap:wrap;\n",
              "      gap: 12px;\n",
              "    }\n",
              "\n",
              "    .colab-df-convert {\n",
              "      background-color: #E8F0FE;\n",
              "      border: none;\n",
              "      border-radius: 50%;\n",
              "      cursor: pointer;\n",
              "      display: none;\n",
              "      fill: #1967D2;\n",
              "      height: 32px;\n",
              "      padding: 0 0 0 0;\n",
              "      width: 32px;\n",
              "    }\n",
              "\n",
              "    .colab-df-convert:hover {\n",
              "      background-color: #E2EBFA;\n",
              "      box-shadow: 0px 1px 2px rgba(60, 64, 67, 0.3), 0px 1px 3px 1px rgba(60, 64, 67, 0.15);\n",
              "      fill: #174EA6;\n",
              "    }\n",
              "\n",
              "    [theme=dark] .colab-df-convert {\n",
              "      background-color: #3B4455;\n",
              "      fill: #D2E3FC;\n",
              "    }\n",
              "\n",
              "    [theme=dark] .colab-df-convert:hover {\n",
              "      background-color: #434B5C;\n",
              "      box-shadow: 0px 1px 3px 1px rgba(0, 0, 0, 0.15);\n",
              "      filter: drop-shadow(0px 1px 2px rgba(0, 0, 0, 0.3));\n",
              "      fill: #FFFFFF;\n",
              "    }\n",
              "  </style>\n",
              "\n",
              "      <script>\n",
              "        const buttonEl =\n",
              "          document.querySelector('#df-4d0f5aa9-8a92-45c6-ab5d-cb92e4759418 button.colab-df-convert');\n",
              "        buttonEl.style.display =\n",
              "          google.colab.kernel.accessAllowed ? 'block' : 'none';\n",
              "\n",
              "        async function convertToInteractive(key) {\n",
              "          const element = document.querySelector('#df-4d0f5aa9-8a92-45c6-ab5d-cb92e4759418');\n",
              "          const dataTable =\n",
              "            await google.colab.kernel.invokeFunction('convertToInteractive',\n",
              "                                                     [key], {});\n",
              "          if (!dataTable) return;\n",
              "\n",
              "          const docLinkHtml = 'Like what you see? Visit the ' +\n",
              "            '<a target=\"_blank\" href=https://colab.research.google.com/notebooks/data_table.ipynb>data table notebook</a>'\n",
              "            + ' to learn more about interactive tables.';\n",
              "          element.innerHTML = '';\n",
              "          dataTable['output_type'] = 'display_data';\n",
              "          await google.colab.output.renderOutput(dataTable, element);\n",
              "          const docLink = document.createElement('div');\n",
              "          docLink.innerHTML = docLinkHtml;\n",
              "          element.appendChild(docLink);\n",
              "        }\n",
              "      </script>\n",
              "    </div>\n",
              "  </div>\n",
              "  "
            ]
          },
          "metadata": {},
          "execution_count": 46
        }
      ]
    },
    {
      "cell_type": "markdown",
      "source": [
        "# Q.1 Visualize"
      ],
      "metadata": {
        "id": "qIe9-T-BoEk1"
      }
    },
    {
      "cell_type": "code",
      "source": [
        "import matplotlib.pyplot as plt\n",
        "plt.style.use('dark_background')\n",
        "figsize = (10, 6)\n",
        "\n",
        "result.plot(kind='barh', title='Genre vs Weighted average rating', figsize=figsize)"
      ],
      "metadata": {
        "id": "x-9uwd2Nk4Ud",
        "colab": {
          "base_uri": "https://localhost:8080/",
          "height": 0
        },
        "outputId": "74693675-c044-4d9b-d9d1-fd2e07b86346"
      },
      "execution_count": 47,
      "outputs": [
        {
          "output_type": "execute_result",
          "data": {
            "text/plain": [
              "<AxesSubplot:title={'center':'Genre vs Weighted average rating'}, ylabel='genre'>"
            ]
          },
          "metadata": {},
          "execution_count": 47
        },
        {
          "output_type": "display_data",
          "data": {
            "text/plain": [
              "<Figure size 720x432 with 1 Axes>"
            ],
            "image/png": "[encoded data removed]"
          },
          "metadata": {}
        }
      ]
    },
    {
      "cell_type": "code",
      "source": [
        "df.sort_values('genre').reset_index().plot(x='genre', y='wr', kind='scatter', alpha=0.05, rot=90,\n",
        "                                           title='Scatter plot (Weighted average Rating vs Genre)', figsize=figsize)"
      ],
      "metadata": {
        "id": "Yu9h4MDug7JR",
        "colab": {
          "base_uri": "https://localhost:8080/",
          "height": 0
        },
        "outputId": "a24ace58-ecc2-44d6-d99c-a80aa54c0806"
      },
      "execution_count": 48,
      "outputs": [
        {
          "output_type": "execute_result",
          "data": {
            "text/plain": [
              "<AxesSubplot:title={'center':'Scatter plot (Weighted average Rating vs Genre)'}, xlabel='genre', ylabel='wr'>"
            ]
          },
          "metadata": {},
          "execution_count": 48
        },
        {
          "output_type": "display_data",
          "data": {
            "text/plain": [
              "<Figure size 720x432 with 1 Axes>"
            ],
            "image/png": "[encoded data removed]"
          },
          "metadata": {}
        }
      ]
    },
    {
      "cell_type": "markdown",
      "source": [
        "# Q.2 Analysis"
      ],
      "metadata": {
        "id": "TAsHOs5Zjdej"
      }
    },
    {
      "cell_type": "code",
      "source": [
        "# Splits string of genres into a list of secondary and third genres.\n",
        "# Or just the secondary if there are only 2 genres in the string.\n",
        "# If there is only 1 genre in the string, then return empty list.\n",
        "def split_series(series, genre):\n",
        "  series_list = series.str.split(',')[0]\n",
        "  if len(series_list) == 1:\n",
        "    return ['empty', 'empty']\n",
        "  elif len(series_list) == 2:\n",
        "    series_list.remove(genre)\n",
        "    return series_list + ['empty']\n",
        "  else :\n",
        "    series_list.remove(genre)\n",
        "    return series_list"
      ],
      "metadata": {
        "id": "DKIgSFk4gXSN"
      },
      "execution_count": 49,
      "outputs": []
    },
    {
      "cell_type": "markdown",
      "source": [
        "We select all movies with 'Horror' in \"genres\" string and split the genres into columns \"genre_2\" and \"genre_3\"."
      ],
      "metadata": {
        "id": "AJlw7cf2jy97"
      }
    },
    {
      "cell_type": "code",
      "source": [
        "test_genre = 'Horror'\n",
        "t = df[df['genres'].str.contains(test_genre)].copy()\n",
        "t[['genre_2', 'genre_3']] = t[['genres']].apply(split_series, axis=1, result_type='expand', genre=test_genre)"
      ],
      "metadata": {
        "id": "9IG4ceGfgkf6"
      },
      "execution_count": 50,
      "outputs": []
    },
    {
      "cell_type": "markdown",
      "source": [
        "We keep only those combination of genres with count > 10."
      ],
      "metadata": {
        "id": "3jrCK8LqkX1I"
      }
    },
    {
      "cell_type": "code",
      "source": [
        "t = t[t.groupby('genres').genres.transform('count') >= 10].copy()"
      ],
      "metadata": {
        "id": "D91jXmFk0mN7"
      },
      "execution_count": 51,
      "outputs": []
    },
    {
      "cell_type": "markdown",
      "source": [
        "Prepare a pivot table for a heatmap"
      ],
      "metadata": {
        "id": "6VzR2RsekoFI"
      }
    },
    {
      "cell_type": "code",
      "source": [
        "result_2 = t.pivot_table(index='genre_2',columns=['genre_3'],values='wr',aggfunc=['mean'])\n",
        "result_2"
      ],
      "metadata": {
        "id": "YAHswxyeyXM3",
        "colab": {
          "base_uri": "https://localhost:8080/",
          "height": 488
        },
        "outputId": "b8d89175-9f4b-436f-bd11-cd7b83a953e8"
      },
      "execution_count": 52,
      "outputs": [
        {
          "output_type": "execute_result",
          "data": {
            "text/plain": [
              "                 mean                                                    \\\n",
              "genre_3     Adventure    Comedy     Crime     Drama   Fantasy     Music   \n",
              "genre_2                                                                   \n",
              "Action        5.19938  5.558055  5.809944  5.478729  5.544629       NaN   \n",
              "Adventure         NaN  5.359767       NaN  5.637648  5.523907       NaN   \n",
              "Comedy            NaN       NaN  6.073245  5.896407  5.658542  5.714528   \n",
              "Crime             NaN       NaN       NaN  5.970885       NaN       NaN   \n",
              "Documentary       NaN       NaN       NaN       NaN       NaN       NaN   \n",
              "Drama             NaN       NaN       NaN       NaN  6.069809       NaN   \n",
              "Fantasy           NaN       NaN       NaN       NaN       NaN       NaN   \n",
              "Mystery           NaN       NaN       NaN       NaN       NaN       NaN   \n",
              "Romance           NaN       NaN       NaN       NaN       NaN       NaN   \n",
              "Sci-Fi            NaN       NaN       NaN       NaN       NaN       NaN   \n",
              "Thriller          NaN       NaN       NaN       NaN       NaN       NaN   \n",
              "empty             NaN       NaN       NaN       NaN       NaN       NaN   \n",
              "\n",
              "                                                                        \n",
              "genre_3      Musical   Mystery   Romance    Sci-Fi  Thriller     empty  \n",
              "genre_2                                                                 \n",
              "Action           NaN  5.326728       NaN  5.300008  5.231271  5.262183  \n",
              "Adventure        NaN  5.780473       NaN  5.387845  5.347200  5.654662  \n",
              "Comedy       5.95662  5.807410  5.902030  5.438698  5.494468  5.499076  \n",
              "Crime            NaN  5.923293       NaN  5.603838  5.560705  5.895074  \n",
              "Documentary      NaN       NaN       NaN       NaN       NaN  6.164494  \n",
              "Drama            NaN  5.881533  5.962605  5.955595  5.709399  6.054633  \n",
              "Fantasy          NaN  5.697485       NaN  5.637928  5.434070  5.710064  \n",
              "Mystery          NaN       NaN  5.771648  5.629328  5.634283  5.711162  \n",
              "Romance          NaN       NaN       NaN       NaN  5.250994       NaN  \n",
              "Sci-Fi           NaN       NaN       NaN       NaN  5.376402  5.363409  \n",
              "Thriller         NaN       NaN       NaN       NaN       NaN  5.354069  \n",
              "empty            NaN       NaN       NaN       NaN       NaN  5.353544  "
            ],
            "text/html": [
              "\n",
              "  <div id=\"df-e7abd61d-726b-42da-a457-61fa1b514263\">\n",
              "    <div class=\"colab-df-container\">\n",
              "      <div>\n",
              "<style scoped>\n",
              "    .dataframe tbody tr th:only-of-type {\n",
              "        vertical-align: middle;\n",
              "    }\n",
              "\n",
              "    .dataframe tbody tr th {\n",
              "        vertical-align: top;\n",
              "    }\n",
              "\n",
              "    .dataframe thead tr th {\n",
              "        text-align: left;\n",
              "    }\n",
              "\n",
              "    .dataframe thead tr:last-of-type th {\n",
              "        text-align: right;\n",
              "    }\n",
              "</style>\n",
              "<table border=\"1\" class=\"dataframe\">\n",
              "  <thead>\n",
              "    <tr>\n",
              "      <th></th>\n",
              "      <th colspan=\"12\" halign=\"left\">mean</th>\n",
              "    </tr>\n",
              "    <tr>\n",
              "      <th>genre_3</th>\n",
              "      <th>Adventure</th>\n",
              "      <th>Comedy</th>\n",
              "      <th>Crime</th>\n",
              "      <th>Drama</th>\n",
              "      <th>Fantasy</th>\n",
              "      <th>Music</th>\n",
              "      <th>Musical</th>\n",
              "      <th>Mystery</th>\n",
              "      <th>Romance</th>\n",
              "      <th>Sci-Fi</th>\n",
              "      <th>Thriller</th>\n",
              "      <th>empty</th>\n",
              "    </tr>\n",
              "    <tr>\n",
              "      <th>genre_2</th>\n",
              "      <th></th>\n",
              "      <th></th>\n",
              "      <th></th>\n",
              "      <th></th>\n",
              "      <th></th>\n",
              "      <th></th>\n",
              "      <th></th>\n",
              "      <th></th>\n",
              "      <th></th>\n",
              "      <th></th>\n",
              "      <th></th>\n",
              "      <th></th>\n",
              "    </tr>\n",
              "  </thead>\n",
              "  <tbody>\n",
              "    <tr>\n",
              "      <th>Action</th>\n",
              "      <td>5.19938</td>\n",
              "      <td>5.558055</td>\n",
              "      <td>5.809944</td>\n",
              "      <td>5.478729</td>\n",
              "      <td>5.544629</td>\n",
              "      <td>NaN</td>\n",
              "      <td>NaN</td>\n",
              "      <td>5.326728</td>\n",
              "      <td>NaN</td>\n",
              "      <td>5.300008</td>\n",
              "      <td>5.231271</td>\n",
              "      <td>5.262183</td>\n",
              "    </tr>\n",
              "    <tr>\n",
              "      <th>Adventure</th>\n",
              "      <td>NaN</td>\n",
              "      <td>5.359767</td>\n",
              "      <td>NaN</td>\n",
              "      <td>5.637648</td>\n",
              "      <td>5.523907</td>\n",
              "      <td>NaN</td>\n",
              "      <td>NaN</td>\n",
              "      <td>5.780473</td>\n",
              "      <td>NaN</td>\n",
              "      <td>5.387845</td>\n",
              "      <td>5.347200</td>\n",
              "      <td>5.654662</td>\n",
              "    </tr>\n",
              "    <tr>\n",
              "      <th>Comedy</th>\n",
              "      <td>NaN</td>\n",
              "      <td>NaN</td>\n",
              "      <td>6.073245</td>\n",
              "      <td>5.896407</td>\n",
              "      <td>5.658542</td>\n",
              "      <td>5.714528</td>\n",
              "      <td>5.95662</td>\n",
              "      <td>5.807410</td>\n",
              "      <td>5.902030</td>\n",
              "      <td>5.438698</td>\n",
              "      <td>5.494468</td>\n",
              "      <td>5.499076</td>\n",
              "    </tr>\n",
              "    <tr>\n",
              "      <th>Crime</th>\n",
              "      <td>NaN</td>\n",
              "      <td>NaN</td>\n",
              "      <td>NaN</td>\n",
              "      <td>5.970885</td>\n",
              "      <td>NaN</td>\n",
              "      <td>NaN</td>\n",
              "      <td>NaN</td>\n",
              "      <td>5.923293</td>\n",
              "      <td>NaN</td>\n",
              "      <td>5.603838</td>\n",
              "      <td>5.560705</td>\n",
              "      <td>5.895074</td>\n",
              "    </tr>\n",
              "    <tr>\n",
              "      <th>Documentary</th>\n",
              "      <td>NaN</td>\n",
              "      <td>NaN</td>\n",
              "      <td>NaN</td>\n",
              "      <td>NaN</td>\n",
              "      <td>NaN</td>\n",
              "      <td>NaN</td>\n",
              "      <td>NaN</td>\n",
              "      <td>NaN</td>\n",
              "      <td>NaN</td>\n",
              "      <td>NaN</td>\n",
              "      <td>NaN</td>\n",
              "      <td>6.164494</td>\n",
              "    </tr>\n",
              "    <tr>\n",
              "      <th>Drama</th>\n",
              "      <td>NaN</td>\n",
              "      <td>NaN</td>\n",
              "      <td>NaN</td>\n",
              "      <td>NaN</td>\n",
              "      <td>6.069809</td>\n",
              "      <td>NaN</td>\n",
              "      <td>NaN</td>\n",
              "      <td>5.881533</td>\n",
              "      <td>5.962605</td>\n",
              "      <td>5.955595</td>\n",
              "      <td>5.709399</td>\n",
              "      <td>6.054633</td>\n",
              "    </tr>\n",
              "    <tr>\n",
              "      <th>Fantasy</th>\n",
              "      <td>NaN</td>\n",
              "      <td>NaN</td>\n",
              "      <td>NaN</td>\n",
              "      <td>NaN</td>\n",
              "      <td>NaN</td>\n",
              "      <td>NaN</td>\n",
              "      <td>NaN</td>\n",
              "      <td>5.697485</td>\n",
              "      <td>NaN</td>\n",
              "      <td>5.637928</td>\n",
              "      <td>5.434070</td>\n",
              "      <td>5.710064</td>\n",
              "    </tr>\n",
              "    <tr>\n",
              "      <th>Mystery</th>\n",
              "      <td>NaN</td>\n",
              "      <td>NaN</td>\n",
              "      <td>NaN</td>\n",
              "      <td>NaN</td>\n",
              "      <td>NaN</td>\n",
              "      <td>NaN</td>\n",
              "      <td>NaN</td>\n",
              "      <td>NaN</td>\n",
              "      <td>5.771648</td>\n",
              "      <td>5.629328</td>\n",
              "      <td>5.634283</td>\n",
              "      <td>5.711162</td>\n",
              "    </tr>\n",
              "    <tr>\n",
              "      <th>Romance</th>\n",
              "      <td>NaN</td>\n",
              "      <td>NaN</td>\n",
              "      <td>NaN</td>\n",
              "      <td>NaN</td>\n",
              "      <td>NaN</td>\n",
              "      <td>NaN</td>\n",
              "      <td>NaN</td>\n",
              "      <td>NaN</td>\n",
              "      <td>NaN</td>\n",
              "      <td>NaN</td>\n",
              "      <td>5.250994</td>\n",
              "      <td>NaN</td>\n",
              "    </tr>\n",
              "    <tr>\n",
              "      <th>Sci-Fi</th>\n",
              "      <td>NaN</td>\n",
              "      <td>NaN</td>\n",
              "      <td>NaN</td>\n",
              "      <td>NaN</td>\n",
              "      <td>NaN</td>\n",
              "      <td>NaN</td>\n",
              "      <td>NaN</td>\n",
              "      <td>NaN</td>\n",
              "      <td>NaN</td>\n",
              "      <td>NaN</td>\n",
              "      <td>5.376402</td>\n",
              "      <td>5.363409</td>\n",
              "    </tr>\n",
              "    <tr>\n",
              "      <th>Thriller</th>\n",
              "      <td>NaN</td>\n",
              "      <td>NaN</td>\n",
              "      <td>NaN</td>\n",
              "      <td>NaN</td>\n",
              "      <td>NaN</td>\n",
              "      <td>NaN</td>\n",
              "      <td>NaN</td>\n",
              "      <td>NaN</td>\n",
              "      <td>NaN</td>\n",
              "      <td>NaN</td>\n",
              "      <td>NaN</td>\n",
              "      <td>5.354069</td>\n",
              "    </tr>\n",
              "    <tr>\n",
              "      <th>empty</th>\n",
              "      <td>NaN</td>\n",
              "      <td>NaN</td>\n",
              "      <td>NaN</td>\n",
              "      <td>NaN</td>\n",
              "      <td>NaN</td>\n",
              "      <td>NaN</td>\n",
              "      <td>NaN</td>\n",
              "      <td>NaN</td>\n",
              "      <td>NaN</td>\n",
              "      <td>NaN</td>\n",
              "      <td>NaN</td>\n",
              "      <td>5.353544</td>\n",
              "    </tr>\n",
              "  </tbody>\n",
              "</table>\n",
              "</div>\n",
              "      <button class=\"colab-df-convert\" onclick=\"convertToInteractive('df-e7abd61d-726b-42da-a457-61fa1b514263')\"\n",
              "              title=\"Convert this dataframe to an interactive table.\"\n",
              "              style=\"display:none;\">\n",
              "        \n",
              "  <svg xmlns=\"http://www.w3.org/2000/svg\" height=\"24px\"viewBox=\"0 0 24 24\"\n",
              "       width=\"24px\">\n",
              "    <path d=\"M0 0h24v24H0V0z\" fill=\"none\"/>\n",
              "    <path d=\"M18.56 5.44l.94 2.06.94-2.06 2.06-.94-2.06-.94-.94-2.06-.94 2.06-2.06.94zm-11 1L8.5 8.5l.94-2.06 2.06-.94-2.06-.94L8.5 2.5l-.94 2.06-2.06.94zm10 10l.94 2.06.94-2.06 2.06-.94-2.06-.94-.94-2.06-.94 2.06-2.06.94z\"/><path d=\"M17.41 7.96l-1.37-1.37c-.4-.4-.92-.59-1.43-.59-.52 0-1.04.2-1.43.59L10.3 9.45l-7.72 7.72c-.78.78-.78 2.05 0 2.83L4 21.41c.39.39.9.59 1.41.59.51 0 1.02-.2 1.41-.59l7.78-7.78 2.81-2.81c.8-.78.8-2.07 0-2.86zM5.41 20L4 18.59l7.72-7.72 1.47 1.35L5.41 20z\"/>\n",
              "  </svg>\n",
              "      </button>\n",
              "      \n",
              "  <style>\n",
              "    .colab-df-container {\n",
              "      display:flex;\n",
              "      flex-wrap:wrap;\n",
              "      gap: 12px;\n",
              "    }\n",
              "\n",
              "    .colab-df-convert {\n",
              "      background-color: #E8F0FE;\n",
              "      border: none;\n",
              "      border-radius: 50%;\n",
              "      cursor: pointer;\n",
              "      display: none;\n",
              "      fill: #1967D2;\n",
              "      height: 32px;\n",
              "      padding: 0 0 0 0;\n",
              "      width: 32px;\n",
              "    }\n",
              "\n",
              "    .colab-df-convert:hover {\n",
              "      background-color: #E2EBFA;\n",
              "      box-shadow: 0px 1px 2px rgba(60, 64, 67, 0.3), 0px 1px 3px 1px rgba(60, 64, 67, 0.15);\n",
              "      fill: #174EA6;\n",
              "    }\n",
              "\n",
              "    [theme=dark] .colab-df-convert {\n",
              "      background-color: #3B4455;\n",
              "      fill: #D2E3FC;\n",
              "    }\n",
              "\n",
              "    [theme=dark] .colab-df-convert:hover {\n",
              "      background-color: #434B5C;\n",
              "      box-shadow: 0px 1px 3px 1px rgba(0, 0, 0, 0.15);\n",
              "      filter: drop-shadow(0px 1px 2px rgba(0, 0, 0, 0.3));\n",
              "      fill: #FFFFFF;\n",
              "    }\n",
              "  </style>\n",
              "\n",
              "      <script>\n",
              "        const buttonEl =\n",
              "          document.querySelector('#df-e7abd61d-726b-42da-a457-61fa1b514263 button.colab-df-convert');\n",
              "        buttonEl.style.display =\n",
              "          google.colab.kernel.accessAllowed ? 'block' : 'none';\n",
              "\n",
              "        async function convertToInteractive(key) {\n",
              "          const element = document.querySelector('#df-e7abd61d-726b-42da-a457-61fa1b514263');\n",
              "          const dataTable =\n",
              "            await google.colab.kernel.invokeFunction('convertToInteractive',\n",
              "                                                     [key], {});\n",
              "          if (!dataTable) return;\n",
              "\n",
              "          const docLinkHtml = 'Like what you see? Visit the ' +\n",
              "            '<a target=\"_blank\" href=https://colab.research.google.com/notebooks/data_table.ipynb>data table notebook</a>'\n",
              "            + ' to learn more about interactive tables.';\n",
              "          element.innerHTML = '';\n",
              "          dataTable['output_type'] = 'display_data';\n",
              "          await google.colab.output.renderOutput(dataTable, element);\n",
              "          const docLink = document.createElement('div');\n",
              "          docLink.innerHTML = docLinkHtml;\n",
              "          element.appendChild(docLink);\n",
              "        }\n",
              "      </script>\n",
              "    </div>\n",
              "  </div>\n",
              "  "
            ]
          },
          "metadata": {},
          "execution_count": 52
        }
      ]
    },
    {
      "cell_type": "markdown",
      "source": [
        "# Q.2 Vizualize"
      ],
      "metadata": {
        "id": "bXV1YCHRkhqV"
      }
    },
    {
      "cell_type": "code",
      "source": [
        "fig, ax = plt.subplots(figsize=figsize)  \n",
        "sns.heatmap(result_2)"
      ],
      "metadata": {
        "colab": {
          "base_uri": "https://localhost:8080/",
          "height": 480
        },
        "id": "xmfaprOljRs7",
        "outputId": "9a7c9b91-5b18-4a1a-d652-632743861bf3"
      },
      "execution_count": 53,
      "outputs": [
        {
          "output_type": "execute_result",
          "data": {
            "text/plain": [
              "<AxesSubplot:xlabel='None-genre_3', ylabel='genre_2'>"
            ]
          },
          "metadata": {},
          "execution_count": 53
        },
        {
          "output_type": "display_data",
          "data": {
            "text/plain": [
              "<Figure size 720x432 with 2 Axes>"
            ],
            "image/png": "[encoded data removed]"
          },
          "metadata": {}
        }
      ]
    },
    {
      "cell_type": "markdown",
      "source": [
        "We conclude that for the Horror combinations with the Comedy and Drama are the most successful in terms of rating. Because Documentary has the highest mean rating overall, the Horror documentaries also show good result."
      ],
      "metadata": {
        "id": "Zzmtux0vQ1s7"
      }
    },
    {
      "cell_type": "markdown",
      "source": [
        "# Play"
      ],
      "metadata": {
        "id": "DXDpkf35qbWz"
      }
    },
    {
      "cell_type": "code",
      "source": [
        "#@title Here we can try all sorts of weird genres combinations to find a movie for the evening watch\n",
        "# 'Fantasy,Horror,Romance'\n",
        "df[df['genres'] == 'Fantasy,Horror,Romance'].sort_values(['startYear'], ascending=False)"
      ],
      "metadata": {
        "id": "-NkqK1ExqBW_",
        "colab": {
          "base_uri": "https://localhost:8080/",
          "height": 0
        },
        "cellView": "form",
        "outputId": "a4b67dac-d8d7-49b9-c55e-3d2157c6c512"
      },
      "execution_count": 54,
      "outputs": [
        {
          "output_type": "execute_result",
          "data": {
            "text/plain": [
              "            tconst titleType   primaryTitle startYear                  genres  \\\n",
              "252989  tt11116374     movie  Don't Kill Me      2021  Fantasy,Horror,Romance   \n",
              "63569    tt0088851     movie      The Bride      1985  Fantasy,Horror,Romance   \n",
              "49748    tt0068284     movie        Blacula      1972  Fantasy,Horror,Romance   \n",
              "\n",
              "        averageRating  numVotes   genre        wr  \n",
              "252989            4.3    2092.0  Horror  4.935509  \n",
              "63569             5.4    3305.0  Horror  5.600928  \n",
              "49748             5.7    7173.0  Horror  5.769129  "
            ],
            "text/html": [
              "\n",
              "  <div id=\"df-b476519b-a7eb-4659-b5ef-e9c8108300b5\">\n",
              "    <div class=\"colab-df-container\">\n",
              "      <div>\n",
              "<style scoped>\n",
              "    .dataframe tbody tr th:only-of-type {\n",
              "        vertical-align: middle;\n",
              "    }\n",
              "\n",
              "    .dataframe tbody tr th {\n",
              "        vertical-align: top;\n",
              "    }\n",
              "\n",
              "    .dataframe thead th {\n",
              "        text-align: right;\n",
              "    }\n",
              "</style>\n",
              "<table border=\"1\" class=\"dataframe\">\n",
              "  <thead>\n",
              "    <tr style=\"text-align: right;\">\n",
              "      <th></th>\n",
              "      <th>tconst</th>\n",
              "      <th>titleType</th>\n",
              "      <th>primaryTitle</th>\n",
              "      <th>startYear</th>\n",
              "      <th>genres</th>\n",
              "      <th>averageRating</th>\n",
              "      <th>numVotes</th>\n",
              "      <th>genre</th>\n",
              "      <th>wr</th>\n",
              "    </tr>\n",
              "  </thead>\n",
              "  <tbody>\n",
              "    <tr>\n",
              "      <th>252989</th>\n",
              "      <td>tt11116374</td>\n",
              "      <td>movie</td>\n",
              "      <td>Don't Kill Me</td>\n",
              "      <td>2021</td>\n",
              "      <td>Fantasy,Horror,Romance</td>\n",
              "      <td>4.3</td>\n",
              "      <td>2092.0</td>\n",
              "      <td>Horror</td>\n",
              "      <td>4.935509</td>\n",
              "    </tr>\n",
              "    <tr>\n",
              "      <th>63569</th>\n",
              "      <td>tt0088851</td>\n",
              "      <td>movie</td>\n",
              "      <td>The Bride</td>\n",
              "      <td>1985</td>\n",
              "      <td>Fantasy,Horror,Romance</td>\n",
              "      <td>5.4</td>\n",
              "      <td>3305.0</td>\n",
              "      <td>Horror</td>\n",
              "      <td>5.600928</td>\n",
              "    </tr>\n",
              "    <tr>\n",
              "      <th>49748</th>\n",
              "      <td>tt0068284</td>\n",
              "      <td>movie</td>\n",
              "      <td>Blacula</td>\n",
              "      <td>1972</td>\n",
              "      <td>Fantasy,Horror,Romance</td>\n",
              "      <td>5.7</td>\n",
              "      <td>7173.0</td>\n",
              "      <td>Horror</td>\n",
              "      <td>5.769129</td>\n",
              "    </tr>\n",
              "  </tbody>\n",
              "</table>\n",
              "</div>\n",
              "      <button class=\"colab-df-convert\" onclick=\"convertToInteractive('df-b476519b-a7eb-4659-b5ef-e9c8108300b5')\"\n",
              "              title=\"Convert this dataframe to an interactive table.\"\n",
              "              style=\"display:none;\">\n",
              "        \n",
              "  <svg xmlns=\"http://www.w3.org/2000/svg\" height=\"24px\"viewBox=\"0 0 24 24\"\n",
              "       width=\"24px\">\n",
              "    <path d=\"M0 0h24v24H0V0z\" fill=\"none\"/>\n",
              "    <path d=\"M18.56 5.44l.94 2.06.94-2.06 2.06-.94-2.06-.94-.94-2.06-.94 2.06-2.06.94zm-11 1L8.5 8.5l.94-2.06 2.06-.94-2.06-.94L8.5 2.5l-.94 2.06-2.06.94zm10 10l.94 2.06.94-2.06 2.06-.94-2.06-.94-.94-2.06-.94 2.06-2.06.94z\"/><path d=\"M17.41 7.96l-1.37-1.37c-.4-.4-.92-.59-1.43-.59-.52 0-1.04.2-1.43.59L10.3 9.45l-7.72 7.72c-.78.78-.78 2.05 0 2.83L4 21.41c.39.39.9.59 1.41.59.51 0 1.02-.2 1.41-.59l7.78-7.78 2.81-2.81c.8-.78.8-2.07 0-2.86zM5.41 20L4 18.59l7.72-7.72 1.47 1.35L5.41 20z\"/>\n",
              "  </svg>\n",
              "      </button>\n",
              "      \n",
              "  <style>\n",
              "    .colab-df-container {\n",
              "      display:flex;\n",
              "      flex-wrap:wrap;\n",
              "      gap: 12px;\n",
              "    }\n",
              "\n",
              "    .colab-df-convert {\n",
              "      background-color: #E8F0FE;\n",
              "      border: none;\n",
              "      border-radius: 50%;\n",
              "      cursor: pointer;\n",
              "      display: none;\n",
              "      fill: #1967D2;\n",
              "      height: 32px;\n",
              "      padding: 0 0 0 0;\n",
              "      width: 32px;\n",
              "    }\n",
              "\n",
              "    .colab-df-convert:hover {\n",
              "      background-color: #E2EBFA;\n",
              "      box-shadow: 0px 1px 2px rgba(60, 64, 67, 0.3), 0px 1px 3px 1px rgba(60, 64, 67, 0.15);\n",
              "      fill: #174EA6;\n",
              "    }\n",
              "\n",
              "    [theme=dark] .colab-df-convert {\n",
              "      background-color: #3B4455;\n",
              "      fill: #D2E3FC;\n",
              "    }\n",
              "\n",
              "    [theme=dark] .colab-df-convert:hover {\n",
              "      background-color: #434B5C;\n",
              "      box-shadow: 0px 1px 3px 1px rgba(0, 0, 0, 0.15);\n",
              "      filter: drop-shadow(0px 1px 2px rgba(0, 0, 0, 0.3));\n",
              "      fill: #FFFFFF;\n",
              "    }\n",
              "  </style>\n",
              "\n",
              "      <script>\n",
              "        const buttonEl =\n",
              "          document.querySelector('#df-b476519b-a7eb-4659-b5ef-e9c8108300b5 button.colab-df-convert');\n",
              "        buttonEl.style.display =\n",
              "          google.colab.kernel.accessAllowed ? 'block' : 'none';\n",
              "\n",
              "        async function convertToInteractive(key) {\n",
              "          const element = document.querySelector('#df-b476519b-a7eb-4659-b5ef-e9c8108300b5');\n",
              "          const dataTable =\n",
              "            await google.colab.kernel.invokeFunction('convertToInteractive',\n",
              "                                                     [key], {});\n",
              "          if (!dataTable) return;\n",
              "\n",
              "          const docLinkHtml = 'Like what you see? Visit the ' +\n",
              "            '<a target=\"_blank\" href=https://colab.research.google.com/notebooks/data_table.ipynb>data table notebook</a>'\n",
              "            + ' to learn more about interactive tables.';\n",
              "          element.innerHTML = '';\n",
              "          dataTable['output_type'] = 'display_data';\n",
              "          await google.colab.output.renderOutput(dataTable, element);\n",
              "          const docLink = document.createElement('div');\n",
              "          docLink.innerHTML = docLinkHtml;\n",
              "          element.appendChild(docLink);\n",
              "        }\n",
              "      </script>\n",
              "    </div>\n",
              "  </div>\n",
              "  "
            ]
          },
          "metadata": {},
          "execution_count": 54
        }
      ]
    }
  ]
}