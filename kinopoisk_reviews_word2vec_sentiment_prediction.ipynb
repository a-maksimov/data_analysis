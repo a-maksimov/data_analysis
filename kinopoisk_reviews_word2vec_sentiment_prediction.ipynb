{
  "nbformat": 4,
  "nbformat_minor": 0,
  "metadata": {
    "colab": {
      "provenance": [],
      "mount_file_id": "11zmIKRvdA_JmEBS1wRLPFaYYL5b-iLbu",
      "authorship_tag": "ABX9TyM52uT4nwepnZJeol5VZ2yd",
      "include_colab_link": true
    },
    "kernelspec": {
      "name": "python3",
      "display_name": "Python 3"
    },
    "language_info": {
      "name": "python"
    },
    "widgets": {
      "application/vnd.jupyter.widget-state+json": {
        "40029ea9debc448b9160b7dd3cab0e01": {
          "model_module": "@jupyter-widgets/controls",
          "model_name": "HBoxModel",
          "model_module_version": "1.5.0",
          "state": {
            "_dom_classes": [],
            "_model_module": "@jupyter-widgets/controls",
            "_model_module_version": "1.5.0",
            "_model_name": "HBoxModel",
            "_view_count": null,
            "_view_module": "@jupyter-widgets/controls",
            "_view_module_version": "1.5.0",
            "_view_name": "HBoxView",
            "box_style": "",
            "children": [
              "IPY_MODEL_1e129775704e48fcbb94c94ccdb203a8",
              "IPY_MODEL_5fe3c8bfe7584a98bc2bcd8b2fc9aa93",
              "IPY_MODEL_72110b04cee34a3da5bed8e0f115c323"
            ],
            "layout": "IPY_MODEL_d246b305fbc3455088ae33e7d943f82f"
          }
        },
        "1e129775704e48fcbb94c94ccdb203a8": {
          "model_module": "@jupyter-widgets/controls",
          "model_name": "HTMLModel",
          "model_module_version": "1.5.0",
          "state": {
            "_dom_classes": [],
            "_model_module": "@jupyter-widgets/controls",
            "_model_module_version": "1.5.0",
            "_model_name": "HTMLModel",
            "_view_count": null,
            "_view_module": "@jupyter-widgets/controls",
            "_view_module_version": "1.5.0",
            "_view_name": "HTMLView",
            "description": "",
            "description_tooltip": null,
            "layout": "IPY_MODEL_c4d5141c3fa046f0b4d46822f3fbefa7",
            "placeholder": "​",
            "style": "IPY_MODEL_257018a48eea4af99857236998885c7d",
            "value": "100%"
          }
        },
        "5fe3c8bfe7584a98bc2bcd8b2fc9aa93": {
          "model_module": "@jupyter-widgets/controls",
          "model_name": "FloatProgressModel",
          "model_module_version": "1.5.0",
          "state": {
            "_dom_classes": [],
            "_model_module": "@jupyter-widgets/controls",
            "_model_module_version": "1.5.0",
            "_model_name": "FloatProgressModel",
            "_view_count": null,
            "_view_module": "@jupyter-widgets/controls",
            "_view_module_version": "1.5.0",
            "_view_name": "ProgressView",
            "bar_style": "success",
            "description": "",
            "description_tooltip": null,
            "layout": "IPY_MODEL_a0da724e296e4c739327c333bd656337",
            "max": 2141,
            "min": 0,
            "orientation": "horizontal",
            "style": "IPY_MODEL_174905f68768410384a6a50bfd64f3cb",
            "value": 2141
          }
        },
        "72110b04cee34a3da5bed8e0f115c323": {
          "model_module": "@jupyter-widgets/controls",
          "model_name": "HTMLModel",
          "model_module_version": "1.5.0",
          "state": {
            "_dom_classes": [],
            "_model_module": "@jupyter-widgets/controls",
            "_model_module_version": "1.5.0",
            "_model_name": "HTMLModel",
            "_view_count": null,
            "_view_module": "@jupyter-widgets/controls",
            "_view_module_version": "1.5.0",
            "_view_name": "HTMLView",
            "description": "",
            "description_tooltip": null,
            "layout": "IPY_MODEL_07dc95c29a0b41fe8953fe272429beff",
            "placeholder": "​",
            "style": "IPY_MODEL_2ed64d7eff6844c6aceb274a62e94440",
            "value": " 2141/2141 [00:05&lt;00:00, 366.56it/s]"
          }
        },
        "d246b305fbc3455088ae33e7d943f82f": {
          "model_module": "@jupyter-widgets/base",
          "model_name": "LayoutModel",
          "model_module_version": "1.2.0",
          "state": {
            "_model_module": "@jupyter-widgets/base",
            "_model_module_version": "1.2.0",
            "_model_name": "LayoutModel",
            "_view_count": null,
            "_view_module": "@jupyter-widgets/base",
            "_view_module_version": "1.2.0",
            "_view_name": "LayoutView",
            "align_content": null,
            "align_items": null,
            "align_self": null,
            "border": null,
            "bottom": null,
            "display": null,
            "flex": null,
            "flex_flow": null,
            "grid_area": null,
            "grid_auto_columns": null,
            "grid_auto_flow": null,
            "grid_auto_rows": null,
            "grid_column": null,
            "grid_gap": null,
            "grid_row": null,
            "grid_template_areas": null,
            "grid_template_columns": null,
            "grid_template_rows": null,
            "height": null,
            "justify_content": null,
            "justify_items": null,
            "left": null,
            "margin": null,
            "max_height": null,
            "max_width": null,
            "min_height": null,
            "min_width": null,
            "object_fit": null,
            "object_position": null,
            "order": null,
            "overflow": null,
            "overflow_x": null,
            "overflow_y": null,
            "padding": null,
            "right": null,
            "top": null,
            "visibility": null,
            "width": null
          }
        },
        "c4d5141c3fa046f0b4d46822f3fbefa7": {
          "model_module": "@jupyter-widgets/base",
          "model_name": "LayoutModel",
          "model_module_version": "1.2.0",
          "state": {
            "_model_module": "@jupyter-widgets/base",
            "_model_module_version": "1.2.0",
            "_model_name": "LayoutModel",
            "_view_count": null,
            "_view_module": "@jupyter-widgets/base",
            "_view_module_version": "1.2.0",
            "_view_name": "LayoutView",
            "align_content": null,
            "align_items": null,
            "align_self": null,
            "border": null,
            "bottom": null,
            "display": null,
            "flex": null,
            "flex_flow": null,
            "grid_area": null,
            "grid_auto_columns": null,
            "grid_auto_flow": null,
            "grid_auto_rows": null,
            "grid_column": null,
            "grid_gap": null,
            "grid_row": null,
            "grid_template_areas": null,
            "grid_template_columns": null,
            "grid_template_rows": null,
            "height": null,
            "justify_content": null,
            "justify_items": null,
            "left": null,
            "margin": null,
            "max_height": null,
            "max_width": null,
            "min_height": null,
            "min_width": null,
            "object_fit": null,
            "object_position": null,
            "order": null,
            "overflow": null,
            "overflow_x": null,
            "overflow_y": null,
            "padding": null,
            "right": null,
            "top": null,
            "visibility": null,
            "width": null
          }
        },
        "257018a48eea4af99857236998885c7d": {
          "model_module": "@jupyter-widgets/controls",
          "model_name": "DescriptionStyleModel",
          "model_module_version": "1.5.0",
          "state": {
            "_model_module": "@jupyter-widgets/controls",
            "_model_module_version": "1.5.0",
            "_model_name": "DescriptionStyleModel",
            "_view_count": null,
            "_view_module": "@jupyter-widgets/base",
            "_view_module_version": "1.2.0",
            "_view_name": "StyleView",
            "description_width": ""
          }
        },
        "a0da724e296e4c739327c333bd656337": {
          "model_module": "@jupyter-widgets/base",
          "model_name": "LayoutModel",
          "model_module_version": "1.2.0",
          "state": {
            "_model_module": "@jupyter-widgets/base",
            "_model_module_version": "1.2.0",
            "_model_name": "LayoutModel",
            "_view_count": null,
            "_view_module": "@jupyter-widgets/base",
            "_view_module_version": "1.2.0",
            "_view_name": "LayoutView",
            "align_content": null,
            "align_items": null,
            "align_self": null,
            "border": null,
            "bottom": null,
            "display": null,
            "flex": null,
            "flex_flow": null,
            "grid_area": null,
            "grid_auto_columns": null,
            "grid_auto_flow": null,
            "grid_auto_rows": null,
            "grid_column": null,
            "grid_gap": null,
            "grid_row": null,
            "grid_template_areas": null,
            "grid_template_columns": null,
            "grid_template_rows": null,
            "height": null,
            "justify_content": null,
            "justify_items": null,
            "left": null,
            "margin": null,
            "max_height": null,
            "max_width": null,
            "min_height": null,
            "min_width": null,
            "object_fit": null,
            "object_position": null,
            "order": null,
            "overflow": null,
            "overflow_x": null,
            "overflow_y": null,
            "padding": null,
            "right": null,
            "top": null,
            "visibility": null,
            "width": null
          }
        },
        "174905f68768410384a6a50bfd64f3cb": {
          "model_module": "@jupyter-widgets/controls",
          "model_name": "ProgressStyleModel",
          "model_module_version": "1.5.0",
          "state": {
            "_model_module": "@jupyter-widgets/controls",
            "_model_module_version": "1.5.0",
            "_model_name": "ProgressStyleModel",
            "_view_count": null,
            "_view_module": "@jupyter-widgets/base",
            "_view_module_version": "1.2.0",
            "_view_name": "StyleView",
            "bar_color": null,
            "description_width": ""
          }
        },
        "07dc95c29a0b41fe8953fe272429beff": {
          "model_module": "@jupyter-widgets/base",
          "model_name": "LayoutModel",
          "model_module_version": "1.2.0",
          "state": {
            "_model_module": "@jupyter-widgets/base",
            "_model_module_version": "1.2.0",
            "_model_name": "LayoutModel",
            "_view_count": null,
            "_view_module": "@jupyter-widgets/base",
            "_view_module_version": "1.2.0",
            "_view_name": "LayoutView",
            "align_content": null,
            "align_items": null,
            "align_self": null,
            "border": null,
            "bottom": null,
            "display": null,
            "flex": null,
            "flex_flow": null,
            "grid_area": null,
            "grid_auto_columns": null,
            "grid_auto_flow": null,
            "grid_auto_rows": null,
            "grid_column": null,
            "grid_gap": null,
            "grid_row": null,
            "grid_template_areas": null,
            "grid_template_columns": null,
            "grid_template_rows": null,
            "height": null,
            "justify_content": null,
            "justify_items": null,
            "left": null,
            "margin": null,
            "max_height": null,
            "max_width": null,
            "min_height": null,
            "min_width": null,
            "object_fit": null,
            "object_position": null,
            "order": null,
            "overflow": null,
            "overflow_x": null,
            "overflow_y": null,
            "padding": null,
            "right": null,
            "top": null,
            "visibility": null,
            "width": null
          }
        },
        "2ed64d7eff6844c6aceb274a62e94440": {
          "model_module": "@jupyter-widgets/controls",
          "model_name": "DescriptionStyleModel",
          "model_module_version": "1.5.0",
          "state": {
            "_model_module": "@jupyter-widgets/controls",
            "_model_module_version": "1.5.0",
            "_model_name": "DescriptionStyleModel",
            "_view_count": null,
            "_view_module": "@jupyter-widgets/base",
            "_view_module_version": "1.2.0",
            "_view_name": "StyleView",
            "description_width": ""
          }
        }
      }
    }
  },
  "cells": [
    {
      "cell_type": "markdown",
      "metadata": {
        "id": "view-in-github",
        "colab_type": "text"
      },
      "source": [
        "<a href=\"https://colab.research.google.com/github/a-maksimov/data_analysis/blob/main/kinopoisk_reviews_word2vec_sentiment_prediction.ipynb\" target=\"_parent\"><img src=\"https://colab.research.google.com/assets/colab-badge.svg\" alt=\"Open In Colab\"/></a>"
      ]
    },
    {
      "cell_type": "markdown",
      "source": [
        "Defining the questions\n",
        "\n",
        "Q.1 How accurate can we predict a positive or a negative sentiment of a movie review?\n",
        "\n",
        "We will be using a dataset of positive and negative movie reviews from Kinopoisk to train a word2vec model.\n",
        "\n",
        "They we will convert each review into a document-level vector and use them as features for Catboost "
      ],
      "metadata": {
        "id": "R57s_RoRhni1"
      }
    },
    {
      "cell_type": "markdown",
      "source": [
        "https://www.kaggle.com/datasets/mikhailklemin/kinopoisks-movies-reviews"
      ],
      "metadata": {
        "id": "hfngcoqmmHWO"
      }
    },
    {
      "cell_type": "code",
      "source": [
        "!unzip -oq '/content/drive/MyDrive/Datasets/Kinopoisk/kinopoisk_reviews.zip'"
      ],
      "metadata": {
        "id": "Tb2kjgBvogHV"
      },
      "execution_count": 5,
      "outputs": []
    },
    {
      "cell_type": "code",
      "source": [
        "#@title Imports\n",
        "import os\n",
        "import pandas as pd\n",
        "import re\n",
        "import string\n",
        "import spacy\n",
        "from time import time\n",
        "from datetime import datetime\n",
        "from collections import defaultdict\n",
        "from gensim.models import Word2Vec\n",
        "import multiprocessing\n",
        "from random import randint"
      ],
      "metadata": {
        "id": "VOCwM24o12dZ"
      },
      "execution_count": 6,
      "outputs": []
    },
    {
      "cell_type": "code",
      "source": [
        "#@title Download spaCy language packs\n",
        "\n",
        "!python -m spacy download ru_core_news_sm --quiet\n",
        "!python -m spacy download en_core_web_sm --quiet"
      ],
      "metadata": {
        "colab": {
          "base_uri": "https://localhost:8080/"
        },
        "id": "lPYQALckv1e-",
        "outputId": "f32d7a52-8e6f-4ea3-82fd-b83b1201cf28"
      },
      "execution_count": 7,
      "outputs": [
        {
          "output_type": "stream",
          "name": "stdout",
          "text": [
            "/usr/local/lib/python3.9/dist-packages/torch/cuda/__init__.py:497: UserWarning: Can't initialize NVML\n",
            "  warnings.warn(\"Can't initialize NVML\")\n",
            "2023-03-11 14:14:16.870651: W tensorflow/compiler/xla/stream_executor/platform/default/dso_loader.cc:64] Could not load dynamic library 'libnvinfer.so.7'; dlerror: libnvinfer.so.7: cannot open shared object file: No such file or directory; LD_LIBRARY_PATH: /usr/local/nvidia/lib:/usr/local/nvidia/lib64\n",
            "2023-03-11 14:14:16.870761: W tensorflow/compiler/xla/stream_executor/platform/default/dso_loader.cc:64] Could not load dynamic library 'libnvinfer_plugin.so.7'; dlerror: libnvinfer_plugin.so.7: cannot open shared object file: No such file or directory; LD_LIBRARY_PATH: /usr/local/nvidia/lib:/usr/local/nvidia/lib64\n",
            "2023-03-11 14:14:16.870814: W tensorflow/compiler/tf2tensorrt/utils/py_utils.cc:38] TF-TRT Warning: Cannot dlopen some TensorRT libraries. If you would like to use Nvidia GPU with TensorRT, please make sure the missing libraries mentioned above are installed properly.\n",
            "2023-03-11 14:14:18.590278: E tensorflow/compiler/xla/stream_executor/cuda/cuda_driver.cc:267] failed call to cuInit: CUDA_ERROR_NO_DEVICE: no CUDA-capable device is detected\n",
            "\u001b[2K     \u001b[90m━━━━━━━━━━━━━━━━━━━━━━━━━━━━━━━━━━━━━━━━\u001b[0m \u001b[32m15.3/15.3 MB\u001b[0m \u001b[31m58.5 MB/s\u001b[0m eta \u001b[36m0:00:00\u001b[0m\n",
            "\u001b[?25h\u001b[38;5;2m✔ Download and installation successful\u001b[0m\n",
            "You can now load the package via spacy.load('ru_core_news_sm')\n",
            "/usr/local/lib/python3.9/dist-packages/torch/cuda/__init__.py:497: UserWarning: Can't initialize NVML\n",
            "  warnings.warn(\"Can't initialize NVML\")\n",
            "2023-03-11 14:14:28.952391: W tensorflow/compiler/xla/stream_executor/platform/default/dso_loader.cc:64] Could not load dynamic library 'libnvinfer.so.7'; dlerror: libnvinfer.so.7: cannot open shared object file: No such file or directory; LD_LIBRARY_PATH: /usr/local/nvidia/lib:/usr/local/nvidia/lib64\n",
            "2023-03-11 14:14:28.952547: W tensorflow/compiler/xla/stream_executor/platform/default/dso_loader.cc:64] Could not load dynamic library 'libnvinfer_plugin.so.7'; dlerror: libnvinfer_plugin.so.7: cannot open shared object file: No such file or directory; LD_LIBRARY_PATH: /usr/local/nvidia/lib:/usr/local/nvidia/lib64\n",
            "2023-03-11 14:14:28.952573: W tensorflow/compiler/tf2tensorrt/utils/py_utils.cc:38] TF-TRT Warning: Cannot dlopen some TensorRT libraries. If you would like to use Nvidia GPU with TensorRT, please make sure the missing libraries mentioned above are installed properly.\n",
            "2023-03-11 14:14:31.618636: E tensorflow/compiler/xla/stream_executor/cuda/cuda_driver.cc:267] failed call to cuInit: CUDA_ERROR_NO_DEVICE: no CUDA-capable device is detected\n",
            "\u001b[2K     \u001b[90m━━━━━━━━━━━━━━━━━━━━━━━━━━━━━━━━━━━━━━━━\u001b[0m \u001b[32m12.8/12.8 MB\u001b[0m \u001b[31m74.1 MB/s\u001b[0m eta \u001b[36m0:00:00\u001b[0m\n",
            "\u001b[?25h\u001b[38;5;2m✔ Download and installation successful\u001b[0m\n",
            "You can now load the package via spacy.load('en_core_web_sm')\n"
          ]
        }
      ]
    },
    {
      "cell_type": "markdown",
      "source": [
        "We label positive reviews as \"1\" and negative reviews as \"0\"."
      ],
      "metadata": {
        "id": "GIYTGKIpQwGo"
      }
    },
    {
      "cell_type": "code",
      "source": [
        "review_dicts = []\n",
        "filepath = '/content/dataset/neg/'\n",
        "for filename in os.listdir(filepath):\n",
        "  review_dict = {}\n",
        "  review_dict['review_id'] = filename.split('.')[0]\n",
        "  with open(filepath + filename, 'r', encoding='utf-8') as file:\n",
        "    review_dict['review_content'] = file.read()\n",
        "  review_dict['label'] = 0\n",
        "  review_dicts.append(review_dict)"
      ],
      "metadata": {
        "id": "xY8fY6Uypjse"
      },
      "execution_count": 8,
      "outputs": []
    },
    {
      "cell_type": "code",
      "source": [
        "filepath = '/content/dataset/pos/'\n",
        "for filename in os.listdir(filepath):\n",
        "  review_dict = {}\n",
        "  review_dict['review_id'] = filename.split('.')[0]\n",
        "  with open(filepath + filename, 'r', encoding='utf-8') as file:\n",
        "    review_dict['review_content'] = file.read()\n",
        "  review_dict['label'] = 1\n",
        "  review_dicts.append(review_dict)"
      ],
      "metadata": {
        "id": "vxd2AtqUzdn_"
      },
      "execution_count": 9,
      "outputs": []
    },
    {
      "cell_type": "code",
      "source": [
        "df = pd.DataFrame.from_dict(review_dicts)"
      ],
      "metadata": {
        "id": "S2KVQ56rxnnS"
      },
      "execution_count": 10,
      "outputs": []
    },
    {
      "cell_type": "code",
      "source": [
        "df"
      ],
      "metadata": {
        "colab": {
          "base_uri": "https://localhost:8080/",
          "height": 423
        },
        "id": "O3pq_4gUz8_T",
        "outputId": "4eed29e8-6b67-46b6-c6da-743430dabb3c"
      },
      "execution_count": 11,
      "outputs": [
        {
          "output_type": "execute_result",
          "data": {
            "text/plain": [
              "        review_id                                     review_content  label\n",
              "0       418794-74  Он был один из самых славных и любимых европей...      0\n",
              "1       721154-67  Стратовулкан Фудзи на протяжении веков являлся...      0\n",
              "2         42367-5  Искусство, по-моему, – отражение борьбы и трев...      0\n",
              "3       467166-31  'Бывшему бойцу британских силовых структур при...      0\n",
              "4       846027-11  Идут годы, а заброшенные психиатрические лечеб...      0\n",
              "...           ...                                                ...    ...\n",
              "106960   15139-43  Мы с тобой всегда были вместе...\\n\\nПрекрасная...      1\n",
              "106961   957236-2  Но миром правят собаки\\nТебя настигают собаки\\...      1\n",
              "106962   23651-11  Ещё раз убеждаюсь, как правильно он подходил к...      1\n",
              "106963  395978-47  Фильм скроен по типичной формуле для четвёртых...      1\n",
              "106964    23891-1  Париж - не простое место. Один из самых извест...      1\n",
              "\n",
              "[106965 rows x 3 columns]"
            ],
            "text/html": [
              "\n",
              "  <div id=\"df-b42d943e-57c9-4f82-81d9-cf0b6fa19c6e\">\n",
              "    <div class=\"colab-df-container\">\n",
              "      <div>\n",
              "<style scoped>\n",
              "    .dataframe tbody tr th:only-of-type {\n",
              "        vertical-align: middle;\n",
              "    }\n",
              "\n",
              "    .dataframe tbody tr th {\n",
              "        vertical-align: top;\n",
              "    }\n",
              "\n",
              "    .dataframe thead th {\n",
              "        text-align: right;\n",
              "    }\n",
              "</style>\n",
              "<table border=\"1\" class=\"dataframe\">\n",
              "  <thead>\n",
              "    <tr style=\"text-align: right;\">\n",
              "      <th></th>\n",
              "      <th>review_id</th>\n",
              "      <th>review_content</th>\n",
              "      <th>label</th>\n",
              "    </tr>\n",
              "  </thead>\n",
              "  <tbody>\n",
              "    <tr>\n",
              "      <th>0</th>\n",
              "      <td>418794-74</td>\n",
              "      <td>Он был один из самых славных и любимых европей...</td>\n",
              "      <td>0</td>\n",
              "    </tr>\n",
              "    <tr>\n",
              "      <th>1</th>\n",
              "      <td>721154-67</td>\n",
              "      <td>Стратовулкан Фудзи на протяжении веков являлся...</td>\n",
              "      <td>0</td>\n",
              "    </tr>\n",
              "    <tr>\n",
              "      <th>2</th>\n",
              "      <td>42367-5</td>\n",
              "      <td>Искусство, по-моему, – отражение борьбы и трев...</td>\n",
              "      <td>0</td>\n",
              "    </tr>\n",
              "    <tr>\n",
              "      <th>3</th>\n",
              "      <td>467166-31</td>\n",
              "      <td>'Бывшему бойцу британских силовых структур при...</td>\n",
              "      <td>0</td>\n",
              "    </tr>\n",
              "    <tr>\n",
              "      <th>4</th>\n",
              "      <td>846027-11</td>\n",
              "      <td>Идут годы, а заброшенные психиатрические лечеб...</td>\n",
              "      <td>0</td>\n",
              "    </tr>\n",
              "    <tr>\n",
              "      <th>...</th>\n",
              "      <td>...</td>\n",
              "      <td>...</td>\n",
              "      <td>...</td>\n",
              "    </tr>\n",
              "    <tr>\n",
              "      <th>106960</th>\n",
              "      <td>15139-43</td>\n",
              "      <td>Мы с тобой всегда были вместе...\\n\\nПрекрасная...</td>\n",
              "      <td>1</td>\n",
              "    </tr>\n",
              "    <tr>\n",
              "      <th>106961</th>\n",
              "      <td>957236-2</td>\n",
              "      <td>Но миром правят собаки\\nТебя настигают собаки\\...</td>\n",
              "      <td>1</td>\n",
              "    </tr>\n",
              "    <tr>\n",
              "      <th>106962</th>\n",
              "      <td>23651-11</td>\n",
              "      <td>Ещё раз убеждаюсь, как правильно он подходил к...</td>\n",
              "      <td>1</td>\n",
              "    </tr>\n",
              "    <tr>\n",
              "      <th>106963</th>\n",
              "      <td>395978-47</td>\n",
              "      <td>Фильм скроен по типичной формуле для четвёртых...</td>\n",
              "      <td>1</td>\n",
              "    </tr>\n",
              "    <tr>\n",
              "      <th>106964</th>\n",
              "      <td>23891-1</td>\n",
              "      <td>Париж - не простое место. Один из самых извест...</td>\n",
              "      <td>1</td>\n",
              "    </tr>\n",
              "  </tbody>\n",
              "</table>\n",
              "<p>106965 rows × 3 columns</p>\n",
              "</div>\n",
              "      <button class=\"colab-df-convert\" onclick=\"convertToInteractive('df-b42d943e-57c9-4f82-81d9-cf0b6fa19c6e')\"\n",
              "              title=\"Convert this dataframe to an interactive table.\"\n",
              "              style=\"display:none;\">\n",
              "        \n",
              "  <svg xmlns=\"http://www.w3.org/2000/svg\" height=\"24px\"viewBox=\"0 0 24 24\"\n",
              "       width=\"24px\">\n",
              "    <path d=\"M0 0h24v24H0V0z\" fill=\"none\"/>\n",
              "    <path d=\"M18.56 5.44l.94 2.06.94-2.06 2.06-.94-2.06-.94-.94-2.06-.94 2.06-2.06.94zm-11 1L8.5 8.5l.94-2.06 2.06-.94-2.06-.94L8.5 2.5l-.94 2.06-2.06.94zm10 10l.94 2.06.94-2.06 2.06-.94-2.06-.94-.94-2.06-.94 2.06-2.06.94z\"/><path d=\"M17.41 7.96l-1.37-1.37c-.4-.4-.92-.59-1.43-.59-.52 0-1.04.2-1.43.59L10.3 9.45l-7.72 7.72c-.78.78-.78 2.05 0 2.83L4 21.41c.39.39.9.59 1.41.59.51 0 1.02-.2 1.41-.59l7.78-7.78 2.81-2.81c.8-.78.8-2.07 0-2.86zM5.41 20L4 18.59l7.72-7.72 1.47 1.35L5.41 20z\"/>\n",
              "  </svg>\n",
              "      </button>\n",
              "      \n",
              "  <style>\n",
              "    .colab-df-container {\n",
              "      display:flex;\n",
              "      flex-wrap:wrap;\n",
              "      gap: 12px;\n",
              "    }\n",
              "\n",
              "    .colab-df-convert {\n",
              "      background-color: #E8F0FE;\n",
              "      border: none;\n",
              "      border-radius: 50%;\n",
              "      cursor: pointer;\n",
              "      display: none;\n",
              "      fill: #1967D2;\n",
              "      height: 32px;\n",
              "      padding: 0 0 0 0;\n",
              "      width: 32px;\n",
              "    }\n",
              "\n",
              "    .colab-df-convert:hover {\n",
              "      background-color: #E2EBFA;\n",
              "      box-shadow: 0px 1px 2px rgba(60, 64, 67, 0.3), 0px 1px 3px 1px rgba(60, 64, 67, 0.15);\n",
              "      fill: #174EA6;\n",
              "    }\n",
              "\n",
              "    [theme=dark] .colab-df-convert {\n",
              "      background-color: #3B4455;\n",
              "      fill: #D2E3FC;\n",
              "    }\n",
              "\n",
              "    [theme=dark] .colab-df-convert:hover {\n",
              "      background-color: #434B5C;\n",
              "      box-shadow: 0px 1px 3px 1px rgba(0, 0, 0, 0.15);\n",
              "      filter: drop-shadow(0px 1px 2px rgba(0, 0, 0, 0.3));\n",
              "      fill: #FFFFFF;\n",
              "    }\n",
              "  </style>\n",
              "\n",
              "      <script>\n",
              "        const buttonEl =\n",
              "          document.querySelector('#df-b42d943e-57c9-4f82-81d9-cf0b6fa19c6e button.colab-df-convert');\n",
              "        buttonEl.style.display =\n",
              "          google.colab.kernel.accessAllowed ? 'block' : 'none';\n",
              "\n",
              "        async function convertToInteractive(key) {\n",
              "          const element = document.querySelector('#df-b42d943e-57c9-4f82-81d9-cf0b6fa19c6e');\n",
              "          const dataTable =\n",
              "            await google.colab.kernel.invokeFunction('convertToInteractive',\n",
              "                                                     [key], {});\n",
              "          if (!dataTable) return;\n",
              "\n",
              "          const docLinkHtml = 'Like what you see? Visit the ' +\n",
              "            '<a target=\"_blank\" href=https://colab.research.google.com/notebooks/data_table.ipynb>data table notebook</a>'\n",
              "            + ' to learn more about interactive tables.';\n",
              "          element.innerHTML = '';\n",
              "          dataTable['output_type'] = 'display_data';\n",
              "          await google.colab.output.renderOutput(dataTable, element);\n",
              "          const docLink = document.createElement('div');\n",
              "          docLink.innerHTML = docLinkHtml;\n",
              "          element.appendChild(docLink);\n",
              "        }\n",
              "      </script>\n",
              "    </div>\n",
              "  </div>\n",
              "  "
            ]
          },
          "metadata": {},
          "execution_count": 11
        }
      ]
    },
    {
      "cell_type": "code",
      "source": [
        "df = df.sample(frac=0.1, random_state=42).reset_index(drop=True)"
      ],
      "metadata": {
        "id": "8-fBGhy5hZjd"
      },
      "execution_count": 12,
      "outputs": []
    },
    {
      "cell_type": "markdown",
      "source": [
        "Class imbalance of the dataset:"
      ],
      "metadata": {
        "id": "bUIK60kycUQv"
      }
    },
    {
      "cell_type": "code",
      "source": [
        "df['label'].value_counts(normalize=True)"
      ],
      "metadata": {
        "colab": {
          "base_uri": "https://localhost:8080/"
        },
        "id": "XiMZdLJViLOD",
        "outputId": "d0beaefb-78ac-44bb-93d6-2761a6376ef3"
      },
      "execution_count": 13,
      "outputs": [
        {
          "output_type": "execute_result",
          "data": {
            "text/plain": [
              "1    0.811892\n",
              "0    0.188108\n",
              "Name: label, dtype: float64"
            ]
          },
          "metadata": {},
          "execution_count": 13
        }
      ]
    },
    {
      "cell_type": "code",
      "source": [
        "#@title Brief cleaning: remove meantions, urls, emojis, digits, punctuation marks\n",
        "def remove_emoji(text):\n",
        "    emoji_pattern = re.compile(\"[\"\n",
        "                               u\"\\U0001F600-\\U0001F64F\"  # emoticons\n",
        "                               u\"\\U0001F300-\\U0001F5FF\"  # symbols & pictographs\n",
        "                               u\"\\U0001F680-\\U0001F6FF\"  # transport & map symbols\n",
        "                               u\"\\U0001F1E0-\\U0001F1FF\"  # flags (iOS)\n",
        "                               u\"\\U00002702-\\U000027B0\"\n",
        "                               u\"\\U000024C2-\\U0001F251\"\n",
        "                               \"]+\", flags=re.UNICODE)\n",
        "    return emoji_pattern.sub(r'', text)\n",
        "\n",
        "\n",
        "def brief_clean(text):\n",
        "  text = re.sub('http\\S*', '', text)  # remove urls\n",
        "  text = remove_emoji(text)  # remove emojis\n",
        "  text = text.translate(str.maketrans('', '', string.punctuation + '«»——–…“”©↓'))  # remove string.punctuation from the string\n",
        "  text = text.translate(str.maketrans('', '', string.digits)) # remove digits\n",
        "  text = text.replace('\\n', ' ')  # replace newlines with space\n",
        "  text = re.sub(' +', ' ', text)  # replace multiple spaces with one space\n",
        "  text = text.lower().strip()  # make all lowercase and strip\n",
        "  return text"
      ],
      "metadata": {
        "id": "GRaJJqYW1uIh",
        "cellView": "form"
      },
      "execution_count": 14,
      "outputs": []
    },
    {
      "cell_type": "code",
      "source": [
        "df['text_cleaned'] = df['review_content'].map(brief_clean)"
      ],
      "metadata": {
        "id": "p1KXdIWa2e6b"
      },
      "execution_count": 15,
      "outputs": []
    },
    {
      "cell_type": "code",
      "source": [
        "df"
      ],
      "metadata": {
        "colab": {
          "base_uri": "https://localhost:8080/",
          "height": 423
        },
        "id": "SyWDRkbFGvqU",
        "outputId": "668d0eb3-c3f1-4414-c414-82a89ce2a49d"
      },
      "execution_count": 16,
      "outputs": [
        {
          "output_type": "execute_result",
          "data": {
            "text/plain": [
              "        review_id                                     review_content  label  \\\n",
              "0        922991-0  Что ж, можно сказать, что мультфильм «Подводна...      1   \n",
              "1      1091698-13  Тихая, лаконичная драма, которая кричит и мест...      1   \n",
              "2          700-83  Потрясающая картина! Причем, я даже не могу ск...      1   \n",
              "3       373088-22  Если бы мой взгляд упал на надпись на диске «О...      0   \n",
              "4       767379-54  Уже был 'Настоящий детектив'. задавший такую п...      1   \n",
              "...           ...                                                ...    ...   \n",
              "10691      8115-5  Чего ожидаешь от фильма о религии? Как правило...      0   \n",
              "10692   717649-46  Я очень люблю как книги серии 'Анжелика', так ...      0   \n",
              "10693   279686-24  Вообще, когда я увидела название 'Ангус, стрин...      1   \n",
              "10694   675565-23  Бывает, что человек, сразу получивший от жизни...      1   \n",
              "10695    714313-0  Как жаль писать отзыв на эту программу отрицат...      0   \n",
              "\n",
              "                                            text_cleaned  \n",
              "0      что ж можно сказать что мультфильм подводная э...  \n",
              "1      тихая лаконичная драма которая кричит и местам...  \n",
              "2      потрясающая картина причем я даже не могу сказ...  \n",
              "3      если бы мой взгляд упал на надпись на диске ож...  \n",
              "4      уже был настоящий детектив задавший такую план...  \n",
              "...                                                  ...  \n",
              "10691  чего ожидаешь от фильма о религии как правило ...  \n",
              "10692  я очень люблю как книги серии анжелика так и с...  \n",
              "10693  вообще когда я увидела название ангус стринги ...  \n",
              "10694  бывает что человек сразу получивший от жизни в...  \n",
              "10695  как жаль писать отзыв на эту программу отрицат...  \n",
              "\n",
              "[10696 rows x 4 columns]"
            ],
            "text/html": [
              "\n",
              "  <div id=\"df-933f42e8-49b8-4543-b49f-3ea940006952\">\n",
              "    <div class=\"colab-df-container\">\n",
              "      <div>\n",
              "<style scoped>\n",
              "    .dataframe tbody tr th:only-of-type {\n",
              "        vertical-align: middle;\n",
              "    }\n",
              "\n",
              "    .dataframe tbody tr th {\n",
              "        vertical-align: top;\n",
              "    }\n",
              "\n",
              "    .dataframe thead th {\n",
              "        text-align: right;\n",
              "    }\n",
              "</style>\n",
              "<table border=\"1\" class=\"dataframe\">\n",
              "  <thead>\n",
              "    <tr style=\"text-align: right;\">\n",
              "      <th></th>\n",
              "      <th>review_id</th>\n",
              "      <th>review_content</th>\n",
              "      <th>label</th>\n",
              "      <th>text_cleaned</th>\n",
              "    </tr>\n",
              "  </thead>\n",
              "  <tbody>\n",
              "    <tr>\n",
              "      <th>0</th>\n",
              "      <td>922991-0</td>\n",
              "      <td>Что ж, можно сказать, что мультфильм «Подводна...</td>\n",
              "      <td>1</td>\n",
              "      <td>что ж можно сказать что мультфильм подводная э...</td>\n",
              "    </tr>\n",
              "    <tr>\n",
              "      <th>1</th>\n",
              "      <td>1091698-13</td>\n",
              "      <td>Тихая, лаконичная драма, которая кричит и мест...</td>\n",
              "      <td>1</td>\n",
              "      <td>тихая лаконичная драма которая кричит и местам...</td>\n",
              "    </tr>\n",
              "    <tr>\n",
              "      <th>2</th>\n",
              "      <td>700-83</td>\n",
              "      <td>Потрясающая картина! Причем, я даже не могу ск...</td>\n",
              "      <td>1</td>\n",
              "      <td>потрясающая картина причем я даже не могу сказ...</td>\n",
              "    </tr>\n",
              "    <tr>\n",
              "      <th>3</th>\n",
              "      <td>373088-22</td>\n",
              "      <td>Если бы мой взгляд упал на надпись на диске «О...</td>\n",
              "      <td>0</td>\n",
              "      <td>если бы мой взгляд упал на надпись на диске ож...</td>\n",
              "    </tr>\n",
              "    <tr>\n",
              "      <th>4</th>\n",
              "      <td>767379-54</td>\n",
              "      <td>Уже был 'Настоящий детектив'. задавший такую п...</td>\n",
              "      <td>1</td>\n",
              "      <td>уже был настоящий детектив задавший такую план...</td>\n",
              "    </tr>\n",
              "    <tr>\n",
              "      <th>...</th>\n",
              "      <td>...</td>\n",
              "      <td>...</td>\n",
              "      <td>...</td>\n",
              "      <td>...</td>\n",
              "    </tr>\n",
              "    <tr>\n",
              "      <th>10691</th>\n",
              "      <td>8115-5</td>\n",
              "      <td>Чего ожидаешь от фильма о религии? Как правило...</td>\n",
              "      <td>0</td>\n",
              "      <td>чего ожидаешь от фильма о религии как правило ...</td>\n",
              "    </tr>\n",
              "    <tr>\n",
              "      <th>10692</th>\n",
              "      <td>717649-46</td>\n",
              "      <td>Я очень люблю как книги серии 'Анжелика', так ...</td>\n",
              "      <td>0</td>\n",
              "      <td>я очень люблю как книги серии анжелика так и с...</td>\n",
              "    </tr>\n",
              "    <tr>\n",
              "      <th>10693</th>\n",
              "      <td>279686-24</td>\n",
              "      <td>Вообще, когда я увидела название 'Ангус, стрин...</td>\n",
              "      <td>1</td>\n",
              "      <td>вообще когда я увидела название ангус стринги ...</td>\n",
              "    </tr>\n",
              "    <tr>\n",
              "      <th>10694</th>\n",
              "      <td>675565-23</td>\n",
              "      <td>Бывает, что человек, сразу получивший от жизни...</td>\n",
              "      <td>1</td>\n",
              "      <td>бывает что человек сразу получивший от жизни в...</td>\n",
              "    </tr>\n",
              "    <tr>\n",
              "      <th>10695</th>\n",
              "      <td>714313-0</td>\n",
              "      <td>Как жаль писать отзыв на эту программу отрицат...</td>\n",
              "      <td>0</td>\n",
              "      <td>как жаль писать отзыв на эту программу отрицат...</td>\n",
              "    </tr>\n",
              "  </tbody>\n",
              "</table>\n",
              "<p>10696 rows × 4 columns</p>\n",
              "</div>\n",
              "      <button class=\"colab-df-convert\" onclick=\"convertToInteractive('df-933f42e8-49b8-4543-b49f-3ea940006952')\"\n",
              "              title=\"Convert this dataframe to an interactive table.\"\n",
              "              style=\"display:none;\">\n",
              "        \n",
              "  <svg xmlns=\"http://www.w3.org/2000/svg\" height=\"24px\"viewBox=\"0 0 24 24\"\n",
              "       width=\"24px\">\n",
              "    <path d=\"M0 0h24v24H0V0z\" fill=\"none\"/>\n",
              "    <path d=\"M18.56 5.44l.94 2.06.94-2.06 2.06-.94-2.06-.94-.94-2.06-.94 2.06-2.06.94zm-11 1L8.5 8.5l.94-2.06 2.06-.94-2.06-.94L8.5 2.5l-.94 2.06-2.06.94zm10 10l.94 2.06.94-2.06 2.06-.94-2.06-.94-.94-2.06-.94 2.06-2.06.94z\"/><path d=\"M17.41 7.96l-1.37-1.37c-.4-.4-.92-.59-1.43-.59-.52 0-1.04.2-1.43.59L10.3 9.45l-7.72 7.72c-.78.78-.78 2.05 0 2.83L4 21.41c.39.39.9.59 1.41.59.51 0 1.02-.2 1.41-.59l7.78-7.78 2.81-2.81c.8-.78.8-2.07 0-2.86zM5.41 20L4 18.59l7.72-7.72 1.47 1.35L5.41 20z\"/>\n",
              "  </svg>\n",
              "      </button>\n",
              "      \n",
              "  <style>\n",
              "    .colab-df-container {\n",
              "      display:flex;\n",
              "      flex-wrap:wrap;\n",
              "      gap: 12px;\n",
              "    }\n",
              "\n",
              "    .colab-df-convert {\n",
              "      background-color: #E8F0FE;\n",
              "      border: none;\n",
              "      border-radius: 50%;\n",
              "      cursor: pointer;\n",
              "      display: none;\n",
              "      fill: #1967D2;\n",
              "      height: 32px;\n",
              "      padding: 0 0 0 0;\n",
              "      width: 32px;\n",
              "    }\n",
              "\n",
              "    .colab-df-convert:hover {\n",
              "      background-color: #E2EBFA;\n",
              "      box-shadow: 0px 1px 2px rgba(60, 64, 67, 0.3), 0px 1px 3px 1px rgba(60, 64, 67, 0.15);\n",
              "      fill: #174EA6;\n",
              "    }\n",
              "\n",
              "    [theme=dark] .colab-df-convert {\n",
              "      background-color: #3B4455;\n",
              "      fill: #D2E3FC;\n",
              "    }\n",
              "\n",
              "    [theme=dark] .colab-df-convert:hover {\n",
              "      background-color: #434B5C;\n",
              "      box-shadow: 0px 1px 3px 1px rgba(0, 0, 0, 0.15);\n",
              "      filter: drop-shadow(0px 1px 2px rgba(0, 0, 0, 0.3));\n",
              "      fill: #FFFFFF;\n",
              "    }\n",
              "  </style>\n",
              "\n",
              "      <script>\n",
              "        const buttonEl =\n",
              "          document.querySelector('#df-933f42e8-49b8-4543-b49f-3ea940006952 button.colab-df-convert');\n",
              "        buttonEl.style.display =\n",
              "          google.colab.kernel.accessAllowed ? 'block' : 'none';\n",
              "\n",
              "        async function convertToInteractive(key) {\n",
              "          const element = document.querySelector('#df-933f42e8-49b8-4543-b49f-3ea940006952');\n",
              "          const dataTable =\n",
              "            await google.colab.kernel.invokeFunction('convertToInteractive',\n",
              "                                                     [key], {});\n",
              "          if (!dataTable) return;\n",
              "\n",
              "          const docLinkHtml = 'Like what you see? Visit the ' +\n",
              "            '<a target=\"_blank\" href=https://colab.research.google.com/notebooks/data_table.ipynb>data table notebook</a>'\n",
              "            + ' to learn more about interactive tables.';\n",
              "          element.innerHTML = '';\n",
              "          dataTable['output_type'] = 'display_data';\n",
              "          await google.colab.output.renderOutput(dataTable, element);\n",
              "          const docLink = document.createElement('div');\n",
              "          docLink.innerHTML = docLinkHtml;\n",
              "          element.appendChild(docLink);\n",
              "        }\n",
              "      </script>\n",
              "    </div>\n",
              "  </div>\n",
              "  "
            ]
          },
          "metadata": {},
          "execution_count": 16
        }
      ]
    },
    {
      "cell_type": "code",
      "source": [
        "#@title Now we lemmatize without stop words\n",
        "# Lemmatizes and removes stopwords\n",
        "# doc needs to be a spacy Doc object\n",
        "\n",
        "def lemmatize_without_stops(text):\n",
        "  doc = nlp(text)\n",
        "  lemmas = [token.lemma_ for token in doc if not token.is_stop]\n",
        "  # Word2Vec uses context words to learn the vector representation of a target word,\n",
        "  # if a sentence is only one or two words long,\n",
        "  # the benefit for the training is very small\n",
        "  if len(lemmas) > 2:\n",
        "    return ' '.join(lemmas)"
      ],
      "metadata": {
        "id": "7vGyEKRZyk39"
      },
      "execution_count": 17,
      "outputs": []
    },
    {
      "cell_type": "code",
      "source": [
        "#@title We load spaCy language packs and taking advantage of spaCy .pipe() method to speed-up the cleaning process.\n",
        "language = \"ru\" #@param {type:\"string\"}\n",
        "if language == 'ru':\n",
        "  nlp = spacy.load('ru_core_news_sm', disable=['ner', 'parser'])  # disable Named Entity Recognition for speed\n",
        "else:\n",
        "  nlp = spacy.load('en_core_web_sm', disable=['ner', 'parser'])  # disable Named Entity Recognition for speed"
      ],
      "metadata": {
        "id": "fEkQ1oCvf56P"
      },
      "execution_count": 18,
      "outputs": []
    },
    {
      "cell_type": "markdown",
      "source": [
        "https://prrao87.github.io/blog/spacy/nlp/performance/2020/05/02/spacy-multiprocess.html#Option-1:-Sequentially-process-DataFrame-column"
      ],
      "metadata": {
        "id": "z794UYucOy2f"
      }
    },
    {
      "cell_type": "code",
      "source": [
        "t = time()\n",
        "\n",
        "# Lemmitize reviews\n",
        "df['text_lem'] = df['text_cleaned'].apply(lemmatize_without_stops)\n",
        "\n",
        "print(f'Time to lemmatize: {round((time() - t), 2)/60} mins')"
      ],
      "metadata": {
        "id": "fS_ujFy67vkP",
        "colab": {
          "base_uri": "https://localhost:8080/"
        },
        "outputId": "7257fb51-e1c5-44c2-87e2-d25ba38e3caf"
      },
      "execution_count": 19,
      "outputs": [
        {
          "output_type": "stream",
          "name": "stdout",
          "text": [
            "Time to lemmatize: 23.287333333333333 mins\n"
          ]
        }
      ]
    },
    {
      "cell_type": "code",
      "source": [
        "df"
      ],
      "metadata": {
        "colab": {
          "base_uri": "https://localhost:8080/",
          "height": 641
        },
        "id": "WLpMEZLTOYDz",
        "outputId": "04ce54d4-3023-42ce-9776-588e0526843e"
      },
      "execution_count": 20,
      "outputs": [
        {
          "output_type": "execute_result",
          "data": {
            "text/plain": [
              "        review_id                                     review_content  label  \\\n",
              "0        922991-0  Что ж, можно сказать, что мультфильм «Подводна...      1   \n",
              "1      1091698-13  Тихая, лаконичная драма, которая кричит и мест...      1   \n",
              "2          700-83  Потрясающая картина! Причем, я даже не могу ск...      1   \n",
              "3       373088-22  Если бы мой взгляд упал на надпись на диске «О...      0   \n",
              "4       767379-54  Уже был 'Настоящий детектив'. задавший такую п...      1   \n",
              "...           ...                                                ...    ...   \n",
              "10691      8115-5  Чего ожидаешь от фильма о религии? Как правило...      0   \n",
              "10692   717649-46  Я очень люблю как книги серии 'Анжелика', так ...      0   \n",
              "10693   279686-24  Вообще, когда я увидела название 'Ангус, стрин...      1   \n",
              "10694   675565-23  Бывает, что человек, сразу получивший от жизни...      1   \n",
              "10695    714313-0  Как жаль писать отзыв на эту программу отрицат...      0   \n",
              "\n",
              "                                            text_cleaned  \\\n",
              "0      что ж можно сказать что мультфильм подводная э...   \n",
              "1      тихая лаконичная драма которая кричит и местам...   \n",
              "2      потрясающая картина причем я даже не могу сказ...   \n",
              "3      если бы мой взгляд упал на надпись на диске ож...   \n",
              "4      уже был настоящий детектив задавший такую план...   \n",
              "...                                                  ...   \n",
              "10691  чего ожидаешь от фильма о религии как правило ...   \n",
              "10692  я очень люблю как книги серии анжелика так и с...   \n",
              "10693  вообще когда я увидела название ангус стринги ...   \n",
              "10694  бывает что человек сразу получивший от жизни в...   \n",
              "10695  как жаль писать отзыв на эту программу отрицат...   \n",
              "\n",
              "                                                text_lem  \n",
              "0      сказать мультфильм подводный эра дебют полный ...  \n",
              "1      тихий лаконичный драма кричать место надрывно ...  \n",
              "2      потрясающая картина сказать понравиться фильм ...  \n",
              "3      взгляд упасть надпись диск ожившие монстры поб...  \n",
              "4      детектив задать планка близкий время трудный п...  \n",
              "...                                                  ...  \n",
              "10691  ожидать фильм религия правило интерес представ...  \n",
              "10692  любить книга серия анжелика старый фильм мнени...  \n",
              "10693  увидеть название ангус стринги поцелуй взасост...  \n",
              "10694  человек получить жизнь возможный благо оказавш...  \n",
              "10695  жаль писать отзыв программа отрицательный год ...  \n",
              "\n",
              "[10696 rows x 5 columns]"
            ],
            "text/html": [
              "\n",
              "  <div id=\"df-4aea82e4-ce1e-4cf5-85bf-16635f7fa612\">\n",
              "    <div class=\"colab-df-container\">\n",
              "      <div>\n",
              "<style scoped>\n",
              "    .dataframe tbody tr th:only-of-type {\n",
              "        vertical-align: middle;\n",
              "    }\n",
              "\n",
              "    .dataframe tbody tr th {\n",
              "        vertical-align: top;\n",
              "    }\n",
              "\n",
              "    .dataframe thead th {\n",
              "        text-align: right;\n",
              "    }\n",
              "</style>\n",
              "<table border=\"1\" class=\"dataframe\">\n",
              "  <thead>\n",
              "    <tr style=\"text-align: right;\">\n",
              "      <th></th>\n",
              "      <th>review_id</th>\n",
              "      <th>review_content</th>\n",
              "      <th>label</th>\n",
              "      <th>text_cleaned</th>\n",
              "      <th>text_lem</th>\n",
              "    </tr>\n",
              "  </thead>\n",
              "  <tbody>\n",
              "    <tr>\n",
              "      <th>0</th>\n",
              "      <td>922991-0</td>\n",
              "      <td>Что ж, можно сказать, что мультфильм «Подводна...</td>\n",
              "      <td>1</td>\n",
              "      <td>что ж можно сказать что мультфильм подводная э...</td>\n",
              "      <td>сказать мультфильм подводный эра дебют полный ...</td>\n",
              "    </tr>\n",
              "    <tr>\n",
              "      <th>1</th>\n",
              "      <td>1091698-13</td>\n",
              "      <td>Тихая, лаконичная драма, которая кричит и мест...</td>\n",
              "      <td>1</td>\n",
              "      <td>тихая лаконичная драма которая кричит и местам...</td>\n",
              "      <td>тихий лаконичный драма кричать место надрывно ...</td>\n",
              "    </tr>\n",
              "    <tr>\n",
              "      <th>2</th>\n",
              "      <td>700-83</td>\n",
              "      <td>Потрясающая картина! Причем, я даже не могу ск...</td>\n",
              "      <td>1</td>\n",
              "      <td>потрясающая картина причем я даже не могу сказ...</td>\n",
              "      <td>потрясающая картина сказать понравиться фильм ...</td>\n",
              "    </tr>\n",
              "    <tr>\n",
              "      <th>3</th>\n",
              "      <td>373088-22</td>\n",
              "      <td>Если бы мой взгляд упал на надпись на диске «О...</td>\n",
              "      <td>0</td>\n",
              "      <td>если бы мой взгляд упал на надпись на диске ож...</td>\n",
              "      <td>взгляд упасть надпись диск ожившие монстры поб...</td>\n",
              "    </tr>\n",
              "    <tr>\n",
              "      <th>4</th>\n",
              "      <td>767379-54</td>\n",
              "      <td>Уже был 'Настоящий детектив'. задавший такую п...</td>\n",
              "      <td>1</td>\n",
              "      <td>уже был настоящий детектив задавший такую план...</td>\n",
              "      <td>детектив задать планка близкий время трудный п...</td>\n",
              "    </tr>\n",
              "    <tr>\n",
              "      <th>...</th>\n",
              "      <td>...</td>\n",
              "      <td>...</td>\n",
              "      <td>...</td>\n",
              "      <td>...</td>\n",
              "      <td>...</td>\n",
              "    </tr>\n",
              "    <tr>\n",
              "      <th>10691</th>\n",
              "      <td>8115-5</td>\n",
              "      <td>Чего ожидаешь от фильма о религии? Как правило...</td>\n",
              "      <td>0</td>\n",
              "      <td>чего ожидаешь от фильма о религии как правило ...</td>\n",
              "      <td>ожидать фильм религия правило интерес представ...</td>\n",
              "    </tr>\n",
              "    <tr>\n",
              "      <th>10692</th>\n",
              "      <td>717649-46</td>\n",
              "      <td>Я очень люблю как книги серии 'Анжелика', так ...</td>\n",
              "      <td>0</td>\n",
              "      <td>я очень люблю как книги серии анжелика так и с...</td>\n",
              "      <td>любить книга серия анжелика старый фильм мнени...</td>\n",
              "    </tr>\n",
              "    <tr>\n",
              "      <th>10693</th>\n",
              "      <td>279686-24</td>\n",
              "      <td>Вообще, когда я увидела название 'Ангус, стрин...</td>\n",
              "      <td>1</td>\n",
              "      <td>вообще когда я увидела название ангус стринги ...</td>\n",
              "      <td>увидеть название ангус стринги поцелуй взасост...</td>\n",
              "    </tr>\n",
              "    <tr>\n",
              "      <th>10694</th>\n",
              "      <td>675565-23</td>\n",
              "      <td>Бывает, что человек, сразу получивший от жизни...</td>\n",
              "      <td>1</td>\n",
              "      <td>бывает что человек сразу получивший от жизни в...</td>\n",
              "      <td>человек получить жизнь возможный благо оказавш...</td>\n",
              "    </tr>\n",
              "    <tr>\n",
              "      <th>10695</th>\n",
              "      <td>714313-0</td>\n",
              "      <td>Как жаль писать отзыв на эту программу отрицат...</td>\n",
              "      <td>0</td>\n",
              "      <td>как жаль писать отзыв на эту программу отрицат...</td>\n",
              "      <td>жаль писать отзыв программа отрицательный год ...</td>\n",
              "    </tr>\n",
              "  </tbody>\n",
              "</table>\n",
              "<p>10696 rows × 5 columns</p>\n",
              "</div>\n",
              "      <button class=\"colab-df-convert\" onclick=\"convertToInteractive('df-4aea82e4-ce1e-4cf5-85bf-16635f7fa612')\"\n",
              "              title=\"Convert this dataframe to an interactive table.\"\n",
              "              style=\"display:none;\">\n",
              "        \n",
              "  <svg xmlns=\"http://www.w3.org/2000/svg\" height=\"24px\"viewBox=\"0 0 24 24\"\n",
              "       width=\"24px\">\n",
              "    <path d=\"M0 0h24v24H0V0z\" fill=\"none\"/>\n",
              "    <path d=\"M18.56 5.44l.94 2.06.94-2.06 2.06-.94-2.06-.94-.94-2.06-.94 2.06-2.06.94zm-11 1L8.5 8.5l.94-2.06 2.06-.94-2.06-.94L8.5 2.5l-.94 2.06-2.06.94zm10 10l.94 2.06.94-2.06 2.06-.94-2.06-.94-.94-2.06-.94 2.06-2.06.94z\"/><path d=\"M17.41 7.96l-1.37-1.37c-.4-.4-.92-.59-1.43-.59-.52 0-1.04.2-1.43.59L10.3 9.45l-7.72 7.72c-.78.78-.78 2.05 0 2.83L4 21.41c.39.39.9.59 1.41.59.51 0 1.02-.2 1.41-.59l7.78-7.78 2.81-2.81c.8-.78.8-2.07 0-2.86zM5.41 20L4 18.59l7.72-7.72 1.47 1.35L5.41 20z\"/>\n",
              "  </svg>\n",
              "      </button>\n",
              "      \n",
              "  <style>\n",
              "    .colab-df-container {\n",
              "      display:flex;\n",
              "      flex-wrap:wrap;\n",
              "      gap: 12px;\n",
              "    }\n",
              "\n",
              "    .colab-df-convert {\n",
              "      background-color: #E8F0FE;\n",
              "      border: none;\n",
              "      border-radius: 50%;\n",
              "      cursor: pointer;\n",
              "      display: none;\n",
              "      fill: #1967D2;\n",
              "      height: 32px;\n",
              "      padding: 0 0 0 0;\n",
              "      width: 32px;\n",
              "    }\n",
              "\n",
              "    .colab-df-convert:hover {\n",
              "      background-color: #E2EBFA;\n",
              "      box-shadow: 0px 1px 2px rgba(60, 64, 67, 0.3), 0px 1px 3px 1px rgba(60, 64, 67, 0.15);\n",
              "      fill: #174EA6;\n",
              "    }\n",
              "\n",
              "    [theme=dark] .colab-df-convert {\n",
              "      background-color: #3B4455;\n",
              "      fill: #D2E3FC;\n",
              "    }\n",
              "\n",
              "    [theme=dark] .colab-df-convert:hover {\n",
              "      background-color: #434B5C;\n",
              "      box-shadow: 0px 1px 3px 1px rgba(0, 0, 0, 0.15);\n",
              "      filter: drop-shadow(0px 1px 2px rgba(0, 0, 0, 0.3));\n",
              "      fill: #FFFFFF;\n",
              "    }\n",
              "  </style>\n",
              "\n",
              "      <script>\n",
              "        const buttonEl =\n",
              "          document.querySelector('#df-4aea82e4-ce1e-4cf5-85bf-16635f7fa612 button.colab-df-convert');\n",
              "        buttonEl.style.display =\n",
              "          google.colab.kernel.accessAllowed ? 'block' : 'none';\n",
              "\n",
              "        async function convertToInteractive(key) {\n",
              "          const element = document.querySelector('#df-4aea82e4-ce1e-4cf5-85bf-16635f7fa612');\n",
              "          const dataTable =\n",
              "            await google.colab.kernel.invokeFunction('convertToInteractive',\n",
              "                                                     [key], {});\n",
              "          if (!dataTable) return;\n",
              "\n",
              "          const docLinkHtml = 'Like what you see? Visit the ' +\n",
              "            '<a target=\"_blank\" href=https://colab.research.google.com/notebooks/data_table.ipynb>data table notebook</a>'\n",
              "            + ' to learn more about interactive tables.';\n",
              "          element.innerHTML = '';\n",
              "          dataTable['output_type'] = 'display_data';\n",
              "          await google.colab.output.renderOutput(dataTable, element);\n",
              "          const docLink = document.createElement('div');\n",
              "          docLink.innerHTML = docLinkHtml;\n",
              "          element.appendChild(docLink);\n",
              "        }\n",
              "      </script>\n",
              "    </div>\n",
              "  </div>\n",
              "  "
            ]
          },
          "metadata": {},
          "execution_count": 20
        }
      ]
    },
    {
      "cell_type": "code",
      "source": [
        "dt_string = datetime.now().strftime('%d-%m-%Y_%H-%M-%S')"
      ],
      "metadata": {
        "id": "pc-HN4S6dXA-"
      },
      "execution_count": 21,
      "outputs": []
    },
    {
      "cell_type": "code",
      "source": [
        "filepath = '/content/drive/MyDrive/Datasets/'\n",
        "filename = f'kinopoisk_{len(df)}_reviews_lemmatized_{dt_string}'"
      ],
      "metadata": {
        "id": "9NI2Z4LmhZ47"
      },
      "execution_count": 22,
      "outputs": []
    },
    {
      "cell_type": "code",
      "source": [
        "df.to_pickle(filepath + filename)"
      ],
      "metadata": {
        "id": "U2gRpDLEuCJq"
      },
      "execution_count": 23,
      "outputs": []
    },
    {
      "cell_type": "code",
      "source": [
        "df_clean = pd.read_pickle(filepath + filename)"
      ],
      "metadata": {
        "id": "FhOIOnqZBX0r"
      },
      "execution_count": 25,
      "outputs": []
    },
    {
      "cell_type": "code",
      "source": [
        "#@title Calculate word frequency\n",
        "\n",
        "words_freq = defaultdict(int)\n",
        "for review in df_clean['text_lem'].values:\n",
        "  for word in review.split():\n",
        "    words_freq[word] += 1\n",
        "\n",
        "word_freq_df = pd.DataFrame.from_dict(words_freq, orient='index', columns=['word_count']).reset_index().rename(columns = {'index': 'word'})\n",
        "word_freq_df.sort_values('word_count', ascending=False).head(10)"
      ],
      "metadata": {
        "colab": {
          "base_uri": "https://localhost:8080/",
          "height": 206
        },
        "id": "TD_OqbmUO6q9",
        "outputId": "806479b3-e241-417d-aabe-e924c5a05aad"
      },
      "execution_count": 155,
      "outputs": [
        {
          "output_type": "execute_result",
          "data": {
            "text/plain": [
              "        word  word_count\n",
              "445    фильм       46181\n",
              "526  человек       12975\n",
              "47     герой       10998\n",
              "648    жизнь        9337\n",
              "103  главный        9132"
            ],
            "text/html": [
              "\n",
              "  <div id=\"df-c553be45-c99a-4050-b481-27e01ae9ac17\">\n",
              "    <div class=\"colab-df-container\">\n",
              "      <div>\n",
              "<style scoped>\n",
              "    .dataframe tbody tr th:only-of-type {\n",
              "        vertical-align: middle;\n",
              "    }\n",
              "\n",
              "    .dataframe tbody tr th {\n",
              "        vertical-align: top;\n",
              "    }\n",
              "\n",
              "    .dataframe thead th {\n",
              "        text-align: right;\n",
              "    }\n",
              "</style>\n",
              "<table border=\"1\" class=\"dataframe\">\n",
              "  <thead>\n",
              "    <tr style=\"text-align: right;\">\n",
              "      <th></th>\n",
              "      <th>word</th>\n",
              "      <th>word_count</th>\n",
              "    </tr>\n",
              "  </thead>\n",
              "  <tbody>\n",
              "    <tr>\n",
              "      <th>445</th>\n",
              "      <td>фильм</td>\n",
              "      <td>46181</td>\n",
              "    </tr>\n",
              "    <tr>\n",
              "      <th>526</th>\n",
              "      <td>человек</td>\n",
              "      <td>12975</td>\n",
              "    </tr>\n",
              "    <tr>\n",
              "      <th>47</th>\n",
              "      <td>герой</td>\n",
              "      <td>10998</td>\n",
              "    </tr>\n",
              "    <tr>\n",
              "      <th>648</th>\n",
              "      <td>жизнь</td>\n",
              "      <td>9337</td>\n",
              "    </tr>\n",
              "    <tr>\n",
              "      <th>103</th>\n",
              "      <td>главный</td>\n",
              "      <td>9132</td>\n",
              "    </tr>\n",
              "  </tbody>\n",
              "</table>\n",
              "</div>\n",
              "      <button class=\"colab-df-convert\" onclick=\"convertToInteractive('df-c553be45-c99a-4050-b481-27e01ae9ac17')\"\n",
              "              title=\"Convert this dataframe to an interactive table.\"\n",
              "              style=\"display:none;\">\n",
              "        \n",
              "  <svg xmlns=\"http://www.w3.org/2000/svg\" height=\"24px\"viewBox=\"0 0 24 24\"\n",
              "       width=\"24px\">\n",
              "    <path d=\"M0 0h24v24H0V0z\" fill=\"none\"/>\n",
              "    <path d=\"M18.56 5.44l.94 2.06.94-2.06 2.06-.94-2.06-.94-.94-2.06-.94 2.06-2.06.94zm-11 1L8.5 8.5l.94-2.06 2.06-.94-2.06-.94L8.5 2.5l-.94 2.06-2.06.94zm10 10l.94 2.06.94-2.06 2.06-.94-2.06-.94-.94-2.06-.94 2.06-2.06.94z\"/><path d=\"M17.41 7.96l-1.37-1.37c-.4-.4-.92-.59-1.43-.59-.52 0-1.04.2-1.43.59L10.3 9.45l-7.72 7.72c-.78.78-.78 2.05 0 2.83L4 21.41c.39.39.9.59 1.41.59.51 0 1.02-.2 1.41-.59l7.78-7.78 2.81-2.81c.8-.78.8-2.07 0-2.86zM5.41 20L4 18.59l7.72-7.72 1.47 1.35L5.41 20z\"/>\n",
              "  </svg>\n",
              "      </button>\n",
              "      \n",
              "  <style>\n",
              "    .colab-df-container {\n",
              "      display:flex;\n",
              "      flex-wrap:wrap;\n",
              "      gap: 12px;\n",
              "    }\n",
              "\n",
              "    .colab-df-convert {\n",
              "      background-color: #E8F0FE;\n",
              "      border: none;\n",
              "      border-radius: 50%;\n",
              "      cursor: pointer;\n",
              "      display: none;\n",
              "      fill: #1967D2;\n",
              "      height: 32px;\n",
              "      padding: 0 0 0 0;\n",
              "      width: 32px;\n",
              "    }\n",
              "\n",
              "    .colab-df-convert:hover {\n",
              "      background-color: #E2EBFA;\n",
              "      box-shadow: 0px 1px 2px rgba(60, 64, 67, 0.3), 0px 1px 3px 1px rgba(60, 64, 67, 0.15);\n",
              "      fill: #174EA6;\n",
              "    }\n",
              "\n",
              "    [theme=dark] .colab-df-convert {\n",
              "      background-color: #3B4455;\n",
              "      fill: #D2E3FC;\n",
              "    }\n",
              "\n",
              "    [theme=dark] .colab-df-convert:hover {\n",
              "      background-color: #434B5C;\n",
              "      box-shadow: 0px 1px 3px 1px rgba(0, 0, 0, 0.15);\n",
              "      filter: drop-shadow(0px 1px 2px rgba(0, 0, 0, 0.3));\n",
              "      fill: #FFFFFF;\n",
              "    }\n",
              "  </style>\n",
              "\n",
              "      <script>\n",
              "        const buttonEl =\n",
              "          document.querySelector('#df-c553be45-c99a-4050-b481-27e01ae9ac17 button.colab-df-convert');\n",
              "        buttonEl.style.display =\n",
              "          google.colab.kernel.accessAllowed ? 'block' : 'none';\n",
              "\n",
              "        async function convertToInteractive(key) {\n",
              "          const element = document.querySelector('#df-c553be45-c99a-4050-b481-27e01ae9ac17');\n",
              "          const dataTable =\n",
              "            await google.colab.kernel.invokeFunction('convertToInteractive',\n",
              "                                                     [key], {});\n",
              "          if (!dataTable) return;\n",
              "\n",
              "          const docLinkHtml = 'Like what you see? Visit the ' +\n",
              "            '<a target=\"_blank\" href=https://colab.research.google.com/notebooks/data_table.ipynb>data table notebook</a>'\n",
              "            + ' to learn more about interactive tables.';\n",
              "          element.innerHTML = '';\n",
              "          dataTable['output_type'] = 'display_data';\n",
              "          await google.colab.output.renderOutput(dataTable, element);\n",
              "          const docLink = document.createElement('div');\n",
              "          docLink.innerHTML = docLinkHtml;\n",
              "          element.appendChild(docLink);\n",
              "        }\n",
              "      </script>\n",
              "    </div>\n",
              "  </div>\n",
              "  "
            ]
          },
          "metadata": {},
          "execution_count": 155
        }
      ]
    },
    {
      "cell_type": "markdown",
      "source": [
        "## Bigrams"
      ],
      "metadata": {
        "id": "z9CBLqwFj8xY"
      }
    },
    {
      "cell_type": "markdown",
      "source": [
        "We are using Gensim Phrases package to automatically detect common phrases (bigrams) from a list of sentences.\n",
        "\n",
        "https://radimrehurek.com/gensim/models/phrases.html"
      ],
      "metadata": {
        "id": "ac7K6XRIkBQX"
      }
    },
    {
      "cell_type": "code",
      "source": [
        "from gensim.models.phrases import Phrases, Phraser"
      ],
      "metadata": {
        "id": "-HmVrDyJkHpX"
      },
      "execution_count": 27,
      "outputs": []
    },
    {
      "cell_type": "markdown",
      "source": [
        "Phrases() takes a list of list of words as input:"
      ],
      "metadata": {
        "id": "jw35uH6akg6p"
      }
    },
    {
      "cell_type": "code",
      "source": [
        "sent = [row.split() for row in df_clean['text_lem']]"
      ],
      "metadata": {
        "id": "-GU4lAJqkOIi"
      },
      "execution_count": 28,
      "outputs": []
    },
    {
      "cell_type": "markdown",
      "source": [
        "Creates the relevant phrases from the list of sentences:"
      ],
      "metadata": {
        "id": "uXoIg0d4knU9"
      }
    },
    {
      "cell_type": "code",
      "source": [
        "phrase_model = Phrases(sent, min_count=15)"
      ],
      "metadata": {
        "id": "ct-nyMEOko4q"
      },
      "execution_count": 29,
      "outputs": []
    },
    {
      "cell_type": "code",
      "source": [
        "bigram = Phraser(phrase_model)"
      ],
      "metadata": {
        "id": "tPB76CTzqHP4"
      },
      "execution_count": 30,
      "outputs": []
    },
    {
      "cell_type": "code",
      "source": [
        "sentences = bigram[sent]"
      ],
      "metadata": {
        "id": "Ev7ZA1R-lEgA"
      },
      "execution_count": 31,
      "outputs": []
    },
    {
      "cell_type": "code",
      "source": [
        "#@title Show bigrams\n",
        "bigram_freq = defaultdict(int)\n",
        "for sentence in sentences:\n",
        "  for word in sentence:\n",
        "     if '_' in word:\n",
        "      bigram_freq[word] += 1\n",
        "\n",
        "bigram_freq_df = pd.DataFrame.from_dict(bigram_freq, orient='index', columns=['bigram_count'])\n",
        "bigram_freq_df.sort_values('bigram_count', ascending=False).head(20)"
      ],
      "metadata": {
        "colab": {
          "base_uri": "https://localhost:8080/",
          "height": 676
        },
        "id": "LyBRxTROxQdk",
        "outputId": "17c27859-a6b9-4c5f-ec06-0f11439bf855"
      },
      "execution_count": 32,
      "outputs": [
        {
          "output_type": "execute_result",
          "data": {
            "text/plain": [
              "                           bigram_count\n",
              "главный_герой                      3337\n",
              "главный_героиня                     905\n",
              "игра_актёр                          903\n",
              "актёрский_игра                      893\n",
              "актёрский_состав                    744\n",
              "друг_друга                          729\n",
              "первый_часть                        707\n",
              "главный_роль                        697\n",
              "сюжетный_линия                      569\n",
              "фильм_ужас                          552\n",
              "первый_очередь                      505\n",
              "второй_часть                        455\n",
              "точка_зрение                        432\n",
              "операторский_работа                 416\n",
              "больший_часть                       409\n",
              "первый_взгляд                       395\n",
              "протяжение_фильм                    360\n",
              "музыкальный_сопровождение           350\n",
              "время_просмотр                      344\n",
              "происходить_экран                   343"
            ],
            "text/html": [
              "\n",
              "  <div id=\"df-a902dd6d-4e6e-4244-bb72-aeac0ace62ec\">\n",
              "    <div class=\"colab-df-container\">\n",
              "      <div>\n",
              "<style scoped>\n",
              "    .dataframe tbody tr th:only-of-type {\n",
              "        vertical-align: middle;\n",
              "    }\n",
              "\n",
              "    .dataframe tbody tr th {\n",
              "        vertical-align: top;\n",
              "    }\n",
              "\n",
              "    .dataframe thead th {\n",
              "        text-align: right;\n",
              "    }\n",
              "</style>\n",
              "<table border=\"1\" class=\"dataframe\">\n",
              "  <thead>\n",
              "    <tr style=\"text-align: right;\">\n",
              "      <th></th>\n",
              "      <th>bigram_count</th>\n",
              "    </tr>\n",
              "  </thead>\n",
              "  <tbody>\n",
              "    <tr>\n",
              "      <th>главный_герой</th>\n",
              "      <td>3337</td>\n",
              "    </tr>\n",
              "    <tr>\n",
              "      <th>главный_героиня</th>\n",
              "      <td>905</td>\n",
              "    </tr>\n",
              "    <tr>\n",
              "      <th>игра_актёр</th>\n",
              "      <td>903</td>\n",
              "    </tr>\n",
              "    <tr>\n",
              "      <th>актёрский_игра</th>\n",
              "      <td>893</td>\n",
              "    </tr>\n",
              "    <tr>\n",
              "      <th>актёрский_состав</th>\n",
              "      <td>744</td>\n",
              "    </tr>\n",
              "    <tr>\n",
              "      <th>друг_друга</th>\n",
              "      <td>729</td>\n",
              "    </tr>\n",
              "    <tr>\n",
              "      <th>первый_часть</th>\n",
              "      <td>707</td>\n",
              "    </tr>\n",
              "    <tr>\n",
              "      <th>главный_роль</th>\n",
              "      <td>697</td>\n",
              "    </tr>\n",
              "    <tr>\n",
              "      <th>сюжетный_линия</th>\n",
              "      <td>569</td>\n",
              "    </tr>\n",
              "    <tr>\n",
              "      <th>фильм_ужас</th>\n",
              "      <td>552</td>\n",
              "    </tr>\n",
              "    <tr>\n",
              "      <th>первый_очередь</th>\n",
              "      <td>505</td>\n",
              "    </tr>\n",
              "    <tr>\n",
              "      <th>второй_часть</th>\n",
              "      <td>455</td>\n",
              "    </tr>\n",
              "    <tr>\n",
              "      <th>точка_зрение</th>\n",
              "      <td>432</td>\n",
              "    </tr>\n",
              "    <tr>\n",
              "      <th>операторский_работа</th>\n",
              "      <td>416</td>\n",
              "    </tr>\n",
              "    <tr>\n",
              "      <th>больший_часть</th>\n",
              "      <td>409</td>\n",
              "    </tr>\n",
              "    <tr>\n",
              "      <th>первый_взгляд</th>\n",
              "      <td>395</td>\n",
              "    </tr>\n",
              "    <tr>\n",
              "      <th>протяжение_фильм</th>\n",
              "      <td>360</td>\n",
              "    </tr>\n",
              "    <tr>\n",
              "      <th>музыкальный_сопровождение</th>\n",
              "      <td>350</td>\n",
              "    </tr>\n",
              "    <tr>\n",
              "      <th>время_просмотр</th>\n",
              "      <td>344</td>\n",
              "    </tr>\n",
              "    <tr>\n",
              "      <th>происходить_экран</th>\n",
              "      <td>343</td>\n",
              "    </tr>\n",
              "  </tbody>\n",
              "</table>\n",
              "</div>\n",
              "      <button class=\"colab-df-convert\" onclick=\"convertToInteractive('df-a902dd6d-4e6e-4244-bb72-aeac0ace62ec')\"\n",
              "              title=\"Convert this dataframe to an interactive table.\"\n",
              "              style=\"display:none;\">\n",
              "        \n",
              "  <svg xmlns=\"http://www.w3.org/2000/svg\" height=\"24px\"viewBox=\"0 0 24 24\"\n",
              "       width=\"24px\">\n",
              "    <path d=\"M0 0h24v24H0V0z\" fill=\"none\"/>\n",
              "    <path d=\"M18.56 5.44l.94 2.06.94-2.06 2.06-.94-2.06-.94-.94-2.06-.94 2.06-2.06.94zm-11 1L8.5 8.5l.94-2.06 2.06-.94-2.06-.94L8.5 2.5l-.94 2.06-2.06.94zm10 10l.94 2.06.94-2.06 2.06-.94-2.06-.94-.94-2.06-.94 2.06-2.06.94z\"/><path d=\"M17.41 7.96l-1.37-1.37c-.4-.4-.92-.59-1.43-.59-.52 0-1.04.2-1.43.59L10.3 9.45l-7.72 7.72c-.78.78-.78 2.05 0 2.83L4 21.41c.39.39.9.59 1.41.59.51 0 1.02-.2 1.41-.59l7.78-7.78 2.81-2.81c.8-.78.8-2.07 0-2.86zM5.41 20L4 18.59l7.72-7.72 1.47 1.35L5.41 20z\"/>\n",
              "  </svg>\n",
              "      </button>\n",
              "      \n",
              "  <style>\n",
              "    .colab-df-container {\n",
              "      display:flex;\n",
              "      flex-wrap:wrap;\n",
              "      gap: 12px;\n",
              "    }\n",
              "\n",
              "    .colab-df-convert {\n",
              "      background-color: #E8F0FE;\n",
              "      border: none;\n",
              "      border-radius: 50%;\n",
              "      cursor: pointer;\n",
              "      display: none;\n",
              "      fill: #1967D2;\n",
              "      height: 32px;\n",
              "      padding: 0 0 0 0;\n",
              "      width: 32px;\n",
              "    }\n",
              "\n",
              "    .colab-df-convert:hover {\n",
              "      background-color: #E2EBFA;\n",
              "      box-shadow: 0px 1px 2px rgba(60, 64, 67, 0.3), 0px 1px 3px 1px rgba(60, 64, 67, 0.15);\n",
              "      fill: #174EA6;\n",
              "    }\n",
              "\n",
              "    [theme=dark] .colab-df-convert {\n",
              "      background-color: #3B4455;\n",
              "      fill: #D2E3FC;\n",
              "    }\n",
              "\n",
              "    [theme=dark] .colab-df-convert:hover {\n",
              "      background-color: #434B5C;\n",
              "      box-shadow: 0px 1px 3px 1px rgba(0, 0, 0, 0.15);\n",
              "      filter: drop-shadow(0px 1px 2px rgba(0, 0, 0, 0.3));\n",
              "      fill: #FFFFFF;\n",
              "    }\n",
              "  </style>\n",
              "\n",
              "      <script>\n",
              "        const buttonEl =\n",
              "          document.querySelector('#df-a902dd6d-4e6e-4244-bb72-aeac0ace62ec button.colab-df-convert');\n",
              "        buttonEl.style.display =\n",
              "          google.colab.kernel.accessAllowed ? 'block' : 'none';\n",
              "\n",
              "        async function convertToInteractive(key) {\n",
              "          const element = document.querySelector('#df-a902dd6d-4e6e-4244-bb72-aeac0ace62ec');\n",
              "          const dataTable =\n",
              "            await google.colab.kernel.invokeFunction('convertToInteractive',\n",
              "                                                     [key], {});\n",
              "          if (!dataTable) return;\n",
              "\n",
              "          const docLinkHtml = 'Like what you see? Visit the ' +\n",
              "            '<a target=\"_blank\" href=https://colab.research.google.com/notebooks/data_table.ipynb>data table notebook</a>'\n",
              "            + ' to learn more about interactive tables.';\n",
              "          element.innerHTML = '';\n",
              "          dataTable['output_type'] = 'display_data';\n",
              "          await google.colab.output.renderOutput(dataTable, element);\n",
              "          const docLink = document.createElement('div');\n",
              "          docLink.innerHTML = docLinkHtml;\n",
              "          element.appendChild(docLink);\n",
              "        }\n",
              "      </script>\n",
              "    </div>\n",
              "  </div>\n",
              "  "
            ]
          },
          "metadata": {},
          "execution_count": 32
        }
      ]
    },
    {
      "cell_type": "markdown",
      "source": [
        "# Model training"
      ],
      "metadata": {
        "id": "LEkmVzEXzS0n"
      }
    },
    {
      "cell_type": "code",
      "source": [
        "cores = multiprocessing.cpu_count()"
      ],
      "metadata": {
        "id": "RelbnnIIzOz8"
      },
      "execution_count": 33,
      "outputs": []
    },
    {
      "cell_type": "markdown",
      "source": [
        "The parameters:\n",
        "* sg ({0, 1}, optional) – Training algorithm: 1 for skip-gram; otherwise CBOW\n",
        "* min_count = int - Ignores all words with total absolute frequency lower than this - (2, 100)\n",
        "* window = int - The maximum distance between the current and predicted word within a sentence. E.g. window words on the left and window words on the left of our target - (2, 10)\n",
        "* size = int - Dimensionality of the feature vectors. - (50, 300)\n",
        "* sample = float - The threshold for configuring which higher-frequency words are randomly downsampled. Highly influencial. - (0, 1e-5)\n",
        "* alpha = float - The initial learning rate - (0.01, 0.05)\n",
        "* min_alpha = float - Learning rate will linearly drop to min_alpha as training progresses. To set it: alpha - (min_alpha * epochs) ~ 0.00\n",
        "* negative = int - If > 0, negative sampling will be used, the int for negative specifies how many \"noise words\" should be drown. If set to 0, no negative sampling is used. - (5, 20)\n",
        "* workers = int - Use these many worker threads to train the model (=faster training with multicore machines)\n"
      ],
      "metadata": {
        "id": "oaJWJPHa4dsA"
      }
    },
    {
      "cell_type": "code",
      "source": [
        "dimensionality = 300"
      ],
      "metadata": {
        "id": "9zyrlDXX8pQv"
      },
      "execution_count": 34,
      "outputs": []
    },
    {
      "cell_type": "code",
      "source": [
        "w2v_model = Word2Vec(min_count=10,\n",
        "                     window=6,\n",
        "                     size=dimensionality,\n",
        "                     sample=6e-5, \n",
        "                     alpha=0.03, \n",
        "                     min_alpha=0.0007, \n",
        "                     negative=20,\n",
        "                     workers=cores-1)"
      ],
      "metadata": {
        "id": "6nYrTRqzzpX7"
      },
      "execution_count": 213,
      "outputs": []
    },
    {
      "cell_type": "code",
      "source": [
        "t = time()\n",
        "\n",
        "w2v_model.build_vocab(sentences)\n",
        "\n",
        "print(f'Time to build vocab: {round((time() - t), 2)} secs')\n",
        "print(f'Vocabulary size: {len(w2v_model.wv.vocab)}')"
      ],
      "metadata": {
        "colab": {
          "base_uri": "https://localhost:8080/"
        },
        "id": "5lmifSCxzvnj",
        "outputId": "bcf227b7-e377-4445-f6e3-bc17d12f1cd0"
      },
      "execution_count": 214,
      "outputs": [
        {
          "output_type": "stream",
          "name": "stdout",
          "text": [
            "Time to build vocab: 12.82 secs\n",
            "Vocabulary size: 18556\n"
          ]
        }
      ]
    },
    {
      "cell_type": "code",
      "source": [
        "t = time()\n",
        "\n",
        "w2v_model.train(sentences, total_examples=w2v_model.corpus_count, epochs=30)\n",
        "\n",
        "print(f'Time to train the model: {round((time() - t), 2)/60} mins')"
      ],
      "metadata": {
        "colab": {
          "base_uri": "https://localhost:8080/"
        },
        "id": "LJ9xyFcP0hs6",
        "outputId": "1cd3d909-4b4d-4e2e-e39d-41ee97633c64"
      },
      "execution_count": 215,
      "outputs": [
        {
          "output_type": "stream",
          "name": "stdout",
          "text": [
            "Time to train the model: 9.077166666666667 mins\n"
          ]
        }
      ]
    },
    {
      "cell_type": "code",
      "source": [
        "w2v_model.init_sims(replace=True)"
      ],
      "metadata": {
        "id": "GoG9TIzg0w37"
      },
      "execution_count": 216,
      "outputs": []
    },
    {
      "cell_type": "code",
      "source": [
        "filepath = '/content/drive/MyDrive/Models/'\n",
        "filename = 'w2v_'+ f'kinopoisk_{len(df)}_reviews_{dt_string}'"
      ],
      "metadata": {
        "id": "QfNPi5mIiAKT"
      },
      "execution_count": 217,
      "outputs": []
    },
    {
      "cell_type": "code",
      "source": [
        "w2v_model.save(filepath + filename)"
      ],
      "metadata": {
        "id": "QLDDP0OaI2gT"
      },
      "execution_count": 218,
      "outputs": []
    },
    {
      "cell_type": "code",
      "source": [
        "w2v_model = Word2Vec.load(filepath + filename)"
      ],
      "metadata": {
        "id": "foj7P1EwfqEz"
      },
      "execution_count": 219,
      "outputs": []
    },
    {
      "cell_type": "code",
      "source": [
        "#@title Select the word for showing the similarities\n",
        "word = \"\\u0442\\u0440\\u0438\\u0435\\u0440\" #@param {type:\"string\"}\n",
        "w2v_model.wv.most_similar(positive=[word])"
      ],
      "metadata": {
        "id": "V_CDr1hV08jK",
        "colab": {
          "base_uri": "https://localhost:8080/"
        },
        "outputId": "abfe4667-aee2-4983-98c2-907209d85c9b"
      },
      "execution_count": 374,
      "outputs": [
        {
          "output_type": "execute_result",
          "data": {
            "text/plain": [
              "[('ларс_фон', 0.9288824796676636),\n",
              " ('антихрист', 0.6007224917411804),\n",
              " ('йорген', 0.5805219411849976),\n",
              " ('бергман', 0.5649108290672302),\n",
              " ('фон_триер', 0.5404921770095825),\n",
              " ('опус', 0.52860426902771),\n",
              " ('ким_ки', 0.5251345038414001),\n",
              " ('дук', 0.5117522478103638),\n",
              " ('михаэль', 0.5048223733901978),\n",
              " ('фундаментальный', 0.5043519139289856)]"
            ]
          },
          "metadata": {},
          "execution_count": 374
        }
      ]
    },
    {
      "cell_type": "markdown",
      "source": [
        "Choose the odd one:"
      ],
      "metadata": {
        "id": "vowhQFk7Ot7P"
      }
    },
    {
      "cell_type": "code",
      "source": [
        "w2v_model.wv.doesnt_match(['спилберг', 'триер', 'тарковский', 'линч'])"
      ],
      "metadata": {
        "colab": {
          "base_uri": "https://localhost:8080/",
          "height": 36
        },
        "id": "hD8c_jZFLl_9",
        "outputId": "99631ec5-4d86-41e2-8c8e-69686a7e696f"
      },
      "execution_count": 393,
      "outputs": [
        {
          "output_type": "execute_result",
          "data": {
            "text/plain": [
              "'спилберг'"
            ],
            "application/vnd.google.colaboratory.intrinsic+json": {
              "type": "string"
            }
          },
          "metadata": {},
          "execution_count": 393
        }
      ]
    },
    {
      "cell_type": "markdown",
      "source": [
        "Analogy difference:"
      ],
      "metadata": {
        "id": "aVHPFDPUOlrq"
      }
    },
    {
      "cell_type": "code",
      "source": [
        "w2v_model.wv.most_similar(positive=[\"чужой\", \"джеймс_кэмерон\"], negative=[\"ридли_скотт\"], topn=3)"
      ],
      "metadata": {
        "colab": {
          "base_uri": "https://localhost:8080/"
        },
        "id": "jQhqnTQ8MWI-",
        "outputId": "67a28383-2c42-480b-904b-9996bf0276e1"
      },
      "execution_count": 392,
      "outputs": [
        {
          "output_type": "execute_result",
          "data": {
            "text/plain": [
              "[('терминатор', 0.4247061610221863),\n",
              " ('хищник', 0.41781169176101685),\n",
              " ('аватар', 0.41151705384254456)]"
            ]
          },
          "metadata": {},
          "execution_count": 392
        }
      ]
    },
    {
      "cell_type": "markdown",
      "source": [
        "# Visualize"
      ],
      "metadata": {
        "id": "CSAkD7X-vJKX"
      }
    },
    {
      "cell_type": "code",
      "source": [
        "import numpy as np\n",
        "import matplotlib.pyplot as plt\n",
        "%matplotlib inline\n",
        " \n",
        "import seaborn as sns\n",
        "\n",
        "from sklearn.decomposition import PCA\n",
        "from sklearn.manifold import TSNE"
      ],
      "metadata": {
        "id": "mIl-VCw2vIGH"
      },
      "execution_count": 222,
      "outputs": []
    },
    {
      "cell_type": "code",
      "source": [
        "#@title Plotting function\n",
        "\n",
        "def tsnescatterplot(model, word, list_names):\n",
        "    \"\"\" Plot in seaborn the results from the t-SNE dimensionality reduction algorithm of the vectors of a query word,\n",
        "    its list of most similar words, and a list of words.\n",
        "    \"\"\"\n",
        "    arrays = np.empty((0, dimensionality), dtype='f')\n",
        "    word_labels = [word]\n",
        "    color_list  = ['red']\n",
        "\n",
        "    # adds the vector of the query word\n",
        "    arrays = np.append(arrays, model.wv.__getitem__([word]), axis=0)\n",
        "    \n",
        "    # gets list of most similar words\n",
        "    close_words = model.wv.most_similar([word])\n",
        "    \n",
        "    # adds the vector for each of the closest words to the array\n",
        "    for wrd_score in close_words:\n",
        "        wrd_vector = model.wv.__getitem__([wrd_score[0]])\n",
        "        word_labels.append(wrd_score[0])\n",
        "        color_list.append('blue')\n",
        "        arrays = np.append(arrays, wrd_vector, axis=0)\n",
        "    \n",
        "    # adds the vector for each of the words from list_names to the array\n",
        "    for wrd in list_names:\n",
        "        wrd_vector = model.wv.__getitem__([wrd])\n",
        "        word_labels.append(wrd)\n",
        "        color_list.append('green')\n",
        "        arrays = np.append(arrays, wrd_vector, axis=0)\n",
        "        \n",
        "    # Reduces the dimensionality from 300 dimensions with PCA\n",
        "    reduc = PCA(n_components=len(arrays)).fit_transform(arrays)\n",
        "    \n",
        "    # Finds t-SNE coordinates for 2 dimensions\n",
        "    np.set_printoptions(suppress=True)\n",
        "        \n",
        "    # Reduces the dimensionality from 300 to 2 dimensions with t-SNE\n",
        "    Y = TSNE(n_components=2, random_state=0, perplexity=15).fit_transform(arrays)\n",
        "        \n",
        "    # Sets everything up to plot\n",
        "    df = pd.DataFrame({'x': [x for x in Y[:, 0]],\n",
        "                       'y': [y for y in Y[:, 1]],\n",
        "                       'words': word_labels,\n",
        "                       'color': color_list})\n",
        "    \n",
        "    fig, _ = plt.subplots()\n",
        "    fig.set_size_inches(9, 9)\n",
        "    \n",
        "    # Basic plot\n",
        "    p1 = sns.regplot(data=df,\n",
        "                     x=\"x\",\n",
        "                     y=\"y\",\n",
        "                     fit_reg=False,\n",
        "                     marker=\"o\",\n",
        "                     scatter_kws={'s': 40,\n",
        "                                  'facecolors': df['color']\n",
        "                                 }\n",
        "                    )\n",
        "    \n",
        "    # Adds annotations one by one with a loop\n",
        "    for line in range(0, df.shape[0]):\n",
        "         p1.text(df[\"x\"][line],\n",
        "                 df['y'][line],\n",
        "                 '  ' + df[\"words\"][line].title(),\n",
        "                 horizontalalignment='left',\n",
        "                 verticalalignment='bottom', size='medium',\n",
        "                 color=df['color'][line],\n",
        "                 weight='normal'\n",
        "                ).set_size(15)\n",
        "\n",
        "    \n",
        "    plt.xlim(Y[:, 0].min()-10, Y[:, 0].max()+10)\n",
        "    plt.ylim(Y[:, 1].min()-10, Y[:, 1].max()+10)\n",
        "            \n",
        "    plt.title('t-SNE visualization for {}'.format(word.title()))"
      ],
      "metadata": {
        "id": "Bvbe7QbuvNua"
      },
      "execution_count": 380,
      "outputs": []
    },
    {
      "cell_type": "code",
      "source": [
        "tsnescatterplot(w2v_model, word, [i[0] for i in w2v_model.wv.most_similar(negative=[word])])"
      ],
      "metadata": {
        "colab": {
          "base_uri": "https://localhost:8080/",
          "height": 567
        },
        "id": "eJ9mNl7MvbGs",
        "outputId": "c6915bc7-41c9-4415-db5c-57703b53d2ae"
      },
      "execution_count": 381,
      "outputs": [
        {
          "output_type": "display_data",
          "data": {
            "text/plain": [
              "<Figure size 648x648 with 1 Axes>"
            ],
            "image/png": "[encoded data removed]"
          },
          "metadata": {
            "needs_background": "light"
          }
        }
      ]
    },
    {
      "cell_type": "markdown",
      "source": [
        "# Machine learning"
      ],
      "metadata": {
        "id": "0i8jWMEWmLLp"
      }
    },
    {
      "cell_type": "markdown",
      "source": [
        "We load the trained Word2Vec model and generate word embeddings for a set of documents in a corpus.\n",
        "\n",
        "Since doc_embedding is a two-dimensional array, where each row represents a word embedding and each column represents a dimension of the embedding space, taking the mean along axis 0 results in a new one-dimensional array where each element represents the mean value of the corresponding column across all the word embeddings in the document.\n",
        "\n",
        "By taking the mean of the word embeddings, we obtain a single vector representation of the document that summarizes the semantic information of all the words in the document. This is commonly referred to as a \"document-level embedding\" or \"document vector\".\n",
        "\n",
        " We use them as features"
      ],
      "metadata": {
        "id": "eKRGJpdGmvoo"
      }
    },
    {
      "cell_type": "code",
      "source": [
        "#@title Get the average of the word embeddings of a document to get a document-level embedding\n",
        "def get_doc_embedding(doc) -> list:\n",
        "    doc_embeddings = [w2v_model.wv[word] for word in doc.split() if word in w2v_model.wv.vocab]\n",
        "    if len(doc_embeddings) > 0:\n",
        "        return np.mean(doc_embeddings, axis=0)"
      ],
      "metadata": {
        "id": "cnlhbJ2cmRxc"
      },
      "execution_count": 225,
      "outputs": []
    },
    {
      "cell_type": "code",
      "source": [
        "df_clean['text_embedding'] = df_clean['text_lem'].apply(get_doc_embedding)"
      ],
      "metadata": {
        "id": "ZoGsb4EloMHS"
      },
      "execution_count": 226,
      "outputs": []
    },
    {
      "cell_type": "markdown",
      "source": [
        "When using document-level embeddings as features in a machine learning model, it is common to split the embedding vector into separate columns, with each column representing a different dimension of the embedding space."
      ],
      "metadata": {
        "id": "f2Jxgx8K778m"
      }
    },
    {
      "cell_type": "code",
      "source": [
        "embedding_cols = [f'embedding_{i+1}' for i in range(dimensionality)]"
      ],
      "metadata": {
        "id": "ToP-wgCtBlkX"
      },
      "execution_count": 227,
      "outputs": []
    },
    {
      "cell_type": "code",
      "source": [
        "df_clean = pd.concat([df_clean, pd.DataFrame(df_clean['text_embedding'].to_list(), columns=embedding_cols)], axis='columns')"
      ],
      "metadata": {
        "id": "UxIkti9X-CHh"
      },
      "execution_count": 354,
      "outputs": []
    },
    {
      "cell_type": "markdown",
      "source": [
        "We split the dataset sample into train, validation and test samples."
      ],
      "metadata": {
        "id": "C3vqhiFvEOuh"
      }
    },
    {
      "cell_type": "code",
      "source": [
        "from sklearn.model_selection import train_test_split"
      ],
      "metadata": {
        "id": "AJ9QLvUoDKME"
      },
      "execution_count": 229,
      "outputs": []
    },
    {
      "cell_type": "code",
      "source": [
        "train, test = train_test_split(df_clean, train_size=0.6, random_state=42, stratify=df['label'])\n",
        "val, test = train_test_split(test, train_size=0.5, random_state=42, stratify=test['label'])"
      ],
      "metadata": {
        "id": "yBlBJswhDdoW"
      },
      "execution_count": 230,
      "outputs": []
    },
    {
      "cell_type": "markdown",
      "source": [
        "We use Catboost Classifier as a ML algorithm "
      ],
      "metadata": {
        "id": "ZJEeme-2EaHv"
      }
    },
    {
      "cell_type": "code",
      "source": [
        "!pip install catboost --quiet"
      ],
      "metadata": {
        "id": "joDFicdLC5Zk"
      },
      "execution_count": 231,
      "outputs": []
    },
    {
      "cell_type": "code",
      "source": [
        "from catboost import CatBoostClassifier"
      ],
      "metadata": {
        "id": "GQlF5rVnDBcp"
      },
      "execution_count": 232,
      "outputs": []
    },
    {
      "cell_type": "markdown",
      "source": [
        "We use document-level embeddings as features for training the Classifier."
      ],
      "metadata": {
        "id": "nCZPRjLqEwnG"
      }
    },
    {
      "cell_type": "code",
      "source": [
        "input = embedding_cols\n",
        "output = ['label']"
      ],
      "metadata": {
        "id": "4z1POIJGDs1i"
      },
      "execution_count": 233,
      "outputs": []
    },
    {
      "cell_type": "code",
      "source": [
        "model = CatBoostClassifier(\n",
        "    verbose=100,\n",
        "    random_seed=42,\n",
        "    learning_rate=0.01,\n",
        "    iterations=1999\n",
        ")"
      ],
      "metadata": {
        "id": "sE31DtBBEHMn"
      },
      "execution_count": 234,
      "outputs": []
    },
    {
      "cell_type": "code",
      "source": [
        "model.fit(train[input], train[output], eval_set=(val[input], val[output]))"
      ],
      "metadata": {
        "colab": {
          "base_uri": "https://localhost:8080/"
        },
        "id": "88muJ3p6Eh8a",
        "outputId": "bd962379-b234-49a1-d001-eead2ef7df3c"
      },
      "execution_count": 235,
      "outputs": [
        {
          "output_type": "stream",
          "name": "stdout",
          "text": [
            "0:\tlearn: 0.6855511\ttest: 0.6857816\tbest: 0.6857816 (0)\ttotal: 105ms\tremaining: 3m 28s\n",
            "100:\tlearn: 0.3510255\ttest: 0.3685006\tbest: 0.3685006 (100)\ttotal: 8.94s\tremaining: 2m 48s\n",
            "200:\tlearn: 0.2875522\ttest: 0.3169009\tbest: 0.3169009 (200)\ttotal: 17.5s\tremaining: 2m 36s\n",
            "300:\tlearn: 0.2583018\ttest: 0.2979752\tbest: 0.2979752 (300)\ttotal: 29s\tremaining: 2m 43s\n",
            "400:\tlearn: 0.2384618\ttest: 0.2885714\tbest: 0.2885714 (400)\ttotal: 36.6s\tremaining: 2m 25s\n",
            "500:\tlearn: 0.2226570\ttest: 0.2827455\tbest: 0.2827455 (500)\ttotal: 46.1s\tremaining: 2m 17s\n",
            "600:\tlearn: 0.2088099\ttest: 0.2783774\tbest: 0.2783774 (600)\ttotal: 55.5s\tremaining: 2m 9s\n",
            "700:\tlearn: 0.1966960\ttest: 0.2754161\tbest: 0.2754161 (700)\ttotal: 1m 3s\tremaining: 1m 56s\n",
            "800:\tlearn: 0.1851727\ttest: 0.2728468\tbest: 0.2728468 (800)\ttotal: 1m 13s\tremaining: 1m 49s\n",
            "900:\tlearn: 0.1734998\ttest: 0.2710762\tbest: 0.2710762 (900)\ttotal: 1m 23s\tremaining: 1m 42s\n",
            "1000:\tlearn: 0.1621666\ttest: 0.2694977\tbest: 0.2694738 (992)\ttotal: 1m 31s\tremaining: 1m 31s\n",
            "1100:\tlearn: 0.1512735\ttest: 0.2681476\tbest: 0.2681476 (1100)\ttotal: 1m 40s\tremaining: 1m 22s\n",
            "1200:\tlearn: 0.1409703\ttest: 0.2667411\tbest: 0.2667040 (1197)\ttotal: 1m 49s\tremaining: 1m 13s\n",
            "1300:\tlearn: 0.1312761\ttest: 0.2656235\tbest: 0.2656235 (1300)\ttotal: 1m 57s\tremaining: 1m 3s\n",
            "1400:\tlearn: 0.1224334\ttest: 0.2646477\tbest: 0.2645872 (1395)\ttotal: 2m 8s\tremaining: 54.9s\n",
            "1500:\tlearn: 0.1141428\ttest: 0.2635733\tbest: 0.2635733 (1500)\ttotal: 2m 18s\tremaining: 45.9s\n",
            "1600:\tlearn: 0.1064652\ttest: 0.2630710\tbest: 0.2629527 (1582)\ttotal: 2m 26s\tremaining: 36.3s\n",
            "1700:\tlearn: 0.0994081\ttest: 0.2623643\tbest: 0.2623643 (1700)\ttotal: 2m 35s\tremaining: 27.2s\n",
            "1800:\tlearn: 0.0927779\ttest: 0.2619533\tbest: 0.2619283 (1798)\ttotal: 2m 44s\tremaining: 18s\n",
            "1900:\tlearn: 0.0867765\ttest: 0.2621815\tbest: 0.2619217 (1805)\ttotal: 2m 52s\tremaining: 8.89s\n",
            "1998:\tlearn: 0.0815173\ttest: 0.2616852\tbest: 0.2616355 (1981)\ttotal: 3m 3s\tremaining: 0us\n",
            "\n",
            "bestTest = 0.2616354681\n",
            "bestIteration = 1981\n",
            "\n",
            "Shrink model to first 1982 iterations.\n"
          ]
        },
        {
          "output_type": "execute_result",
          "data": {
            "text/plain": [
              "<catboost.core.CatBoostClassifier at 0x7fd1ca522e80>"
            ]
          },
          "metadata": {},
          "execution_count": 235
        }
      ]
    },
    {
      "cell_type": "code",
      "source": [
        "test['score'] = model.predict_proba(test[input])[:, 1]"
      ],
      "metadata": {
        "id": "62TpCXG9JGzo"
      },
      "execution_count": 236,
      "outputs": []
    },
    {
      "cell_type": "code",
      "source": [
        "test[['review_id', 'label', 'score']]"
      ],
      "metadata": {
        "colab": {
          "base_uri": "https://localhost:8080/",
          "height": 423
        },
        "id": "cYljKlMwJhYw",
        "outputId": "bc97624b-d95d-4636-9724-c7af2a8bf685"
      },
      "execution_count": 237,
      "outputs": [
        {
          "output_type": "execute_result",
          "data": {
            "text/plain": [
              "       review_id  label     score\n",
              "3987   436269-29      0  0.243534\n",
              "10616  252107-39      1  0.651606\n",
              "941     568413-7      1  0.993207\n",
              "8669     47249-6      1  0.961594\n",
              "9889      2517-4      1  0.908746\n",
              "...          ...    ...       ...\n",
              "6278   270249-11      0  0.372856\n",
              "7014   321845-33      1  0.983701\n",
              "889    652692-68      1  0.998015\n",
              "9418    469670-0      1  0.790856\n",
              "133    475261-28      0  0.262311\n",
              "\n",
              "[2140 rows x 3 columns]"
            ],
            "text/html": [
              "\n",
              "  <div id=\"df-a385b563-f3d7-4f53-b4df-6ac197424d37\">\n",
              "    <div class=\"colab-df-container\">\n",
              "      <div>\n",
              "<style scoped>\n",
              "    .dataframe tbody tr th:only-of-type {\n",
              "        vertical-align: middle;\n",
              "    }\n",
              "\n",
              "    .dataframe tbody tr th {\n",
              "        vertical-align: top;\n",
              "    }\n",
              "\n",
              "    .dataframe thead th {\n",
              "        text-align: right;\n",
              "    }\n",
              "</style>\n",
              "<table border=\"1\" class=\"dataframe\">\n",
              "  <thead>\n",
              "    <tr style=\"text-align: right;\">\n",
              "      <th></th>\n",
              "      <th>review_id</th>\n",
              "      <th>label</th>\n",
              "      <th>score</th>\n",
              "    </tr>\n",
              "  </thead>\n",
              "  <tbody>\n",
              "    <tr>\n",
              "      <th>3987</th>\n",
              "      <td>436269-29</td>\n",
              "      <td>0</td>\n",
              "      <td>0.243534</td>\n",
              "    </tr>\n",
              "    <tr>\n",
              "      <th>10616</th>\n",
              "      <td>252107-39</td>\n",
              "      <td>1</td>\n",
              "      <td>0.651606</td>\n",
              "    </tr>\n",
              "    <tr>\n",
              "      <th>941</th>\n",
              "      <td>568413-7</td>\n",
              "      <td>1</td>\n",
              "      <td>0.993207</td>\n",
              "    </tr>\n",
              "    <tr>\n",
              "      <th>8669</th>\n",
              "      <td>47249-6</td>\n",
              "      <td>1</td>\n",
              "      <td>0.961594</td>\n",
              "    </tr>\n",
              "    <tr>\n",
              "      <th>9889</th>\n",
              "      <td>2517-4</td>\n",
              "      <td>1</td>\n",
              "      <td>0.908746</td>\n",
              "    </tr>\n",
              "    <tr>\n",
              "      <th>...</th>\n",
              "      <td>...</td>\n",
              "      <td>...</td>\n",
              "      <td>...</td>\n",
              "    </tr>\n",
              "    <tr>\n",
              "      <th>6278</th>\n",
              "      <td>270249-11</td>\n",
              "      <td>0</td>\n",
              "      <td>0.372856</td>\n",
              "    </tr>\n",
              "    <tr>\n",
              "      <th>7014</th>\n",
              "      <td>321845-33</td>\n",
              "      <td>1</td>\n",
              "      <td>0.983701</td>\n",
              "    </tr>\n",
              "    <tr>\n",
              "      <th>889</th>\n",
              "      <td>652692-68</td>\n",
              "      <td>1</td>\n",
              "      <td>0.998015</td>\n",
              "    </tr>\n",
              "    <tr>\n",
              "      <th>9418</th>\n",
              "      <td>469670-0</td>\n",
              "      <td>1</td>\n",
              "      <td>0.790856</td>\n",
              "    </tr>\n",
              "    <tr>\n",
              "      <th>133</th>\n",
              "      <td>475261-28</td>\n",
              "      <td>0</td>\n",
              "      <td>0.262311</td>\n",
              "    </tr>\n",
              "  </tbody>\n",
              "</table>\n",
              "<p>2140 rows × 3 columns</p>\n",
              "</div>\n",
              "      <button class=\"colab-df-convert\" onclick=\"convertToInteractive('df-a385b563-f3d7-4f53-b4df-6ac197424d37')\"\n",
              "              title=\"Convert this dataframe to an interactive table.\"\n",
              "              style=\"display:none;\">\n",
              "        \n",
              "  <svg xmlns=\"http://www.w3.org/2000/svg\" height=\"24px\"viewBox=\"0 0 24 24\"\n",
              "       width=\"24px\">\n",
              "    <path d=\"M0 0h24v24H0V0z\" fill=\"none\"/>\n",
              "    <path d=\"M18.56 5.44l.94 2.06.94-2.06 2.06-.94-2.06-.94-.94-2.06-.94 2.06-2.06.94zm-11 1L8.5 8.5l.94-2.06 2.06-.94-2.06-.94L8.5 2.5l-.94 2.06-2.06.94zm10 10l.94 2.06.94-2.06 2.06-.94-2.06-.94-.94-2.06-.94 2.06-2.06.94z\"/><path d=\"M17.41 7.96l-1.37-1.37c-.4-.4-.92-.59-1.43-.59-.52 0-1.04.2-1.43.59L10.3 9.45l-7.72 7.72c-.78.78-.78 2.05 0 2.83L4 21.41c.39.39.9.59 1.41.59.51 0 1.02-.2 1.41-.59l7.78-7.78 2.81-2.81c.8-.78.8-2.07 0-2.86zM5.41 20L4 18.59l7.72-7.72 1.47 1.35L5.41 20z\"/>\n",
              "  </svg>\n",
              "      </button>\n",
              "      \n",
              "  <style>\n",
              "    .colab-df-container {\n",
              "      display:flex;\n",
              "      flex-wrap:wrap;\n",
              "      gap: 12px;\n",
              "    }\n",
              "\n",
              "    .colab-df-convert {\n",
              "      background-color: #E8F0FE;\n",
              "      border: none;\n",
              "      border-radius: 50%;\n",
              "      cursor: pointer;\n",
              "      display: none;\n",
              "      fill: #1967D2;\n",
              "      height: 32px;\n",
              "      padding: 0 0 0 0;\n",
              "      width: 32px;\n",
              "    }\n",
              "\n",
              "    .colab-df-convert:hover {\n",
              "      background-color: #E2EBFA;\n",
              "      box-shadow: 0px 1px 2px rgba(60, 64, 67, 0.3), 0px 1px 3px 1px rgba(60, 64, 67, 0.15);\n",
              "      fill: #174EA6;\n",
              "    }\n",
              "\n",
              "    [theme=dark] .colab-df-convert {\n",
              "      background-color: #3B4455;\n",
              "      fill: #D2E3FC;\n",
              "    }\n",
              "\n",
              "    [theme=dark] .colab-df-convert:hover {\n",
              "      background-color: #434B5C;\n",
              "      box-shadow: 0px 1px 3px 1px rgba(0, 0, 0, 0.15);\n",
              "      filter: drop-shadow(0px 1px 2px rgba(0, 0, 0, 0.3));\n",
              "      fill: #FFFFFF;\n",
              "    }\n",
              "  </style>\n",
              "\n",
              "      <script>\n",
              "        const buttonEl =\n",
              "          document.querySelector('#df-a385b563-f3d7-4f53-b4df-6ac197424d37 button.colab-df-convert');\n",
              "        buttonEl.style.display =\n",
              "          google.colab.kernel.accessAllowed ? 'block' : 'none';\n",
              "\n",
              "        async function convertToInteractive(key) {\n",
              "          const element = document.querySelector('#df-a385b563-f3d7-4f53-b4df-6ac197424d37');\n",
              "          const dataTable =\n",
              "            await google.colab.kernel.invokeFunction('convertToInteractive',\n",
              "                                                     [key], {});\n",
              "          if (!dataTable) return;\n",
              "\n",
              "          const docLinkHtml = 'Like what you see? Visit the ' +\n",
              "            '<a target=\"_blank\" href=https://colab.research.google.com/notebooks/data_table.ipynb>data table notebook</a>'\n",
              "            + ' to learn more about interactive tables.';\n",
              "          element.innerHTML = '';\n",
              "          dataTable['output_type'] = 'display_data';\n",
              "          await google.colab.output.renderOutput(dataTable, element);\n",
              "          const docLink = document.createElement('div');\n",
              "          docLink.innerHTML = docLinkHtml;\n",
              "          element.appendChild(docLink);\n",
              "        }\n",
              "      </script>\n",
              "    </div>\n",
              "  </div>\n",
              "  "
            ]
          },
          "metadata": {},
          "execution_count": 237
        }
      ]
    },
    {
      "cell_type": "markdown",
      "source": [
        "Log loss, also known as cross-entropy loss, is a loss function used in classification tasks to measure the difference between predicted probabilities and true labels. It is a commonly used loss function in machine learning algorithms such as logistic regression and neural networks.\n",
        "\n",
        "The log loss formula is:\n",
        "\n",
        "\\begin{equation}\n",
        "-\\log P(y|x),\n",
        "\\end{equation}\n",
        "\n",
        "where $P(y|x)$ is the predicted probability of class $y$ given input $x$. Log loss penalizes incorrect predictions more heavily than correct predictions."
      ],
      "metadata": {
        "id": "0ILofGJ9HcgK"
      }
    },
    {
      "cell_type": "code",
      "source": [
        "from sklearn.metrics import log_loss"
      ],
      "metadata": {
        "id": "7KquzciQKON9"
      },
      "execution_count": 238,
      "outputs": []
    },
    {
      "cell_type": "code",
      "source": [
        "def print_metrics():\n",
        "  print(log_loss(test['label'], test['score']))"
      ],
      "metadata": {
        "id": "jkKt20rlJ_u5"
      },
      "execution_count": 239,
      "outputs": []
    },
    {
      "cell_type": "code",
      "source": [
        "print_metrics()"
      ],
      "metadata": {
        "colab": {
          "base_uri": "https://localhost:8080/"
        },
        "id": "XaqmIDJbKtfK",
        "outputId": "24f359ca-ed6f-4777-d353-5a172e3146b0"
      },
      "execution_count": 240,
      "outputs": [
        {
          "output_type": "stream",
          "name": "stdout",
          "text": [
            "0.2541058038540291\n"
          ]
        }
      ]
    },
    {
      "cell_type": "markdown",
      "source": [
        "# Classification metrics"
      ],
      "metadata": {
        "id": "42acFgnOMaSm"
      }
    },
    {
      "cell_type": "markdown",
      "source": [
        "Let's first consider the threshold 0.5."
      ],
      "metadata": {
        "id": "yZrlwi6rHPd1"
      }
    },
    {
      "cell_type": "code",
      "source": [
        "test['pred'] = (test['score'] > 0.5) * 1"
      ],
      "metadata": {
        "id": "wvytvTYeNOaU"
      },
      "execution_count": 241,
      "outputs": []
    },
    {
      "cell_type": "code",
      "source": [
        "test[['review_id', 'label', 'score', 'pred']]"
      ],
      "metadata": {
        "colab": {
          "base_uri": "https://localhost:8080/",
          "height": 423
        },
        "id": "2rNZhjD9N6SO",
        "outputId": "245f4995-fbd8-4730-f8b7-ae9749ff4140"
      },
      "execution_count": 242,
      "outputs": [
        {
          "output_type": "execute_result",
          "data": {
            "text/plain": [
              "       review_id  label     score  pred\n",
              "3987   436269-29      0  0.243534     0\n",
              "10616  252107-39      1  0.651606     1\n",
              "941     568413-7      1  0.993207     1\n",
              "8669     47249-6      1  0.961594     1\n",
              "9889      2517-4      1  0.908746     1\n",
              "...          ...    ...       ...   ...\n",
              "6278   270249-11      0  0.372856     0\n",
              "7014   321845-33      1  0.983701     1\n",
              "889    652692-68      1  0.998015     1\n",
              "9418    469670-0      1  0.790856     1\n",
              "133    475261-28      0  0.262311     0\n",
              "\n",
              "[2140 rows x 4 columns]"
            ],
            "text/html": [
              "\n",
              "  <div id=\"df-32061489-a41f-468d-a73c-532ee78982cc\">\n",
              "    <div class=\"colab-df-container\">\n",
              "      <div>\n",
              "<style scoped>\n",
              "    .dataframe tbody tr th:only-of-type {\n",
              "        vertical-align: middle;\n",
              "    }\n",
              "\n",
              "    .dataframe tbody tr th {\n",
              "        vertical-align: top;\n",
              "    }\n",
              "\n",
              "    .dataframe thead th {\n",
              "        text-align: right;\n",
              "    }\n",
              "</style>\n",
              "<table border=\"1\" class=\"dataframe\">\n",
              "  <thead>\n",
              "    <tr style=\"text-align: right;\">\n",
              "      <th></th>\n",
              "      <th>review_id</th>\n",
              "      <th>label</th>\n",
              "      <th>score</th>\n",
              "      <th>pred</th>\n",
              "    </tr>\n",
              "  </thead>\n",
              "  <tbody>\n",
              "    <tr>\n",
              "      <th>3987</th>\n",
              "      <td>436269-29</td>\n",
              "      <td>0</td>\n",
              "      <td>0.243534</td>\n",
              "      <td>0</td>\n",
              "    </tr>\n",
              "    <tr>\n",
              "      <th>10616</th>\n",
              "      <td>252107-39</td>\n",
              "      <td>1</td>\n",
              "      <td>0.651606</td>\n",
              "      <td>1</td>\n",
              "    </tr>\n",
              "    <tr>\n",
              "      <th>941</th>\n",
              "      <td>568413-7</td>\n",
              "      <td>1</td>\n",
              "      <td>0.993207</td>\n",
              "      <td>1</td>\n",
              "    </tr>\n",
              "    <tr>\n",
              "      <th>8669</th>\n",
              "      <td>47249-6</td>\n",
              "      <td>1</td>\n",
              "      <td>0.961594</td>\n",
              "      <td>1</td>\n",
              "    </tr>\n",
              "    <tr>\n",
              "      <th>9889</th>\n",
              "      <td>2517-4</td>\n",
              "      <td>1</td>\n",
              "      <td>0.908746</td>\n",
              "      <td>1</td>\n",
              "    </tr>\n",
              "    <tr>\n",
              "      <th>...</th>\n",
              "      <td>...</td>\n",
              "      <td>...</td>\n",
              "      <td>...</td>\n",
              "      <td>...</td>\n",
              "    </tr>\n",
              "    <tr>\n",
              "      <th>6278</th>\n",
              "      <td>270249-11</td>\n",
              "      <td>0</td>\n",
              "      <td>0.372856</td>\n",
              "      <td>0</td>\n",
              "    </tr>\n",
              "    <tr>\n",
              "      <th>7014</th>\n",
              "      <td>321845-33</td>\n",
              "      <td>1</td>\n",
              "      <td>0.983701</td>\n",
              "      <td>1</td>\n",
              "    </tr>\n",
              "    <tr>\n",
              "      <th>889</th>\n",
              "      <td>652692-68</td>\n",
              "      <td>1</td>\n",
              "      <td>0.998015</td>\n",
              "      <td>1</td>\n",
              "    </tr>\n",
              "    <tr>\n",
              "      <th>9418</th>\n",
              "      <td>469670-0</td>\n",
              "      <td>1</td>\n",
              "      <td>0.790856</td>\n",
              "      <td>1</td>\n",
              "    </tr>\n",
              "    <tr>\n",
              "      <th>133</th>\n",
              "      <td>475261-28</td>\n",
              "      <td>0</td>\n",
              "      <td>0.262311</td>\n",
              "      <td>0</td>\n",
              "    </tr>\n",
              "  </tbody>\n",
              "</table>\n",
              "<p>2140 rows × 4 columns</p>\n",
              "</div>\n",
              "      <button class=\"colab-df-convert\" onclick=\"convertToInteractive('df-32061489-a41f-468d-a73c-532ee78982cc')\"\n",
              "              title=\"Convert this dataframe to an interactive table.\"\n",
              "              style=\"display:none;\">\n",
              "        \n",
              "  <svg xmlns=\"http://www.w3.org/2000/svg\" height=\"24px\"viewBox=\"0 0 24 24\"\n",
              "       width=\"24px\">\n",
              "    <path d=\"M0 0h24v24H0V0z\" fill=\"none\"/>\n",
              "    <path d=\"M18.56 5.44l.94 2.06.94-2.06 2.06-.94-2.06-.94-.94-2.06-.94 2.06-2.06.94zm-11 1L8.5 8.5l.94-2.06 2.06-.94-2.06-.94L8.5 2.5l-.94 2.06-2.06.94zm10 10l.94 2.06.94-2.06 2.06-.94-2.06-.94-.94-2.06-.94 2.06-2.06.94z\"/><path d=\"M17.41 7.96l-1.37-1.37c-.4-.4-.92-.59-1.43-.59-.52 0-1.04.2-1.43.59L10.3 9.45l-7.72 7.72c-.78.78-.78 2.05 0 2.83L4 21.41c.39.39.9.59 1.41.59.51 0 1.02-.2 1.41-.59l7.78-7.78 2.81-2.81c.8-.78.8-2.07 0-2.86zM5.41 20L4 18.59l7.72-7.72 1.47 1.35L5.41 20z\"/>\n",
              "  </svg>\n",
              "      </button>\n",
              "      \n",
              "  <style>\n",
              "    .colab-df-container {\n",
              "      display:flex;\n",
              "      flex-wrap:wrap;\n",
              "      gap: 12px;\n",
              "    }\n",
              "\n",
              "    .colab-df-convert {\n",
              "      background-color: #E8F0FE;\n",
              "      border: none;\n",
              "      border-radius: 50%;\n",
              "      cursor: pointer;\n",
              "      display: none;\n",
              "      fill: #1967D2;\n",
              "      height: 32px;\n",
              "      padding: 0 0 0 0;\n",
              "      width: 32px;\n",
              "    }\n",
              "\n",
              "    .colab-df-convert:hover {\n",
              "      background-color: #E2EBFA;\n",
              "      box-shadow: 0px 1px 2px rgba(60, 64, 67, 0.3), 0px 1px 3px 1px rgba(60, 64, 67, 0.15);\n",
              "      fill: #174EA6;\n",
              "    }\n",
              "\n",
              "    [theme=dark] .colab-df-convert {\n",
              "      background-color: #3B4455;\n",
              "      fill: #D2E3FC;\n",
              "    }\n",
              "\n",
              "    [theme=dark] .colab-df-convert:hover {\n",
              "      background-color: #434B5C;\n",
              "      box-shadow: 0px 1px 3px 1px rgba(0, 0, 0, 0.15);\n",
              "      filter: drop-shadow(0px 1px 2px rgba(0, 0, 0, 0.3));\n",
              "      fill: #FFFFFF;\n",
              "    }\n",
              "  </style>\n",
              "\n",
              "      <script>\n",
              "        const buttonEl =\n",
              "          document.querySelector('#df-32061489-a41f-468d-a73c-532ee78982cc button.colab-df-convert');\n",
              "        buttonEl.style.display =\n",
              "          google.colab.kernel.accessAllowed ? 'block' : 'none';\n",
              "\n",
              "        async function convertToInteractive(key) {\n",
              "          const element = document.querySelector('#df-32061489-a41f-468d-a73c-532ee78982cc');\n",
              "          const dataTable =\n",
              "            await google.colab.kernel.invokeFunction('convertToInteractive',\n",
              "                                                     [key], {});\n",
              "          if (!dataTable) return;\n",
              "\n",
              "          const docLinkHtml = 'Like what you see? Visit the ' +\n",
              "            '<a target=\"_blank\" href=https://colab.research.google.com/notebooks/data_table.ipynb>data table notebook</a>'\n",
              "            + ' to learn more about interactive tables.';\n",
              "          element.innerHTML = '';\n",
              "          dataTable['output_type'] = 'display_data';\n",
              "          await google.colab.output.renderOutput(dataTable, element);\n",
              "          const docLink = document.createElement('div');\n",
              "          docLink.innerHTML = docLinkHtml;\n",
              "          element.appendChild(docLink);\n",
              "        }\n",
              "      </script>\n",
              "    </div>\n",
              "  </div>\n",
              "  "
            ]
          },
          "metadata": {},
          "execution_count": 242
        }
      ]
    },
    {
      "cell_type": "markdown",
      "source": [
        "We check the classification report with the threshold 0.5."
      ],
      "metadata": {
        "id": "KY8Ye3Md_0KF"
      }
    },
    {
      "cell_type": "code",
      "source": [
        "from sklearn.metrics import classification_report"
      ],
      "metadata": {
        "id": "BWmK2XamP0Jf"
      },
      "execution_count": 243,
      "outputs": []
    },
    {
      "cell_type": "code",
      "source": [
        "print(classification_report(test['label'], test['pred']))"
      ],
      "metadata": {
        "colab": {
          "base_uri": "https://localhost:8080/"
        },
        "id": "EQxk1U8UP2U8",
        "outputId": "e5e357af-0765-4f22-fc2d-a2639839a3ca"
      },
      "execution_count": 244,
      "outputs": [
        {
          "output_type": "stream",
          "name": "stdout",
          "text": [
            "              precision    recall  f1-score   support\n",
            "\n",
            "           0       0.76      0.56      0.64       403\n",
            "           1       0.90      0.96      0.93      1737\n",
            "\n",
            "    accuracy                           0.88      2140\n",
            "   macro avg       0.83      0.76      0.79      2140\n",
            "weighted avg       0.88      0.88      0.88      2140\n",
            "\n"
          ]
        }
      ]
    },
    {
      "cell_type": "code",
      "source": [
        "thrs = [0] + list(test['score'].unique())"
      ],
      "metadata": {
        "id": "U-7jO-JfUzUW"
      },
      "execution_count": 245,
      "outputs": []
    },
    {
      "cell_type": "code",
      "source": [
        "from sklearn.metrics import f1_score"
      ],
      "metadata": {
        "id": "Z_uDIEnyVM7b"
      },
      "execution_count": 246,
      "outputs": []
    },
    {
      "cell_type": "markdown",
      "source": [
        "Now we find the threshold for the best f1-metric"
      ],
      "metadata": {
        "id": "N3AwmQkW_YyH"
      }
    },
    {
      "cell_type": "code",
      "source": [
        "#@title Add progress bar\n",
        "from tqdm.notebook import tqdm"
      ],
      "metadata": {
        "id": "SYjq0i1zVpkD"
      },
      "execution_count": 247,
      "outputs": []
    },
    {
      "cell_type": "code",
      "source": [
        "result = []\n",
        "for thr in tqdm(thrs):\n",
        "  test['pred_new'] = (test['score'] > thr) * 1\n",
        "  result.append((thr, f1_score(test['label'], test['pred_new'])))"
      ],
      "metadata": {
        "colab": {
          "base_uri": "https://localhost:8080/",
          "height": 49,
          "referenced_widgets": [
            "40029ea9debc448b9160b7dd3cab0e01",
            "1e129775704e48fcbb94c94ccdb203a8",
            "5fe3c8bfe7584a98bc2bcd8b2fc9aa93",
            "72110b04cee34a3da5bed8e0f115c323",
            "d246b305fbc3455088ae33e7d943f82f",
            "c4d5141c3fa046f0b4d46822f3fbefa7",
            "257018a48eea4af99857236998885c7d",
            "a0da724e296e4c739327c333bd656337",
            "174905f68768410384a6a50bfd64f3cb",
            "07dc95c29a0b41fe8953fe272429beff",
            "2ed64d7eff6844c6aceb274a62e94440"
          ]
        },
        "id": "NxTTuvXdU9an",
        "outputId": "3ea482dc-c4f9-4de5-c4cb-5da6a739026e"
      },
      "execution_count": 248,
      "outputs": [
        {
          "output_type": "display_data",
          "data": {
            "text/plain": [
              "  0%|          | 0/2141 [00:00<?, ?it/s]"
            ],
            "application/vnd.jupyter.widget-view+json": {
              "version_major": 2,
              "version_minor": 0,
              "model_id": "40029ea9debc448b9160b7dd3cab0e01"
            }
          },
          "metadata": {}
        }
      ]
    },
    {
      "cell_type": "code",
      "source": [
        "#Find the best threshold\n",
        "best_thr, best_f1 = max(result, key=lambda pair: pair[1])\n",
        "best_thr, best_f1"
      ],
      "metadata": {
        "colab": {
          "base_uri": "https://localhost:8080/"
        },
        "id": "th64IqLYWDoO",
        "outputId": "56d36225-33ee-4ba5-8955-0cf173e8da45"
      },
      "execution_count": 249,
      "outputs": [
        {
          "output_type": "execute_result",
          "data": {
            "text/plain": [
              "(0.6351298631756253, 0.9376430205949656)"
            ]
          },
          "metadata": {},
          "execution_count": 249
        }
      ]
    },
    {
      "cell_type": "markdown",
      "source": [
        "The best threshold is 0.63."
      ],
      "metadata": {
        "id": "gmJK_Uqu_jvr"
      }
    },
    {
      "cell_type": "code",
      "source": [
        "test['pred_new'] = (test['score'] > best_thr) * 1"
      ],
      "metadata": {
        "id": "bMhyWfQ0hVwY"
      },
      "execution_count": 258,
      "outputs": []
    },
    {
      "cell_type": "markdown",
      "source": [
        "Now we check the classification report with the best threshold."
      ],
      "metadata": {
        "id": "Z8U-7M53_8Px"
      }
    },
    {
      "cell_type": "code",
      "source": [
        "print(classification_report(test['label'], test['pred_new']))"
      ],
      "metadata": {
        "colab": {
          "base_uri": "https://localhost:8080/"
        },
        "id": "TM0iJ6KIzbMq",
        "outputId": "93733f68-b259-455b-cc85-9bb8d8ef832e"
      },
      "execution_count": 260,
      "outputs": [
        {
          "output_type": "stream",
          "name": "stdout",
          "text": [
            "              precision    recall  f1-score   support\n",
            "\n",
            "           0       0.74      0.70      0.72       403\n",
            "           1       0.93      0.94      0.94      1737\n",
            "\n",
            "    accuracy                           0.90      2140\n",
            "   macro avg       0.84      0.82      0.83      2140\n",
            "weighted avg       0.90      0.90      0.90      2140\n",
            "\n"
          ]
        }
      ]
    },
    {
      "cell_type": "markdown",
      "source": [
        "# ROC curve"
      ],
      "metadata": {
        "id": "S8H3pFBZABxw"
      }
    },
    {
      "cell_type": "code",
      "source": [
        "import sklearn.metrics as metrics\n",
        "# calculate the fpr and tpr for all thresholds of the classification\n",
        "\n",
        "fpr, tpr, threshold = metrics.roc_curve(test['label'], test['score'])\n",
        "roc_auc = metrics.auc(fpr, tpr)\n",
        "\n",
        "# method I: plt\n",
        "plt.title('Receiver Operating Characteristic')\n",
        "plt.plot(fpr, tpr, 'b', label = 'AUC = %0.2f' % roc_auc)\n",
        "plt.legend(loc = 'lower right')\n",
        "plt.plot([0, 1], [0, 1],'r--')\n",
        "plt.xlim([0, 1])\n",
        "plt.ylim([0, 1])\n",
        "plt.ylabel('True Positive Rate')\n",
        "plt.xlabel('False Positive Rate')\n",
        "plt.show()"
      ],
      "metadata": {
        "colab": {
          "base_uri": "https://localhost:8080/",
          "height": 295
        },
        "id": "_hJZkRtvYtym",
        "outputId": "c70047ff-9069-4564-9cff-7da442f415ed"
      },
      "execution_count": 251,
      "outputs": [
        {
          "output_type": "display_data",
          "data": {
            "text/plain": [
              "<Figure size 432x288 with 1 Axes>"
            ],
            "image/png": "[encoded data removed]"
          },
          "metadata": {
            "needs_background": "light"
          }
        }
      ]
    },
    {
      "cell_type": "code",
      "source": [
        "from sklearn.datasets import make_classification\n",
        "from sklearn.linear_model import LogisticRegression\n",
        "from sklearn.model_selection import train_test_split\n",
        "from sklearn.metrics import precision_recall_curve\n",
        "from sklearn.metrics import f1_score\n",
        "from sklearn.metrics import auc\n",
        "from matplotlib import pyplot\n",
        "\n",
        "precision1, recall1, _ = precision_recall_curve(test['label'], test['score'])\n",
        "\n",
        "# plot the precision-recall curves\n",
        "pyplot.plot(recall1, precision1, marker='.', label='score')\n",
        "# axis labels\n",
        "pyplot.xlabel('Recall')\n",
        "pyplot.ylabel('Precision')\n",
        "# show the legend\n",
        "pyplot.legend()\n",
        "# show the plot\n",
        "pyplot.show()"
      ],
      "metadata": {
        "colab": {
          "base_uri": "https://localhost:8080/",
          "height": 279
        },
        "id": "7-ypdnROev3_",
        "outputId": "6c499b47-9e08-4c95-e889-563b484beb10"
      },
      "execution_count": 252,
      "outputs": [
        {
          "output_type": "display_data",
          "data": {
            "text/plain": [
              "<Figure size 432x288 with 1 Axes>"
            ],
            "image/png": "[encoded data removed]"
          },
          "metadata": {
            "needs_background": "light"
          }
        }
      ]
    },
    {
      "cell_type": "markdown",
      "source": [
        "# Play"
      ],
      "metadata": {
        "id": "WduCJLFojFDP"
      }
    },
    {
      "cell_type": "markdown",
      "source": [
        "We test the prediction capabilities of the model with 3 reviews generated by me:\n",
        "* one positive\n",
        "* one neutral\n",
        "* one negative\n",
        "\n",
        "And also 2 reviews on Cheburashka (2023) from Kinoafisha: one positive and one negative"
      ],
      "metadata": {
        "id": "srlzFLJ22oJd"
      }
    },
    {
      "cell_type": "code",
      "source": [
        "data = {'reviews': [\n",
        "    \n",
        "    'Кино супер, мне зашло.',\n",
        "\n",
        "    'Фильм отстой, совсем не понравиося, клюква.',\n",
        "\n",
        "    'Фильм вызвал нейтральные чувства. Не могу понять, понравился или нет.',\n",
        "\n",
        "    '''Я хочу сказать вам огоромное «СПАСИБО» за такой фильм!\n",
        "Смотрел трейлер, думал очередной фильмишка, но ради Чебурашки схожу.\n",
        "Знаете, я ошибался и очень рад этому.\n",
        "В этом фильме 85% сюжета с чебурашкой, это замечательно, что не стали строить фильм на людях, а включили почти в весь сюжет милого персонажа\n",
        "Благодаря фильму, я увидел новую интерпретацию советского мультика. У вас получилось!\n",
        "Чебурашка стал для меня на всю жизнь чем-то добрым, не винным, замечательным персонажем. \n",
        "В некоторых моментах фильма хочется, чтобы он был в нашей реальности.\n",
        "По началу смеешься над чебурашкой, потом плачешь из-за сплетения 2 историй, прошлой и настоящей.\n",
        "Гена, в прошлом потерял жену и отдал свою дочь, и в настоящем он чтобы защитить свою взрослую дочь отдает ЧЕБУРАШКУ шапокляке.\n",
        "В тот момент весь зрительный зал плакал.\n",
        "По итогу, чебурашка разочаровывается в людях. Он сказал, что все люди плахие. Когда он это говорит, хочется еще раз плакать.\n",
        "Потом еще раз все плачут из-за того, что в развязки у них все наладилось, они все вместе и в финале Гена на гармошке играет легендарную песню.\n",
        "А я играю, на гармошке...\n",
        "ОГРОМНОЕ ВАМ СПАСИБО ЗА ФИЛЬМ!\n",
        "Сходите, не пожалете!''',\n",
        "\n",
        "  '''Финальная рецензия. :)\n",
        "Такой откровенной ХАЛТУРЫ я в кинотеатре еще не смотрел!\n",
        "Анимация низкокачественная, не «врисованна» в картину, а «приклеена» к ней! Местами персонаж двигается отдельно от фона. \n",
        "Даже волосяной покров на чебурашке упорно не хочет шевелиться.\n",
        "Сюжет к Чебурашке притянут «за уши».\n",
        "Авторские посылы увиденные мной приведены ниже.\n",
        "Авторский посыл 1: Главное — семья, но семья этого не оценит! «Безысходность»?\n",
        "Авторский посыл 2: Малый бизнес — это хорошо, но заниматься им нет смысла т. к. вас 100% задушит крупный бизнес с низкопробным продуктом!\n",
        "«Безысходность» или отсылка к крупным партнерам в титрах?\n",
        "Авторский посыл 3: забудьте о деньгах, живите для семьи и не «высовывайтесь», иначе Вас втопчут в грязь более «эффективные бизнесмены/менеджеры».\n",
        "Намек подрастающему поколению о безысходности?! Добавлю, в кино из «недружественных» стран обычно «пресмыкание» показано с точки зрения высмеивания персонажей окружающих «успешного»/богатого/властного человека (\"шакалов»), а здесь это преподнесено как норма общения с «успешными людьми»!\n",
        "И еще раз про «Безысходность» — это фраза Чебурашки из фильма!!!\n",
        "Если кратко о фильме, то это аналог сериала «Кухня», только с Гармашем, Добронравовым , Яковлевой и Чебурашкой (непонятно зачем он здесь т. к. не отпускает ощущение, что его «вписали» в уже готовый сценарий фильма), местами вызывает улыбку, местами давит на слезу, но в целом ЭТО ВТОРОСОРТНЫЙ ПРОДУКТ ДЛЯ ТВ, но никак НЕ ДЛЯ КИНОТЕАТРА.\n",
        "Причины высоких сборов: Безысходность!!! Агрессивные реклама и пиар + в кинотеатр с ребенком сейчас больше не на что пойти…'''\n",
        "    ]}"
      ],
      "metadata": {
        "id": "0AVUjiBl3jMR"
      },
      "execution_count": null,
      "outputs": []
    },
    {
      "cell_type": "code",
      "source": [
        "#@title Clean and process play reviews\n",
        "df_play = pd.DataFrame.from_dict(data)\n",
        "df_play['text_cleaned'] = df_play['reviews'].map(brief_clean)\n",
        "df_play['text_lem'] = df_play['text_cleaned'].apply(lemmatize_without_stops)\n",
        "df_play['text_embedding'] =  df_play['text_lem'].apply(get_doc_embedding)\n",
        "df_play = pd.concat([df_play, pd.DataFrame(df_play['text_embedding'].to_list(), columns=embedding_cols)], axis='columns')\n",
        "df_play['score'] = model.predict_proba(df_play[input])[:, 1]\n",
        "df_play['pred'] = (df_play['score'] > best_thr) * 1\n",
        "df_play[['text_cleaned', 'score', 'pred']]"
      ],
      "metadata": {
        "colab": {
          "base_uri": "https://localhost:8080/",
          "height": 206
        },
        "id": "ex02tZ4lCL6u",
        "outputId": "50ec6ba0-6cb4-4a66-b10e-56af318372e5"
      },
      "execution_count": 363,
      "outputs": [
        {
          "output_type": "execute_result",
          "data": {
            "text/plain": [
              "                                        text_cleaned     score  pred\n",
              "0                               кино супер мне зашло  0.839671     1\n",
              "1           фильм отстой совсем не понравиося клюква  0.061798     0\n",
              "2  фильм вызвал нейтральные чувства не могу понят...  0.447379     0\n",
              "3  я хочу сказать вам огоромное спасибо за такой ...  0.990096     1\n",
              "4  финальная рецензия такой откровенной халтуры я...  0.139745     0"
            ],
            "text/html": [
              "\n",
              "  <div id=\"df-151c3071-75c7-49e3-9203-3a9966193960\">\n",
              "    <div class=\"colab-df-container\">\n",
              "      <div>\n",
              "<style scoped>\n",
              "    .dataframe tbody tr th:only-of-type {\n",
              "        vertical-align: middle;\n",
              "    }\n",
              "\n",
              "    .dataframe tbody tr th {\n",
              "        vertical-align: top;\n",
              "    }\n",
              "\n",
              "    .dataframe thead th {\n",
              "        text-align: right;\n",
              "    }\n",
              "</style>\n",
              "<table border=\"1\" class=\"dataframe\">\n",
              "  <thead>\n",
              "    <tr style=\"text-align: right;\">\n",
              "      <th></th>\n",
              "      <th>text_cleaned</th>\n",
              "      <th>score</th>\n",
              "      <th>pred</th>\n",
              "    </tr>\n",
              "  </thead>\n",
              "  <tbody>\n",
              "    <tr>\n",
              "      <th>0</th>\n",
              "      <td>кино супер мне зашло</td>\n",
              "      <td>0.839671</td>\n",
              "      <td>1</td>\n",
              "    </tr>\n",
              "    <tr>\n",
              "      <th>1</th>\n",
              "      <td>фильм отстой совсем не понравиося клюква</td>\n",
              "      <td>0.061798</td>\n",
              "      <td>0</td>\n",
              "    </tr>\n",
              "    <tr>\n",
              "      <th>2</th>\n",
              "      <td>фильм вызвал нейтральные чувства не могу понят...</td>\n",
              "      <td>0.447379</td>\n",
              "      <td>0</td>\n",
              "    </tr>\n",
              "    <tr>\n",
              "      <th>3</th>\n",
              "      <td>я хочу сказать вам огоромное спасибо за такой ...</td>\n",
              "      <td>0.990096</td>\n",
              "      <td>1</td>\n",
              "    </tr>\n",
              "    <tr>\n",
              "      <th>4</th>\n",
              "      <td>финальная рецензия такой откровенной халтуры я...</td>\n",
              "      <td>0.139745</td>\n",
              "      <td>0</td>\n",
              "    </tr>\n",
              "  </tbody>\n",
              "</table>\n",
              "</div>\n",
              "      <button class=\"colab-df-convert\" onclick=\"convertToInteractive('df-151c3071-75c7-49e3-9203-3a9966193960')\"\n",
              "              title=\"Convert this dataframe to an interactive table.\"\n",
              "              style=\"display:none;\">\n",
              "        \n",
              "  <svg xmlns=\"http://www.w3.org/2000/svg\" height=\"24px\"viewBox=\"0 0 24 24\"\n",
              "       width=\"24px\">\n",
              "    <path d=\"M0 0h24v24H0V0z\" fill=\"none\"/>\n",
              "    <path d=\"M18.56 5.44l.94 2.06.94-2.06 2.06-.94-2.06-.94-.94-2.06-.94 2.06-2.06.94zm-11 1L8.5 8.5l.94-2.06 2.06-.94-2.06-.94L8.5 2.5l-.94 2.06-2.06.94zm10 10l.94 2.06.94-2.06 2.06-.94-2.06-.94-.94-2.06-.94 2.06-2.06.94z\"/><path d=\"M17.41 7.96l-1.37-1.37c-.4-.4-.92-.59-1.43-.59-.52 0-1.04.2-1.43.59L10.3 9.45l-7.72 7.72c-.78.78-.78 2.05 0 2.83L4 21.41c.39.39.9.59 1.41.59.51 0 1.02-.2 1.41-.59l7.78-7.78 2.81-2.81c.8-.78.8-2.07 0-2.86zM5.41 20L4 18.59l7.72-7.72 1.47 1.35L5.41 20z\"/>\n",
              "  </svg>\n",
              "      </button>\n",
              "      \n",
              "  <style>\n",
              "    .colab-df-container {\n",
              "      display:flex;\n",
              "      flex-wrap:wrap;\n",
              "      gap: 12px;\n",
              "    }\n",
              "\n",
              "    .colab-df-convert {\n",
              "      background-color: #E8F0FE;\n",
              "      border: none;\n",
              "      border-radius: 50%;\n",
              "      cursor: pointer;\n",
              "      display: none;\n",
              "      fill: #1967D2;\n",
              "      height: 32px;\n",
              "      padding: 0 0 0 0;\n",
              "      width: 32px;\n",
              "    }\n",
              "\n",
              "    .colab-df-convert:hover {\n",
              "      background-color: #E2EBFA;\n",
              "      box-shadow: 0px 1px 2px rgba(60, 64, 67, 0.3), 0px 1px 3px 1px rgba(60, 64, 67, 0.15);\n",
              "      fill: #174EA6;\n",
              "    }\n",
              "\n",
              "    [theme=dark] .colab-df-convert {\n",
              "      background-color: #3B4455;\n",
              "      fill: #D2E3FC;\n",
              "    }\n",
              "\n",
              "    [theme=dark] .colab-df-convert:hover {\n",
              "      background-color: #434B5C;\n",
              "      box-shadow: 0px 1px 3px 1px rgba(0, 0, 0, 0.15);\n",
              "      filter: drop-shadow(0px 1px 2px rgba(0, 0, 0, 0.3));\n",
              "      fill: #FFFFFF;\n",
              "    }\n",
              "  </style>\n",
              "\n",
              "      <script>\n",
              "        const buttonEl =\n",
              "          document.querySelector('#df-151c3071-75c7-49e3-9203-3a9966193960 button.colab-df-convert');\n",
              "        buttonEl.style.display =\n",
              "          google.colab.kernel.accessAllowed ? 'block' : 'none';\n",
              "\n",
              "        async function convertToInteractive(key) {\n",
              "          const element = document.querySelector('#df-151c3071-75c7-49e3-9203-3a9966193960');\n",
              "          const dataTable =\n",
              "            await google.colab.kernel.invokeFunction('convertToInteractive',\n",
              "                                                     [key], {});\n",
              "          if (!dataTable) return;\n",
              "\n",
              "          const docLinkHtml = 'Like what you see? Visit the ' +\n",
              "            '<a target=\"_blank\" href=https://colab.research.google.com/notebooks/data_table.ipynb>data table notebook</a>'\n",
              "            + ' to learn more about interactive tables.';\n",
              "          element.innerHTML = '';\n",
              "          dataTable['output_type'] = 'display_data';\n",
              "          await google.colab.output.renderOutput(dataTable, element);\n",
              "          const docLink = document.createElement('div');\n",
              "          docLink.innerHTML = docLinkHtml;\n",
              "          element.appendChild(docLink);\n",
              "        }\n",
              "      </script>\n",
              "    </div>\n",
              "  </div>\n",
              "  "
            ]
          },
          "metadata": {},
          "execution_count": 363
        }
      ]
    }
  ]
}